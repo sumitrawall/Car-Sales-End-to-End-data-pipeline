{
 "cells": [
  {
   "cell_type": "markdown",
   "metadata": {
    "application/vnd.databricks.v1+cell": {
     "cellMetadata": {},
     "inputWidgets": {},
     "nuid": "7e14f0b2-c51b-49f4-aa19-feae73b549a3",
     "showTitle": false,
     "tableResultSettingsMap": {},
     "title": ""
    }
   },
   "source": [
    "#importing libraries"
   ]
  },
  {
   "cell_type": "code",
   "execution_count": 0,
   "metadata": {
    "application/vnd.databricks.v1+cell": {
     "cellMetadata": {
      "byteLimit": 2048000,
      "rowLimit": 10000
     },
     "inputWidgets": {},
     "nuid": "83cfbb91-e1d3-422d-b7db-114107a9ca34",
     "showTitle": false,
     "tableResultSettingsMap": {},
     "title": ""
    }
   },
   "outputs": [],
   "source": [
    "from pyspark.sql.types import *\n",
    "from pyspark.sql.functions import *"
   ]
  },
  {
   "cell_type": "markdown",
   "metadata": {
    "application/vnd.databricks.v1+cell": {
     "cellMetadata": {},
     "inputWidgets": {},
     "nuid": "8ef76983-3acb-4e3c-811a-df3833c1151d",
     "showTitle": false,
     "tableResultSettingsMap": {},
     "title": ""
    }
   },
   "source": [
    "#Create Flag Parameter"
   ]
  },
  {
   "cell_type": "code",
   "execution_count": 0,
   "metadata": {
    "application/vnd.databricks.v1+cell": {
     "cellMetadata": {
      "byteLimit": 2048000,
      "rowLimit": 10000
     },
     "inputWidgets": {},
     "nuid": "7e86f96c-78f0-4cdc-9fc9-dbb2ff72a2fd",
     "showTitle": false,
     "tableResultSettingsMap": {},
     "title": ""
    }
   },
   "outputs": [],
   "source": [
    "dbutils.widgets.text('incremental_flag', '0')"
   ]
  },
  {
   "cell_type": "code",
   "execution_count": 0,
   "metadata": {
    "application/vnd.databricks.v1+cell": {
     "cellMetadata": {
      "byteLimit": 2048000,
      "rowLimit": 10000
     },
     "inputWidgets": {},
     "nuid": "8ca92c73-f592-4114-bb90-79fc4b6daeac",
     "showTitle": false,
     "tableResultSettingsMap": {},
     "title": ""
    }
   },
   "outputs": [
    {
     "output_type": "stream",
     "name": "stdout",
     "output_type": "stream",
     "text": [
      "0\n"
     ]
    }
   ],
   "source": [
    "incremental_flag = dbutils.widgets.get('incremental_flag')\n",
    "print(incremental_flag)"
   ]
  },
  {
   "cell_type": "markdown",
   "metadata": {
    "application/vnd.databricks.v1+cell": {
     "cellMetadata": {},
     "inputWidgets": {},
     "nuid": "d38e0b0b-d967-4d31-b7f7-6bce1455204d",
     "showTitle": false,
     "tableResultSettingsMap": {},
     "title": ""
    }
   },
   "source": [
    "# Creating Dimension Model"
   ]
  },
  {
   "cell_type": "markdown",
   "metadata": {
    "application/vnd.databricks.v1+cell": {
     "cellMetadata": {},
     "inputWidgets": {},
     "nuid": "9e2dfb23-f54c-457c-ad9f-2fedf34f5a43",
     "showTitle": false,
     "tableResultSettingsMap": {},
     "title": ""
    }
   },
   "source": [
    "###Fetch Relative columns"
   ]
  },
  {
   "cell_type": "code",
   "execution_count": 0,
   "metadata": {
    "application/vnd.databricks.v1+cell": {
     "cellMetadata": {
      "byteLimit": 2048000,
      "implicitDf": true,
      "rowLimit": 10000
     },
     "inputWidgets": {},
     "nuid": "c54a6490-580e-4685-af5a-7329e8f33a4c",
     "showTitle": false,
     "tableResultSettingsMap": {},
     "title": ""
    }
   },
   "outputs": [],
   "source": [
    "\n",
    "df_src = spark.sql('''select distinct(Dealer_ID) as Dealer_ID, DealerName\n",
    "from parquet.`abfss://silver@carsbaggiodatalake.dfs.core.windows.net/carsales`\n",
    "''')"
   ]
  },
  {
   "cell_type": "markdown",
   "metadata": {
    "application/vnd.databricks.v1+cell": {
     "cellMetadata": {},
     "inputWidgets": {},
     "nuid": "c263ad3a-2d2e-4b33-a851-ae3546b859d9",
     "showTitle": false,
     "tableResultSettingsMap": {},
     "title": ""
    }
   },
   "source": [
    "###Dim_model Sink - Initial and Incremental( Bring Schema if Model not exists)"
   ]
  },
  {
   "cell_type": "code",
   "execution_count": 0,
   "metadata": {
    "application/vnd.databricks.v1+cell": {
     "cellMetadata": {
      "byteLimit": 2048000,
      "rowLimit": 10000
     },
     "inputWidgets": {},
     "nuid": "73752e74-dbaa-4eff-93c6-54ffbaf292e5",
     "showTitle": false,
     "tableResultSettingsMap": {},
     "title": ""
    }
   },
   "outputs": [],
   "source": [
    "if spark.catalog.tableExists('cars_catalog.gold.dim_dealer') :\n",
    "\n",
    "      df_sink = spark.sql('''SELECT dim_dealer_key, Dealer_ID, DealerName\n",
    "      FROM cars_catalog.gold.dim_dealer\n",
    "     ''')\n",
    "\n",
    "else:\n",
    "       df_sink = spark.sql('''SELECT 1 as dim_dealer_key, Dealer_ID, DealerName \n",
    "       FROM parquet.`abfss://silver@carsbaggiodatalake.dfs.core.windows.net/carsales`\n",
    "       where 1=0''')\n"
   ]
  },
  {
   "cell_type": "markdown",
   "metadata": {
    "application/vnd.databricks.v1+cell": {
     "cellMetadata": {},
     "inputWidgets": {},
     "nuid": "f52030f5-48e1-421b-a544-7df1747bab81",
     "showTitle": false,
     "tableResultSettingsMap": {},
     "title": ""
    }
   },
   "source": [
    "### Filtering new records and Old records"
   ]
  },
  {
   "cell_type": "code",
   "execution_count": 0,
   "metadata": {
    "application/vnd.databricks.v1+cell": {
     "cellMetadata": {
      "byteLimit": 2048000,
      "rowLimit": 10000
     },
     "inputWidgets": {},
     "nuid": "d0d9d6c7-86a7-488b-8aed-a79cfff47319",
     "showTitle": false,
     "tableResultSettingsMap": {},
     "title": ""
    }
   },
   "outputs": [],
   "source": [
    "df_filter = df_src.join(df_sink, df_src['Dealer_ID'] == df_sink['Dealer_ID'], 'left').select(df_src['Dealer_ID'], df_src['DealerName'], df_sink['dim_dealer_key'])"
   ]
  },
  {
   "cell_type": "markdown",
   "metadata": {
    "application/vnd.databricks.v1+cell": {
     "cellMetadata": {},
     "inputWidgets": {},
     "nuid": "b5fc7641-d49b-48cc-8b9a-aefa92cbb9bd",
     "showTitle": false,
     "tableResultSettingsMap": {},
     "title": ""
    }
   },
   "source": [
    "###df_filer_old"
   ]
  },
  {
   "cell_type": "code",
   "execution_count": 0,
   "metadata": {
    "application/vnd.databricks.v1+cell": {
     "cellMetadata": {
      "byteLimit": 2048000,
      "rowLimit": 10000
     },
     "inputWidgets": {},
     "nuid": "1bf227d6-1e2e-45ec-87b4-18264987ed76",
     "showTitle": false,
     "tableResultSettingsMap": {},
     "title": ""
    }
   },
   "outputs": [],
   "source": [
    "df_filter_old = df_filter.filter(col('dim_dealer_key').isNotNull())"
   ]
  },
  {
   "cell_type": "markdown",
   "metadata": {
    "application/vnd.databricks.v1+cell": {
     "cellMetadata": {},
     "inputWidgets": {},
     "nuid": "33c5f559-4c0f-456a-887b-436883e2152a",
     "showTitle": false,
     "tableResultSettingsMap": {},
     "title": ""
    }
   },
   "source": [
    "###df_filer_new"
   ]
  },
  {
   "cell_type": "code",
   "execution_count": 0,
   "metadata": {
    "application/vnd.databricks.v1+cell": {
     "cellMetadata": {
      "byteLimit": 2048000,
      "rowLimit": 10000
     },
     "inputWidgets": {},
     "nuid": "70f5f02a-bf8b-4d90-be63-923d869f13d7",
     "showTitle": false,
     "tableResultSettingsMap": {},
     "title": ""
    }
   },
   "outputs": [],
   "source": [
    "df_filter_new = df_filter.filter(col('dim_dealer_key').isNull()).select(df_src['Dealer_ID'], df_src['DealerName'])"
   ]
  },
  {
   "cell_type": "code",
   "execution_count": 0,
   "metadata": {
    "application/vnd.databricks.v1+cell": {
     "cellMetadata": {
      "byteLimit": 2048000,
      "rowLimit": 10000
     },
     "inputWidgets": {},
     "nuid": "eea595d7-371a-4308-840c-f6fc87dce2b7",
     "showTitle": false,
     "tableResultSettingsMap": {},
     "title": ""
    }
   },
   "outputs": [
    {
     "output_type": "display_data",
     "data": {
      "text/html": [
       "<style scoped>\n",
       "  .table-result-container {\n",
       "    max-height: 300px;\n",
       "    overflow: auto;\n",
       "  }\n",
       "  table, th, td {\n",
       "    border: 1px solid black;\n",
       "    border-collapse: collapse;\n",
       "  }\n",
       "  th, td {\n",
       "    padding: 5px;\n",
       "  }\n",
       "  th {\n",
       "    text-align: left;\n",
       "  }\n",
       "</style><div class='table-result-container'><table class='table-result'><thead style='background-color: white'><tr><th>Dealer_ID</th><th>DealerName</th></tr></thead><tbody><tr><td>DLR0058</td><td>Fiat do Brasil Motors</td></tr><tr><td>DLR0107</td><td>Land Rover Motors</td></tr><tr><td>DLR0129</td><td>Mia Motors</td></tr><tr><td>DLR0111</td><td>Lotus Motors</td></tr><tr><td>DLR0085</td><td>Humber Motors</td></tr><tr><td>DLR0001</td><td>AC Cars Motors</td></tr><tr><td>DLR0218</td><td>Lagonda  Motors</td></tr><tr><td>DLR0082</td><td>Honda Motors</td></tr><tr><td>DLR0063</td><td>Ford do Brasil Motors</td></tr><tr><td>DLR0193</td><td>Tazzari Motors</td></tr><tr><td>DLR0134</td><td>Monteverdi Motors</td></tr><tr><td>DLR0199</td><td>TVR Motors</td></tr><tr><td>DLR0254</td><td>AMC, Eagle Motors</td></tr><tr><td>DLR0094</td><td>Isotta Fraschini Motors</td></tr><tr><td>DLR0236</td><td>Cadillac Automobile Company Building</td></tr><tr><td>DLR0201</td><td>Vauxhall Motors</td></tr><tr><td>DLR0175</td><td>Saturn Motors</td></tr><tr><td>DLR0226</td><td>Das Motors</td></tr><tr><td>DLR0207</td><td>Westfield Motors</td></tr><tr><td>DLR0035</td><td>Chrysler Motors</td></tr><tr><td>DLR0151</td><td>Peel Motors</td></tr><tr><td>DLR0156</td><td>Plymouth Motors</td></tr><tr><td>DLR0216</td><td>Maybach  Motors</td></tr><tr><td>DLR0259</td><td>Asia Motors Motors</td></tr><tr><td>DLR0037</td><td>Citroën Motors</td></tr><tr><td>DLR0074</td><td>GTA Spano Motors</td></tr><tr><td>DLR0150</td><td>Panther Motors</td></tr><tr><td>DLR0135</td><td>Morgan Motors</td></tr><tr><td>DLR0073</td><td>GMC Motors</td></tr><tr><td>DLR0260</td><td>Aston Martin Motors</td></tr><tr><td>DLR0153</td><td>Peugeot Motors</td></tr><tr><td>DLR0124</td><td>McLaren Motors</td></tr><tr><td>DLR0121</td><td>Matra (including Deutsch-Bonnet, René Bonnet) Motors</td></tr><tr><td>DLR0211</td><td>ZIL Motors</td></tr><tr><td>DLR0066</td><td>Freightliner Motors</td></tr><tr><td>DLR0110</td><td>Lincoln Motors</td></tr><tr><td>DLR0143</td><td>Oldsmobile Motors</td></tr><tr><td>DLR0167</td><td>Rolls-Royce Motors</td></tr><tr><td>DLR0048</td><td>De Tomaso Motors</td></tr><tr><td>DLR0008</td><td>Anadol Motors</td></tr><tr><td>DLR0128</td><td>Messerschmitt Motors</td></tr><tr><td>DLR0177</td><td>Seat Motors</td></tr><tr><td>DLR0181</td><td>Singer Motors</td></tr><tr><td>DLR0079</td><td>Hillman Motors</td></tr><tr><td>DLR0072</td><td>Glas Motors</td></tr><tr><td>DLR0248</td><td>AC Cars Motors</td></tr><tr><td>DLR0052</td><td>e.GO Mobile Motors</td></tr><tr><td>DLR0197</td><td>Toyota India Motors</td></tr><tr><td>DLR0080</td><td>Hindustan Motors</td></tr><tr><td>DLR0164</td><td>Reliant Motors</td></tr><tr><td>DLR0029</td><td>Bytom Motors</td></tr><tr><td>DLR0195</td><td>Tornado Motors</td></tr><tr><td>DLR0005</td><td>Alpine Motors</td></tr><tr><td>DLR0007</td><td>AMC, Eagle Motors</td></tr><tr><td>DLR0078</td><td>Hennessey Motors</td></tr><tr><td>DLR0247</td><td>Kindel Building</td></tr><tr><td>DLR0065</td><td>Ford India Motors</td></tr><tr><td>DLR0174</td><td>Santana Motors</td></tr><tr><td>DLR0022</td><td>Borgward (including Goliath and Lloyd) Motors</td></tr><tr><td>DLR0116</td><td>Marcos Motors</td></tr><tr><td>DLR0257</td><td>ARO Motors</td></tr><tr><td>DLR0172</td><td>San Motors</td></tr><tr><td>DLR0061</td><td>Ford America Motors</td></tr><tr><td>DLR0240</td><td>Clemens Automobile Company Building</td></tr><tr><td>DLR0103</td><td>KTM Motors</td></tr><tr><td>DLR0096</td><td>Iveco Motors</td></tr><tr><td>DLR0198</td><td>Turner Motors</td></tr><tr><td>DLR0137</td><td>Nash Motors</td></tr><tr><td>DLR0202</td><td>Venturi Motors</td></tr><tr><td>DLR0125</td><td>Mercedes-Benz (including Maybach) Motors</td></tr><tr><td>DLR0089</td><td>Infiniti Motors</td></tr><tr><td>DLR0266</td><td>Bitter Motors</td></tr><tr><td>DLR0148</td><td>Panhard Motors</td></tr><tr><td>DLR0142</td><td>NSU Motors</td></tr><tr><td>DLR0227</td><td>Ramani Motors</td></tr><tr><td>DLR0206</td><td>Volvo Motors</td></tr><tr><td>DLR0179</td><td>Simca Motors</td></tr><tr><td>DLR0059</td><td>Fiat India Motors</td></tr><tr><td>DLR0092</td><td>Isdera Motors</td></tr><tr><td>DLR0018</td><td>Bentley Motors</td></tr><tr><td>DLR0115</td><td>Mahindra Motors</td></tr><tr><td>DLR0169</td><td>SAIC Motor Motors</td></tr><tr><td>DLR0212</td><td>null</td></tr><tr><td>DLR0192</td><td>Tatra Motors</td></tr><tr><td>DLR0186</td><td>Standard-Triumph Motors</td></tr><tr><td>DLR0021</td><td>Bond Motors</td></tr><tr><td>DLR0147</td><td>Pagani Motors</td></tr><tr><td>DLR0098</td><td>Jeep Motors</td></tr><tr><td>DLR0209</td><td>Zastava Motors</td></tr><tr><td>DLR0166</td><td>Rivian Motors</td></tr><tr><td>DLR0250</td><td>Aixam-Mega (including Arola) Motors</td></tr><tr><td>DLR0220</td><td>Morris  Motors</td></tr><tr><td>DLR0183</td><td>Smart Motors</td></tr><tr><td>DLR0102</td><td>Koenigsegg Motors</td></tr><tr><td>DLR0188</td><td>Subaru Motors</td></tr><tr><td>DLR0155</td><td>Piaggio Motors</td></tr><tr><td>DLR0050</td><td>Donkervoort Motors</td></tr><tr><td>DLR0252</td><td>Alpine Motors</td></tr><tr><td>DLR0184</td><td>Spyker Motors</td></tr><tr><td>DLR0267</td><td>BMW Motors</td></tr><tr><td>DLR0091</td><td>Invicta Motors</td></tr><tr><td>DLR0262</td><td>Autobianchi Motors</td></tr><tr><td>DLR0249</td><td>Acura Motors</td></tr><tr><td>DLR0208</td><td>Wiesmann Motors</td></tr><tr><td>DLR0114</td><td>Lynx Motors</td></tr><tr><td>DLR0204</td><td>Volkswagen do Brasil Motors</td></tr><tr><td>DLR0200</td><td>UAZ Motors</td></tr><tr><td>DLR0163</td><td>Ranger Motors</td></tr><tr><td>DLR0223</td><td>Wolseley  Motors</td></tr><tr><td>DLR0044</td><td>null</td></tr><tr><td>DLR0231</td><td>Atlantic Motor Company</td></tr><tr><td>DLR0034</td><td>Chevrolet India Motors</td></tr><tr><td>DLR0126</td><td>Mercury Motors</td></tr><tr><td>DLR0046</td><td>DeLorean Motors</td></tr><tr><td>DLR0130</td><td>Micro Motors</td></tr><tr><td>DLR0210</td><td>ZAZ Motors</td></tr><tr><td>DLR0136</td><td>Moskwitch Motors</td></tr><tr><td>DLR0222</td><td>Riley  Motors</td></tr><tr><td>DLR0017</td><td>Auverland Motors</td></tr><tr><td>DLR0182</td><td>Skoda Motors</td></tr><tr><td>DLR0152</td><td>Perodua Motors</td></tr><tr><td>DLR0071</td><td>Ginetta Motors</td></tr><tr><td>DLR0161</td><td>Proton Motors</td></tr><tr><td>DLR0246</td><td>Jones Motor Company</td></tr><tr><td>DLR0020</td><td>BMW Motors</td></tr><tr><td>DLR0076</td><td>Healey Motors</td></tr><tr><td>DLR0237</td><td>Casa de cadillac</td></tr><tr><td>DLR0131</td><td>Mini Motors</td></tr><tr><td>DLR0112</td><td>LTI Motors</td></tr><tr><td>DLR0213</td><td>DKW Motors</td></tr><tr><td>DLR0040</td><td>Daewoo, Saehan, Chevrolet Korea Motors</td></tr><tr><td>DLR0187</td><td>Studebaker Motors</td></tr><tr><td>DLR0251</td><td>Alfa Romeo Motors</td></tr><tr><td>DLR0154</td><td>PGO Motors</td></tr><tr><td>DLR0119</td><td>Maserati Motors</td></tr><tr><td>DLR0013</td><td>Aston Martin Motors</td></tr><tr><td>DLR0087</td><td>Hyundai Motors</td></tr><tr><td>DLR0056</td><td>Ferrari Motors</td></tr><tr><td>DLR0033</td><td>Chevrolet Motors</td></tr><tr><td>DLR0042</td><td>Daihatsu Motors</td></tr><tr><td>DLR0229</td><td>Herald Motors</td></tr><tr><td>DLR0070</td><td>Gilbern Motors</td></tr><tr><td>DLR0191</td><td>Tata Motors</td></tr><tr><td>DLR0203</td><td>Volkswagen Motors</td></tr><tr><td>DLR0100</td><td>JPX Motors</td></tr><tr><td>DLR0047</td><td>DeSoto Motors</td></tr><tr><td>DLR0214</td><td>Horch Motors</td></tr><tr><td>DLR0171</td><td>Samsung Motors</td></tr><tr><td>DLR0045</td><td>Delahaye Motors</td></tr><tr><td>DLR0264</td><td>Auverland Motors</td></tr><tr><td>DLR0162</td><td>Puma Motors</td></tr><tr><td>DLR0159</td><td>Porsche Motors</td></tr><tr><td>DLR0146</td><td>Packard Motors</td></tr><tr><td>DLR0261</td><td>Audi Motors</td></tr><tr><td>DLR0032</td><td>Checker Motors</td></tr><tr><td>DLR0009</td><td>Ariel Motors</td></tr><tr><td>DLR0225</td><td>Talbot  Motors</td></tr><tr><td>DLR0221</td><td>Austin  Motors</td></tr><tr><td>DLR0075</td><td>Gumpert Motors</td></tr><tr><td>DLR0069</td><td>Geo Motors</td></tr><tr><td>DLR0104</td><td>Lada Motors</td></tr><tr><td>DLR0039</td><td>Dacia Motors</td></tr><tr><td>DLR0245</td><td>Jennings Ford Automobile Dealership</td></tr><tr><td>DLR0238</td><td>Cass Motor Sales</td></tr><tr><td>DLR0064</td><td>Ford Europe Motors</td></tr><tr><td>DLR0109</td><td>Ligier Motors</td></tr><tr><td>DLR0144</td><td>null</td></tr><tr><td>DLR0176</td><td>Scion Motors</td></tr><tr><td>DLR0255</td><td>Anadol Motors</td></tr><tr><td>DLR0138</td><td>Naza Motors</td></tr><tr><td>DLR0003</td><td>Aixam-Mega (including Arola) Motors</td></tr><tr><td>DLR0265</td><td>Bentley Motors</td></tr><tr><td>DLR0217</td><td>Izh  Motors</td></tr><tr><td>DLR0185</td><td>SsangYong Motors</td></tr><tr><td>DLR0019</td><td>Bitter Motors</td></tr><tr><td>DLR0165</td><td>Renault Motors</td></tr><tr><td>DLR0108</td><td>Lexus Motors</td></tr><tr><td>DLR0117</td><td>Marlin Motors</td></tr><tr><td>DLR0118</td><td>Maruti Motors</td></tr><tr><td>DLR0027</td><td>Bugatti Motors</td></tr><tr><td>DLR0139</td><td>Nissan Motors</td></tr><tr><td>DLR0088</td><td>IFA (including Trabant, Wartburg, Barkas) Motors</td></tr><tr><td>DLR0051</td><td>Edsel Motors</td></tr><tr><td>DLR0010</td><td>ARO Motors</td></tr><tr><td>DLR0006</td><td>Alvis Motors</td></tr><tr><td>DLR0180</td><td>Simca do Brasil Motors</td></tr><tr><td>DLR0253</td><td>Alvis Motors</td></tr><tr><td>DLR0230</td><td>Zion Automobils</td></tr><tr><td>DLR0190</td><td>Suzuki Motors</td></tr><tr><td>DLR0232</td><td>2008 NRHP-listed</td></tr><tr><td>DLR0030</td><td>Cadillac Motors</td></tr><tr><td>DLR0215</td><td>Wanderer Motors</td></tr><tr><td>DLR0016</td><td>Auto-Union Motors</td></tr><tr><td>DLR0160</td><td>Premier Motors</td></tr><tr><td>DLR0025</td><td>Austin-Healey Motors</td></tr><tr><td>DLR0239</td><td>Claremore Auto Dealership</td></tr><tr><td>DLR0228</td><td>Deccan Motors</td></tr><tr><td>DLR0189</td><td>Sunbeam Motors</td></tr><tr><td>DLR0263</td><td>Auto-Union Motors</td></tr><tr><td>DLR0132</td><td>Mitsubishi Motors</td></tr><tr><td>DLR0244</td><td>Hupmobile Building</td></tr><tr><td>DLR0068</td><td>GAZ Motors</td></tr><tr><td>DLR0053</td><td>Eicher Polaris Motors</td></tr><tr><td>DLR0002</td><td>Acura Motors</td></tr><tr><td>DLR0194</td><td>Tesla Motors</td></tr><tr><td>DLR0233</td><td>Blankinship Motor Company Building</td></tr><tr><td>DLR0014</td><td>Audi Motors</td></tr><tr><td>DLR0093</td><td>Iso Motors</td></tr><tr><td>DLR0205</td><td>Volkswagen South Africa Motors</td></tr><tr><td>DLR0141</td><td>Noble Motors</td></tr><tr><td>DLR0140</td><td>Nissan India Motors</td></tr><tr><td>DLR0101</td><td>Kia Motors</td></tr><tr><td>DLR0234</td><td>Bohn Motor Company Automobile Dealership</td></tr><tr><td>DLR0235</td><td>Buick Automobile Company Building</td></tr><tr><td>DLR0256</td><td>Ariel Motors</td></tr><tr><td>DLR0004</td><td>Alfa Romeo Motors</td></tr><tr><td>DLR0084</td><td>Hudson Motors</td></tr><tr><td>DLR0133</td><td>Monica Motors</td></tr><tr><td>DLR0062</td><td>Ford Australia Motors</td></tr><tr><td>DLR0038</td><td>Cizeta-Moroder Motors</td></tr><tr><td>DLR0049</td><td>Dodge Motors</td></tr><tr><td>DLR0055</td><td>Facel Vega Motors</td></tr><tr><td>DLR0170</td><td>Saleen Motors</td></tr><tr><td>DLR0242</td><td>H Street Playhouse</td></tr><tr><td>DLR0243</td><td>Howard Motor Company Building</td></tr><tr><td>DLR0224</td><td>Standard  Motors</td></tr><tr><td>DLR0077</td><td>Heinkel Motors</td></tr><tr><td>DLR0031</td><td>Caterham Motors</td></tr><tr><td>DLR0127</td><td>Merkur Motors</td></tr><tr><td>DLR0043</td><td>Daimler Motors</td></tr><tr><td>DLR0168</td><td>Saab Motors</td></tr><tr><td>DLR0083</td><td>Honda India Motors</td></tr><tr><td>DLR0099</td><td>Jensen Motors</td></tr><tr><td>DLR0090</td><td>null</td></tr><tr><td>DLR0173</td><td>Santa Matilde Motors</td></tr><tr><td>DLR0067</td><td>FSO Motors</td></tr><tr><td>DLR0113</td><td>LuAZ Motors</td></tr><tr><td>DLR0011</td><td>Artega Motors</td></tr><tr><td>DLR0157</td><td>Polestar Motors</td></tr><tr><td>DLR0258</td><td>null</td></tr><tr><td>DLR0086</td><td>Hummer Motors</td></tr><tr><td>DLR0054</td><td>Elva Motors</td></tr><tr><td>DLR0178</td><td>Shelby SuperCars Motors</td></tr><tr><td>DLR0023</td><td>Bristol Motors</td></tr><tr><td>DLR0026</td><td>Austin, Rover Motors</td></tr><tr><td>DLR0219</td><td>MG  Motors</td></tr><tr><td>DLR0120</td><td>Mastretta Motors</td></tr><tr><td>DLR0028</td><td>Buick Motors</td></tr><tr><td>DLR0057</td><td>Fiat Motors</td></tr><tr><td>DLR0041</td><td>DAF Motors</td></tr><tr><td>DLR0095</td><td>Isuzu Motors</td></tr><tr><td>DLR0123</td><td>Mazzanti Motors</td></tr><tr><td>DLR0036</td><td>Chrysler Europe Motors</td></tr><tr><td>DLR0149</td><td>Panoz Motors</td></tr><tr><td>DLR0145</td><td>Opel Motors</td></tr><tr><td>DLR0105</td><td>Lamborghini Motors</td></tr><tr><td>DLR0097</td><td>Jaguar Motors</td></tr><tr><td>DLR0196</td><td>Toyota Motors</td></tr><tr><td>DLR0024</td><td>British Leyland Motors</td></tr><tr><td>DLR0241</td><td>Colman Automotive Building</td></tr><tr><td>DLR0012</td><td>Asia Motors Motors</td></tr><tr><td>DLR0122</td><td>Mazda Motors</td></tr><tr><td>DLR0060</td><td>Fisker, Karma Motors</td></tr><tr><td>DLR0106</td><td>Lancia Motors</td></tr><tr><td>DLR0158</td><td>Pontiac, Asüna Motors</td></tr><tr><td>DLR0015</td><td>Autobianchi Motors</td></tr><tr><td>DLR0081</td><td>Holden Motors</td></tr></tbody></table></div>"
      ]
     },
     "metadata": {
      "application/vnd.databricks.v1+output": {
       "addedWidgets": {},
       "aggData": [],
       "aggError": "",
       "aggOverflow": false,
       "aggSchema": [],
       "aggSeriesLimitReached": false,
       "aggType": "",
       "arguments": {},
       "columnCustomDisplayInfos": {},
       "data": [
        [
         "DLR0058",
         "Fiat do Brasil Motors"
        ],
        [
         "DLR0107",
         "Land Rover Motors"
        ],
        [
         "DLR0129",
         "Mia Motors"
        ],
        [
         "DLR0111",
         "Lotus Motors"
        ],
        [
         "DLR0085",
         "Humber Motors"
        ],
        [
         "DLR0001",
         "AC Cars Motors"
        ],
        [
         "DLR0218",
         "Lagonda  Motors"
        ],
        [
         "DLR0082",
         "Honda Motors"
        ],
        [
         "DLR0063",
         "Ford do Brasil Motors"
        ],
        [
         "DLR0193",
         "Tazzari Motors"
        ],
        [
         "DLR0134",
         "Monteverdi Motors"
        ],
        [
         "DLR0199",
         "TVR Motors"
        ],
        [
         "DLR0254",
         "AMC, Eagle Motors"
        ],
        [
         "DLR0094",
         "Isotta Fraschini Motors"
        ],
        [
         "DLR0236",
         "Cadillac Automobile Company Building"
        ],
        [
         "DLR0201",
         "Vauxhall Motors"
        ],
        [
         "DLR0175",
         "Saturn Motors"
        ],
        [
         "DLR0226",
         "Das Motors"
        ],
        [
         "DLR0207",
         "Westfield Motors"
        ],
        [
         "DLR0035",
         "Chrysler Motors"
        ],
        [
         "DLR0151",
         "Peel Motors"
        ],
        [
         "DLR0156",
         "Plymouth Motors"
        ],
        [
         "DLR0216",
         "Maybach  Motors"
        ],
        [
         "DLR0259",
         "Asia Motors Motors"
        ],
        [
         "DLR0037",
         "Citroën Motors"
        ],
        [
         "DLR0074",
         "GTA Spano Motors"
        ],
        [
         "DLR0150",
         "Panther Motors"
        ],
        [
         "DLR0135",
         "Morgan Motors"
        ],
        [
         "DLR0073",
         "GMC Motors"
        ],
        [
         "DLR0260",
         "Aston Martin Motors"
        ],
        [
         "DLR0153",
         "Peugeot Motors"
        ],
        [
         "DLR0124",
         "McLaren Motors"
        ],
        [
         "DLR0121",
         "Matra (including Deutsch-Bonnet, René Bonnet) Motors"
        ],
        [
         "DLR0211",
         "ZIL Motors"
        ],
        [
         "DLR0066",
         "Freightliner Motors"
        ],
        [
         "DLR0110",
         "Lincoln Motors"
        ],
        [
         "DLR0143",
         "Oldsmobile Motors"
        ],
        [
         "DLR0167",
         "Rolls-Royce Motors"
        ],
        [
         "DLR0048",
         "De Tomaso Motors"
        ],
        [
         "DLR0008",
         "Anadol Motors"
        ],
        [
         "DLR0128",
         "Messerschmitt Motors"
        ],
        [
         "DLR0177",
         "Seat Motors"
        ],
        [
         "DLR0181",
         "Singer Motors"
        ],
        [
         "DLR0079",
         "Hillman Motors"
        ],
        [
         "DLR0072",
         "Glas Motors"
        ],
        [
         "DLR0248",
         "AC Cars Motors"
        ],
        [
         "DLR0052",
         "e.GO Mobile Motors"
        ],
        [
         "DLR0197",
         "Toyota India Motors"
        ],
        [
         "DLR0080",
         "Hindustan Motors"
        ],
        [
         "DLR0164",
         "Reliant Motors"
        ],
        [
         "DLR0029",
         "Bytom Motors"
        ],
        [
         "DLR0195",
         "Tornado Motors"
        ],
        [
         "DLR0005",
         "Alpine Motors"
        ],
        [
         "DLR0007",
         "AMC, Eagle Motors"
        ],
        [
         "DLR0078",
         "Hennessey Motors"
        ],
        [
         "DLR0247",
         "Kindel Building"
        ],
        [
         "DLR0065",
         "Ford India Motors"
        ],
        [
         "DLR0174",
         "Santana Motors"
        ],
        [
         "DLR0022",
         "Borgward (including Goliath and Lloyd) Motors"
        ],
        [
         "DLR0116",
         "Marcos Motors"
        ],
        [
         "DLR0257",
         "ARO Motors"
        ],
        [
         "DLR0172",
         "San Motors"
        ],
        [
         "DLR0061",
         "Ford America Motors"
        ],
        [
         "DLR0240",
         "Clemens Automobile Company Building"
        ],
        [
         "DLR0103",
         "KTM Motors"
        ],
        [
         "DLR0096",
         "Iveco Motors"
        ],
        [
         "DLR0198",
         "Turner Motors"
        ],
        [
         "DLR0137",
         "Nash Motors"
        ],
        [
         "DLR0202",
         "Venturi Motors"
        ],
        [
         "DLR0125",
         "Mercedes-Benz (including Maybach) Motors"
        ],
        [
         "DLR0089",
         "Infiniti Motors"
        ],
        [
         "DLR0266",
         "Bitter Motors"
        ],
        [
         "DLR0148",
         "Panhard Motors"
        ],
        [
         "DLR0142",
         "NSU Motors"
        ],
        [
         "DLR0227",
         "Ramani Motors"
        ],
        [
         "DLR0206",
         "Volvo Motors"
        ],
        [
         "DLR0179",
         "Simca Motors"
        ],
        [
         "DLR0059",
         "Fiat India Motors"
        ],
        [
         "DLR0092",
         "Isdera Motors"
        ],
        [
         "DLR0018",
         "Bentley Motors"
        ],
        [
         "DLR0115",
         "Mahindra Motors"
        ],
        [
         "DLR0169",
         "SAIC Motor Motors"
        ],
        [
         "DLR0212",
         null
        ],
        [
         "DLR0192",
         "Tatra Motors"
        ],
        [
         "DLR0186",
         "Standard-Triumph Motors"
        ],
        [
         "DLR0021",
         "Bond Motors"
        ],
        [
         "DLR0147",
         "Pagani Motors"
        ],
        [
         "DLR0098",
         "Jeep Motors"
        ],
        [
         "DLR0209",
         "Zastava Motors"
        ],
        [
         "DLR0166",
         "Rivian Motors"
        ],
        [
         "DLR0250",
         "Aixam-Mega (including Arola) Motors"
        ],
        [
         "DLR0220",
         "Morris  Motors"
        ],
        [
         "DLR0183",
         "Smart Motors"
        ],
        [
         "DLR0102",
         "Koenigsegg Motors"
        ],
        [
         "DLR0188",
         "Subaru Motors"
        ],
        [
         "DLR0155",
         "Piaggio Motors"
        ],
        [
         "DLR0050",
         "Donkervoort Motors"
        ],
        [
         "DLR0252",
         "Alpine Motors"
        ],
        [
         "DLR0184",
         "Spyker Motors"
        ],
        [
         "DLR0267",
         "BMW Motors"
        ],
        [
         "DLR0091",
         "Invicta Motors"
        ],
        [
         "DLR0262",
         "Autobianchi Motors"
        ],
        [
         "DLR0249",
         "Acura Motors"
        ],
        [
         "DLR0208",
         "Wiesmann Motors"
        ],
        [
         "DLR0114",
         "Lynx Motors"
        ],
        [
         "DLR0204",
         "Volkswagen do Brasil Motors"
        ],
        [
         "DLR0200",
         "UAZ Motors"
        ],
        [
         "DLR0163",
         "Ranger Motors"
        ],
        [
         "DLR0223",
         "Wolseley  Motors"
        ],
        [
         "DLR0044",
         null
        ],
        [
         "DLR0231",
         "Atlantic Motor Company"
        ],
        [
         "DLR0034",
         "Chevrolet India Motors"
        ],
        [
         "DLR0126",
         "Mercury Motors"
        ],
        [
         "DLR0046",
         "DeLorean Motors"
        ],
        [
         "DLR0130",
         "Micro Motors"
        ],
        [
         "DLR0210",
         "ZAZ Motors"
        ],
        [
         "DLR0136",
         "Moskwitch Motors"
        ],
        [
         "DLR0222",
         "Riley  Motors"
        ],
        [
         "DLR0017",
         "Auverland Motors"
        ],
        [
         "DLR0182",
         "Skoda Motors"
        ],
        [
         "DLR0152",
         "Perodua Motors"
        ],
        [
         "DLR0071",
         "Ginetta Motors"
        ],
        [
         "DLR0161",
         "Proton Motors"
        ],
        [
         "DLR0246",
         "Jones Motor Company"
        ],
        [
         "DLR0020",
         "BMW Motors"
        ],
        [
         "DLR0076",
         "Healey Motors"
        ],
        [
         "DLR0237",
         "Casa de cadillac"
        ],
        [
         "DLR0131",
         "Mini Motors"
        ],
        [
         "DLR0112",
         "LTI Motors"
        ],
        [
         "DLR0213",
         "DKW Motors"
        ],
        [
         "DLR0040",
         "Daewoo, Saehan, Chevrolet Korea Motors"
        ],
        [
         "DLR0187",
         "Studebaker Motors"
        ],
        [
         "DLR0251",
         "Alfa Romeo Motors"
        ],
        [
         "DLR0154",
         "PGO Motors"
        ],
        [
         "DLR0119",
         "Maserati Motors"
        ],
        [
         "DLR0013",
         "Aston Martin Motors"
        ],
        [
         "DLR0087",
         "Hyundai Motors"
        ],
        [
         "DLR0056",
         "Ferrari Motors"
        ],
        [
         "DLR0033",
         "Chevrolet Motors"
        ],
        [
         "DLR0042",
         "Daihatsu Motors"
        ],
        [
         "DLR0229",
         "Herald Motors"
        ],
        [
         "DLR0070",
         "Gilbern Motors"
        ],
        [
         "DLR0191",
         "Tata Motors"
        ],
        [
         "DLR0203",
         "Volkswagen Motors"
        ],
        [
         "DLR0100",
         "JPX Motors"
        ],
        [
         "DLR0047",
         "DeSoto Motors"
        ],
        [
         "DLR0214",
         "Horch Motors"
        ],
        [
         "DLR0171",
         "Samsung Motors"
        ],
        [
         "DLR0045",
         "Delahaye Motors"
        ],
        [
         "DLR0264",
         "Auverland Motors"
        ],
        [
         "DLR0162",
         "Puma Motors"
        ],
        [
         "DLR0159",
         "Porsche Motors"
        ],
        [
         "DLR0146",
         "Packard Motors"
        ],
        [
         "DLR0261",
         "Audi Motors"
        ],
        [
         "DLR0032",
         "Checker Motors"
        ],
        [
         "DLR0009",
         "Ariel Motors"
        ],
        [
         "DLR0225",
         "Talbot  Motors"
        ],
        [
         "DLR0221",
         "Austin  Motors"
        ],
        [
         "DLR0075",
         "Gumpert Motors"
        ],
        [
         "DLR0069",
         "Geo Motors"
        ],
        [
         "DLR0104",
         "Lada Motors"
        ],
        [
         "DLR0039",
         "Dacia Motors"
        ],
        [
         "DLR0245",
         "Jennings Ford Automobile Dealership"
        ],
        [
         "DLR0238",
         "Cass Motor Sales"
        ],
        [
         "DLR0064",
         "Ford Europe Motors"
        ],
        [
         "DLR0109",
         "Ligier Motors"
        ],
        [
         "DLR0144",
         null
        ],
        [
         "DLR0176",
         "Scion Motors"
        ],
        [
         "DLR0255",
         "Anadol Motors"
        ],
        [
         "DLR0138",
         "Naza Motors"
        ],
        [
         "DLR0003",
         "Aixam-Mega (including Arola) Motors"
        ],
        [
         "DLR0265",
         "Bentley Motors"
        ],
        [
         "DLR0217",
         "Izh  Motors"
        ],
        [
         "DLR0185",
         "SsangYong Motors"
        ],
        [
         "DLR0019",
         "Bitter Motors"
        ],
        [
         "DLR0165",
         "Renault Motors"
        ],
        [
         "DLR0108",
         "Lexus Motors"
        ],
        [
         "DLR0117",
         "Marlin Motors"
        ],
        [
         "DLR0118",
         "Maruti Motors"
        ],
        [
         "DLR0027",
         "Bugatti Motors"
        ],
        [
         "DLR0139",
         "Nissan Motors"
        ],
        [
         "DLR0088",
         "IFA (including Trabant, Wartburg, Barkas) Motors"
        ],
        [
         "DLR0051",
         "Edsel Motors"
        ],
        [
         "DLR0010",
         "ARO Motors"
        ],
        [
         "DLR0006",
         "Alvis Motors"
        ],
        [
         "DLR0180",
         "Simca do Brasil Motors"
        ],
        [
         "DLR0253",
         "Alvis Motors"
        ],
        [
         "DLR0230",
         "Zion Automobils"
        ],
        [
         "DLR0190",
         "Suzuki Motors"
        ],
        [
         "DLR0232",
         "2008 NRHP-listed"
        ],
        [
         "DLR0030",
         "Cadillac Motors"
        ],
        [
         "DLR0215",
         "Wanderer Motors"
        ],
        [
         "DLR0016",
         "Auto-Union Motors"
        ],
        [
         "DLR0160",
         "Premier Motors"
        ],
        [
         "DLR0025",
         "Austin-Healey Motors"
        ],
        [
         "DLR0239",
         "Claremore Auto Dealership"
        ],
        [
         "DLR0228",
         "Deccan Motors"
        ],
        [
         "DLR0189",
         "Sunbeam Motors"
        ],
        [
         "DLR0263",
         "Auto-Union Motors"
        ],
        [
         "DLR0132",
         "Mitsubishi Motors"
        ],
        [
         "DLR0244",
         "Hupmobile Building"
        ],
        [
         "DLR0068",
         "GAZ Motors"
        ],
        [
         "DLR0053",
         "Eicher Polaris Motors"
        ],
        [
         "DLR0002",
         "Acura Motors"
        ],
        [
         "DLR0194",
         "Tesla Motors"
        ],
        [
         "DLR0233",
         "Blankinship Motor Company Building"
        ],
        [
         "DLR0014",
         "Audi Motors"
        ],
        [
         "DLR0093",
         "Iso Motors"
        ],
        [
         "DLR0205",
         "Volkswagen South Africa Motors"
        ],
        [
         "DLR0141",
         "Noble Motors"
        ],
        [
         "DLR0140",
         "Nissan India Motors"
        ],
        [
         "DLR0101",
         "Kia Motors"
        ],
        [
         "DLR0234",
         "Bohn Motor Company Automobile Dealership"
        ],
        [
         "DLR0235",
         "Buick Automobile Company Building"
        ],
        [
         "DLR0256",
         "Ariel Motors"
        ],
        [
         "DLR0004",
         "Alfa Romeo Motors"
        ],
        [
         "DLR0084",
         "Hudson Motors"
        ],
        [
         "DLR0133",
         "Monica Motors"
        ],
        [
         "DLR0062",
         "Ford Australia Motors"
        ],
        [
         "DLR0038",
         "Cizeta-Moroder Motors"
        ],
        [
         "DLR0049",
         "Dodge Motors"
        ],
        [
         "DLR0055",
         "Facel Vega Motors"
        ],
        [
         "DLR0170",
         "Saleen Motors"
        ],
        [
         "DLR0242",
         "H Street Playhouse"
        ],
        [
         "DLR0243",
         "Howard Motor Company Building"
        ],
        [
         "DLR0224",
         "Standard  Motors"
        ],
        [
         "DLR0077",
         "Heinkel Motors"
        ],
        [
         "DLR0031",
         "Caterham Motors"
        ],
        [
         "DLR0127",
         "Merkur Motors"
        ],
        [
         "DLR0043",
         "Daimler Motors"
        ],
        [
         "DLR0168",
         "Saab Motors"
        ],
        [
         "DLR0083",
         "Honda India Motors"
        ],
        [
         "DLR0099",
         "Jensen Motors"
        ],
        [
         "DLR0090",
         null
        ],
        [
         "DLR0173",
         "Santa Matilde Motors"
        ],
        [
         "DLR0067",
         "FSO Motors"
        ],
        [
         "DLR0113",
         "LuAZ Motors"
        ],
        [
         "DLR0011",
         "Artega Motors"
        ],
        [
         "DLR0157",
         "Polestar Motors"
        ],
        [
         "DLR0258",
         null
        ],
        [
         "DLR0086",
         "Hummer Motors"
        ],
        [
         "DLR0054",
         "Elva Motors"
        ],
        [
         "DLR0178",
         "Shelby SuperCars Motors"
        ],
        [
         "DLR0023",
         "Bristol Motors"
        ],
        [
         "DLR0026",
         "Austin, Rover Motors"
        ],
        [
         "DLR0219",
         "MG  Motors"
        ],
        [
         "DLR0120",
         "Mastretta Motors"
        ],
        [
         "DLR0028",
         "Buick Motors"
        ],
        [
         "DLR0057",
         "Fiat Motors"
        ],
        [
         "DLR0041",
         "DAF Motors"
        ],
        [
         "DLR0095",
         "Isuzu Motors"
        ],
        [
         "DLR0123",
         "Mazzanti Motors"
        ],
        [
         "DLR0036",
         "Chrysler Europe Motors"
        ],
        [
         "DLR0149",
         "Panoz Motors"
        ],
        [
         "DLR0145",
         "Opel Motors"
        ],
        [
         "DLR0105",
         "Lamborghini Motors"
        ],
        [
         "DLR0097",
         "Jaguar Motors"
        ],
        [
         "DLR0196",
         "Toyota Motors"
        ],
        [
         "DLR0024",
         "British Leyland Motors"
        ],
        [
         "DLR0241",
         "Colman Automotive Building"
        ],
        [
         "DLR0012",
         "Asia Motors Motors"
        ],
        [
         "DLR0122",
         "Mazda Motors"
        ],
        [
         "DLR0060",
         "Fisker, Karma Motors"
        ],
        [
         "DLR0106",
         "Lancia Motors"
        ],
        [
         "DLR0158",
         "Pontiac, Asüna Motors"
        ],
        [
         "DLR0015",
         "Autobianchi Motors"
        ],
        [
         "DLR0081",
         "Holden Motors"
        ]
       ],
       "datasetInfos": [],
       "dbfsResultPath": null,
       "isJsonSchema": true,
       "metadata": {},
       "overflow": false,
       "plotOptions": {
        "customPlotOptions": {},
        "displayType": "table",
        "pivotAggregation": null,
        "pivotColumns": null,
        "xColumns": null,
        "yColumns": null
       },
       "removedWidgets": [],
       "schema": [
        {
         "metadata": "{}",
         "name": "Dealer_ID",
         "type": "\"string\""
        },
        {
         "metadata": "{}",
         "name": "DealerName",
         "type": "\"string\""
        }
       ],
       "type": "table"
      }
     },
     "output_type": "display_data"
    }
   ],
   "source": [
    "df_filter_new.display()"
   ]
  },
  {
   "cell_type": "markdown",
   "metadata": {
    "application/vnd.databricks.v1+cell": {
     "cellMetadata": {},
     "inputWidgets": {},
     "nuid": "4ac7f264-95de-446f-8cb5-fea2822f4d36",
     "showTitle": false,
     "tableResultSettingsMap": {},
     "title": ""
    }
   },
   "source": [
    "###Create Surrogate Key"
   ]
  },
  {
   "cell_type": "markdown",
   "metadata": {
    "application/vnd.databricks.v1+cell": {
     "cellMetadata": {},
     "inputWidgets": {},
     "nuid": "accfacbf-128b-4317-a94f-5c0ec7473e31",
     "showTitle": false,
     "tableResultSettingsMap": {},
     "title": ""
    }
   },
   "source": [
    "###Fetch the max Surrogate Key from existing table"
   ]
  },
  {
   "cell_type": "code",
   "execution_count": 0,
   "metadata": {
    "application/vnd.databricks.v1+cell": {
     "cellMetadata": {
      "byteLimit": 2048000,
      "rowLimit": 10000
     },
     "inputWidgets": {},
     "nuid": "bc02f85a-df7f-4ebd-a654-015b6ccd2130",
     "showTitle": false,
     "tableResultSettingsMap": {},
     "title": ""
    }
   },
   "outputs": [],
   "source": [
    "if (incremental_flag =='0'):\n",
    "    max_value = 0\n",
    "else:\n",
    "    max_value_df = spark.sql(\"SELECT MAX(dim_dealer_key) FROM cars_catalog.gold.dim_dealer\")\n",
    "    max_value = max_value_df.collect()[0][0]"
   ]
  },
  {
   "cell_type": "markdown",
   "metadata": {
    "application/vnd.databricks.v1+cell": {
     "cellMetadata": {},
     "inputWidgets": {},
     "nuid": "c8da3615-3e74-48a6-8a86-5f79d6ec7b0b",
     "showTitle": false,
     "tableResultSettingsMap": {},
     "title": ""
    }
   },
   "source": [
    "###Create Surrogate Key column and ADD the max surrogate key"
   ]
  },
  {
   "cell_type": "code",
   "execution_count": 0,
   "metadata": {
    "application/vnd.databricks.v1+cell": {
     "cellMetadata": {
      "byteLimit": 2048000,
      "rowLimit": 10000
     },
     "inputWidgets": {},
     "nuid": "c80b8633-ef15-4c7d-b82a-b6a01fe432ec",
     "showTitle": false,
     "tableResultSettingsMap": {},
     "title": ""
    }
   },
   "outputs": [],
   "source": [
    "df_filter_new = df_filter_new.withColumn(\"dim_dealer_key\", max_value + monotonically_increasing_id())"
   ]
  },
  {
   "cell_type": "markdown",
   "metadata": {
    "application/vnd.databricks.v1+cell": {
     "cellMetadata": {
      "byteLimit": 2048000,
      "implicitDf": true,
      "rowLimit": 10000
     },
     "inputWidgets": {},
     "nuid": "502a21b4-019a-48e3-8cae-d7e6d7149268",
     "showTitle": false,
     "tableResultSettingsMap": {},
     "title": ""
    }
   },
   "source": [
    "###Create Final DF - df_filter_old + df-filter-new"
   ]
  },
  {
   "cell_type": "code",
   "execution_count": 0,
   "metadata": {
    "application/vnd.databricks.v1+cell": {
     "cellMetadata": {
      "byteLimit": 2048000,
      "rowLimit": 10000
     },
     "inputWidgets": {},
     "nuid": "12859b91-ed3f-4a79-93f8-39e082dc6e27",
     "showTitle": false,
     "tableResultSettingsMap": {},
     "title": ""
    }
   },
   "outputs": [],
   "source": [
    "df_final = df_filter_new.union(df_filter_old)"
   ]
  },
  {
   "cell_type": "markdown",
   "metadata": {
    "application/vnd.databricks.v1+cell": {
     "cellMetadata": {},
     "inputWidgets": {},
     "nuid": "85397567-35dc-40dd-9cbb-eed06af65dac",
     "showTitle": false,
     "tableResultSettingsMap": {},
     "title": ""
    }
   },
   "source": [
    "#SCD TYPE-1(UPSERT)"
   ]
  },
  {
   "cell_type": "code",
   "execution_count": 0,
   "metadata": {
    "application/vnd.databricks.v1+cell": {
     "cellMetadata": {
      "byteLimit": 2048000,
      "rowLimit": 10000
     },
     "inputWidgets": {},
     "nuid": "a1db0004-e0f0-4b75-9764-1dd01a97b395",
     "showTitle": false,
     "tableResultSettingsMap": {},
     "title": ""
    }
   },
   "outputs": [],
   "source": [
    "from delta.tables import DeltaTable"
   ]
  },
  {
   "cell_type": "code",
   "execution_count": 0,
   "metadata": {
    "application/vnd.databricks.v1+cell": {
     "cellMetadata": {
      "byteLimit": 2048000,
      "rowLimit": 10000
     },
     "inputWidgets": {},
     "nuid": "61712d3e-c318-4056-84dc-d74e3a7e4fb8",
     "showTitle": false,
     "tableResultSettingsMap": {},
     "title": ""
    }
   },
   "outputs": [],
   "source": [
    "#Incremental RUN\n",
    "if spark.catalog.tableExists('cars_catalog.gold.dim_dealer'):\n",
    "    delta_tbl = DeltaTable.forPath(spark, \"abfss://gold@carsbaggiodatalake.dfs.core.windows.net/dim_dealer\")\n",
    "    delta_tbl.alias(\"trg\").merge(df_final.alias(\"src\"), \"trg.dim_dealer_key = src.dim_dealer_key\")\\\n",
    "                          .whenMatchedUpdateAll()\\\n",
    "                          .whenNotMatchedInsertAll()\\\n",
    "                          .execute()\n",
    "                         \n",
    "                          \n",
    "    \n",
    "#Initial RUN\n",
    "else:\n",
    "    df_final.write.format(\"delta\")\\\n",
    "            .mode(\"overwrite\")\\\n",
    "            .option(\"path\", \"abfss://gold@carsbaggiodatalake.dfs.core.windows.net/dim_dealer\")\\\n",
    "            .saveAsTable(\"cars_catalog.gold.dim_dealer\")"
   ]
  },
  {
   "cell_type": "code",
   "execution_count": 0,
   "metadata": {
    "application/vnd.databricks.v1+cell": {
     "cellMetadata": {
      "byteLimit": 2048000,
      "implicitDf": true,
      "rowLimit": 10000
     },
     "inputWidgets": {},
     "nuid": "de47838b-224b-4a18-a7d1-ab422d9826ba",
     "showTitle": false,
     "tableResultSettingsMap": {},
     "title": ""
    }
   },
   "outputs": [
    {
     "output_type": "display_data",
     "data": {
      "text/html": [
       "<style scoped>\n",
       "  .table-result-container {\n",
       "    max-height: 300px;\n",
       "    overflow: auto;\n",
       "  }\n",
       "  table, th, td {\n",
       "    border: 1px solid black;\n",
       "    border-collapse: collapse;\n",
       "  }\n",
       "  th, td {\n",
       "    padding: 5px;\n",
       "  }\n",
       "  th {\n",
       "    text-align: left;\n",
       "  }\n",
       "</style><div class='table-result-container'><table class='table-result'><thead style='background-color: white'><tr><th>Dealer_ID</th><th>DealerName</th><th>dim_dealer_key</th></tr></thead><tbody><tr><td>DLR0058</td><td>Fiat do Brasil Motors</td><td>0</td></tr><tr><td>DLR0107</td><td>Land Rover Motors</td><td>1</td></tr><tr><td>DLR0129</td><td>Mia Motors</td><td>2</td></tr><tr><td>DLR0111</td><td>Lotus Motors</td><td>3</td></tr><tr><td>DLR0085</td><td>Humber Motors</td><td>4</td></tr><tr><td>DLR0001</td><td>AC Cars Motors</td><td>5</td></tr><tr><td>DLR0218</td><td>Lagonda  Motors</td><td>6</td></tr><tr><td>DLR0082</td><td>Honda Motors</td><td>7</td></tr><tr><td>DLR0063</td><td>Ford do Brasil Motors</td><td>8</td></tr><tr><td>DLR0193</td><td>Tazzari Motors</td><td>9</td></tr><tr><td>DLR0134</td><td>Monteverdi Motors</td><td>10</td></tr><tr><td>DLR0199</td><td>TVR Motors</td><td>11</td></tr><tr><td>DLR0254</td><td>AMC, Eagle Motors</td><td>12</td></tr><tr><td>DLR0094</td><td>Isotta Fraschini Motors</td><td>13</td></tr><tr><td>DLR0236</td><td>Cadillac Automobile Company Building</td><td>14</td></tr><tr><td>DLR0201</td><td>Vauxhall Motors</td><td>15</td></tr><tr><td>DLR0175</td><td>Saturn Motors</td><td>16</td></tr><tr><td>DLR0226</td><td>Das Motors</td><td>17</td></tr><tr><td>DLR0207</td><td>Westfield Motors</td><td>18</td></tr><tr><td>DLR0035</td><td>Chrysler Motors</td><td>19</td></tr><tr><td>DLR0151</td><td>Peel Motors</td><td>20</td></tr><tr><td>DLR0156</td><td>Plymouth Motors</td><td>21</td></tr><tr><td>DLR0216</td><td>Maybach  Motors</td><td>22</td></tr><tr><td>DLR0259</td><td>Asia Motors Motors</td><td>23</td></tr><tr><td>DLR0037</td><td>Citroën Motors</td><td>24</td></tr><tr><td>DLR0074</td><td>GTA Spano Motors</td><td>25</td></tr><tr><td>DLR0150</td><td>Panther Motors</td><td>26</td></tr><tr><td>DLR0135</td><td>Morgan Motors</td><td>27</td></tr><tr><td>DLR0073</td><td>GMC Motors</td><td>28</td></tr><tr><td>DLR0260</td><td>Aston Martin Motors</td><td>29</td></tr><tr><td>DLR0153</td><td>Peugeot Motors</td><td>30</td></tr><tr><td>DLR0124</td><td>McLaren Motors</td><td>31</td></tr><tr><td>DLR0121</td><td>Matra (including Deutsch-Bonnet, René Bonnet) Motors</td><td>32</td></tr><tr><td>DLR0211</td><td>ZIL Motors</td><td>33</td></tr><tr><td>DLR0066</td><td>Freightliner Motors</td><td>34</td></tr><tr><td>DLR0110</td><td>Lincoln Motors</td><td>35</td></tr><tr><td>DLR0143</td><td>Oldsmobile Motors</td><td>36</td></tr><tr><td>DLR0167</td><td>Rolls-Royce Motors</td><td>37</td></tr><tr><td>DLR0048</td><td>De Tomaso Motors</td><td>38</td></tr><tr><td>DLR0008</td><td>Anadol Motors</td><td>39</td></tr><tr><td>DLR0128</td><td>Messerschmitt Motors</td><td>40</td></tr><tr><td>DLR0177</td><td>Seat Motors</td><td>41</td></tr><tr><td>DLR0181</td><td>Singer Motors</td><td>42</td></tr><tr><td>DLR0079</td><td>Hillman Motors</td><td>43</td></tr><tr><td>DLR0072</td><td>Glas Motors</td><td>44</td></tr><tr><td>DLR0248</td><td>AC Cars Motors</td><td>45</td></tr><tr><td>DLR0052</td><td>e.GO Mobile Motors</td><td>46</td></tr><tr><td>DLR0197</td><td>Toyota India Motors</td><td>47</td></tr><tr><td>DLR0080</td><td>Hindustan Motors</td><td>48</td></tr><tr><td>DLR0164</td><td>Reliant Motors</td><td>49</td></tr><tr><td>DLR0029</td><td>Bytom Motors</td><td>50</td></tr><tr><td>DLR0195</td><td>Tornado Motors</td><td>51</td></tr><tr><td>DLR0005</td><td>Alpine Motors</td><td>52</td></tr><tr><td>DLR0007</td><td>AMC, Eagle Motors</td><td>53</td></tr><tr><td>DLR0078</td><td>Hennessey Motors</td><td>54</td></tr><tr><td>DLR0247</td><td>Kindel Building</td><td>55</td></tr><tr><td>DLR0065</td><td>Ford India Motors</td><td>56</td></tr><tr><td>DLR0174</td><td>Santana Motors</td><td>57</td></tr><tr><td>DLR0022</td><td>Borgward (including Goliath and Lloyd) Motors</td><td>58</td></tr><tr><td>DLR0116</td><td>Marcos Motors</td><td>59</td></tr><tr><td>DLR0257</td><td>ARO Motors</td><td>60</td></tr><tr><td>DLR0172</td><td>San Motors</td><td>61</td></tr><tr><td>DLR0061</td><td>Ford America Motors</td><td>62</td></tr><tr><td>DLR0240</td><td>Clemens Automobile Company Building</td><td>63</td></tr><tr><td>DLR0103</td><td>KTM Motors</td><td>64</td></tr><tr><td>DLR0096</td><td>Iveco Motors</td><td>65</td></tr><tr><td>DLR0198</td><td>Turner Motors</td><td>66</td></tr><tr><td>DLR0137</td><td>Nash Motors</td><td>67</td></tr><tr><td>DLR0202</td><td>Venturi Motors</td><td>68</td></tr><tr><td>DLR0125</td><td>Mercedes-Benz (including Maybach) Motors</td><td>69</td></tr><tr><td>DLR0089</td><td>Infiniti Motors</td><td>70</td></tr><tr><td>DLR0266</td><td>Bitter Motors</td><td>71</td></tr><tr><td>DLR0148</td><td>Panhard Motors</td><td>72</td></tr><tr><td>DLR0142</td><td>NSU Motors</td><td>73</td></tr><tr><td>DLR0227</td><td>Ramani Motors</td><td>74</td></tr><tr><td>DLR0206</td><td>Volvo Motors</td><td>75</td></tr><tr><td>DLR0179</td><td>Simca Motors</td><td>76</td></tr><tr><td>DLR0059</td><td>Fiat India Motors</td><td>77</td></tr><tr><td>DLR0092</td><td>Isdera Motors</td><td>78</td></tr><tr><td>DLR0018</td><td>Bentley Motors</td><td>79</td></tr><tr><td>DLR0115</td><td>Mahindra Motors</td><td>80</td></tr><tr><td>DLR0169</td><td>SAIC Motor Motors</td><td>81</td></tr><tr><td>DLR0212</td><td>null</td><td>82</td></tr><tr><td>DLR0192</td><td>Tatra Motors</td><td>83</td></tr><tr><td>DLR0186</td><td>Standard-Triumph Motors</td><td>84</td></tr><tr><td>DLR0021</td><td>Bond Motors</td><td>85</td></tr><tr><td>DLR0147</td><td>Pagani Motors</td><td>86</td></tr><tr><td>DLR0098</td><td>Jeep Motors</td><td>87</td></tr><tr><td>DLR0209</td><td>Zastava Motors</td><td>88</td></tr><tr><td>DLR0166</td><td>Rivian Motors</td><td>89</td></tr><tr><td>DLR0250</td><td>Aixam-Mega (including Arola) Motors</td><td>90</td></tr><tr><td>DLR0220</td><td>Morris  Motors</td><td>91</td></tr><tr><td>DLR0183</td><td>Smart Motors</td><td>92</td></tr><tr><td>DLR0102</td><td>Koenigsegg Motors</td><td>93</td></tr><tr><td>DLR0188</td><td>Subaru Motors</td><td>94</td></tr><tr><td>DLR0155</td><td>Piaggio Motors</td><td>95</td></tr><tr><td>DLR0050</td><td>Donkervoort Motors</td><td>96</td></tr><tr><td>DLR0252</td><td>Alpine Motors</td><td>97</td></tr><tr><td>DLR0184</td><td>Spyker Motors</td><td>98</td></tr><tr><td>DLR0267</td><td>BMW Motors</td><td>99</td></tr><tr><td>DLR0091</td><td>Invicta Motors</td><td>100</td></tr><tr><td>DLR0262</td><td>Autobianchi Motors</td><td>101</td></tr><tr><td>DLR0249</td><td>Acura Motors</td><td>102</td></tr><tr><td>DLR0208</td><td>Wiesmann Motors</td><td>103</td></tr><tr><td>DLR0114</td><td>Lynx Motors</td><td>104</td></tr><tr><td>DLR0204</td><td>Volkswagen do Brasil Motors</td><td>105</td></tr><tr><td>DLR0200</td><td>UAZ Motors</td><td>106</td></tr><tr><td>DLR0163</td><td>Ranger Motors</td><td>107</td></tr><tr><td>DLR0223</td><td>Wolseley  Motors</td><td>108</td></tr><tr><td>DLR0044</td><td>null</td><td>109</td></tr><tr><td>DLR0231</td><td>Atlantic Motor Company</td><td>110</td></tr><tr><td>DLR0034</td><td>Chevrolet India Motors</td><td>111</td></tr><tr><td>DLR0126</td><td>Mercury Motors</td><td>112</td></tr><tr><td>DLR0046</td><td>DeLorean Motors</td><td>113</td></tr><tr><td>DLR0130</td><td>Micro Motors</td><td>114</td></tr><tr><td>DLR0210</td><td>ZAZ Motors</td><td>115</td></tr><tr><td>DLR0136</td><td>Moskwitch Motors</td><td>116</td></tr><tr><td>DLR0222</td><td>Riley  Motors</td><td>117</td></tr><tr><td>DLR0017</td><td>Auverland Motors</td><td>118</td></tr><tr><td>DLR0182</td><td>Skoda Motors</td><td>119</td></tr><tr><td>DLR0152</td><td>Perodua Motors</td><td>120</td></tr><tr><td>DLR0071</td><td>Ginetta Motors</td><td>121</td></tr><tr><td>DLR0161</td><td>Proton Motors</td><td>122</td></tr><tr><td>DLR0246</td><td>Jones Motor Company</td><td>123</td></tr><tr><td>DLR0020</td><td>BMW Motors</td><td>124</td></tr><tr><td>DLR0076</td><td>Healey Motors</td><td>125</td></tr><tr><td>DLR0237</td><td>Casa de cadillac</td><td>126</td></tr><tr><td>DLR0131</td><td>Mini Motors</td><td>127</td></tr><tr><td>DLR0112</td><td>LTI Motors</td><td>128</td></tr><tr><td>DLR0213</td><td>DKW Motors</td><td>129</td></tr><tr><td>DLR0040</td><td>Daewoo, Saehan, Chevrolet Korea Motors</td><td>130</td></tr><tr><td>DLR0187</td><td>Studebaker Motors</td><td>131</td></tr><tr><td>DLR0251</td><td>Alfa Romeo Motors</td><td>132</td></tr><tr><td>DLR0154</td><td>PGO Motors</td><td>133</td></tr><tr><td>DLR0119</td><td>Maserati Motors</td><td>134</td></tr><tr><td>DLR0013</td><td>Aston Martin Motors</td><td>135</td></tr><tr><td>DLR0087</td><td>Hyundai Motors</td><td>136</td></tr><tr><td>DLR0056</td><td>Ferrari Motors</td><td>137</td></tr><tr><td>DLR0033</td><td>Chevrolet Motors</td><td>138</td></tr><tr><td>DLR0042</td><td>Daihatsu Motors</td><td>139</td></tr><tr><td>DLR0229</td><td>Herald Motors</td><td>140</td></tr><tr><td>DLR0070</td><td>Gilbern Motors</td><td>141</td></tr><tr><td>DLR0191</td><td>Tata Motors</td><td>142</td></tr><tr><td>DLR0203</td><td>Volkswagen Motors</td><td>143</td></tr><tr><td>DLR0100</td><td>JPX Motors</td><td>144</td></tr><tr><td>DLR0047</td><td>DeSoto Motors</td><td>145</td></tr><tr><td>DLR0214</td><td>Horch Motors</td><td>146</td></tr><tr><td>DLR0171</td><td>Samsung Motors</td><td>147</td></tr><tr><td>DLR0045</td><td>Delahaye Motors</td><td>148</td></tr><tr><td>DLR0264</td><td>Auverland Motors</td><td>149</td></tr><tr><td>DLR0162</td><td>Puma Motors</td><td>150</td></tr><tr><td>DLR0159</td><td>Porsche Motors</td><td>151</td></tr><tr><td>DLR0146</td><td>Packard Motors</td><td>152</td></tr><tr><td>DLR0261</td><td>Audi Motors</td><td>153</td></tr><tr><td>DLR0032</td><td>Checker Motors</td><td>154</td></tr><tr><td>DLR0009</td><td>Ariel Motors</td><td>155</td></tr><tr><td>DLR0225</td><td>Talbot  Motors</td><td>156</td></tr><tr><td>DLR0221</td><td>Austin  Motors</td><td>157</td></tr><tr><td>DLR0075</td><td>Gumpert Motors</td><td>158</td></tr><tr><td>DLR0069</td><td>Geo Motors</td><td>159</td></tr><tr><td>DLR0104</td><td>Lada Motors</td><td>160</td></tr><tr><td>DLR0039</td><td>Dacia Motors</td><td>161</td></tr><tr><td>DLR0245</td><td>Jennings Ford Automobile Dealership</td><td>162</td></tr><tr><td>DLR0238</td><td>Cass Motor Sales</td><td>163</td></tr><tr><td>DLR0064</td><td>Ford Europe Motors</td><td>164</td></tr><tr><td>DLR0109</td><td>Ligier Motors</td><td>165</td></tr><tr><td>DLR0144</td><td>null</td><td>166</td></tr><tr><td>DLR0176</td><td>Scion Motors</td><td>167</td></tr><tr><td>DLR0255</td><td>Anadol Motors</td><td>168</td></tr><tr><td>DLR0138</td><td>Naza Motors</td><td>169</td></tr><tr><td>DLR0003</td><td>Aixam-Mega (including Arola) Motors</td><td>170</td></tr><tr><td>DLR0265</td><td>Bentley Motors</td><td>171</td></tr><tr><td>DLR0217</td><td>Izh  Motors</td><td>172</td></tr><tr><td>DLR0185</td><td>SsangYong Motors</td><td>173</td></tr><tr><td>DLR0019</td><td>Bitter Motors</td><td>174</td></tr><tr><td>DLR0165</td><td>Renault Motors</td><td>175</td></tr><tr><td>DLR0108</td><td>Lexus Motors</td><td>176</td></tr><tr><td>DLR0117</td><td>Marlin Motors</td><td>177</td></tr><tr><td>DLR0118</td><td>Maruti Motors</td><td>178</td></tr><tr><td>DLR0027</td><td>Bugatti Motors</td><td>179</td></tr><tr><td>DLR0139</td><td>Nissan Motors</td><td>180</td></tr><tr><td>DLR0088</td><td>IFA (including Trabant, Wartburg, Barkas) Motors</td><td>181</td></tr><tr><td>DLR0051</td><td>Edsel Motors</td><td>182</td></tr><tr><td>DLR0010</td><td>ARO Motors</td><td>183</td></tr><tr><td>DLR0006</td><td>Alvis Motors</td><td>184</td></tr><tr><td>DLR0180</td><td>Simca do Brasil Motors</td><td>185</td></tr><tr><td>DLR0253</td><td>Alvis Motors</td><td>186</td></tr><tr><td>DLR0230</td><td>Zion Automobils</td><td>187</td></tr><tr><td>DLR0190</td><td>Suzuki Motors</td><td>188</td></tr><tr><td>DLR0232</td><td>2008 NRHP-listed</td><td>189</td></tr><tr><td>DLR0030</td><td>Cadillac Motors</td><td>190</td></tr><tr><td>DLR0215</td><td>Wanderer Motors</td><td>191</td></tr><tr><td>DLR0016</td><td>Auto-Union Motors</td><td>192</td></tr><tr><td>DLR0160</td><td>Premier Motors</td><td>193</td></tr><tr><td>DLR0025</td><td>Austin-Healey Motors</td><td>194</td></tr><tr><td>DLR0239</td><td>Claremore Auto Dealership</td><td>195</td></tr><tr><td>DLR0228</td><td>Deccan Motors</td><td>196</td></tr><tr><td>DLR0189</td><td>Sunbeam Motors</td><td>197</td></tr><tr><td>DLR0263</td><td>Auto-Union Motors</td><td>198</td></tr><tr><td>DLR0132</td><td>Mitsubishi Motors</td><td>199</td></tr><tr><td>DLR0244</td><td>Hupmobile Building</td><td>200</td></tr><tr><td>DLR0068</td><td>GAZ Motors</td><td>201</td></tr><tr><td>DLR0053</td><td>Eicher Polaris Motors</td><td>202</td></tr><tr><td>DLR0002</td><td>Acura Motors</td><td>203</td></tr><tr><td>DLR0194</td><td>Tesla Motors</td><td>204</td></tr><tr><td>DLR0233</td><td>Blankinship Motor Company Building</td><td>205</td></tr><tr><td>DLR0014</td><td>Audi Motors</td><td>206</td></tr><tr><td>DLR0093</td><td>Iso Motors</td><td>207</td></tr><tr><td>DLR0205</td><td>Volkswagen South Africa Motors</td><td>208</td></tr><tr><td>DLR0141</td><td>Noble Motors</td><td>209</td></tr><tr><td>DLR0140</td><td>Nissan India Motors</td><td>210</td></tr><tr><td>DLR0101</td><td>Kia Motors</td><td>211</td></tr><tr><td>DLR0234</td><td>Bohn Motor Company Automobile Dealership</td><td>212</td></tr><tr><td>DLR0235</td><td>Buick Automobile Company Building</td><td>213</td></tr><tr><td>DLR0256</td><td>Ariel Motors</td><td>214</td></tr><tr><td>DLR0004</td><td>Alfa Romeo Motors</td><td>215</td></tr><tr><td>DLR0084</td><td>Hudson Motors</td><td>216</td></tr><tr><td>DLR0133</td><td>Monica Motors</td><td>217</td></tr><tr><td>DLR0062</td><td>Ford Australia Motors</td><td>218</td></tr><tr><td>DLR0038</td><td>Cizeta-Moroder Motors</td><td>219</td></tr><tr><td>DLR0049</td><td>Dodge Motors</td><td>220</td></tr><tr><td>DLR0055</td><td>Facel Vega Motors</td><td>221</td></tr><tr><td>DLR0170</td><td>Saleen Motors</td><td>222</td></tr><tr><td>DLR0242</td><td>H Street Playhouse</td><td>223</td></tr><tr><td>DLR0243</td><td>Howard Motor Company Building</td><td>224</td></tr><tr><td>DLR0224</td><td>Standard  Motors</td><td>225</td></tr><tr><td>DLR0077</td><td>Heinkel Motors</td><td>226</td></tr><tr><td>DLR0031</td><td>Caterham Motors</td><td>227</td></tr><tr><td>DLR0127</td><td>Merkur Motors</td><td>228</td></tr><tr><td>DLR0043</td><td>Daimler Motors</td><td>229</td></tr><tr><td>DLR0168</td><td>Saab Motors</td><td>230</td></tr><tr><td>DLR0083</td><td>Honda India Motors</td><td>231</td></tr><tr><td>DLR0099</td><td>Jensen Motors</td><td>232</td></tr><tr><td>DLR0090</td><td>null</td><td>233</td></tr><tr><td>DLR0173</td><td>Santa Matilde Motors</td><td>234</td></tr><tr><td>DLR0067</td><td>FSO Motors</td><td>235</td></tr><tr><td>DLR0113</td><td>LuAZ Motors</td><td>236</td></tr><tr><td>DLR0011</td><td>Artega Motors</td><td>237</td></tr><tr><td>DLR0157</td><td>Polestar Motors</td><td>238</td></tr><tr><td>DLR0258</td><td>null</td><td>239</td></tr><tr><td>DLR0086</td><td>Hummer Motors</td><td>240</td></tr><tr><td>DLR0054</td><td>Elva Motors</td><td>241</td></tr><tr><td>DLR0178</td><td>Shelby SuperCars Motors</td><td>242</td></tr><tr><td>DLR0023</td><td>Bristol Motors</td><td>243</td></tr><tr><td>DLR0026</td><td>Austin, Rover Motors</td><td>244</td></tr><tr><td>DLR0219</td><td>MG  Motors</td><td>245</td></tr><tr><td>DLR0120</td><td>Mastretta Motors</td><td>246</td></tr><tr><td>DLR0028</td><td>Buick Motors</td><td>247</td></tr><tr><td>DLR0057</td><td>Fiat Motors</td><td>248</td></tr><tr><td>DLR0041</td><td>DAF Motors</td><td>249</td></tr><tr><td>DLR0095</td><td>Isuzu Motors</td><td>250</td></tr><tr><td>DLR0123</td><td>Mazzanti Motors</td><td>251</td></tr><tr><td>DLR0036</td><td>Chrysler Europe Motors</td><td>252</td></tr><tr><td>DLR0149</td><td>Panoz Motors</td><td>253</td></tr><tr><td>DLR0145</td><td>Opel Motors</td><td>254</td></tr><tr><td>DLR0105</td><td>Lamborghini Motors</td><td>255</td></tr><tr><td>DLR0097</td><td>Jaguar Motors</td><td>256</td></tr><tr><td>DLR0196</td><td>Toyota Motors</td><td>257</td></tr><tr><td>DLR0024</td><td>British Leyland Motors</td><td>258</td></tr><tr><td>DLR0241</td><td>Colman Automotive Building</td><td>259</td></tr><tr><td>DLR0012</td><td>Asia Motors Motors</td><td>260</td></tr><tr><td>DLR0122</td><td>Mazda Motors</td><td>261</td></tr><tr><td>DLR0060</td><td>Fisker, Karma Motors</td><td>262</td></tr><tr><td>DLR0106</td><td>Lancia Motors</td><td>263</td></tr><tr><td>DLR0158</td><td>Pontiac, Asüna Motors</td><td>264</td></tr><tr><td>DLR0015</td><td>Autobianchi Motors</td><td>265</td></tr><tr><td>DLR0081</td><td>Holden Motors</td><td>266</td></tr></tbody></table></div>"
      ]
     },
     "metadata": {
      "application/vnd.databricks.v1+output": {
       "addedWidgets": {},
       "aggData": [],
       "aggError": "",
       "aggOverflow": false,
       "aggSchema": [],
       "aggSeriesLimitReached": false,
       "aggType": "",
       "arguments": {},
       "columnCustomDisplayInfos": {},
       "data": [
        [
         "DLR0058",
         "Fiat do Brasil Motors",
         0
        ],
        [
         "DLR0107",
         "Land Rover Motors",
         1
        ],
        [
         "DLR0129",
         "Mia Motors",
         2
        ],
        [
         "DLR0111",
         "Lotus Motors",
         3
        ],
        [
         "DLR0085",
         "Humber Motors",
         4
        ],
        [
         "DLR0001",
         "AC Cars Motors",
         5
        ],
        [
         "DLR0218",
         "Lagonda  Motors",
         6
        ],
        [
         "DLR0082",
         "Honda Motors",
         7
        ],
        [
         "DLR0063",
         "Ford do Brasil Motors",
         8
        ],
        [
         "DLR0193",
         "Tazzari Motors",
         9
        ],
        [
         "DLR0134",
         "Monteverdi Motors",
         10
        ],
        [
         "DLR0199",
         "TVR Motors",
         11
        ],
        [
         "DLR0254",
         "AMC, Eagle Motors",
         12
        ],
        [
         "DLR0094",
         "Isotta Fraschini Motors",
         13
        ],
        [
         "DLR0236",
         "Cadillac Automobile Company Building",
         14
        ],
        [
         "DLR0201",
         "Vauxhall Motors",
         15
        ],
        [
         "DLR0175",
         "Saturn Motors",
         16
        ],
        [
         "DLR0226",
         "Das Motors",
         17
        ],
        [
         "DLR0207",
         "Westfield Motors",
         18
        ],
        [
         "DLR0035",
         "Chrysler Motors",
         19
        ],
        [
         "DLR0151",
         "Peel Motors",
         20
        ],
        [
         "DLR0156",
         "Plymouth Motors",
         21
        ],
        [
         "DLR0216",
         "Maybach  Motors",
         22
        ],
        [
         "DLR0259",
         "Asia Motors Motors",
         23
        ],
        [
         "DLR0037",
         "Citroën Motors",
         24
        ],
        [
         "DLR0074",
         "GTA Spano Motors",
         25
        ],
        [
         "DLR0150",
         "Panther Motors",
         26
        ],
        [
         "DLR0135",
         "Morgan Motors",
         27
        ],
        [
         "DLR0073",
         "GMC Motors",
         28
        ],
        [
         "DLR0260",
         "Aston Martin Motors",
         29
        ],
        [
         "DLR0153",
         "Peugeot Motors",
         30
        ],
        [
         "DLR0124",
         "McLaren Motors",
         31
        ],
        [
         "DLR0121",
         "Matra (including Deutsch-Bonnet, René Bonnet) Motors",
         32
        ],
        [
         "DLR0211",
         "ZIL Motors",
         33
        ],
        [
         "DLR0066",
         "Freightliner Motors",
         34
        ],
        [
         "DLR0110",
         "Lincoln Motors",
         35
        ],
        [
         "DLR0143",
         "Oldsmobile Motors",
         36
        ],
        [
         "DLR0167",
         "Rolls-Royce Motors",
         37
        ],
        [
         "DLR0048",
         "De Tomaso Motors",
         38
        ],
        [
         "DLR0008",
         "Anadol Motors",
         39
        ],
        [
         "DLR0128",
         "Messerschmitt Motors",
         40
        ],
        [
         "DLR0177",
         "Seat Motors",
         41
        ],
        [
         "DLR0181",
         "Singer Motors",
         42
        ],
        [
         "DLR0079",
         "Hillman Motors",
         43
        ],
        [
         "DLR0072",
         "Glas Motors",
         44
        ],
        [
         "DLR0248",
         "AC Cars Motors",
         45
        ],
        [
         "DLR0052",
         "e.GO Mobile Motors",
         46
        ],
        [
         "DLR0197",
         "Toyota India Motors",
         47
        ],
        [
         "DLR0080",
         "Hindustan Motors",
         48
        ],
        [
         "DLR0164",
         "Reliant Motors",
         49
        ],
        [
         "DLR0029",
         "Bytom Motors",
         50
        ],
        [
         "DLR0195",
         "Tornado Motors",
         51
        ],
        [
         "DLR0005",
         "Alpine Motors",
         52
        ],
        [
         "DLR0007",
         "AMC, Eagle Motors",
         53
        ],
        [
         "DLR0078",
         "Hennessey Motors",
         54
        ],
        [
         "DLR0247",
         "Kindel Building",
         55
        ],
        [
         "DLR0065",
         "Ford India Motors",
         56
        ],
        [
         "DLR0174",
         "Santana Motors",
         57
        ],
        [
         "DLR0022",
         "Borgward (including Goliath and Lloyd) Motors",
         58
        ],
        [
         "DLR0116",
         "Marcos Motors",
         59
        ],
        [
         "DLR0257",
         "ARO Motors",
         60
        ],
        [
         "DLR0172",
         "San Motors",
         61
        ],
        [
         "DLR0061",
         "Ford America Motors",
         62
        ],
        [
         "DLR0240",
         "Clemens Automobile Company Building",
         63
        ],
        [
         "DLR0103",
         "KTM Motors",
         64
        ],
        [
         "DLR0096",
         "Iveco Motors",
         65
        ],
        [
         "DLR0198",
         "Turner Motors",
         66
        ],
        [
         "DLR0137",
         "Nash Motors",
         67
        ],
        [
         "DLR0202",
         "Venturi Motors",
         68
        ],
        [
         "DLR0125",
         "Mercedes-Benz (including Maybach) Motors",
         69
        ],
        [
         "DLR0089",
         "Infiniti Motors",
         70
        ],
        [
         "DLR0266",
         "Bitter Motors",
         71
        ],
        [
         "DLR0148",
         "Panhard Motors",
         72
        ],
        [
         "DLR0142",
         "NSU Motors",
         73
        ],
        [
         "DLR0227",
         "Ramani Motors",
         74
        ],
        [
         "DLR0206",
         "Volvo Motors",
         75
        ],
        [
         "DLR0179",
         "Simca Motors",
         76
        ],
        [
         "DLR0059",
         "Fiat India Motors",
         77
        ],
        [
         "DLR0092",
         "Isdera Motors",
         78
        ],
        [
         "DLR0018",
         "Bentley Motors",
         79
        ],
        [
         "DLR0115",
         "Mahindra Motors",
         80
        ],
        [
         "DLR0169",
         "SAIC Motor Motors",
         81
        ],
        [
         "DLR0212",
         null,
         82
        ],
        [
         "DLR0192",
         "Tatra Motors",
         83
        ],
        [
         "DLR0186",
         "Standard-Triumph Motors",
         84
        ],
        [
         "DLR0021",
         "Bond Motors",
         85
        ],
        [
         "DLR0147",
         "Pagani Motors",
         86
        ],
        [
         "DLR0098",
         "Jeep Motors",
         87
        ],
        [
         "DLR0209",
         "Zastava Motors",
         88
        ],
        [
         "DLR0166",
         "Rivian Motors",
         89
        ],
        [
         "DLR0250",
         "Aixam-Mega (including Arola) Motors",
         90
        ],
        [
         "DLR0220",
         "Morris  Motors",
         91
        ],
        [
         "DLR0183",
         "Smart Motors",
         92
        ],
        [
         "DLR0102",
         "Koenigsegg Motors",
         93
        ],
        [
         "DLR0188",
         "Subaru Motors",
         94
        ],
        [
         "DLR0155",
         "Piaggio Motors",
         95
        ],
        [
         "DLR0050",
         "Donkervoort Motors",
         96
        ],
        [
         "DLR0252",
         "Alpine Motors",
         97
        ],
        [
         "DLR0184",
         "Spyker Motors",
         98
        ],
        [
         "DLR0267",
         "BMW Motors",
         99
        ],
        [
         "DLR0091",
         "Invicta Motors",
         100
        ],
        [
         "DLR0262",
         "Autobianchi Motors",
         101
        ],
        [
         "DLR0249",
         "Acura Motors",
         102
        ],
        [
         "DLR0208",
         "Wiesmann Motors",
         103
        ],
        [
         "DLR0114",
         "Lynx Motors",
         104
        ],
        [
         "DLR0204",
         "Volkswagen do Brasil Motors",
         105
        ],
        [
         "DLR0200",
         "UAZ Motors",
         106
        ],
        [
         "DLR0163",
         "Ranger Motors",
         107
        ],
        [
         "DLR0223",
         "Wolseley  Motors",
         108
        ],
        [
         "DLR0044",
         null,
         109
        ],
        [
         "DLR0231",
         "Atlantic Motor Company",
         110
        ],
        [
         "DLR0034",
         "Chevrolet India Motors",
         111
        ],
        [
         "DLR0126",
         "Mercury Motors",
         112
        ],
        [
         "DLR0046",
         "DeLorean Motors",
         113
        ],
        [
         "DLR0130",
         "Micro Motors",
         114
        ],
        [
         "DLR0210",
         "ZAZ Motors",
         115
        ],
        [
         "DLR0136",
         "Moskwitch Motors",
         116
        ],
        [
         "DLR0222",
         "Riley  Motors",
         117
        ],
        [
         "DLR0017",
         "Auverland Motors",
         118
        ],
        [
         "DLR0182",
         "Skoda Motors",
         119
        ],
        [
         "DLR0152",
         "Perodua Motors",
         120
        ],
        [
         "DLR0071",
         "Ginetta Motors",
         121
        ],
        [
         "DLR0161",
         "Proton Motors",
         122
        ],
        [
         "DLR0246",
         "Jones Motor Company",
         123
        ],
        [
         "DLR0020",
         "BMW Motors",
         124
        ],
        [
         "DLR0076",
         "Healey Motors",
         125
        ],
        [
         "DLR0237",
         "Casa de cadillac",
         126
        ],
        [
         "DLR0131",
         "Mini Motors",
         127
        ],
        [
         "DLR0112",
         "LTI Motors",
         128
        ],
        [
         "DLR0213",
         "DKW Motors",
         129
        ],
        [
         "DLR0040",
         "Daewoo, Saehan, Chevrolet Korea Motors",
         130
        ],
        [
         "DLR0187",
         "Studebaker Motors",
         131
        ],
        [
         "DLR0251",
         "Alfa Romeo Motors",
         132
        ],
        [
         "DLR0154",
         "PGO Motors",
         133
        ],
        [
         "DLR0119",
         "Maserati Motors",
         134
        ],
        [
         "DLR0013",
         "Aston Martin Motors",
         135
        ],
        [
         "DLR0087",
         "Hyundai Motors",
         136
        ],
        [
         "DLR0056",
         "Ferrari Motors",
         137
        ],
        [
         "DLR0033",
         "Chevrolet Motors",
         138
        ],
        [
         "DLR0042",
         "Daihatsu Motors",
         139
        ],
        [
         "DLR0229",
         "Herald Motors",
         140
        ],
        [
         "DLR0070",
         "Gilbern Motors",
         141
        ],
        [
         "DLR0191",
         "Tata Motors",
         142
        ],
        [
         "DLR0203",
         "Volkswagen Motors",
         143
        ],
        [
         "DLR0100",
         "JPX Motors",
         144
        ],
        [
         "DLR0047",
         "DeSoto Motors",
         145
        ],
        [
         "DLR0214",
         "Horch Motors",
         146
        ],
        [
         "DLR0171",
         "Samsung Motors",
         147
        ],
        [
         "DLR0045",
         "Delahaye Motors",
         148
        ],
        [
         "DLR0264",
         "Auverland Motors",
         149
        ],
        [
         "DLR0162",
         "Puma Motors",
         150
        ],
        [
         "DLR0159",
         "Porsche Motors",
         151
        ],
        [
         "DLR0146",
         "Packard Motors",
         152
        ],
        [
         "DLR0261",
         "Audi Motors",
         153
        ],
        [
         "DLR0032",
         "Checker Motors",
         154
        ],
        [
         "DLR0009",
         "Ariel Motors",
         155
        ],
        [
         "DLR0225",
         "Talbot  Motors",
         156
        ],
        [
         "DLR0221",
         "Austin  Motors",
         157
        ],
        [
         "DLR0075",
         "Gumpert Motors",
         158
        ],
        [
         "DLR0069",
         "Geo Motors",
         159
        ],
        [
         "DLR0104",
         "Lada Motors",
         160
        ],
        [
         "DLR0039",
         "Dacia Motors",
         161
        ],
        [
         "DLR0245",
         "Jennings Ford Automobile Dealership",
         162
        ],
        [
         "DLR0238",
         "Cass Motor Sales",
         163
        ],
        [
         "DLR0064",
         "Ford Europe Motors",
         164
        ],
        [
         "DLR0109",
         "Ligier Motors",
         165
        ],
        [
         "DLR0144",
         null,
         166
        ],
        [
         "DLR0176",
         "Scion Motors",
         167
        ],
        [
         "DLR0255",
         "Anadol Motors",
         168
        ],
        [
         "DLR0138",
         "Naza Motors",
         169
        ],
        [
         "DLR0003",
         "Aixam-Mega (including Arola) Motors",
         170
        ],
        [
         "DLR0265",
         "Bentley Motors",
         171
        ],
        [
         "DLR0217",
         "Izh  Motors",
         172
        ],
        [
         "DLR0185",
         "SsangYong Motors",
         173
        ],
        [
         "DLR0019",
         "Bitter Motors",
         174
        ],
        [
         "DLR0165",
         "Renault Motors",
         175
        ],
        [
         "DLR0108",
         "Lexus Motors",
         176
        ],
        [
         "DLR0117",
         "Marlin Motors",
         177
        ],
        [
         "DLR0118",
         "Maruti Motors",
         178
        ],
        [
         "DLR0027",
         "Bugatti Motors",
         179
        ],
        [
         "DLR0139",
         "Nissan Motors",
         180
        ],
        [
         "DLR0088",
         "IFA (including Trabant, Wartburg, Barkas) Motors",
         181
        ],
        [
         "DLR0051",
         "Edsel Motors",
         182
        ],
        [
         "DLR0010",
         "ARO Motors",
         183
        ],
        [
         "DLR0006",
         "Alvis Motors",
         184
        ],
        [
         "DLR0180",
         "Simca do Brasil Motors",
         185
        ],
        [
         "DLR0253",
         "Alvis Motors",
         186
        ],
        [
         "DLR0230",
         "Zion Automobils",
         187
        ],
        [
         "DLR0190",
         "Suzuki Motors",
         188
        ],
        [
         "DLR0232",
         "2008 NRHP-listed",
         189
        ],
        [
         "DLR0030",
         "Cadillac Motors",
         190
        ],
        [
         "DLR0215",
         "Wanderer Motors",
         191
        ],
        [
         "DLR0016",
         "Auto-Union Motors",
         192
        ],
        [
         "DLR0160",
         "Premier Motors",
         193
        ],
        [
         "DLR0025",
         "Austin-Healey Motors",
         194
        ],
        [
         "DLR0239",
         "Claremore Auto Dealership",
         195
        ],
        [
         "DLR0228",
         "Deccan Motors",
         196
        ],
        [
         "DLR0189",
         "Sunbeam Motors",
         197
        ],
        [
         "DLR0263",
         "Auto-Union Motors",
         198
        ],
        [
         "DLR0132",
         "Mitsubishi Motors",
         199
        ],
        [
         "DLR0244",
         "Hupmobile Building",
         200
        ],
        [
         "DLR0068",
         "GAZ Motors",
         201
        ],
        [
         "DLR0053",
         "Eicher Polaris Motors",
         202
        ],
        [
         "DLR0002",
         "Acura Motors",
         203
        ],
        [
         "DLR0194",
         "Tesla Motors",
         204
        ],
        [
         "DLR0233",
         "Blankinship Motor Company Building",
         205
        ],
        [
         "DLR0014",
         "Audi Motors",
         206
        ],
        [
         "DLR0093",
         "Iso Motors",
         207
        ],
        [
         "DLR0205",
         "Volkswagen South Africa Motors",
         208
        ],
        [
         "DLR0141",
         "Noble Motors",
         209
        ],
        [
         "DLR0140",
         "Nissan India Motors",
         210
        ],
        [
         "DLR0101",
         "Kia Motors",
         211
        ],
        [
         "DLR0234",
         "Bohn Motor Company Automobile Dealership",
         212
        ],
        [
         "DLR0235",
         "Buick Automobile Company Building",
         213
        ],
        [
         "DLR0256",
         "Ariel Motors",
         214
        ],
        [
         "DLR0004",
         "Alfa Romeo Motors",
         215
        ],
        [
         "DLR0084",
         "Hudson Motors",
         216
        ],
        [
         "DLR0133",
         "Monica Motors",
         217
        ],
        [
         "DLR0062",
         "Ford Australia Motors",
         218
        ],
        [
         "DLR0038",
         "Cizeta-Moroder Motors",
         219
        ],
        [
         "DLR0049",
         "Dodge Motors",
         220
        ],
        [
         "DLR0055",
         "Facel Vega Motors",
         221
        ],
        [
         "DLR0170",
         "Saleen Motors",
         222
        ],
        [
         "DLR0242",
         "H Street Playhouse",
         223
        ],
        [
         "DLR0243",
         "Howard Motor Company Building",
         224
        ],
        [
         "DLR0224",
         "Standard  Motors",
         225
        ],
        [
         "DLR0077",
         "Heinkel Motors",
         226
        ],
        [
         "DLR0031",
         "Caterham Motors",
         227
        ],
        [
         "DLR0127",
         "Merkur Motors",
         228
        ],
        [
         "DLR0043",
         "Daimler Motors",
         229
        ],
        [
         "DLR0168",
         "Saab Motors",
         230
        ],
        [
         "DLR0083",
         "Honda India Motors",
         231
        ],
        [
         "DLR0099",
         "Jensen Motors",
         232
        ],
        [
         "DLR0090",
         null,
         233
        ],
        [
         "DLR0173",
         "Santa Matilde Motors",
         234
        ],
        [
         "DLR0067",
         "FSO Motors",
         235
        ],
        [
         "DLR0113",
         "LuAZ Motors",
         236
        ],
        [
         "DLR0011",
         "Artega Motors",
         237
        ],
        [
         "DLR0157",
         "Polestar Motors",
         238
        ],
        [
         "DLR0258",
         null,
         239
        ],
        [
         "DLR0086",
         "Hummer Motors",
         240
        ],
        [
         "DLR0054",
         "Elva Motors",
         241
        ],
        [
         "DLR0178",
         "Shelby SuperCars Motors",
         242
        ],
        [
         "DLR0023",
         "Bristol Motors",
         243
        ],
        [
         "DLR0026",
         "Austin, Rover Motors",
         244
        ],
        [
         "DLR0219",
         "MG  Motors",
         245
        ],
        [
         "DLR0120",
         "Mastretta Motors",
         246
        ],
        [
         "DLR0028",
         "Buick Motors",
         247
        ],
        [
         "DLR0057",
         "Fiat Motors",
         248
        ],
        [
         "DLR0041",
         "DAF Motors",
         249
        ],
        [
         "DLR0095",
         "Isuzu Motors",
         250
        ],
        [
         "DLR0123",
         "Mazzanti Motors",
         251
        ],
        [
         "DLR0036",
         "Chrysler Europe Motors",
         252
        ],
        [
         "DLR0149",
         "Panoz Motors",
         253
        ],
        [
         "DLR0145",
         "Opel Motors",
         254
        ],
        [
         "DLR0105",
         "Lamborghini Motors",
         255
        ],
        [
         "DLR0097",
         "Jaguar Motors",
         256
        ],
        [
         "DLR0196",
         "Toyota Motors",
         257
        ],
        [
         "DLR0024",
         "British Leyland Motors",
         258
        ],
        [
         "DLR0241",
         "Colman Automotive Building",
         259
        ],
        [
         "DLR0012",
         "Asia Motors Motors",
         260
        ],
        [
         "DLR0122",
         "Mazda Motors",
         261
        ],
        [
         "DLR0060",
         "Fisker, Karma Motors",
         262
        ],
        [
         "DLR0106",
         "Lancia Motors",
         263
        ],
        [
         "DLR0158",
         "Pontiac, Asüna Motors",
         264
        ],
        [
         "DLR0015",
         "Autobianchi Motors",
         265
        ],
        [
         "DLR0081",
         "Holden Motors",
         266
        ]
       ],
       "datasetInfos": [],
       "dbfsResultPath": null,
       "isJsonSchema": true,
       "metadata": {
        "createTempViewForImplicitDf": true,
        "dataframeName": "_sqldf",
        "executionCount": 18
       },
       "overflow": false,
       "plotOptions": {
        "customPlotOptions": {},
        "displayType": "table",
        "pivotAggregation": null,
        "pivotColumns": null,
        "xColumns": null,
        "yColumns": null
       },
       "removedWidgets": [],
       "schema": [
        {
         "metadata": "{}",
         "name": "Dealer_ID",
         "type": "\"string\""
        },
        {
         "metadata": "{}",
         "name": "DealerName",
         "type": "\"string\""
        },
        {
         "metadata": "{}",
         "name": "dim_dealer_key",
         "type": "\"long\""
        }
       ],
       "type": "table"
      }
     },
     "output_type": "display_data"
    }
   ],
   "source": [
    "%sql\n",
    "select * from cars_catalog.gold.dim_dealer"
   ]
  },
  {
   "cell_type": "markdown",
   "metadata": {
    "application/vnd.databricks.v1+cell": {
     "cellMetadata": {},
     "inputWidgets": {},
     "nuid": "d9b36222-bc1f-450a-aabd-f358bf18bcdc",
     "showTitle": false,
     "tableResultSettingsMap": {},
     "title": ""
    }
   },
   "source": []
  }
 ],
 "metadata": {
  "application/vnd.databricks.v1+notebook": {
   "computePreferences": null,
   "dashboards": [],
   "environmentMetadata": {
    "base_environment": "",
    "client": "1"
   },
   "language": "python",
   "notebookMetadata": {
    "mostRecentlyExecutedCommandWithImplicitDF": {
     "commandId": 4174973514510820,
     "dataframes": [
      "_sqldf"
     ]
    },
    "pythonIndentUnit": 4
   },
   "notebookName": "gold_dim_dealer",
   "widgets": {
    "incremental_flag": {
     "currentValue": "0",
     "nuid": "3ba41261-2cb3-4c1e-bdab-dd4f5944bc3e",
     "typedWidgetInfo": {
      "autoCreated": false,
      "defaultValue": "0",
      "label": null,
      "name": "incremental_flag",
      "options": {
       "widgetDisplayType": "Text",
       "validationRegex": null
      },
      "parameterDataType": "String"
     },
     "widgetInfo": {
      "widgetType": "text",
      "defaultValue": "0",
      "label": null,
      "name": "incremental_flag",
      "options": {
       "widgetType": "text",
       "autoCreated": null,
       "validationRegex": null
      }
     }
    }
   }
  },
  "language_info": {
   "name": "python"
  }
 },
 "nbformat": 4,
 "nbformat_minor": 0
}