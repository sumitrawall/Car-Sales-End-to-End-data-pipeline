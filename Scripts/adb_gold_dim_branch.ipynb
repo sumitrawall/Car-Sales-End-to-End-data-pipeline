{
 "cells": [
  {
   "cell_type": "markdown",
   "metadata": {
    "application/vnd.databricks.v1+cell": {
     "cellMetadata": {},
     "inputWidgets": {},
     "nuid": "7e14f0b2-c51b-49f4-aa19-feae73b549a3",
     "showTitle": false,
     "tableResultSettingsMap": {},
     "title": ""
    }
   },
   "source": [
    "#importing libraries"
   ]
  },
  {
   "cell_type": "code",
   "execution_count": 0,
   "metadata": {
    "application/vnd.databricks.v1+cell": {
     "cellMetadata": {
      "byteLimit": 2048000,
      "rowLimit": 10000
     },
     "inputWidgets": {},
     "nuid": "83cfbb91-e1d3-422d-b7db-114107a9ca34",
     "showTitle": false,
     "tableResultSettingsMap": {},
     "title": ""
    }
   },
   "outputs": [],
   "source": [
    "from pyspark.sql.types import *\n",
    "from pyspark.sql.functions import *"
   ]
  },
  {
   "cell_type": "markdown",
   "metadata": {
    "application/vnd.databricks.v1+cell": {
     "cellMetadata": {},
     "inputWidgets": {},
     "nuid": "8ef76983-3acb-4e3c-811a-df3833c1151d",
     "showTitle": false,
     "tableResultSettingsMap": {},
     "title": ""
    }
   },
   "source": [
    "#Create Flag Parameter"
   ]
  },
  {
   "cell_type": "code",
   "execution_count": 0,
   "metadata": {
    "application/vnd.databricks.v1+cell": {
     "cellMetadata": {
      "byteLimit": 2048000,
      "rowLimit": 10000
     },
     "inputWidgets": {},
     "nuid": "7e86f96c-78f0-4cdc-9fc9-dbb2ff72a2fd",
     "showTitle": false,
     "tableResultSettingsMap": {},
     "title": ""
    }
   },
   "outputs": [],
   "source": [
    "dbutils.widgets.text('incremental_flag', '0')"
   ]
  },
  {
   "cell_type": "code",
   "execution_count": 0,
   "metadata": {
    "application/vnd.databricks.v1+cell": {
     "cellMetadata": {
      "byteLimit": 2048000,
      "rowLimit": 10000
     },
     "inputWidgets": {},
     "nuid": "8ca92c73-f592-4114-bb90-79fc4b6daeac",
     "showTitle": false,
     "tableResultSettingsMap": {},
     "title": ""
    }
   },
   "outputs": [
    {
     "output_type": "stream",
     "name": "stdout",
     "output_type": "stream",
     "text": [
      "0\n"
     ]
    }
   ],
   "source": [
    "incremental_flag = dbutils.widgets.get('incremental_flag')\n",
    "print(incremental_flag)"
   ]
  },
  {
   "cell_type": "markdown",
   "metadata": {
    "application/vnd.databricks.v1+cell": {
     "cellMetadata": {},
     "inputWidgets": {},
     "nuid": "d38e0b0b-d967-4d31-b7f7-6bce1455204d",
     "showTitle": false,
     "tableResultSettingsMap": {},
     "title": ""
    }
   },
   "source": [
    "# Creating Dimension Model"
   ]
  },
  {
   "cell_type": "markdown",
   "metadata": {
    "application/vnd.databricks.v1+cell": {
     "cellMetadata": {},
     "inputWidgets": {},
     "nuid": "9e2dfb23-f54c-457c-ad9f-2fedf34f5a43",
     "showTitle": false,
     "tableResultSettingsMap": {},
     "title": ""
    }
   },
   "source": [
    "###Fetch Relative columns"
   ]
  },
  {
   "cell_type": "code",
   "execution_count": 0,
   "metadata": {
    "application/vnd.databricks.v1+cell": {
     "cellMetadata": {
      "byteLimit": 2048000,
      "implicitDf": true,
      "rowLimit": 10000
     },
     "inputWidgets": {},
     "nuid": "c54a6490-580e-4685-af5a-7329e8f33a4c",
     "showTitle": false,
     "tableResultSettingsMap": {},
     "title": ""
    }
   },
   "outputs": [],
   "source": [
    "\n",
    "df_src = spark.sql('''select distinct(Branch_ID) as Branch_ID, BranchName\n",
    "from parquet.`abfss://silver@carsbaggiodatalake.dfs.core.windows.net/carsales`\n",
    "''')"
   ]
  },
  {
   "cell_type": "markdown",
   "metadata": {
    "application/vnd.databricks.v1+cell": {
     "cellMetadata": {},
     "inputWidgets": {},
     "nuid": "c263ad3a-2d2e-4b33-a851-ae3546b859d9",
     "showTitle": false,
     "tableResultSettingsMap": {},
     "title": ""
    }
   },
   "source": [
    "###Dim_model Sink - Initial and Incremental( Bring Schema if Model not exists)"
   ]
  },
  {
   "cell_type": "code",
   "execution_count": 0,
   "metadata": {
    "application/vnd.databricks.v1+cell": {
     "cellMetadata": {
      "byteLimit": 2048000,
      "rowLimit": 10000
     },
     "inputWidgets": {},
     "nuid": "73752e74-dbaa-4eff-93c6-54ffbaf292e5",
     "showTitle": false,
     "tableResultSettingsMap": {},
     "title": ""
    }
   },
   "outputs": [],
   "source": [
    "if spark.catalog.tableExists('cars_catalog.gold.dim_branch') :\n",
    "\n",
    "      df_sink = spark.sql('''SELECT dim_branch_key, Branch_ID, BranchName\n",
    "      FROM cars_catalog.gold.dim_branch\n",
    "     ''')\n",
    "\n",
    "else:\n",
    "       df_sink = spark.sql('''SELECT 1 as dim_branch_key, Branch_ID, BranchName \n",
    "       FROM parquet.`abfss://silver@carsbaggiodatalake.dfs.core.windows.net/carsales`\n",
    "       where 1=0''')\n"
   ]
  },
  {
   "cell_type": "markdown",
   "metadata": {
    "application/vnd.databricks.v1+cell": {
     "cellMetadata": {},
     "inputWidgets": {},
     "nuid": "f52030f5-48e1-421b-a544-7df1747bab81",
     "showTitle": false,
     "tableResultSettingsMap": {},
     "title": ""
    }
   },
   "source": [
    "### Filtering new records and Old records"
   ]
  },
  {
   "cell_type": "code",
   "execution_count": 0,
   "metadata": {
    "application/vnd.databricks.v1+cell": {
     "cellMetadata": {
      "byteLimit": 2048000,
      "rowLimit": 10000
     },
     "inputWidgets": {},
     "nuid": "d0d9d6c7-86a7-488b-8aed-a79cfff47319",
     "showTitle": false,
     "tableResultSettingsMap": {},
     "title": ""
    }
   },
   "outputs": [],
   "source": [
    "df_filter = df_src.join(df_sink, df_src['Branch_ID'] == df_sink['Branch_ID'], 'left').select(df_src['Branch_ID'], df_src['BranchName'], df_sink['dim_branch_key'])"
   ]
  },
  {
   "cell_type": "markdown",
   "metadata": {
    "application/vnd.databricks.v1+cell": {
     "cellMetadata": {},
     "inputWidgets": {},
     "nuid": "b5fc7641-d49b-48cc-8b9a-aefa92cbb9bd",
     "showTitle": false,
     "tableResultSettingsMap": {},
     "title": ""
    }
   },
   "source": [
    "###df_filer_old"
   ]
  },
  {
   "cell_type": "code",
   "execution_count": 0,
   "metadata": {
    "application/vnd.databricks.v1+cell": {
     "cellMetadata": {
      "byteLimit": 2048000,
      "rowLimit": 10000
     },
     "inputWidgets": {},
     "nuid": "1bf227d6-1e2e-45ec-87b4-18264987ed76",
     "showTitle": false,
     "tableResultSettingsMap": {},
     "title": ""
    }
   },
   "outputs": [],
   "source": [
    "df_filter_old = df_filter.filter(col('dim_branch_key').isNotNull())"
   ]
  },
  {
   "cell_type": "markdown",
   "metadata": {
    "application/vnd.databricks.v1+cell": {
     "cellMetadata": {},
     "inputWidgets": {},
     "nuid": "33c5f559-4c0f-456a-887b-436883e2152a",
     "showTitle": false,
     "tableResultSettingsMap": {},
     "title": ""
    }
   },
   "source": [
    "###df_filer_new"
   ]
  },
  {
   "cell_type": "code",
   "execution_count": 0,
   "metadata": {
    "application/vnd.databricks.v1+cell": {
     "cellMetadata": {
      "byteLimit": 2048000,
      "rowLimit": 10000
     },
     "inputWidgets": {},
     "nuid": "70f5f02a-bf8b-4d90-be63-923d869f13d7",
     "showTitle": false,
     "tableResultSettingsMap": {},
     "title": ""
    }
   },
   "outputs": [],
   "source": [
    "df_filter_new = df_filter.filter(col('dim_branch_key').isNull()).select(df_src['Branch_ID'], df_src['BranchName'])"
   ]
  },
  {
   "cell_type": "code",
   "execution_count": 0,
   "metadata": {
    "application/vnd.databricks.v1+cell": {
     "cellMetadata": {
      "byteLimit": 2048000,
      "rowLimit": 10000
     },
     "inputWidgets": {},
     "nuid": "eea595d7-371a-4308-840c-f6fc87dce2b7",
     "showTitle": false,
     "tableResultSettingsMap": {},
     "title": ""
    }
   },
   "outputs": [
    {
     "output_type": "display_data",
     "data": {
      "text/html": [
       "<style scoped>\n",
       "  .table-result-container {\n",
       "    max-height: 300px;\n",
       "    overflow: auto;\n",
       "  }\n",
       "  table, th, td {\n",
       "    border: 1px solid black;\n",
       "    border-collapse: collapse;\n",
       "  }\n",
       "  th, td {\n",
       "    padding: 5px;\n",
       "  }\n",
       "  th {\n",
       "    text-align: left;\n",
       "  }\n",
       "</style><div class='table-result-container'><table class='table-result'><thead style='background-color: white'><tr><th>Branch_ID</th><th>BranchName</th></tr></thead><tbody><tr><td>BR0131</td><td>Audi Motors</td></tr><tr><td>BR0760</td><td>Healey Motors</td></tr><tr><td>BR0789</td><td>Hillman Motors</td></tr><tr><td>BR0938</td><td>Isotta Fraschini Motors</td></tr><tr><td>BR1040</td><td>Lada Motors</td></tr><tr><td>BR1693</td><td>Saleen Motors</td></tr><tr><td>BR1792</td><td>Simca do Brasil Motors</td></tr><tr><td>BR1799</td><td>Simca do Brasil Motors</td></tr><tr><td>BR1955</td><td>Toyota Motors</td></tr><tr><td>BR1978</td><td>Turner Motors</td></tr><tr><td>BR2068</td><td>Westfield Motors</td></tr><tr><td>BR2332</td><td>Bohn Motor Company Automobile Dealership</td></tr><tr><td>BR0151</td><td>Auto-Union Motors</td></tr><tr><td>BR0409</td><td>DAF Motors</td></tr><tr><td>BR0434</td><td>Datsun Motors</td></tr><tr><td>BR0599</td><td>Fisker, Karma Motors</td></tr><tr><td>BR0753</td><td>Healey Motors</td></tr><tr><td>BR1143</td><td>Mahindra Motors</td></tr><tr><td>BR12246</td><td>Volkswagen South Africa Motors</td></tr><tr><td>BR1233</td><td>McLaren Motors</td></tr><tr><td>BR1558</td><td>Plymouth Motors</td></tr><tr><td>BR1795</td><td>Simca do Brasil Motors</td></tr><tr><td>BR1847</td><td>SsangYong Motors</td></tr><tr><td>BR1943</td><td>Tornado Motors</td></tr><tr><td>BR2054</td><td>Volvo Motors</td></tr><tr><td>BR2063</td><td>Westfield Motors</td></tr><tr><td>BR0019</td><td>Acura Motors</td></tr><tr><td>BR0145</td><td>Autobianchi Motors</td></tr><tr><td>BR0913</td><td>Isdera Motors</td></tr><tr><td>BR1340</td><td>Monteverdi Motors</td></tr><tr><td>BR1630</td><td>Ranger Motors</td></tr><tr><td>BR1865</td><td>Studebaker Motors</td></tr><tr><td>BR2139</td><td>Horch Motors</td></tr><tr><td>BR0274</td><td>Buick Motors</td></tr><tr><td>BR0308</td><td>Caterham Motors</td></tr><tr><td>BR0399</td><td>Daewoo, Saehan, Chevrolet Korea Motors</td></tr><tr><td>BR0471</td><td>De Tomaso Motors</td></tr><tr><td>BR0731</td><td>GTA Spano Motors</td></tr><tr><td>BR0759</td><td>Healey Motors</td></tr><tr><td>BR1383</td><td>Nissan Motors</td></tr><tr><td>BR1664</td><td>Rolls-Royce Motors</td></tr><tr><td>BR1769</td><td>Seat Motors</td></tr><tr><td>BR2262</td><td>Ramani Motors</td></tr><tr><td>BR2352</td><td>Cadillac Automobile Company Building</td></tr><tr><td>BR0114</td><td>Asia Motors Motors</td></tr><tr><td>BR0462</td><td>DeSoto Motors</td></tr><tr><td>BR0699</td><td>Gilbern Motors</td></tr><tr><td>BR0793</td><td>Hindustan Motors</td></tr><tr><td>BR1479</td><td>Panhard Motors</td></tr><tr><td>BR2275</td><td>Deccan Motors</td></tr><tr><td>BR0138</td><td>Audi Motors</td></tr><tr><td>BR0202</td><td>Bond Motors</td></tr><tr><td>BR0700</td><td>Gilbern Motors</td></tr><tr><td>BR0988</td><td>Jensen Motors</td></tr><tr><td>BR9246</td><td>Piaggio Motors</td></tr><tr><td>BR0095</td><td>ARO Motors</td></tr><tr><td>BR0351</td><td>Chrysler Europe Motors</td></tr><tr><td>BR0368</td><td>Citroën Motors</td></tr><tr><td>BR0614</td><td>Ford Australia Motors</td></tr><tr><td>BR1248</td><td>Mercedes-Benz (including Maybach) Motors</td></tr><tr><td>BR1884</td><td>Sunbeam Motors</td></tr><tr><td>BR2035</td><td>Volkswagen do Brasil Motors</td></tr><tr><td>BR0070</td><td>AMC, Eagle Motors</td></tr><tr><td>BR0251</td><td>Austin, Rover Motors</td></tr><tr><td>BR0262</td><td>Bugatti Motors</td></tr><tr><td>BR1243</td><td>Mercedes-Benz (including Maybach) Motors</td></tr><tr><td>BR1289</td><td>Mia Motors</td></tr><tr><td>BR1405</td><td>Noble Motors</td></tr><tr><td>BR2033</td><td>Volkswagen do Brasil Motors</td></tr><tr><td>BR2329</td><td>Blankinship Motor Company Building</td></tr><tr><td>BR2385</td><td>Claremore Auto Dealership</td></tr><tr><td>BR0130</td><td>Aston Martin Motors</td></tr><tr><td>BR0891</td><td>Innocenti Motors</td></tr><tr><td>BR1177</td><td>Maruti Motors</td></tr><tr><td>BR1321</td><td>Monica Motors</td></tr><tr><td>BR13626</td><td>Deccan Motors</td></tr><tr><td>BR0064</td><td>AMC, Eagle Motors</td></tr><tr><td>BR0673</td><td>GAZ Motors</td></tr><tr><td>BR0685</td><td>Geo Motors</td></tr><tr><td>BR0718</td><td>Glas Motors</td></tr><tr><td>BR1298</td><td>Micro Motors</td></tr><tr><td>BR1300</td><td>Micro Motors</td></tr><tr><td>BR1347</td><td>Morgan Motors</td></tr><tr><td>BR1373</td><td>Naza Motors</td></tr><tr><td>BR2337</td><td>Bohn Motor Company Automobile Dealership</td></tr><tr><td>BR0231</td><td>British Leyland Motors</td></tr><tr><td>BR0895</td><td>Innocenti Motors</td></tr><tr><td>BR1228</td><td>Mazzanti Motors</td></tr><tr><td>BR1617</td><td>Puma Motors</td></tr><tr><td>BR1637</td><td>Reliant Motors</td></tr><tr><td>BR1680</td><td>Saab Motors</td></tr><tr><td>BR1821</td><td>Smart Motors</td></tr><tr><td>BR1940</td><td>Tesla Motors</td></tr><tr><td>BR2391</td><td>Clemens Automobile Company Building</td></tr><tr><td>BR2467</td><td>Kindel Building</td></tr><tr><td>BR3186</td><td>Elva Motors</td></tr><tr><td>BR5466</td><td>Isdera Motors</td></tr><tr><td>BR9126</td><td>Peugeot Motors</td></tr><tr><td>BR0104</td><td>Artega Motors</td></tr><tr><td>BR0354</td><td>Chrysler Europe Motors</td></tr><tr><td>BR0494</td><td>Donkervoort Motors</td></tr><tr><td>BR0528</td><td>Eicher Polaris Motors</td></tr><tr><td>BR1074</td><td>Lexus Motors</td></tr><tr><td>BR1503</td><td>Peel Motors</td></tr><tr><td>BR1718</td><td>San Motors</td></tr><tr><td>BR1864</td><td>Studebaker Motors</td></tr><tr><td>BR1993</td><td>UAZ Motors</td></tr><tr><td>BR2217</td><td>Riley  Motors</td></tr><tr><td>BR0682</td><td>Geo Motors</td></tr><tr><td>BR0905</td><td>Invicta Motors</td></tr><tr><td>BR10686</td><td>Simca Motors</td></tr><tr><td>BR1325</td><td>Monica Motors</td></tr><tr><td>BR1568</td><td>Polestar Motors</td></tr><tr><td>BR1822</td><td>Smart Motors</td></tr><tr><td>BR2154</td><td>Maybach  Motors</td></tr><tr><td>BR0011</td><td>Acura Motors</td></tr><tr><td>BR0115</td><td>Asia Motors Motors</td></tr><tr><td>BR0223</td><td>Bristol Motors</td></tr><tr><td>BR0490</td><td>Dodge Motors</td></tr><tr><td>BR0625</td><td>Ford do Brasil Motors</td></tr><tr><td>BR1111</td><td>LTI Motors</td></tr><tr><td>BR1829</td><td>Smart Motors</td></tr><tr><td>BR2277</td><td>Deccan Motors</td></tr><tr><td>BR2369</td><td>Casa de cadillac</td></tr><tr><td>BR6066</td><td>Koenigsegg Motors</td></tr><tr><td>BR0512</td><td>e.GO Mobile Motors</td></tr><tr><td>BR0584</td><td>Fiat India Motors</td></tr><tr><td>BR1691</td><td>Saleen Motors</td></tr><tr><td>BR1845</td><td>SsangYong Motors</td></tr><tr><td>BR1932</td><td>Tesla Motors</td></tr><tr><td>BR0360</td><td>Chrysler Europe Motors</td></tr><tr><td>BR0388</td><td>Dacia Motors</td></tr><tr><td>BR0486</td><td>Ariel Motors</td></tr><tr><td>BR0811</td><td>Honda Motors</td></tr><tr><td>BR1105</td><td>Lotus Motors</td></tr><tr><td>BR1762</td><td>Seat Motors</td></tr><tr><td>BR1768</td><td>Seat Motors</td></tr><tr><td>BR1960</td><td>Toyota Motors</td></tr><tr><td>BR2322</td><td>Blankinship Motor Company Building</td></tr><tr><td>BR2412</td><td>H Street Playhouse</td></tr><tr><td>BR2440</td><td>Hupmobile Building</td></tr><tr><td>BR0058</td><td>Alvis Motors</td></tr><tr><td>BR0447</td><td>Delahaye Motors</td></tr><tr><td>BR0479</td><td>De Tomaso Motors</td></tr><tr><td>BR0501</td><td>Edsel Motors</td></tr><tr><td>BR0919</td><td>Isdera Motors</td></tr><tr><td>BR1152</td><td>Marcos Motors</td></tr><tr><td>BR2289</td><td>Herald Motors</td></tr><tr><td>BR9426</td><td>Pontiac, Asüna Motors</td></tr><tr><td>BR0027</td><td>Aixam-Mega (including Arola) Motors</td></tr><tr><td>BR0411</td><td>Daihatsu Motors</td></tr><tr><td>BR1140</td><td>Lynx Motors</td></tr><tr><td>BR2087</td><td>Zastava Motors</td></tr><tr><td>BR2155</td><td>Maybach  Motors</td></tr><tr><td>BR2233</td><td>Standard  Motors</td></tr><tr><td>BR5406</td><td>Invicta Motors</td></tr><tr><td>BR0463</td><td>DeSoto Motors</td></tr><tr><td>BR0606</td><td>Artega Motors</td></tr><tr><td>BR0662</td><td>FSO Motors</td></tr><tr><td>BR1180</td><td>Maruti Motors</td></tr><tr><td>BR1380</td><td>Naza Motors</td></tr><tr><td>BR13986</td><td>Bohn Motor Company Automobile Dealership</td></tr><tr><td>BR1553</td><td>Plymouth Motors</td></tr><tr><td>BR1789</td><td>Simca Motors</td></tr><tr><td>BR1957</td><td>Toyota Motors</td></tr><tr><td>BR2025</td><td>Volkswagen Motors</td></tr><tr><td>BR2100</td><td>ZAZ Motors</td></tr><tr><td>BR2378</td><td>Cass Motor Sales</td></tr><tr><td>BR0089</td><td>Ariel Motors</td></tr><tr><td>BR0608</td><td>Ford America Motors</td></tr><tr><td>BR0941</td><td>Isuzu Motors</td></tr><tr><td>BR1273</td><td>Messerschmitt Motors</td></tr><tr><td>BR1860</td><td>Standard-Triumph Motors</td></tr><tr><td>BR1888</td><td>Sunbeam Motors</td></tr><tr><td>BR2142</td><td>Wanderer Motors</td></tr><tr><td>BR2319</td><td>2008 NRHP-listed</td></tr><tr><td>BR0264</td><td>Bugatti Motors</td></tr><tr><td>BR0498</td><td>Donkervoort Motors</td></tr><tr><td>BR0829</td><td>Honda India Motors</td></tr><tr><td>BR0890</td><td>Infiniti Motors</td></tr><tr><td>BR1044</td><td>Lamborghini Motors</td></tr><tr><td>BR13746</td><td>Zion Automobils</td></tr><tr><td>BR1398</td><td>Nissan India Motors</td></tr><tr><td>BR1877</td><td>Subaru Motors</td></tr><tr><td>BR1927</td><td>Tazzari Motors</td></tr><tr><td>BR2410</td><td>Colman Automotive Building</td></tr><tr><td>BR0534</td><td>Elva Motors</td></tr><tr><td>BR1442</td><td>Opel Motors</td></tr><tr><td>BR1722</td><td>Santa Matilde Motors</td></tr><tr><td>BR1990</td><td>TVR Motors</td></tr><tr><td>BR2070</td><td>Westfield Motors</td></tr><tr><td>BR2204</td><td>Austin  Motors</td></tr><tr><td>BR0204</td><td>Bond Motors</td></tr><tr><td>BR0717</td><td>Glas Motors</td></tr><tr><td>BR0947</td><td>Isuzu Motors</td></tr><tr><td>BR0983</td><td>Jensen Motors</td></tr><tr><td>BR1003</td><td>Kia Motors</td></tr><tr><td>BR11706</td><td>Toyota Motors</td></tr><tr><td>BR1232</td><td>McLaren Motors</td></tr><tr><td>BR1688</td><td>SAIC Motor Motors</td></tr><tr><td>BR1809</td><td>Singer Motors</td></tr><tr><td>BR1968</td><td>Toyota India Motors</td></tr><tr><td>BR2018</td><td>Venturi Motors</td></tr><tr><td>BR2022</td><td>Volkswagen Motors</td></tr><tr><td>BR2226</td><td>Cizeta-Moroder Motors</td></tr><tr><td>BR0235</td><td>British Leyland Motors</td></tr><tr><td>BR0634</td><td>Ford Europe Motors</td></tr><tr><td>BR0889</td><td>Infiniti Motors</td></tr><tr><td>BR1318</td><td>Mitsubishi Motors</td></tr><tr><td>BR1626</td><td>Buick Motors</td></tr><tr><td>BR2267</td><td>Ramani Motors</td></tr><tr><td>BR0591</td><td>Fisker, Karma Motors</td></tr><tr><td>BR0642</td><td>Ford India Motors</td></tr><tr><td>BR0930</td><td>Iso Motors</td></tr><tr><td>BR1027</td><td>KTM Motors</td></tr><tr><td>BR1065</td><td>Land Rover Motors</td></tr><tr><td>BR1382</td><td>Nissan Motors</td></tr><tr><td>BR1749</td><td>Saturn Motors</td></tr><tr><td>BR2433</td><td>Hupmobile Building</td></tr><tr><td>BR8406</td><td>Noble Motors</td></tr><tr><td>BR0040</td><td>Alfa Romeo Motors</td></tr><tr><td>BR0218</td><td>Borgward (including Goliath and Lloyd) Motors</td></tr><tr><td>BR0337</td><td>Chevrolet India Motors</td></tr><tr><td>BR1162</td><td>Marlin Motors</td></tr><tr><td>BR0082</td><td>Ariel Motors</td></tr><tr><td>BR0164</td><td>Auverland Motors</td></tr><tr><td>BR0598</td><td>Fisker, Karma Motors</td></tr><tr><td>BR0735</td><td>GTA Spano Motors</td></tr><tr><td>BR1063</td><td>Land Rover Motors</td></tr><tr><td>BR1579</td><td>Pontiac, Asüna Motors</td></tr><tr><td>BR2149</td><td>Wanderer Motors</td></tr><tr><td>BR2168</td><td>Izh  Motors</td></tr><tr><td>BR0279</td><td>Buick Motors</td></tr><tr><td>BR0884</td><td>Infiniti Motors</td></tr><tr><td>BR1048</td><td>Lamborghini Motors</td></tr><tr><td>BR1094</td><td>Lincoln Motors</td></tr><tr><td>BR1292</td><td>Micro Motors</td></tr><tr><td>BR1323</td><td>Monica Motors</td></tr><tr><td>BR1395</td><td>Nissan India Motors</td></tr><tr><td>BR1424</td><td>Oldsmobile Motors</td></tr><tr><td>BR1477</td><td>Panhard Motors</td></tr><tr><td>BR1670</td><td>Rolls-Royce Motors</td></tr><tr><td>BR1708</td><td>Samsung Motors</td></tr><tr><td>BR2039</td><td>Volkswagen do Brasil Motors</td></tr><tr><td>BR2404</td><td>Colman Automotive Building</td></tr><tr><td>BR0270</td><td>Bugatti Motors</td></tr><tr><td>BR0275</td><td>Buick Motors</td></tr><tr><td>BR0378</td><td>Cizeta-Moroder Motors</td></tr><tr><td>BR0405</td><td>DAF Motors</td></tr><tr><td>BR0592</td><td>Fisker, Karma Motors</td></tr><tr><td>BR0881</td><td>Infiniti Motors</td></tr><tr><td>BR0963</td><td>Jaguar Motors</td></tr><tr><td>BR1320</td><td>Mitsubishi Motors</td></tr><tr><td>BR1531</td><td>PGO Motors</td></tr><tr><td>BR1612</td><td>Puma Motors</td></tr><tr><td>BR1873</td><td>Subaru Motors</td></tr><tr><td>BR2077</td><td>Wiesmann Motors</td></tr><tr><td>BR2143</td><td>Wanderer Motors</td></tr><tr><td>BR2223</td><td>Wolseley  Motors</td></tr><tr><td>BR0509</td><td>Edsel Motors</td></tr><tr><td>BR1267</td><td>Merkur Motors</td></tr><tr><td>BR2225</td><td>Wolseley  Motors</td></tr><tr><td>BR0168</td><td>Auverland Motors</td></tr><tr><td>BR0318</td><td>Checker Motors</td></tr><tr><td>BR0362</td><td>Citroën Motors</td></tr><tr><td>BR0562</td><td>Fiat Motors</td></tr><tr><td>BR0738</td><td>GTA Spano Motors</td></tr><tr><td>BR0805</td><td>Holden Motors</td></tr><tr><td>BR0934</td><td>Isotta Fraschini Motors</td></tr><tr><td>BR1051</td><td>Lancia Motors</td></tr><tr><td>BR11466</td><td>Tatra Motors</td></tr><tr><td>BR1192</td><td>Mastretta Motors</td></tr><tr><td>BR1746</td><td>Cadillac Motors</td></tr><tr><td>BR1830</td><td>Smart Motors</td></tr><tr><td>BR2297</td><td>Zion Automobils</td></tr><tr><td>BR8046</td><td>Morgan Motors</td></tr><tr><td>BR0037</td><td>Alfa Romeo Motors</td></tr><tr><td>BR0268</td><td>Bugatti Motors</td></tr><tr><td>BR0367</td><td>Citroën Motors</td></tr><tr><td>BR1212</td><td>Mazda Motors</td></tr><tr><td>BR13806</td><td>Atlantic Motor Company</td></tr><tr><td>BR1491</td><td>Panther Motors</td></tr><tr><td>BR1750</td><td>Saturn Motors</td></tr><tr><td>BR1820</td><td>Skoda Motors</td></tr><tr><td>BR2037</td><td>Volkswagen do Brasil Motors</td></tr><tr><td>BR2248</td><td>Talbot  Motors</td></tr><tr><td>BR2280</td><td>Deccan Motors</td></tr><tr><td>BR7926</td><td>Monica Motors</td></tr><tr><td>BR1149</td><td>Mahindra Motors</td></tr><tr><td>BR1449</td><td>Opel Motors</td></tr><tr><td>BR6786</td><td>Lynx Motors</td></tr><tr><td>BR0059</td><td>Alvis Motors</td></tr><tr><td>BR0497</td><td>Donkervoort Motors</td></tr><tr><td>BR0561</td><td>Fiat Motors</td></tr><tr><td>BR0933</td><td>Isotta Fraschini Motors</td></tr><tr><td>BR1164</td><td>Marlin Motors</td></tr><tr><td>BR11946</td><td>UAZ Motors</td></tr><tr><td>BR1399</td><td>Nissan India Motors</td></tr><tr><td>BR1414</td><td>NSU Motors</td></tr><tr><td>BR1935</td><td>Tesla Motors</td></tr><tr><td>BR2210</td><td>Austin  Motors</td></tr><tr><td>BR3306</td><td>Ferrari Motors</td></tr><tr><td>BR3546</td><td>Fisker, Karma Motors</td></tr><tr><td>BR0075</td><td>Anadol Motors</td></tr><tr><td>BR0135</td><td>Audi Motors</td></tr><tr><td>BR0163</td><td>Auverland Motors</td></tr><tr><td>BR0491</td><td>Donkervoort Motors</td></tr><tr><td>BR0647</td><td>Ford India Motors</td></tr><tr><td>BR0765</td><td>Heinkel Motors</td></tr><tr><td>BR10206</td><td>Samsung Motors</td></tr><tr><td>BR1353</td><td>Moskwitch Motors</td></tr><tr><td>BR1561</td><td>Polestar Motors</td></tr><tr><td>BR1828</td><td>Smart Motors</td></tr><tr><td>BR2062</td><td>Westfield Motors</td></tr><tr><td>BR2084</td><td>Zastava Motors</td></tr><tr><td>BR2383</td><td>Claremore Auto Dealership</td></tr><tr><td>BR0451</td><td>DeLorean Motors</td></tr><tr><td>BR0701</td><td>Ginetta Motors</td></tr><tr><td>BR0786</td><td>Audi Motors</td></tr><tr><td>BR1293</td><td>Micro Motors</td></tr><tr><td>BR2191</td><td>Morris  Motors</td></tr><tr><td>BR4146</td><td>Gilbern Motors</td></tr><tr><td>BR0285</td><td>Bytom Motors</td></tr><tr><td>BR0525</td><td>Eicher Polaris Motors</td></tr><tr><td>BR0714</td><td>Glas Motors</td></tr><tr><td>BR1452</td><td>Packard Motors</td></tr><tr><td>BR1660</td><td>Rivian Motors</td></tr><tr><td>BR2244</td><td>Talbot  Motors</td></tr><tr><td>BR5646</td><td>Isuzu Motors</td></tr><tr><td>BR0575</td><td>Fiat do Brasil Motors</td></tr><tr><td>BR0803</td><td>Holden Motors</td></tr><tr><td>BR1195</td><td>Mastretta Motors</td></tr><tr><td>BR1279</td><td>Messerschmitt Motors</td></tr><tr><td>BR1844</td><td>SsangYong Motors</td></tr><tr><td>BR2221</td><td>Wolseley  Motors</td></tr><tr><td>BR0553</td><td>Ferrari Motors</td></tr><tr><td>BR0579</td><td>Fiat do Brasil Motors</td></tr><tr><td>BR0841</td><td>Humber Motors</td></tr><tr><td>BR1045</td><td>Lamborghini Motors</td></tr><tr><td>BR1112</td><td>LTI Motors</td></tr><tr><td>BR12186</td><td>Volkswagen do Brasil Motors</td></tr><tr><td>BR12366</td><td>Westfield Motors</td></tr><tr><td>BR1460</td><td>Packard Motors</td></tr><tr><td>BR1597</td><td>Premier Motors</td></tr><tr><td>BR2192</td><td>Morris  Motors</td></tr><tr><td>BR0158</td><td>Auto-Union Motors</td></tr><tr><td>BR0243</td><td>Austin-Healey Motors</td></tr><tr><td>BR0298</td><td>Cadillac Motors</td></tr><tr><td>BR0771</td><td>Hennessey Motors</td></tr><tr><td>BR0857</td><td>Hummer Motors</td></tr><tr><td>BR1155</td><td>Marcos Motors</td></tr><tr><td>BR12786</td><td>Horch Motors</td></tr><tr><td>BR12966</td><td>Izh  Motors</td></tr><tr><td>BR2185</td><td>MG  Motors</td></tr><tr><td>BR7446</td><td>Mercedes-Benz (including Maybach) Motors</td></tr><tr><td>BR0172</td><td>Bentley Motors</td></tr><tr><td>BR0392</td><td>Daewoo, Saehan, Chevrolet Korea Motors</td></tr><tr><td>BR0943</td><td>Isuzu Motors</td></tr><tr><td>BR1047</td><td>Lamborghini Motors</td></tr><tr><td>BR14706</td><td>Jones Motor Company</td></tr><tr><td>BR1598</td><td>Premier Motors</td></tr><tr><td>BR1755</td><td>Scion Motors</td></tr><tr><td>BR2005</td><td>Vauxhall Motors</td></tr><tr><td>BR2188</td><td>MG  Motors</td></tr><tr><td>BR0017</td><td>Acura Motors</td></tr><tr><td>BR0651</td><td>Freightliner Motors</td></tr><tr><td>BR0900</td><td>Innocenti Motors</td></tr><tr><td>BR1288</td><td>Mia Motors</td></tr><tr><td>BR1330</td><td>Monica Motors</td></tr><tr><td>BR1390</td><td>Nissan Motors</td></tr><tr><td>BR1862</td><td>Studebaker Motors</td></tr><tr><td>BR1871</td><td>Subaru Motors</td></tr><tr><td>BR1939</td><td>Tesla Motors</td></tr><tr><td>BR1951</td><td>Toyota Motors</td></tr><tr><td>BR2083</td><td>Zastava Motors</td></tr><tr><td>BR2415</td><td>H Street Playhouse</td></tr><tr><td>BR4086</td><td>Geo Motors</td></tr><tr><td>BR0708</td><td>Ginetta Motors</td></tr><tr><td>BR0801</td><td>Holden Motors</td></tr><tr><td>BR1220</td><td>Mazda Motors</td></tr><tr><td>BR1369</td><td>Nash Motors</td></tr><tr><td>BR1384</td><td>Nissan Motors</td></tr><tr><td>BR1464</td><td>Pagani Motors</td></tr><tr><td>BR1778</td><td>Shelby SuperCars Motors</td></tr><tr><td>BR2097</td><td>ZAZ Motors</td></tr><tr><td>BR1438</td><td>Oltcit Motors</td></tr><tr><td>BR1461</td><td>Pagani Motors</td></tr><tr><td>BR1771</td><td>Shelby SuperCars Motors</td></tr><tr><td>BR2445</td><td>Jennings Ford Automobile Dealership</td></tr><tr><td>BR2449</td><td>Jennings Ford Automobile Dealership</td></tr><tr><td>BR2706</td><td>DeLorean Motors</td></tr><tr><td>BR0347</td><td>Chrysler Motors</td></tr><tr><td>BR0353</td><td>Chrysler Europe Motors</td></tr><tr><td>BR0604</td><td>Ford America Motors</td></tr><tr><td>BR0770</td><td>Heinkel Motors</td></tr><tr><td>BR1632</td><td>Reliant Motors</td></tr><tr><td>BR2420</td><td>H Street Playhouse</td></tr><tr><td>BR4986</td><td>Hudson Motors</td></tr><tr><td>BR0980</td><td>Jeep Motors</td></tr><tr><td>BR1861</td><td>Studebaker Motors</td></tr><tr><td>BR1991</td><td>UAZ Motors</td></tr><tr><td>BR2308</td><td>Atlantic Motor Company</td></tr><tr><td>BR2452</td><td>Jones Motor Company</td></tr><tr><td>BR6486</td><td>Ligier Motors</td></tr><tr><td>BR0225</td><td>Bristol Motors</td></tr><tr><td>BR0269</td><td>Bugatti Motors</td></tr><tr><td>BR0300</td><td>Cadillac Motors</td></tr><tr><td>BR0415</td><td>Daihatsu Motors</td></tr><tr><td>BR0732</td><td>GTA Spano Motors</td></tr><tr><td>BR0927</td><td>Iso Motors</td></tr><tr><td>BR1608</td><td>Proton Motors</td></tr><tr><td>BR1913</td><td>Tatra Motors</td></tr><tr><td>BR1917</td><td>Tatra Motors</td></tr><tr><td>BR2047</td><td>Volkswagen South Africa Motors</td></tr><tr><td>BR2179</td><td>Lagonda  Motors</td></tr><tr><td>BR2237</td><td>Standard  Motors</td></tr><tr><td>BR2946</td><td>Donkervoort Motors</td></tr><tr><td>BR0001</td><td>AC Cars Motors</td></tr><tr><td>BR0018</td><td>Acura Motors</td></tr><tr><td>BR0304</td><td>Caterham Motors</td></tr><tr><td>BR0407</td><td>DAF Motors</td></tr><tr><td>BR0960</td><td>Iveco Motors</td></tr><tr><td>BR0989</td><td>Jensen Motors</td></tr><tr><td>BR10326</td><td>Santa Matilde Motors</td></tr><tr><td>BR1418</td><td>NSU Motors</td></tr><tr><td>BR1600</td><td>Premier Motors</td></tr><tr><td>BR1757</td><td>Scion Motors</td></tr><tr><td>BR1931</td><td>Tesla Motors</td></tr><tr><td>BR2072</td><td>Wiesmann Motors</td></tr><tr><td>BR2117</td><td>Audi Motors</td></tr><tr><td>BR7746</td><td>Micro Motors</td></tr><tr><td>BR0013</td><td>Acura Motors</td></tr><tr><td>BR0182</td><td>Bitter Motors</td></tr><tr><td>BR0219</td><td>Borgward (including Goliath and Lloyd) Motors</td></tr><tr><td>BR0252</td><td>Austin, Rover Motors</td></tr><tr><td>BR0363</td><td>Citroën Motors</td></tr><tr><td>BR0792</td><td>Hindustan Motors</td></tr><tr><td>BR0877</td><td>IFA (including Trabant, Wartburg, Barkas) Motors</td></tr><tr><td>BR0888</td><td>Infiniti Motors</td></tr><tr><td>BR0972</td><td>Jeep Motors</td></tr><tr><td>BR12006</td><td>Vauxhall Motors</td></tr><tr><td>BR1547</td><td>Piaggio Motors</td></tr><tr><td>BR2061</td><td>Westfield Motors</td></tr><tr><td>BR2158</td><td>Maybach  Motors</td></tr><tr><td>BR2252</td><td>Das Motors</td></tr><tr><td>BR2377</td><td>Cass Motor Sales</td></tr><tr><td>BR0505</td><td>Edsel Motors</td></tr><tr><td>BR10986</td><td>Spyker Motors</td></tr><tr><td>BR1351</td><td>Moskwitch Motors</td></tr><tr><td>BR1549</td><td>Piaggio Motors</td></tr><tr><td>BR1604</td><td>Proton Motors</td></tr><tr><td>BR1677</td><td>Saab Motors</td></tr><tr><td>BR1840</td><td>Spyker Motors</td></tr><tr><td>BR1863</td><td>Studebaker Motors</td></tr><tr><td>BR1919</td><td>Tatra Motors</td></tr><tr><td>BR2147</td><td>Wanderer Motors</td></tr><tr><td>BR2160</td><td>Maybach  Motors</td></tr><tr><td>BR2293</td><td>Zion Automobils</td></tr><tr><td>BR2406</td><td>DAF Motors</td></tr><tr><td>BR8106</td><td>Moskwitch Motors</td></tr><tr><td>BR0531</td><td>Elva Motors</td></tr><tr><td>BR0691</td><td>Gilbern Motors</td></tr><tr><td>BR0828</td><td>Honda India Motors</td></tr><tr><td>BR10566</td><td>Seat Motors</td></tr><tr><td>BR1067</td><td>Land Rover Motors</td></tr><tr><td>BR1812</td><td>Skoda Motors</td></tr><tr><td>BR1910</td><td>Tata Motors</td></tr><tr><td>BR2291</td><td>Zion Automobils</td></tr><tr><td>BR7866</td><td>Mitsubishi Motors</td></tr><tr><td>BR1270</td><td>Merkur Motors</td></tr><tr><td>BR13926</td><td>Blankinship Motor Company Building</td></tr><tr><td>BR1984</td><td>TVR Motors</td></tr><tr><td>BR2050</td><td>Volkswagen South Africa Motors</td></tr><tr><td>BR2213</td><td>Riley  Motors</td></tr><tr><td>BR2360</td><td>Cadillac Automobile Company Building</td></tr><tr><td>BR2646</td><td>Delahaye Motors</td></tr><tr><td>BR5046</td><td>Humber Motors</td></tr><tr><td>BR0065</td><td>AMC, Eagle Motors</td></tr><tr><td>BR0313</td><td>Checker Motors</td></tr><tr><td>BR0393</td><td>Daewoo, Saehan, Chevrolet Korea Motors</td></tr><tr><td>BR0802</td><td>Holden Motors</td></tr><tr><td>BR1413</td><td>NSU Motors</td></tr><tr><td>BR1681</td><td>SAIC Motor Motors</td></tr><tr><td>BR1735</td><td>Santana Motors</td></tr><tr><td>BR1752</td><td>Scion Motors</td></tr><tr><td>BR2064</td><td>Westfield Motors</td></tr><tr><td>BR2125</td><td>DKW Motors</td></tr><tr><td>BR0189</td><td>Bitter Motors</td></tr><tr><td>BR0513</td><td>e.GO Mobile Motors</td></tr><tr><td>BR0544</td><td>Facel Vega Motors</td></tr><tr><td>BR0775</td><td>Hennessey Motors</td></tr><tr><td>BR1445</td><td>Opel Motors</td></tr><tr><td>BR1654</td><td>Rivian Motors</td></tr><tr><td>BR1743</td><td>Saturn Motors</td></tr><tr><td>BR2046</td><td>Chrysler Motors</td></tr><tr><td>BR2138</td><td>Horch Motors</td></tr><tr><td>BR0006</td><td>AC Cars Motors</td></tr><tr><td>BR0139</td><td>Audi Motors</td></tr><tr><td>BR0649</td><td>Ford India Motors</td></tr><tr><td>BR1050</td><td>Lamborghini Motors</td></tr><tr><td>BR1071</td><td>Lexus Motors</td></tr><tr><td>BR12486</td><td>Zastava Motors</td></tr><tr><td>BR1307</td><td>Mini Motors</td></tr><tr><td>BR1661</td><td>Rolls-Royce Motors</td></tr><tr><td>BR1832</td><td>Spyker Motors</td></tr><tr><td>BR1934</td><td>Tesla Motors</td></tr><tr><td>BR2065</td><td>Westfield Motors</td></tr><tr><td>BR2129</td><td>DKW Motors</td></tr><tr><td>BR2441</td><td>Jennings Ford Automobile Dealership</td></tr><tr><td>BR0153</td><td>Auto-Union Motors</td></tr><tr><td>BR0968</td><td>Jaguar Motors</td></tr><tr><td>BR11586</td><td>Tesla Motors</td></tr><tr><td>BR1255</td><td>Mercury Motors</td></tr><tr><td>BR1402</td><td>Noble Motors</td></tr><tr><td>BR1965</td><td>Toyota India Motors</td></tr><tr><td>BR1969</td><td>Toyota India Motors</td></tr><tr><td>BR2085</td><td>Zastava Motors</td></tr><tr><td>BR2288</td><td>Herald Motors</td></tr><tr><td>BR5706</td><td>Iveco Motors</td></tr><tr><td>BR0461</td><td>DeSoto Motors</td></tr><tr><td>BR0568</td><td>Fiat Motors</td></tr><tr><td>BR0666</td><td>Asia Motors Motors</td></tr><tr><td>BR0773</td><td>Hennessey Motors</td></tr><tr><td>BR0852</td><td>Hummer Motors</td></tr><tr><td>BR1322</td><td>Monica Motors</td></tr><tr><td>BR0032</td><td>Alfa Romeo Motors</td></tr><tr><td>BR0212</td><td>Borgward (including Goliath and Lloyd) Motors</td></tr><tr><td>BR0728</td><td>GMC Motors</td></tr><tr><td>BR0861</td><td>Hyundai Motors</td></tr><tr><td>BR0868</td><td>Hyundai Motors</td></tr><tr><td>BR0966</td><td>Auverland Motors</td></tr><tr><td>BR1182</td><td>Maserati Motors</td></tr><tr><td>BR0762</td><td>Heinkel Motors</td></tr><tr><td>BR13506</td><td>Das Motors</td></tr><tr><td>BR14586</td><td>Hupmobile Building</td></tr><tr><td>BR1628</td><td>Ranger Motors</td></tr><tr><td>BR1658</td><td>Rivian Motors</td></tr><tr><td>BR1711</td><td>San Motors</td></tr><tr><td>BR1763</td><td>Seat Motors</td></tr><tr><td>BR1989</td><td>TVR Motors</td></tr><tr><td>BR2468</td><td>Kindel Building</td></tr><tr><td>BR0031</td><td>Alfa Romeo Motors</td></tr><tr><td>BR0121</td><td>Aston Martin Motors</td></tr><tr><td>BR0171</td><td>Bentley Motors</td></tr><tr><td>BR0500</td><td>Donkervoort Motors</td></tr><tr><td>BR0638</td><td>Ford Europe Motors</td></tr><tr><td>BR0650</td><td>Ford India Motors</td></tr><tr><td>BR1017</td><td>Koenigsegg Motors</td></tr><tr><td>BR10746</td><td>Simca do Brasil Motors</td></tr><tr><td>BR1263</td><td>Merkur Motors</td></tr><tr><td>BR1403</td><td>Noble Motors</td></tr><tr><td>BR1947</td><td>Tornado Motors</td></tr><tr><td>BR2447</td><td>Jennings Ford Automobile Dealership</td></tr><tr><td>BR3246</td><td>Facel Vega Motors</td></tr><tr><td>BR0169</td><td>Auverland Motors</td></tr><tr><td>BR0517</td><td>e.GO Mobile Motors</td></tr><tr><td>BR0911</td><td>Isdera Motors</td></tr><tr><td>BR1197</td><td>Mastretta Motors</td></tr><tr><td>BR1525</td><td>Peugeot Motors</td></tr><tr><td>BR1529</td><td>Peugeot Motors</td></tr><tr><td>BR1564</td><td>Polestar Motors</td></tr><tr><td>BR1577</td><td>Pontiac, Asüna Motors</td></tr><tr><td>BR1592</td><td>Premier Motors</td></tr><tr><td>BR1855</td><td>Standard-Triumph Motors</td></tr><tr><td>BR2150</td><td>Wanderer Motors</td></tr><tr><td>BR0315</td><td>Checker Motors</td></tr><tr><td>BR0408</td><td>DAF Motors</td></tr><tr><td>BR0502</td><td>Edsel Motors</td></tr><tr><td>BR0504</td><td>Edsel Motors</td></tr><tr><td>BR0572</td><td>Fiat do Brasil Motors</td></tr><tr><td>BR0617</td><td>Ford Australia Motors</td></tr><tr><td>BR0794</td><td>Hindustan Motors</td></tr><tr><td>BR0849</td><td>Humber Motors</td></tr><tr><td>BR0958</td><td>Iveco Motors</td></tr><tr><td>BR0995</td><td>JPX Motors</td></tr><tr><td>BR13026</td><td>Lagonda  Motors</td></tr><tr><td>BR1574</td><td>Pontiac, Asüna Motors</td></tr><tr><td>BR1594</td><td>Premier Motors</td></tr><tr><td>BR1731</td><td>Santana Motors</td></tr><tr><td>BR1944</td><td>Tornado Motors</td></tr><tr><td>BR2115</td><td>Audi Motors</td></tr><tr><td>BR0125</td><td>Aston Martin Motors</td></tr><tr><td>BR0297</td><td>Cadillac Motors</td></tr><tr><td>BR0372</td><td>Cizeta-Moroder Motors</td></tr><tr><td>BR0798</td><td>Hindustan Motors</td></tr><tr><td>BR0939</td><td>Isotta Fraschini Motors</td></tr><tr><td>BR1302</td><td>Mini Motors</td></tr><tr><td>BR1377</td><td>Naza Motors</td></tr><tr><td>BR14226</td><td>Cass Motor Sales</td></tr><tr><td>BR14526</td><td>Howard Motor Company Building</td></tr><tr><td>BR1463</td><td>Pagani Motors</td></tr><tr><td>BR1473</td><td>Panhard Motors</td></tr><tr><td>BR1952</td><td>Toyota Motors</td></tr><tr><td>BR2021</td><td>Volkswagen Motors</td></tr><tr><td>BR5886</td><td>Jensen Motors</td></tr><tr><td>BR0053</td><td>Alvis Motors</td></tr><tr><td>BR0054</td><td>Alvis Motors</td></tr><tr><td>BR0514</td><td>e.GO Mobile Motors</td></tr><tr><td>BR0744</td><td>Gumpert Motors</td></tr><tr><td>BR1012</td><td>Koenigsegg Motors</td></tr><tr><td>BR1159</td><td>Marcos Motors</td></tr><tr><td>BR1444</td><td>Opel Motors</td></tr><tr><td>BR1721</td><td>Santa Matilde Motors</td></tr><tr><td>BR1753</td><td>Scion Motors</td></tr><tr><td>BR2090</td><td>Zastava Motors</td></tr><tr><td>BR2399</td><td>Clemens Automobile Company Building</td></tr><tr><td>BR0140</td><td>Audi Motors</td></tr><tr><td>BR0690</td><td>Geo Motors</td></tr><tr><td>BR0922</td><td>Iso Motors</td></tr><tr><td>BR1349</td><td>Morgan Motors</td></tr><tr><td>BR1737</td><td>Santana Motors</td></tr><tr><td>BR1949</td><td>Tornado Motors</td></tr><tr><td>BR4806</td><td>Holden Motors</td></tr><tr><td>BR5826</td><td>Jeep Motors</td></tr><tr><td>BR8646</td><td>Opel Motors</td></tr><tr><td>BR0352</td><td>Chrysler Europe Motors</td></tr><tr><td>BR0458</td><td>DeLorean Motors</td></tr><tr><td>BR0784</td><td>Hillman Motors</td></tr><tr><td>BR1230</td><td>Mazzanti Motors</td></tr><tr><td>BR1425</td><td>Oldsmobile Motors</td></tr><tr><td>BR1967</td><td>Toyota India Motors</td></tr><tr><td>BR2091</td><td>ZAZ Motors</td></tr><tr><td>BR2429</td><td>Howard Motor Company Building</td></tr><tr><td>BR5346</td><td>Innocenti Motors</td></tr><tr><td>BR0144</td><td>Autobianchi Motors</td></tr><tr><td>BR1098</td><td>Lincoln Motors</td></tr><tr><td>BR1239</td><td>McLaren Motors</td></tr><tr><td>BR1747</td><td>Saturn Motors</td></tr><tr><td>BR1849</td><td>SsangYong Motors</td></tr><tr><td>BR2464</td><td>Kindel Building</td></tr><tr><td>BR9186</td><td>PGO Motors</td></tr><tr><td>BR0068</td><td>AMC, Eagle Motors</td></tr><tr><td>BR0291</td><td>Cadillac Motors</td></tr><tr><td>BR0452</td><td>DeLorean Motors</td></tr><tr><td>BR0672</td><td>GAZ Motors</td></tr><tr><td>BR0688</td><td>Geo Motors</td></tr><tr><td>BR0778</td><td>Hennessey Motors</td></tr><tr><td>BR10506</td><td>Scion Motors</td></tr><tr><td>BR1208</td><td>Matra (including Deutsch-Bonnet, René Bonnet) Motors</td></tr><tr><td>BR1290</td><td>Mia Motors</td></tr><tr><td>BR1343</td><td>Morgan Motors</td></tr><tr><td>BR1541</td><td>Piaggio Motors</td></tr><tr><td>BR1915</td><td>Tatra Motors</td></tr><tr><td>BR2048</td><td>Volkswagen South Africa Motors</td></tr><tr><td>BR2455</td><td>Jones Motor Company</td></tr><tr><td>BR2470</td><td>Kindel Building</td></tr><tr><td>BR0092</td><td>ARO Motors</td></tr><tr><td>BR0111</td><td>Asia Motors Motors</td></tr><tr><td>BR0383</td><td>Dacia Motors</td></tr><tr><td>BR0423</td><td>Daimler Motors</td></tr><tr><td>BR0713</td><td>Glas Motors</td></tr><tr><td>BR0817</td><td>Honda Motors</td></tr><tr><td>BR0928</td><td>Iso Motors</td></tr><tr><td>BR0993</td><td>JPX Motors</td></tr><tr><td>BR1061</td><td>Land Rover Motors</td></tr><tr><td>BR1301</td><td>Mini Motors</td></tr><tr><td>BR1605</td><td>Proton Motors</td></tr><tr><td>BR2075</td><td>Wiesmann Motors</td></tr><tr><td>BR2161</td><td>Izh  Motors</td></tr><tr><td>BR2178</td><td>Lagonda  Motors</td></tr><tr><td>BR0014</td><td>Acura Motors</td></tr><tr><td>BR0232</td><td>British Leyland Motors</td></tr><tr><td>BR0271</td><td>Buick Motors</td></tr><tr><td>BR0559</td><td>Ferrari Motors</td></tr><tr><td>BR0707</td><td>Ginetta Motors</td></tr><tr><td>BR0722</td><td>GMC Motors</td></tr><tr><td>BR0918</td><td>Isdera Motors</td></tr><tr><td>BR1163</td><td>Marlin Motors</td></tr><tr><td>BR1615</td><td>Puma Motors</td></tr><tr><td>BR2123</td><td>DKW Motors</td></tr><tr><td>BR2437</td><td>Hupmobile Building</td></tr><tr><td>BR2443</td><td>Jennings Ford Automobile Dealership</td></tr><tr><td>BR0101</td><td>Artega Motors</td></tr><tr><td>BR0112</td><td>Asia Motors Motors</td></tr><tr><td>BR0222</td><td>Bristol Motors</td></tr><tr><td>BR0230</td><td>Bristol Motors</td></tr><tr><td>BR1015</td><td>Koenigsegg Motors</td></tr><tr><td>BR1141</td><td>Mahindra Motors</td></tr><tr><td>BR1358</td><td>Moskwitch Motors</td></tr><tr><td>BR1922</td><td>Tazzari Motors</td></tr><tr><td>BR2402</td><td>Colman Automotive Building</td></tr><tr><td>BR0552</td><td>Ferrari Motors</td></tr><tr><td>BR0658</td><td>Freightliner Motors</td></tr><tr><td>BR0859</td><td>Hummer Motors</td></tr><tr><td>BR1310</td><td>Mini Motors</td></tr><tr><td>BR1391</td><td>Nissan India Motors</td></tr><tr><td>BR1714</td><td>San Motors</td></tr><tr><td>BR1945</td><td>Tornado Motors</td></tr><tr><td>BR2263</td><td>Ramani Motors</td></tr><tr><td>BR0069</td><td>AMC, Eagle Motors</td></tr><tr><td>BR0198</td><td>BMW Motors</td></tr><tr><td>BR0621</td><td>Ford do Brasil Motors</td></tr><tr><td>BR0997</td><td>JPX Motors</td></tr><tr><td>BR1215</td><td>Mazda Motors</td></tr><tr><td>BR1407</td><td>Noble Motors</td></tr><tr><td>BR2024</td><td>Volkswagen Motors</td></tr><tr><td>BR0863</td><td>Hyundai Motors</td></tr><tr><td>BR0967</td><td>Jaguar Motors</td></tr><tr><td>BR1412</td><td>NSU Motors</td></tr><tr><td>BR1435</td><td>Oltcit Motors</td></tr><tr><td>BR1710</td><td>Samsung Motors</td></tr><tr><td>BR1929</td><td>Tazzari Motors</td></tr><tr><td>BR2134</td><td>Horch Motors</td></tr><tr><td>BR2230</td><td>Wolseley  Motors</td></tr><tr><td>BR2295</td><td>Zion Automobils</td></tr><tr><td>BR4446</td><td>Gumpert Motors</td></tr><tr><td>BR0519</td><td>e.GO Mobile Motors</td></tr><tr><td>BR0660</td><td>Freightliner Motors</td></tr><tr><td>BR11106</td><td>Standard-Triumph Motors</td></tr><tr><td>BR1404</td><td>Noble Motors</td></tr><tr><td>BR1869</td><td>Studebaker Motors</td></tr><tr><td>BR1880</td><td>Subaru Motors</td></tr><tr><td>BR2071</td><td>Wiesmann Motors</td></tr><tr><td>BR2232</td><td>Standard  Motors</td></tr><tr><td>BR2427</td><td>Howard Motor Company Building</td></tr><tr><td>BR4746</td><td>Hindustan Motors</td></tr><tr><td>BR0044</td><td>Alpine Motors</td></tr><tr><td>BR0539</td><td>Elva Motors</td></tr><tr><td>BR1093</td><td>Lincoln Motors</td></tr><tr><td>BR1241</td><td>Mercedes-Benz (including Maybach) Motors</td></tr><tr><td>BR1408</td><td>Noble Motors</td></tr><tr><td>BR14766</td><td>Kindel Building</td></tr><tr><td>BR1689</td><td>SAIC Motor Motors</td></tr><tr><td>BR1700</td><td>Saleen Motors</td></tr><tr><td>BR2372</td><td>Cass Motor Sales</td></tr><tr><td>BR0129</td><td>Aston Martin Motors</td></tr><tr><td>BR0211</td><td>Borgward (including Goliath and Lloyd) Motors</td></tr><tr><td>BR0321</td><td>Chevrolet Motors</td></tr><tr><td>BR0433</td><td>Datsun Motors</td></tr><tr><td>BR0607</td><td>Ford America Motors</td></tr><tr><td>BR0764</td><td>Heinkel Motors</td></tr><tr><td>BR0984</td><td>Jensen Motors</td></tr><tr><td>BR2159</td><td>Maybach  Motors</td></tr><tr><td>BR0009</td><td>AC Cars Motors</td></tr><tr><td>BR0783</td><td>Hillman Motors</td></tr><tr><td>BR0878</td><td>IFA (including Trabant, Wartburg, Barkas) Motors</td></tr><tr><td>BR1483</td><td>Panoz Motors</td></tr><tr><td>BR2171</td><td>Lagonda  Motors</td></tr><tr><td>BR2323</td><td>Blankinship Motor Company Building</td></tr><tr><td>BR2362</td><td>Casa de cadillac</td></tr><tr><td>BR0254</td><td>Austin, Rover Motors</td></tr><tr><td>BR0823</td><td>Honda India Motors</td></tr><tr><td>BR14166</td><td>Casa de cadillac</td></tr><tr><td>BR1540</td><td>PGO Motors</td></tr><tr><td>BR1613</td><td>Puma Motors</td></tr><tr><td>BR1892</td><td>Suzuki Motors</td></tr><tr><td>BR1948</td><td>Tornado Motors</td></tr><tr><td>BR1959</td><td>Toyota Motors</td></tr><tr><td>BR2106</td><td>Chrysler Europe Motors</td></tr><tr><td>BR7386</td><td>McLaren Motors</td></tr><tr><td>BR0021</td><td>Aixam-Mega (including Arola) Motors</td></tr><tr><td>BR0385</td><td>Dacia Motors</td></tr><tr><td>BR1083</td><td>Ligier Motors</td></tr><tr><td>BR1179</td><td>Maruti Motors</td></tr><tr><td>BR1240</td><td>McLaren Motors</td></tr><tr><td>BR14406</td><td>Colman Automotive Building</td></tr><tr><td>BR2017</td><td>Venturi Motors</td></tr><tr><td>BR2428</td><td>Howard Motor Company Building</td></tr><tr><td>BR0195</td><td>BMW Motors</td></tr><tr><td>BR0247</td><td>Austin-Healey Motors</td></tr><tr><td>BR0709</td><td>Ginetta Motors</td></tr><tr><td>BR0710</td><td>Ginetta Motors</td></tr><tr><td>BR1671</td><td>Saab Motors</td></tr><tr><td>BR2407</td><td>Colman Automotive Building</td></tr><tr><td>BR0328</td><td>Chevrolet Motors</td></tr><tr><td>BR0350</td><td>Chrysler Motors</td></tr><tr><td>BR0395</td><td>Daewoo, Saehan, Chevrolet Korea Motors</td></tr><tr><td>BR0581</td><td>Fiat India Motors</td></tr><tr><td>BR0627</td><td>Ford do Brasil Motors</td></tr><tr><td>BR0755</td><td>Healey Motors</td></tr><tr><td>BR1117</td><td>LTI Motors</td></tr><tr><td>BR1305</td><td>Mini Motors</td></tr><tr><td>BR1332</td><td>Monteverdi Motors</td></tr><tr><td>BR1378</td><td>Naza Motors</td></tr><tr><td>BR2285</td><td>Herald Motors</td></tr><tr><td>BR2353</td><td>Cadillac Automobile Company Building</td></tr><tr><td>BR7686</td><td>Mia Motors</td></tr><tr><td>BR0048</td><td>Alpine Motors</td></tr><tr><td>BR0293</td><td>Cadillac Motors</td></tr><tr><td>BR0301</td><td>Caterham Motors</td></tr><tr><td>BR0429</td><td>Daimler Motors</td></tr><tr><td>BR0585</td><td>Fiat India Motors</td></tr><tr><td>BR0720</td><td>Glas Motors</td></tr><tr><td>BR0787</td><td>Hillman Motors</td></tr><tr><td>BR0871</td><td>IFA (including Trabant, Wartburg, Barkas) Motors</td></tr><tr><td>BR1025</td><td>KTM Motors</td></tr><tr><td>BR2095</td><td>ZAZ Motors</td></tr><tr><td>BR2133</td><td>Horch Motors</td></tr><tr><td>BR0005</td><td>AC Cars Motors</td></tr><tr><td>BR0791</td><td>Hindustan Motors</td></tr><tr><td>BR0846</td><td>Autobianchi Motors</td></tr><tr><td>BR0883</td><td>Infiniti Motors</td></tr><tr><td>BR1088</td><td>Ligier Motors</td></tr><tr><td>BR1181</td><td>Maserati Motors</td></tr><tr><td>BR1565</td><td>Polestar Motors</td></tr><tr><td>BR2367</td><td>Casa de cadillac</td></tr><tr><td>BR2380</td><td>Cass Motor Sales</td></tr><tr><td>BR6546</td><td>Lincoln Motors</td></tr><tr><td>BR9066</td><td>Perodua Motors</td></tr><tr><td>BR0045</td><td>Alpine Motors</td></tr><tr><td>BR1223</td><td>Mazzanti Motors</td></tr><tr><td>BR12666</td><td>Audi Motors</td></tr><tr><td>BR1364</td><td>Nash Motors</td></tr><tr><td>BR1601</td><td>Proton Motors</td></tr><tr><td>BR1878</td><td>Subaru Motors</td></tr><tr><td>BR2042</td><td>Volkswagen South Africa Motors</td></tr><tr><td>BR0473</td><td>De Tomaso Motors</td></tr><tr><td>BR1053</td><td>Lancia Motors</td></tr><tr><td>BR1244</td><td>Mercedes-Benz (including Maybach) Motors</td></tr><tr><td>BR1785</td><td>Simca Motors</td></tr><tr><td>BR2101</td><td>ZIL Motors</td></tr><tr><td>BR2165</td><td>Izh  Motors</td></tr><tr><td>BR7146</td><td>Mastretta Motors</td></tr><tr><td>BR0126</td><td>Aixam-Mega (including Arola) Motors</td></tr><tr><td>BR0359</td><td>Chrysler Europe Motors</td></tr><tr><td>BR0611</td><td>Ford Australia Motors</td></tr><tr><td>BR1104</td><td>Lotus Motors</td></tr><tr><td>BR1174</td><td>Maruti Motors</td></tr><tr><td>BR1277</td><td>Messerschmitt Motors</td></tr><tr><td>BR1419</td><td>NSU Motors</td></tr><tr><td>BR1510</td><td>Peel Motors</td></tr><tr><td>BR1653</td><td>Rivian Motors</td></tr><tr><td>BR1780</td><td>Shelby SuperCars Motors</td></tr><tr><td>BR2135</td><td>Horch Motors</td></tr><tr><td>BR2167</td><td>Izh  Motors</td></tr><tr><td>BR2371</td><td>Cass Motor Sales</td></tr><tr><td>BR3606</td><td>Ford America Motors</td></tr><tr><td>BR0143</td><td>Autobianchi Motors</td></tr><tr><td>BR1283</td><td>Mia Motors</td></tr><tr><td>BR1328</td><td>Monica Motors</td></tr><tr><td>BR1783</td><td>Simca Motors</td></tr><tr><td>BR0727</td><td>GMC Motors</td></tr><tr><td>BR0892</td><td>Innocenti Motors</td></tr><tr><td>BR1123</td><td>LuAZ Motors</td></tr><tr><td>BR12906</td><td>Maybach  Motors</td></tr><tr><td>BR1690</td><td>SAIC Motor Motors</td></tr><tr><td>BR1843</td><td>SsangYong Motors</td></tr><tr><td>BR2067</td><td>Westfield Motors</td></tr><tr><td>BR2099</td><td>ZAZ Motors</td></tr><tr><td>BR0057</td><td>Alvis Motors</td></tr><tr><td>BR0929</td><td>Iso Motors</td></tr><tr><td>BR1842</td><td>SsangYong Motors</td></tr><tr><td>BR0073</td><td>Anadol Motors</td></tr><tr><td>BR0492</td><td>Donkervoort Motors</td></tr><tr><td>BR0565</td><td>Fiat Motors</td></tr><tr><td>BR0851</td><td>Hummer Motors</td></tr><tr><td>BR1032</td><td>Lada Motors</td></tr><tr><td>BR1190</td><td>Maserati Motors</td></tr><tr><td>BR1410</td><td>Noble Motors</td></tr><tr><td>BR1678</td><td>Saab Motors</td></tr><tr><td>BR2082</td><td>Zastava Motors</td></tr><tr><td>BR2124</td><td>DKW Motors</td></tr><tr><td>BR2131</td><td>Horch Motors</td></tr><tr><td>BR2247</td><td>Talbot  Motors</td></tr><tr><td>BR2460</td><td>Jones Motor Company</td></tr><tr><td>BR3786</td><td>Ford Europe Motors</td></tr><tr><td>BR0080</td><td>Anadol Motors</td></tr><tr><td>BR0085</td><td>Ariel Motors</td></tr><tr><td>BR0220</td><td>Borgward (including Goliath and Lloyd) Motors</td></tr><tr><td>BR0342</td><td>Chrysler Motors</td></tr><tr><td>BR0624</td><td>Ford do Brasil Motors</td></tr><tr><td>BR0730</td><td>GMC Motors</td></tr><tr><td>BR0845</td><td>Humber Motors</td></tr><tr><td>BR0935</td><td>Isotta Fraschini Motors</td></tr><tr><td>BR1055</td><td>Lancia Motors</td></tr><tr><td>BR1326</td><td>Bristol Motors</td></tr><tr><td>BR1867</td><td>Studebaker Motors</td></tr><tr><td>BR1895</td><td>Suzuki Motors</td></tr><tr><td>BR2153</td><td>Maybach  Motors</td></tr><tr><td>BR2184</td><td>MG  Motors</td></tr><tr><td>BR2250</td><td>Talbot  Motors</td></tr><tr><td>BR2282</td><td>Herald Motors</td></tr><tr><td>BR6606</td><td>Lotus Motors</td></tr><tr><td>BR0152</td><td>Auto-Union Motors</td></tr><tr><td>BR0842</td><td>Humber Motors</td></tr><tr><td>BR1291</td><td>Micro Motors</td></tr><tr><td>BR2199</td><td>Morris  Motors</td></tr><tr><td>BR2451</td><td>Jones Motor Company</td></tr><tr><td>BR0029</td><td>Aixam-Mega (including Arola) Motors</td></tr><tr><td>BR0033</td><td>Alfa Romeo Motors</td></tr><tr><td>BR0229</td><td>Bristol Motors</td></tr><tr><td>BR0457</td><td>DeLorean Motors</td></tr><tr><td>BR0605</td><td>Ford America Motors</td></tr><tr><td>BR0950</td><td>Isuzu Motors</td></tr><tr><td>BR0990</td><td>Jensen Motors</td></tr><tr><td>BR1585</td><td>Porsche Motors</td></tr><tr><td>BR1672</td><td>Saab Motors</td></tr><tr><td>BR4026</td><td>GAZ Motors</td></tr><tr><td>BR0424</td><td>Daimler Motors</td></tr><tr><td>BR0971</td><td>Jeep Motors</td></tr><tr><td>BR1114</td><td>LTI Motors</td></tr><tr><td>BR1258</td><td>Mercury Motors</td></tr><tr><td>BR1488</td><td>Panoz Motors</td></tr><tr><td>BR1679</td><td>Saab Motors</td></tr><tr><td>BR2172</td><td>Lagonda  Motors</td></tr><tr><td>BR2462</td><td>Kindel Building</td></tr><tr><td>BR0094</td><td>ARO Motors</td></tr><tr><td>BR0357</td><td>Chrysler Europe Motors</td></tr><tr><td>BR0417</td><td>Daihatsu Motors</td></tr><tr><td>BR0854</td><td>Hummer Motors</td></tr><tr><td>BR1014</td><td>Koenigsegg Motors</td></tr><tr><td>BR1245</td><td>Mercedes-Benz (including Maybach) Motors</td></tr><tr><td>BR1295</td><td>Micro Motors</td></tr><tr><td>BR1625</td><td>Ranger Motors</td></tr><tr><td>BR1683</td><td>SAIC Motor Motors</td></tr><tr><td>BR1742</td><td>Saturn Motors</td></tr><tr><td>BR1827</td><td>Smart Motors</td></tr><tr><td>BR1975</td><td>Turner Motors</td></tr><tr><td>BR0120</td><td>Asia Motors Motors</td></tr><tr><td>BR0382</td><td>Dacia Motors</td></tr><tr><td>BR0470</td><td>DeSoto Motors</td></tr><tr><td>BR1034</td><td>Lada Motors</td></tr><tr><td>BR10626</td><td>Shelby SuperCars Motors</td></tr><tr><td>BR1099</td><td>Lincoln Motors</td></tr><tr><td>BR2351</td><td>Cadillac Automobile Company Building</td></tr><tr><td>BR2394</td><td>Clemens Automobile Company Building</td></tr><tr><td>BR0310</td><td>Caterham Motors</td></tr><tr><td>BR0602</td><td>Ford America Motors</td></tr><tr><td>BR0694</td><td>Gilbern Motors</td></tr><tr><td>BR1668</td><td>Rolls-Royce Motors</td></tr><tr><td>BR2148</td><td>Wanderer Motors</td></tr><tr><td>BR2309</td><td>Atlantic Motor Company</td></tr><tr><td>BR0546</td><td>ARO Motors</td></tr><tr><td>BR0678</td><td>GAZ Motors</td></tr><tr><td>BR1569</td><td>Polestar Motors</td></tr><tr><td>BR1570</td><td>Polestar Motors</td></tr><tr><td>BR1811</td><td>Skoda Motors</td></tr><tr><td>BR1882</td><td>Sunbeam Motors</td></tr><tr><td>BR1901</td><td>Tata Motors</td></tr><tr><td>BR1937</td><td>Tesla Motors</td></tr><tr><td>BR1988</td><td>TVR Motors</td></tr><tr><td>BR2034</td><td>Volkswagen do Brasil Motors</td></tr><tr><td>BR2334</td><td>Bohn Motor Company Automobile Dealership</td></tr><tr><td>BR0074</td><td>Anadol Motors</td></tr><tr><td>BR0103</td><td>Artega Motors</td></tr><tr><td>BR0338</td><td>Chevrolet India Motors</td></tr><tr><td>BR0418</td><td>Daihatsu Motors</td></tr><tr><td>BR0435</td><td>Datsun Motors</td></tr><tr><td>BR0533</td><td>Elva Motors</td></tr><tr><td>BR0879</td><td>IFA (including Trabant, Wartburg, Barkas) Motors</td></tr><tr><td>BR1512</td><td>Perodua Motors</td></tr><tr><td>BR2234</td><td>Standard  Motors</td></tr><tr><td>BR2245</td><td>Talbot  Motors</td></tr><tr><td>BR2283</td><td>Herald Motors</td></tr><tr><td>BR2438</td><td>Hupmobile Building</td></tr><tr><td>BR8466</td><td>NSU Motors</td></tr><tr><td>BR8766</td><td>Pagani Motors</td></tr><tr><td>BR0961</td><td>Jaguar Motors</td></tr><tr><td>BR1471</td><td>Panhard Motors</td></tr><tr><td>BR1603</td><td>Proton Motors</td></tr><tr><td>BR1879</td><td>Subaru Motors</td></tr><tr><td>BR2211</td><td>Riley  Motors</td></tr><tr><td>BR2320</td><td>2008 NRHP-listed</td></tr><tr><td>BR0020</td><td>Acura Motors</td></tr><tr><td>BR0339</td><td>Chevrolet India Motors</td></tr><tr><td>BR0375</td><td>Cizeta-Moroder Motors</td></tr><tr><td>BR0404</td><td>DAF Motors</td></tr><tr><td>BR0752</td><td>Healey Motors</td></tr><tr><td>BR1315</td><td>Mitsubishi Motors</td></tr><tr><td>BR1392</td><td>Nissan India Motors</td></tr><tr><td>BR1542</td><td>Piaggio Motors</td></tr><tr><td>BR2302</td><td>Atlantic Motor Company</td></tr><tr><td>BR0397</td><td>Daewoo, Saehan, Chevrolet Korea Motors</td></tr><tr><td>BR0675</td><td>GAZ Motors</td></tr><tr><td>BR11526</td><td>Tazzari Motors</td></tr><tr><td>BR1619</td><td>Puma Motors</td></tr><tr><td>BR1798</td><td>Simca do Brasil Motors</td></tr><tr><td>BR1994</td><td>UAZ Motors</td></tr><tr><td>BR2342</td><td>Buick Automobile Company Building</td></tr><tr><td>BR7506</td><td>Mercury Motors</td></tr><tr><td>BR0049</td><td>Alpine Motors</td></tr><tr><td>BR0640</td><td>Ford Europe Motors</td></tr><tr><td>BR0653</td><td>Freightliner Motors</td></tr><tr><td>BR0897</td><td>Innocenti Motors</td></tr><tr><td>BR1520</td><td>Perodua Motors</td></tr><tr><td>BR1621</td><td>Ranger Motors</td></tr><tr><td>BR2008</td><td>Vauxhall Motors</td></tr><tr><td>BR2170</td><td>Izh  Motors</td></tr><tr><td>BR2526</td><td>Daimler Motors</td></tr><tr><td>BR3006</td><td>Edsel Motors</td></tr><tr><td>BR8226</td><td>Naza Motors</td></tr><tr><td>BR0170</td><td>Auverland Motors</td></tr><tr><td>BR0843</td><td>Humber Motors</td></tr><tr><td>BR1249</td><td>Mercedes-Benz (including Maybach) Motors</td></tr><tr><td>BR1552</td><td>Plymouth Motors</td></tr><tr><td>BR2258</td><td>Das Motors</td></tr><tr><td>BR0084</td><td>Ariel Motors</td></tr><tr><td>BR0610</td><td>Ford America Motors</td></tr><tr><td>BR1077</td><td>Lexus Motors</td></tr><tr><td>BR1101</td><td>Lotus Motors</td></tr><tr><td>BR1107</td><td>Lotus Motors</td></tr><tr><td>BR1209</td><td>Matra (including Deutsch-Bonnet, René Bonnet) Motors</td></tr><tr><td>BR1235</td><td>McLaren Motors</td></tr><tr><td>BR1417</td><td>NSU Motors</td></tr><tr><td>BR1519</td><td>Perodua Motors</td></tr><tr><td>BR1524</td><td>Peugeot Motors</td></tr><tr><td>BR1640</td><td>Reliant Motors</td></tr><tr><td>BR2110</td><td>ZIL Motors</td></tr><tr><td>BR2307</td><td>Atlantic Motor Company</td></tr><tr><td>BR2457</td><td>Jones Motor Company</td></tr><tr><td>BR5106</td><td>Hummer Motors</td></tr><tr><td>BR6306</td><td>Lancia Motors</td></tr><tr><td>BR0108</td><td>Artega Motors</td></tr><tr><td>BR0380</td><td>Cizeta-Moroder Motors</td></tr><tr><td>BR0577</td><td>Fiat do Brasil Motors</td></tr><tr><td>BR0812</td><td>Honda Motors</td></tr><tr><td>BR0865</td><td>Hyundai Motors</td></tr><tr><td>BR1202</td><td>Matra (including Deutsch-Bonnet, René Bonnet) Motors</td></tr><tr><td>BR1504</td><td>Peel Motors</td></tr><tr><td>BR1833</td><td>Spyker Motors</td></tr><tr><td>BR2041</td><td>Volkswagen South Africa Motors</td></tr><tr><td>BR2313</td><td>2008 NRHP-listed</td></tr><tr><td>BR3726</td><td>Ford do Brasil Motors</td></tr><tr><td>BR7326</td><td>Mazzanti Motors</td></tr><tr><td>BR0334</td><td>Chevrolet India Motors</td></tr><tr><td>BR0364</td><td>Citroën Motors</td></tr><tr><td>BR0371</td><td>Cizeta-Moroder Motors</td></tr><tr><td>BR0485</td><td>Dodge Motors</td></tr><tr><td>BR0909</td><td>Invicta Motors</td></tr><tr><td>BR0921</td><td>Iso Motors</td></tr><tr><td>BR0267</td><td>Bugatti Motors</td></tr><tr><td>BR0410</td><td>DAF Motors</td></tr><tr><td>BR0469</td><td>DeSoto Motors</td></tr><tr><td>BR0654</td><td>Freightliner Motors</td></tr><tr><td>BR1528</td><td>Peugeot Motors</td></tr><tr><td>BR2183</td><td>MG  Motors</td></tr><tr><td>BR2264</td><td>Ramani Motors</td></tr><tr><td>BR0041</td><td>Alpine Motors</td></tr><tr><td>BR0122</td><td>Aston Martin Motors</td></tr><tr><td>BR0349</td><td>Chrysler Motors</td></tr><tr><td>BR0906</td><td>Auto-Union Motors</td></tr><tr><td>BR0973</td><td>Jeep Motors</td></tr><tr><td>BR1168</td><td>Marlin Motors</td></tr><tr><td>BR1231</td><td>McLaren Motors</td></tr><tr><td>BR1518</td><td>Perodua Motors</td></tr><tr><td>BR1639</td><td>Reliant Motors</td></tr><tr><td>BR2290</td><td>Herald Motors</td></tr><tr><td>BR0302</td><td>Caterham Motors</td></tr><tr><td>BR0468</td><td>DeSoto Motors</td></tr><tr><td>BR0477</td><td>De Tomaso Motors</td></tr><tr><td>BR0768</td><td>Heinkel Motors</td></tr><tr><td>BR0824</td><td>Honda India Motors</td></tr><tr><td>BR1008</td><td>Kia Motors</td></tr><tr><td>BR1674</td><td>Saab Motors</td></tr><tr><td>BR1697</td><td>Saleen Motors</td></tr><tr><td>BR1715</td><td>San Motors</td></tr><tr><td>BR1782</td><td>Simca Motors</td></tr><tr><td>BR1797</td><td>Simca do Brasil Motors</td></tr><tr><td>BR1924</td><td>Tazzari Motors</td></tr><tr><td>BR4686</td><td>Hillman Motors</td></tr><tr><td>BR8826</td><td>Panhard Motors</td></tr><tr><td>BR0322</td><td>Chevrolet Motors</td></tr><tr><td>BR0724</td><td>GMC Motors</td></tr><tr><td>BR0994</td><td>JPX Motors</td></tr><tr><td>BR1173</td><td>Maruti Motors</td></tr><tr><td>BR1692</td><td>Saleen Motors</td></tr><tr><td>BR1875</td><td>Subaru Motors</td></tr><tr><td>BR0004</td><td>AC Cars Motors</td></tr><tr><td>BR0067</td><td>AMC, Eagle Motors</td></tr><tr><td>BR0459</td><td>DeLorean Motors</td></tr><tr><td>BR0488</td><td>Dodge Motors</td></tr><tr><td>BR0663</td><td>FSO Motors</td></tr><tr><td>BR0711</td><td>Glas Motors</td></tr><tr><td>BR0747</td><td>Gumpert Motors</td></tr><tr><td>BR0894</td><td>Innocenti Motors</td></tr><tr><td>BR1039</td><td>Lada Motors</td></tr><tr><td>BR14046</td><td>Buick Automobile Company Building</td></tr><tr><td>BR1440</td><td>Oltcit Motors</td></tr><tr><td>BR1492</td><td>Panther Motors</td></tr><tr><td>BR1557</td><td>Plymouth Motors</td></tr><tr><td>BR2388</td><td>Claremore Auto Dealership</td></tr><tr><td>BR0224</td><td>Bristol Motors</td></tr><tr><td>BR1303</td><td>Mini Motors</td></tr><tr><td>BR1304</td><td>Mini Motors</td></tr><tr><td>BR13086</td><td>MG  Motors</td></tr><tr><td>BR1567</td><td>Polestar Motors</td></tr><tr><td>BR1659</td><td>Rivian Motors</td></tr><tr><td>BR1725</td><td>Santa Matilde Motors</td></tr><tr><td>BR2104</td><td>ZIL Motors</td></tr><tr><td>BR6426</td><td>Lexus Motors</td></tr><tr><td>BR0697</td><td>Gilbern Motors</td></tr><tr><td>BR0781</td><td>Hillman Motors</td></tr><tr><td>BR0931</td><td>Isotta Fraschini Motors</td></tr><tr><td>BR1070</td><td>Land Rover Motors</td></tr><tr><td>BR1130</td><td>LuAZ Motors</td></tr><tr><td>BR1397</td><td>Nissan India Motors</td></tr><tr><td>BR1595</td><td>Premier Motors</td></tr><tr><td>BR1985</td><td>TVR Motors</td></tr><tr><td>BR2011</td><td>Venturi Motors</td></tr><tr><td>BR2089</td><td>Zastava Motors</td></tr><tr><td>BR0484</td><td>Dodge Motors</td></tr><tr><td>BR0899</td><td>Innocenti Motors</td></tr><tr><td>BR1379</td><td>Naza Motors</td></tr><tr><td>BR1903</td><td>Tata Motors</td></tr><tr><td>BR0303</td><td>Caterham Motors</td></tr><tr><td>BR0523</td><td>Eicher Polaris Motors</td></tr><tr><td>BR0538</td><td>Elva Motors</td></tr><tr><td>BR1363</td><td>Nash Motors</td></tr><tr><td>BR1459</td><td>Packard Motors</td></tr><tr><td>BR1837</td><td>Spyker Motors</td></tr><tr><td>BR1918</td><td>Tatra Motors</td></tr><tr><td>BR2281</td><td>Herald Motors</td></tr><tr><td>BR0025</td><td>Aixam-Mega (including Arola) Motors</td></tr><tr><td>BR1068</td><td>Land Rover Motors</td></tr><tr><td>BR1135</td><td>Lynx Motors</td></tr><tr><td>BR1560</td><td>Plymouth Motors</td></tr><tr><td>BR1717</td><td>San Motors</td></tr><tr><td>BR1923</td><td>Tazzari Motors</td></tr><tr><td>BR1964</td><td>Toyota India Motors</td></tr><tr><td>BR4266</td><td>Glas Motors</td></tr><tr><td>BR0159</td><td>Auto-Union Motors</td></tr><tr><td>BR0331</td><td>Chevrolet India Motors</td></tr><tr><td>BR0681</td><td>Geo Motors</td></tr><tr><td>BR0703</td><td>Ginetta Motors</td></tr><tr><td>BR0832</td><td>Hudson Motors</td></tr><tr><td>BR0880</td><td>IFA (including Trabant, Wartburg, Barkas) Motors</td></tr><tr><td>BR0999</td><td>JPX Motors</td></tr><tr><td>BR1974</td><td>Turner Motors</td></tr><tr><td>BR2180</td><td>Lagonda  Motors</td></tr><tr><td>BR0923</td><td>Iso Motors</td></tr><tr><td>BR0953</td><td>Iveco Motors</td></tr><tr><td>BR1498</td><td>Panther Motors</td></tr><tr><td>BR1583</td><td>Porsche Motors</td></tr><tr><td>BR1709</td><td>Samsung Motors</td></tr><tr><td>BR1723</td><td>Santa Matilde Motors</td></tr><tr><td>BR1920</td><td>Tatra Motors</td></tr><tr><td>BR2222</td><td>Wolseley  Motors</td></tr><tr><td>BR2231</td><td>Standard  Motors</td></tr><tr><td>BR2273</td><td>Deccan Motors</td></tr><tr><td>BR2327</td><td>Blankinship Motor Company Building</td></tr><tr><td>BR0077</td><td>Anadol Motors</td></tr><tr><td>BR0344</td><td>Chrysler Motors</td></tr><tr><td>BR0774</td><td>Hennessey Motors</td></tr><tr><td>BR0901</td><td>Invicta Motors</td></tr><tr><td>BR1193</td><td>Mastretta Motors</td></tr><tr><td>BR1199</td><td>Mastretta Motors</td></tr><tr><td>BR1227</td><td>Mazzanti Motors</td></tr><tr><td>BR1317</td><td>Mitsubishi Motors</td></tr><tr><td>BR1428</td><td>Oldsmobile Motors</td></tr><tr><td>BR1589</td><td>Porsche Motors</td></tr><tr><td>BR1634</td><td>Reliant Motors</td></tr><tr><td>BR1894</td><td>Suzuki Motors</td></tr><tr><td>BR0387</td><td>Dacia Motors</td></tr><tr><td>BR0426</td><td>Anadol Motors</td></tr><tr><td>BR0573</td><td>Fiat do Brasil Motors</td></tr><tr><td>BR1234</td><td>McLaren Motors</td></tr><tr><td>BR1401</td><td>Noble Motors</td></tr><tr><td>BR1578</td><td>Pontiac, Asüna Motors</td></tr><tr><td>BR1788</td><td>Simca Motors</td></tr><tr><td>BR1805</td><td>Singer Motors</td></tr><tr><td>BR2144</td><td>Wanderer Motors</td></tr><tr><td>BR2243</td><td>Talbot  Motors</td></tr><tr><td>BR0154</td><td>Auto-Union Motors</td></tr><tr><td>BR0193</td><td>BMW Motors</td></tr><tr><td>BR0439</td><td>Datsun Motors</td></tr><tr><td>BR0910</td><td>Invicta Motors</td></tr><tr><td>BR1360</td><td>Moskwitch Motors</td></tr><tr><td>BR1649</td><td>Renault Motors</td></tr><tr><td>BR1804</td><td>Singer Motors</td></tr><tr><td>BR1963</td><td>Toyota India Motors</td></tr><tr><td>BR2019</td><td>Venturi Motors</td></tr><tr><td>BR0098</td><td>ARO Motors</td></tr><tr><td>BR0141</td><td>Autobianchi Motors</td></tr><tr><td>BR0442</td><td>Delahaye Motors</td></tr><tr><td>BR0590</td><td>Fiat India Motors</td></tr><tr><td>BR10086</td><td>SAIC Motor Motors</td></tr><tr><td>BR1043</td><td>Lamborghini Motors</td></tr><tr><td>BR1222</td><td>Mazzanti Motors</td></tr><tr><td>BR1393</td><td>Nissan India Motors</td></tr><tr><td>BR2031</td><td>Volkswagen do Brasil Motors</td></tr><tr><td>BR2187</td><td>MG  Motors</td></tr><tr><td>BR2207</td><td>Austin  Motors</td></tr><tr><td>BR2240</td><td>Standard  Motors</td></tr><tr><td>BR2361</td><td>Casa de cadillac</td></tr><tr><td>BR2392</td><td>Clemens Automobile Company Building</td></tr><tr><td>BR5946</td><td>JPX Motors</td></tr><tr><td>BR0208</td><td>Bond Motors</td></tr><tr><td>BR0260</td><td>Austin, Rover Motors</td></tr><tr><td>BR0309</td><td>Caterham Motors</td></tr><tr><td>BR1128</td><td>LuAZ Motors</td></tr><tr><td>BR1348</td><td>Morgan Motors</td></tr><tr><td>BR1667</td><td>Rolls-Royce Motors</td></tr><tr><td>BR2312</td><td>2008 NRHP-listed</td></tr><tr><td>BR2423</td><td>Howard Motor Company Building</td></tr><tr><td>BR4926</td><td>Honda India Motors</td></tr><tr><td>BR0391</td><td>Daewoo, Saehan, Chevrolet Korea Motors</td></tr><tr><td>BR0751</td><td>Healey Motors</td></tr><tr><td>BR0769</td><td>Heinkel Motors</td></tr><tr><td>BR0998</td><td>JPX Motors</td></tr><tr><td>BR1183</td><td>Maserati Motors</td></tr><tr><td>BR1313</td><td>Mitsubishi Motors</td></tr><tr><td>BR1455</td><td>Packard Motors</td></tr><tr><td>BR2463</td><td>Kindel Building</td></tr><tr><td>BR4566</td><td>Heinkel Motors</td></tr><tr><td>BR1108</td><td>Lotus Motors</td></tr><tr><td>BR1204</td><td>Matra (including Deutsch-Bonnet, René Bonnet) Motors</td></tr><tr><td>BR13326</td><td>Wolseley  Motors</td></tr><tr><td>BR1372</td><td>Naza Motors</td></tr><tr><td>BR1758</td><td>Scion Motors</td></tr><tr><td>BR1887</td><td>Sunbeam Motors</td></tr><tr><td>BR2214</td><td>Riley  Motors</td></tr><tr><td>BR7986</td><td>Monteverdi Motors</td></tr><tr><td>BR0515</td><td>e.GO Mobile Motors</td></tr><tr><td>BR0661</td><td>FSO Motors</td></tr><tr><td>BR1021</td><td>KTM Motors</td></tr><tr><td>BR1268</td><td>Merkur Motors</td></tr><tr><td>BR13266</td><td>Riley  Motors</td></tr><tr><td>BR2151</td><td>Maybach  Motors</td></tr><tr><td>BR2300</td><td>Zion Automobils</td></tr><tr><td>BR2382</td><td>Claremore Auto Dealership</td></tr><tr><td>BR0010</td><td>AC Cars Motors</td></tr><tr><td>BR0051</td><td>Alvis Motors</td></tr><tr><td>BR0341</td><td>Chrysler Motors</td></tr><tr><td>BR0384</td><td>Dacia Motors</td></tr><tr><td>BR0569</td><td>Fiat Motors</td></tr><tr><td>BR14646</td><td>Jennings Ford Automobile Dealership</td></tr><tr><td>BR1562</td><td>Polestar Motors</td></tr><tr><td>BR1872</td><td>Subaru Motors</td></tr><tr><td>BR2128</td><td>DKW Motors</td></tr><tr><td>BR2197</td><td>Morris  Motors</td></tr><tr><td>BR2253</td><td>Das Motors</td></tr><tr><td>BR2315</td><td>2008 NRHP-listed</td></tr><tr><td>BR0443</td><td>Delahaye Motors</td></tr><tr><td>BR0925</td><td>Iso Motors</td></tr><tr><td>BR1019</td><td>Koenigsegg Motors</td></tr><tr><td>BR1411</td><td>NSU Motors</td></tr><tr><td>BR1733</td><td>Santana Motors</td></tr><tr><td>BR1745</td><td>Saturn Motors</td></tr><tr><td>BR1962</td><td>Toyota India Motors</td></tr><tr><td>BR2251</td><td>Das Motors</td></tr><tr><td>BR0102</td><td>Artega Motors</td></tr><tr><td>BR0745</td><td>Gumpert Motors</td></tr><tr><td>BR0858</td><td>Hummer Motors</td></tr><tr><td>BR0917</td><td>Isdera Motors</td></tr><tr><td>BR1171</td><td>Maruti Motors</td></tr><tr><td>BR1247</td><td>Mercedes-Benz (including Maybach) Motors</td></tr><tr><td>BR1831</td><td>Spyker Motors</td></tr><tr><td>BR2448</td><td>Jennings Ford Automobile Dealership</td></tr><tr><td>BR0173</td><td>Bentley Motors</td></tr><tr><td>BR0249</td><td>Austin-Healey Motors</td></tr><tr><td>BR0619</td><td>Ford Australia Motors</td></tr><tr><td>BR1118</td><td>LTI Motors</td></tr><tr><td>BR1294</td><td>Micro Motors</td></tr><tr><td>BR1593</td><td>Premier Motors</td></tr><tr><td>BR1712</td><td>San Motors</td></tr><tr><td>BR1728</td><td>Santa Matilde Motors</td></tr><tr><td>BR2409</td><td>Colman Automotive Building</td></tr><tr><td>BR8586</td><td>Oltcit Motors</td></tr><tr><td>BR0402</td><td>DAF Motors</td></tr><tr><td>BR0542</td><td>Facel Vega Motors</td></tr><tr><td>BR11646</td><td>Tornado Motors</td></tr><tr><td>BR1467</td><td>Pagani Motors</td></tr><tr><td>BR2321</td><td>Blankinship Motor Company Building</td></tr><tr><td>BR7026</td><td>Maruti Motors</td></tr><tr><td>BR0295</td><td>Cadillac Motors</td></tr><tr><td>BR0641</td><td>Ford India Motors</td></tr><tr><td>BR0715</td><td>Glas Motors</td></tr><tr><td>BR0975</td><td>Jeep Motors</td></tr><tr><td>BR1004</td><td>Kia Motors</td></tr><tr><td>BR1610</td><td>Proton Motors</td></tr><tr><td>BR1741</td><td>Saturn Motors</td></tr><tr><td>BR2053</td><td>Volvo Motors</td></tr><tr><td>BR2340</td><td>Bohn Motor Company Automobile Dealership</td></tr><tr><td>BR0042</td><td>Alpine Motors</td></tr><tr><td>BR0311</td><td>Checker Motors</td></tr><tr><td>BR0482</td><td>Dodge Motors</td></tr><tr><td>BR0870</td><td>Hyundai Motors</td></tr><tr><td>BR1362</td><td>Nash Motors</td></tr><tr><td>BR1571</td><td>Pontiac, Asüna Motors</td></tr><tr><td>BR2370</td><td>Casa de cadillac</td></tr><tr><td>BR2389</td><td>Claremore Auto Dealership</td></tr><tr><td>BR3966</td><td>FSO Motors</td></tr><tr><td>BR6846</td><td>Mahindra Motors</td></tr><tr><td>BR7806</td><td>Mini Motors</td></tr><tr><td>BR0420</td><td>Daihatsu Motors</td></tr><tr><td>BR0667</td><td>FSO Motors</td></tr><tr><td>BR0742</td><td>Gumpert Motors</td></tr><tr><td>BR0822</td><td>Honda India Motors</td></tr><tr><td>BR0981</td><td>Jensen Motors</td></tr><tr><td>BR1052</td><td>Lancia Motors</td></tr><tr><td>BR1194</td><td>Mastretta Motors</td></tr><tr><td>BR1620</td><td>Puma Motors</td></tr><tr><td>BR1761</td><td>Seat Motors</td></tr><tr><td>BR1925</td><td>Tazzari Motors</td></tr><tr><td>BR1933</td><td>Tesla Motors</td></tr><tr><td>BR2045</td><td>Volkswagen South Africa Motors</td></tr><tr><td>BR2469</td><td>Kindel Building</td></tr><tr><td>BR8706</td><td>Packard Motors</td></tr><tr><td>BR9306</td><td>Plymouth Motors</td></tr><tr><td>BR0015</td><td>Acura Motors</td></tr><tr><td>BR0217</td><td>Borgward (including Goliath and Lloyd) Motors</td></tr><tr><td>BR0283</td><td>Bytom Motors</td></tr><tr><td>BR1274</td><td>Messerschmitt Motors</td></tr><tr><td>BR1431</td><td>Oltcit Motors</td></tr><tr><td>BR1451</td><td>Packard Motors</td></tr><tr><td>BR1554</td><td>Plymouth Motors</td></tr><tr><td>BR2049</td><td>Volkswagen South Africa Motors</td></tr><tr><td>BR2088</td><td>Zastava Motors</td></tr><tr><td>BR2107</td><td>ZIL Motors</td></tr><tr><td>BR2305</td><td>Atlantic Motor Company</td></tr><tr><td>BR5586</td><td>Isotta Fraschini Motors</td></tr><tr><td>BR0290</td><td>Bytom Motors</td></tr><tr><td>BR0474</td><td>De Tomaso Motors</td></tr><tr><td>BR0940</td><td>Isotta Fraschini Motors</td></tr><tr><td>BR2202</td><td>Austin  Motors</td></tr><tr><td>BR6246</td><td>Lamborghini Motors</td></tr><tr><td>BR0179</td><td>Bentley Motors</td></tr><tr><td>BR0797</td><td>Hindustan Motors</td></tr><tr><td>BR1261</td><td>Merkur Motors</td></tr><tr><td>BR1575</td><td>Pontiac, Asüna Motors</td></tr><tr><td>BR2114</td><td>Audi Motors</td></tr><tr><td>BR2208</td><td>Austin  Motors</td></tr><tr><td>BR0087</td><td>Ariel Motors</td></tr><tr><td>BR0117</td><td>Asia Motors Motors</td></tr><tr><td>BR0181</td><td>Bitter Motors</td></tr><tr><td>BR0183</td><td>Bitter Motors</td></tr><tr><td>BR0464</td><td>DeSoto Motors</td></tr><tr><td>BR0633</td><td>Ford Europe Motors</td></tr><tr><td>BR8946</td><td>Panther Motors</td></tr><tr><td>BR0643</td><td>Ford India Motors</td></tr><tr><td>BR1086</td><td>Bitter Motors</td></tr><tr><td>BR1465</td><td>Pagani Motors</td></tr><tr><td>BR1489</td><td>Panoz Motors</td></tr><tr><td>BR1643</td><td>Renault Motors</td></tr><tr><td>BR1765</td><td>Seat Motors</td></tr><tr><td>BR0090</td><td>Ariel Motors</td></tr><tr><td>BR0487</td><td>Dodge Motors</td></tr><tr><td>BR1020</td><td>Koenigsegg Motors</td></tr><tr><td>BR1073</td><td>Lexus Motors</td></tr><tr><td>BR1102</td><td>Lotus Motors</td></tr><tr><td>BR12306</td><td>Volvo Motors</td></tr><tr><td>BR1682</td><td>SAIC Motor Motors</td></tr><tr><td>BR1702</td><td>Samsung Motors</td></tr><tr><td>BR1938</td><td>Tesla Motors</td></tr><tr><td>BR1958</td><td>Toyota Motors</td></tr><tr><td>BR2173</td><td>Lagonda  Motors</td></tr><tr><td>BR0379</td><td>Cizeta-Moroder Motors</td></tr><tr><td>BR0687</td><td>Geo Motors</td></tr><tr><td>BR0767</td><td>Heinkel Motors</td></tr><tr><td>BR14106</td><td>Cadillac Automobile Company Building</td></tr><tr><td>BR1454</td><td>Packard Motors</td></tr><tr><td>BR1642</td><td>Renault Motors</td></tr><tr><td>BR1652</td><td>Rivian Motors</td></tr><tr><td>BR2052</td><td>Volvo Motors</td></tr><tr><td>BR2157</td><td>Maybach  Motors</td></tr><tr><td>BR2182</td><td>MG  Motors</td></tr><tr><td>BR3666</td><td>Ford Australia Motors</td></tr><tr><td>BR0668</td><td>FSO Motors</td></tr><tr><td>BR0719</td><td>Glas Motors</td></tr><tr><td>BR1079</td><td>Lexus Motors</td></tr><tr><td>BR1299</td><td>Micro Motors</td></tr><tr><td>BR1685</td><td>SAIC Motor Motors</td></tr><tr><td>BR1720</td><td>San Motors</td></tr><tr><td>BR1729</td><td>Santa Matilde Motors</td></tr><tr><td>BR2079</td><td>Wiesmann Motors</td></tr><tr><td>BR2163</td><td>Izh  Motors</td></tr><tr><td>BR2414</td><td>H Street Playhouse</td></tr><tr><td>BR6966</td><td>Marlin Motors</td></tr><tr><td>BR0819</td><td>Honda Motors</td></tr><tr><td>BR1214</td><td>Mazda Motors</td></tr><tr><td>BR1911</td><td>Tatra Motors</td></tr><tr><td>BR2166</td><td>Citroën Motors</td></tr><tr><td>BR2175</td><td>Lagonda  Motors</td></tr><tr><td>BR2198</td><td>Morris  Motors</td></tr><tr><td>BR6126</td><td>KTM Motors</td></tr><tr><td>BR0400</td><td>Daewoo, Saehan, Chevrolet Korea Motors</td></tr><tr><td>BR0527</td><td>Eicher Polaris Motors</td></tr><tr><td>BR1103</td><td>Lotus Motors</td></tr><tr><td>BR13686</td><td>Herald Motors</td></tr><tr><td>BR1815</td><td>Skoda Motors</td></tr><tr><td>BR0414</td><td>Daihatsu Motors</td></tr><tr><td>BR0444</td><td>Delahaye Motors</td></tr><tr><td>BR0959</td><td>Iveco Motors</td></tr><tr><td>BR1058</td><td>Lancia Motors</td></tr><tr><td>BR1338</td><td>Monteverdi Motors</td></tr><tr><td>BR1388</td><td>Nissan Motors</td></tr><tr><td>BR1854</td><td>Standard-Triumph Motors</td></tr><tr><td>BR2270</td><td>Ramani Motors</td></tr><tr><td>BR2278</td><td>Deccan Motors</td></tr><tr><td>BR2287</td><td>Herald Motors</td></tr><tr><td>BR2324</td><td>Blankinship Motor Company Building</td></tr><tr><td>BR0280</td><td>Buick Motors</td></tr><tr><td>BR0631</td><td>Ford Europe Motors</td></tr><tr><td>BR0702</td><td>Ginetta Motors</td></tr><tr><td>BR0942</td><td>Isuzu Motors</td></tr><tr><td>BR1151</td><td>Marcos Motors</td></tr><tr><td>BR2121</td><td>DKW Motors</td></tr><tr><td>BR2174</td><td>Lagonda  Motors</td></tr><tr><td>BR2886</td><td>Dodge Motors</td></tr><tr><td>BR0213</td><td>Borgward (including Goliath and Lloyd) Motors</td></tr><tr><td>BR0680</td><td>GAZ Motors</td></tr><tr><td>BR1075</td><td>Lexus Motors</td></tr><tr><td>BR1207</td><td>Matra (including Deutsch-Bonnet, René Bonnet) Motors</td></tr><tr><td>BR1507</td><td>Peel Motors</td></tr><tr><td>BR2080</td><td>Wiesmann Motors</td></tr><tr><td>BR0454</td><td>DeLorean Motors</td></tr><tr><td>BR0974</td><td>Jeep Motors</td></tr><tr><td>BR1026</td><td>Bentley Motors</td></tr><tr><td>BR13566</td><td>Ramani Motors</td></tr><tr><td>BR1457</td><td>Packard Motors</td></tr><tr><td>BR1684</td><td>SAIC Motor Motors</td></tr><tr><td>BR2301</td><td>Atlantic Motor Company</td></tr><tr><td>BR2310</td><td>Atlantic Motor Company</td></tr><tr><td>BR2384</td><td>Claremore Auto Dealership</td></tr><tr><td>BR2454</td><td>Jones Motor Company</td></tr><tr><td>BR0186</td><td>Alfa Romeo Motors</td></tr><tr><td>BR0834</td><td>Hudson Motors</td></tr><tr><td>BR0904</td><td>Invicta Motors</td></tr><tr><td>BR0907</td><td>Invicta Motors</td></tr><tr><td>BR1200</td><td>Mastretta Motors</td></tr><tr><td>BR1889</td><td>Sunbeam Motors</td></tr><tr><td>BR2140</td><td>Horch Motors</td></tr><tr><td>BR2177</td><td>Lagonda  Motors</td></tr><tr><td>BR0810</td><td>Holden Motors</td></tr><tr><td>BR1530</td><td>Peugeot Motors</td></tr><tr><td>BR1638</td><td>Reliant Motors</td></tr><tr><td>BR1779</td><td>Shelby SuperCars Motors</td></tr><tr><td>BR1928</td><td>Tazzari Motors</td></tr><tr><td>BR1954</td><td>Toyota Motors</td></tr><tr><td>BR1998</td><td>UAZ Motors</td></tr><tr><td>BR2355</td><td>Cadillac Automobile Company Building</td></tr><tr><td>BR2359</td><td>Cadillac Automobile Company Building</td></tr><tr><td>BR0012</td><td>Acura Motors</td></tr><tr><td>BR0578</td><td>Fiat do Brasil Motors</td></tr><tr><td>BR0748</td><td>Gumpert Motors</td></tr><tr><td>BR1386</td><td>British Leyland Motors</td></tr><tr><td>BR1868</td><td>Studebaker Motors</td></tr><tr><td>BR1930</td><td>Tazzari Motors</td></tr><tr><td>BR0427</td><td>Daimler Motors</td></tr><tr><td>BR0924</td><td>Iso Motors</td></tr><tr><td>BR0949</td><td>Isuzu Motors</td></tr><tr><td>BR1001</td><td>Kia Motors</td></tr><tr><td>BR1157</td><td>Marcos Motors</td></tr><tr><td>BR1165</td><td>Marlin Motors</td></tr><tr><td>BR1188</td><td>Maserati Motors</td></tr><tr><td>BR1513</td><td>Perodua Motors</td></tr><tr><td>BR1751</td><td>Scion Motors</td></tr><tr><td>BR2029</td><td>Volkswagen Motors</td></tr><tr><td>BR2060</td><td>Volvo Motors</td></tr><tr><td>BR2137</td><td>Horch Motors</td></tr><tr><td>BR0403</td><td>DAF Motors</td></tr><tr><td>BR0645</td><td>Ford India Motors</td></tr><tr><td>BR0893</td><td>Innocenti Motors</td></tr><tr><td>BR1170</td><td>Marlin Motors</td></tr><tr><td>BR1371</td><td>Naza Motors</td></tr><tr><td>BR1858</td><td>Standard-Triumph Motors</td></tr><tr><td>BR2419</td><td>H Street Playhouse</td></tr><tr><td>BR3066</td><td>e.GO Mobile Motors</td></tr><tr><td>BR0061</td><td>AMC, Eagle Motors</td></tr><tr><td>BR0323</td><td>Chevrolet Motors</td></tr><tr><td>BR1475</td><td>Panhard Motors</td></tr><tr><td>BR1908</td><td>Tata Motors</td></tr><tr><td>BR2220</td><td>Riley  Motors</td></tr><tr><td>BR2286</td><td>Dacia Motors</td></tr><tr><td>BR2431</td><td>Hupmobile Building</td></tr><tr><td>BR0332</td><td>Chevrolet India Motors</td></tr><tr><td>BR0551</td><td>Ferrari Motors</td></tr><tr><td>BR0969</td><td>Jaguar Motors</td></tr><tr><td>BR1172</td><td>Maruti Motors</td></tr><tr><td>BR1203</td><td>Matra (including Deutsch-Bonnet, René Bonnet) Motors</td></tr><tr><td>BR1543</td><td>Piaggio Motors</td></tr><tr><td>BR1588</td><td>Porsche Motors</td></tr><tr><td>BR1800</td><td>Simca do Brasil Motors</td></tr><tr><td>BR1839</td><td>Spyker Motors</td></tr><tr><td>BR0221</td><td>Bristol Motors</td></tr><tr><td>BR0422</td><td>Daimler Motors</td></tr><tr><td>BR0450</td><td>Delahaye Motors</td></tr><tr><td>BR0669</td><td>FSO Motors</td></tr><tr><td>BR0712</td><td>Glas Motors</td></tr><tr><td>BR0804</td><td>Holden Motors</td></tr><tr><td>BR0844</td><td>Humber Motors</td></tr><tr><td>BR0970</td><td>Jaguar Motors</td></tr><tr><td>BR1092</td><td>Lincoln Motors</td></tr><tr><td>BR1184</td><td>Maserati Motors</td></tr><tr><td>BR1251</td><td>Mercury Motors</td></tr><tr><td>BR1287</td><td>Mia Motors</td></tr><tr><td>BR1582</td><td>Porsche Motors</td></tr><tr><td>BR1787</td><td>Simca Motors</td></tr><tr><td>BR2395</td><td>Clemens Automobile Company Building</td></tr><tr><td>BR0265</td><td>Bugatti Motors</td></tr><tr><td>BR0305</td><td>Caterham Motors</td></tr><tr><td>BR0860</td><td>Hummer Motors</td></tr><tr><td>BR1023</td><td>KTM Motors</td></tr><tr><td>BR1037</td><td>Lada Motors</td></tr><tr><td>BR10446</td><td>Saturn Motors</td></tr><tr><td>BR4386</td><td>GTA Spano Motors</td></tr><tr><td>BR0060</td><td>Alvis Motors</td></tr><tr><td>BR0123</td><td>Aston Martin Motors</td></tr><tr><td>BR0239</td><td>British Leyland Motors</td></tr><tr><td>BR0306</td><td>Alvis Motors</td></tr><tr><td>BR10026</td><td>Saab Motors</td></tr><tr><td>BR1217</td><td>Mazda Motors</td></tr><tr><td>BR1914</td><td>Tatra Motors</td></tr><tr><td>BR2113</td><td>Audi Motors</td></tr><tr><td>BR4626</td><td>Hennessey Motors</td></tr><tr><td>BR0381</td><td>Dacia Motors</td></tr><tr><td>BR0629</td><td>Ford do Brasil Motors</td></tr><tr><td>BR1060</td><td>Lancia Motors</td></tr><tr><td>BR1145</td><td>Mahindra Motors</td></tr><tr><td>BR1229</td><td>Mazzanti Motors</td></tr><tr><td>BR1252</td><td>Mercury Motors</td></tr><tr><td>BR1602</td><td>Proton Motors</td></tr><tr><td>BR1793</td><td>Simca do Brasil Motors</td></tr><tr><td>BR2130</td><td>DKW Motors</td></tr><tr><td>BR2411</td><td>H Street Playhouse</td></tr><tr><td>BR0215</td><td>Borgward (including Goliath and Lloyd) Motors</td></tr><tr><td>BR0329</td><td>Chevrolet Motors</td></tr><tr><td>BR0441</td><td>Delahaye Motors</td></tr><tr><td>BR1059</td><td>Lancia Motors</td></tr><tr><td>BR13386</td><td>Standard  Motors</td></tr><tr><td>BR1590</td><td>Porsche Motors</td></tr><tr><td>BR1647</td><td>Renault Motors</td></tr><tr><td>BR1777</td><td>Shelby SuperCars Motors</td></tr><tr><td>BR2040</td><td>Volkswagen do Brasil Motors</td></tr><tr><td>BR2164</td><td>Izh  Motors</td></tr><tr><td>BR0483</td><td>Dodge Motors</td></tr><tr><td>BR0739</td><td>GTA Spano Motors</td></tr><tr><td>BR0987</td><td>Jensen Motors</td></tr><tr><td>BR1129</td><td>LuAZ Motors</td></tr><tr><td>BR12126</td><td>Volkswagen Motors</td></tr><tr><td>BR1275</td><td>Messerschmitt Motors</td></tr><tr><td>BR1495</td><td>Panther Motors</td></tr><tr><td>BR1657</td><td>Rivian Motors</td></tr><tr><td>BR1686</td><td>Bytom Motors</td></tr><tr><td>BR0228</td><td>Bristol Motors</td></tr><tr><td>BR0272</td><td>Buick Motors</td></tr><tr><td>BR10386</td><td>Santana Motors</td></tr><tr><td>BR1080</td><td>Lexus Motors</td></tr><tr><td>BR1148</td><td>Mahindra Motors</td></tr><tr><td>BR1150</td><td>Mahindra Motors</td></tr><tr><td>BR1370</td><td>Nash Motors</td></tr><tr><td>BR1673</td><td>Saab Motors</td></tr><tr><td>BR0324</td><td>Chevrolet Motors</td></tr><tr><td>BR0815</td><td>Honda Motors</td></tr><tr><td>BR0985</td><td>Jensen Motors</td></tr><tr><td>BR1127</td><td>LuAZ Motors</td></tr><tr><td>BR12606</td><td>ZIL Motors</td></tr><tr><td>BR1655</td><td>Rivian Motors</td></tr><tr><td>BR1841</td><td>SsangYong Motors</td></tr><tr><td>BR2118</td><td>Audi Motors</td></tr><tr><td>BR2368</td><td>Casa de cadillac</td></tr><tr><td>BR0277</td><td>Buick Motors</td></tr><tr><td>BR0827</td><td>Honda India Motors</td></tr><tr><td>BR1365</td><td>Nash Motors</td></tr><tr><td>BR1784</td><td>Simca Motors</td></tr><tr><td>BR2190</td><td>MG  Motors</td></tr><tr><td>BR5226</td><td>IFA (including Trabant, Wartburg, Barkas) Motors</td></tr><tr><td>BR0188</td><td>Bitter Motors</td></tr><tr><td>BR0432</td><td>Datsun Motors</td></tr><tr><td>BR1701</td><td>Samsung Motors</td></tr><tr><td>BR2009</td><td>Vauxhall Motors</td></tr><tr><td>BR2030</td><td>Volkswagen Motors</td></tr><tr><td>BR2058</td><td>Volvo Motors</td></tr><tr><td>BR2271</td><td>Deccan Motors</td></tr><tr><td>BR2303</td><td>Atlantic Motor Company</td></tr><tr><td>BR2357</td><td>Cadillac Automobile Company Building</td></tr><tr><td>BR0003</td><td>AC Cars Motors</td></tr><tr><td>BR0050</td><td>Alpine Motors</td></tr><tr><td>BR0227</td><td>Bristol Motors</td></tr><tr><td>BR0521</td><td>Eicher Polaris Motors</td></tr><tr><td>BR0620</td><td>Ford Australia Motors</td></tr><tr><td>BR0623</td><td>Ford do Brasil Motors</td></tr><tr><td>BR0807</td><td>Holden Motors</td></tr><tr><td>BR1450</td><td>Opel Motors</td></tr><tr><td>BR1971</td><td>Turner Motors</td></tr><tr><td>BR1987</td><td>TVR Motors</td></tr><tr><td>BR2119</td><td>Audi Motors</td></tr><tr><td>BR0072</td><td>Anadol Motors</td></tr><tr><td>BR0078</td><td>Anadol Motors</td></tr><tr><td>BR0081</td><td>Ariel Motors</td></tr><tr><td>BR0118</td><td>Asia Motors Motors</td></tr><tr><td>BR0180</td><td>Bentley Motors</td></tr><tr><td>BR0203</td><td>Bond Motors</td></tr><tr><td>BR1138</td><td>Lynx Motors</td></tr><tr><td>BR1238</td><td>McLaren Motors</td></tr><tr><td>BR2346</td><td>Daewoo, Saehan, Chevrolet Korea Motors</td></tr><tr><td>BR6006</td><td>Kia Motors</td></tr><tr><td>BR0047</td><td>Alpine Motors</td></tr><tr><td>BR0253</td><td>Austin, Rover Motors</td></tr><tr><td>BR0601</td><td>Ford America Motors</td></tr><tr><td>BR0833</td><td>Hudson Motors</td></tr><tr><td>BR10806</td><td>Singer Motors</td></tr><tr><td>BR1158</td><td>Marcos Motors</td></tr><tr><td>BR1502</td><td>Peel Motors</td></tr><tr><td>BR1555</td><td>Plymouth Motors</td></tr><tr><td>BR1611</td><td>Puma Motors</td></tr><tr><td>BR1635</td><td>Reliant Motors</td></tr><tr><td>BR1852</td><td>Standard-Triumph Motors</td></tr><tr><td>BR1980</td><td>Turner Motors</td></tr><tr><td>BR2028</td><td>Volkswagen Motors</td></tr><tr><td>BR2229</td><td>Wolseley  Motors</td></tr><tr><td>BR2338</td><td>Bohn Motor Company Automobile Dealership</td></tr><tr><td>BR8286</td><td>Nissan Motors</td></tr><tr><td>BR0043</td><td>Alpine Motors</td></tr><tr><td>BR0194</td><td>BMW Motors</td></tr><tr><td>BR0695</td><td>Gilbern Motors</td></tr><tr><td>BR1028</td><td>KTM Motors</td></tr><tr><td>BR1178</td><td>Maruti Motors</td></tr><tr><td>BR1669</td><td>Rolls-Royce Motors</td></tr><tr><td>BR2330</td><td>Blankinship Motor Company Building</td></tr><tr><td>BR2358</td><td>Cadillac Automobile Company Building</td></tr><tr><td>BR0704</td><td>Ginetta Motors</td></tr><tr><td>BR0721</td><td>GMC Motors</td></tr><tr><td>BR0838</td><td>Hudson Motors</td></tr><tr><td>BR10146</td><td>Saleen Motors</td></tr><tr><td>BR1087</td><td>Ligier Motors</td></tr><tr><td>BR1266</td><td>Borgward (including Goliath and Lloyd) Motors</td></tr><tr><td>BR2331</td><td>Bohn Motor Company Automobile Dealership</td></tr><tr><td>BR2345</td><td>Buick Automobile Company Building</td></tr><tr><td>BR2347</td><td>Buick Automobile Company Building</td></tr><tr><td>BR0205</td><td>Bond Motors</td></tr><tr><td>BR0278</td><td>Buick Motors</td></tr><tr><td>BR0333</td><td>Chevrolet India Motors</td></tr><tr><td>BR0412</td><td>Daihatsu Motors</td></tr><tr><td>BR0460</td><td>DeLorean Motors</td></tr><tr><td>BR0520</td><td>e.GO Mobile Motors</td></tr><tr><td>BR0726</td><td>Aston Martin Motors</td></tr><tr><td>BR0837</td><td>Hudson Motors</td></tr><tr><td>BR0908</td><td>Invicta Motors</td></tr><tr><td>BR11286</td><td>Sunbeam Motors</td></tr><tr><td>BR1480</td><td>Panhard Motors</td></tr><tr><td>BR0165</td><td>Auverland Motors</td></tr><tr><td>BR0600</td><td>Fisker, Karma Motors</td></tr><tr><td>BR0979</td><td>Jeep Motors</td></tr><tr><td>BR1035</td><td>Lada Motors</td></tr><tr><td>BR1210</td><td>Matra (including Deutsch-Bonnet, René Bonnet) Motors</td></tr><tr><td>BR1264</td><td>Merkur Motors</td></tr><tr><td>BR1559</td><td>Plymouth Motors</td></tr><tr><td>BR1573</td><td>Pontiac, Asüna Motors</td></tr><tr><td>BR2450</td><td>Jennings Ford Automobile Dealership</td></tr><tr><td>BR0083</td><td>Ariel Motors</td></tr><tr><td>BR0161</td><td>Auverland Motors</td></tr><tr><td>BR0197</td><td>BMW Motors</td></tr><tr><td>BR0481</td><td>Dodge Motors</td></tr><tr><td>BR0567</td><td>Fiat Motors</td></tr><tr><td>BR0945</td><td>Isuzu Motors</td></tr><tr><td>BR11406</td><td>Tata Motors</td></tr><tr><td>BR1521</td><td>Peugeot Motors</td></tr><tr><td>BR1814</td><td>Skoda Motors</td></tr><tr><td>BR2007</td><td>Vauxhall Motors</td></tr><tr><td>BR2405</td><td>Colman Automotive Building</td></tr><tr><td>BR0655</td><td>Freightliner Motors</td></tr><tr><td>BR0964</td><td>Jaguar Motors</td></tr><tr><td>BR1013</td><td>Koenigsegg Motors</td></tr><tr><td>BR1834</td><td>Spyker Motors</td></tr><tr><td>BR1835</td><td>Spyker Motors</td></tr><tr><td>BR0200</td><td>BMW Motors</td></tr><tr><td>BR0240</td><td>British Leyland Motors</td></tr><tr><td>BR0657</td><td>Freightliner Motors</td></tr><tr><td>BR0665</td><td>FSO Motors</td></tr><tr><td>BR0698</td><td>Gilbern Motors</td></tr><tr><td>BR0741</td><td>Gumpert Motors</td></tr><tr><td>BR1113</td><td>LTI Motors</td></tr><tr><td>BR1198</td><td>Mastretta Motors</td></tr><tr><td>BR1253</td><td>Mercury Motors</td></tr><tr><td>BR1807</td><td>Singer Motors</td></tr><tr><td>BR1897</td><td>Suzuki Motors</td></tr><tr><td>BR1905</td><td>Tata Motors</td></tr><tr><td>BR2000</td><td>UAZ Motors</td></tr><tr><td>BR6366</td><td>Land Rover Motors</td></tr><tr><td>BR0055</td><td>Alvis Motors</td></tr><tr><td>BR0902</td><td>Invicta Motors</td></tr><tr><td>BR1110</td><td>Lotus Motors</td></tr><tr><td>BR1511</td><td>Perodua Motors</td></tr><tr><td>BR2152</td><td>Maybach  Motors</td></tr><tr><td>BR2444</td><td>Jennings Ford Automobile Dealership</td></tr><tr><td>BR0066</td><td>Acura Motors</td></tr><tr><td>BR0294</td><td>Cadillac Motors</td></tr><tr><td>BR0814</td><td>Honda Motors</td></tr><tr><td>BR0839</td><td>Hudson Motors</td></tr><tr><td>BR0873</td><td>IFA (including Trabant, Wartburg, Barkas) Motors</td></tr><tr><td>BR11826</td><td>Turner Motors</td></tr><tr><td>BR1189</td><td>Maserati Motors</td></tr><tr><td>BR1259</td><td>Mercury Motors</td></tr><tr><td>BR1808</td><td>Singer Motors</td></tr><tr><td>BR2004</td><td>Vauxhall Motors</td></tr><tr><td>BR2027</td><td>Volkswagen Motors</td></tr><tr><td>BR0317</td><td>Checker Motors</td></tr><tr><td>BR1333</td><td>Monteverdi Motors</td></tr><tr><td>BR1651</td><td>Rivian Motors</td></tr><tr><td>BR1803</td><td>Singer Motors</td></tr><tr><td>BR2103</td><td>ZIL Motors</td></tr><tr><td>BR2132</td><td>Horch Motors</td></tr><tr><td>BR2260</td><td>Das Motors</td></tr><tr><td>BR2350</td><td>Buick Automobile Company Building</td></tr><tr><td>BR2421</td><td>Howard Motor Company Building</td></tr><tr><td>BR0071</td><td>Anadol Motors</td></tr><tr><td>BR0160</td><td>Auto-Union Motors</td></tr><tr><td>BR0175</td><td>Bentley Motors</td></tr><tr><td>BR0413</td><td>Daihatsu Motors</td></tr><tr><td>BR0635</td><td>Ford Europe Motors</td></tr><tr><td>BR0693</td><td>Gilbern Motors</td></tr><tr><td>BR0734</td><td>GTA Spano Motors</td></tr><tr><td>BR1663</td><td>Rolls-Royce Motors</td></tr><tr><td>BR1874</td><td>Subaru Motors</td></tr><tr><td>BR2122</td><td>DKW Motors</td></tr><tr><td>BR8886</td><td>Panoz Motors</td></tr><tr><td>BR0192</td><td>BMW Motors</td></tr><tr><td>BR0255</td><td>Austin, Rover Motors</td></tr><tr><td>BR0637</td><td>Ford Europe Motors</td></tr><tr><td>BR0757</td><td>Healey Motors</td></tr><tr><td>BR0965</td><td>Jaguar Motors</td></tr><tr><td>BR1078</td><td>Lexus Motors</td></tr><tr><td>BR1262</td><td>Merkur Motors</td></tr><tr><td>BR1352</td><td>Moskwitch Motors</td></tr><tr><td>BR1448</td><td>Opel Motors</td></tr><tr><td>BR1631</td><td>Reliant Motors</td></tr><tr><td>BR1633</td><td>Reliant Motors</td></tr><tr><td>BR1665</td><td>Rolls-Royce Motors</td></tr><tr><td>BR2169</td><td>Izh  Motors</td></tr><tr><td>BR2272</td><td>Deccan Motors</td></tr><tr><td>BR2318</td><td>2008 NRHP-listed</td></tr><tr><td>BR1224</td><td>Mazzanti Motors</td></tr><tr><td>BR1339</td><td>Monteverdi Motors</td></tr><tr><td>BR1699</td><td>Saleen Motors</td></tr><tr><td>BR1739</td><td>Santana Motors</td></tr><tr><td>BR1972</td><td>Turner Motors</td></tr><tr><td>BR2439</td><td>Hupmobile Building</td></tr><tr><td>BR0052</td><td>Alvis Motors</td></tr><tr><td>BR0119</td><td>Asia Motors Motors</td></tr><tr><td>BR0723</td><td>GMC Motors</td></tr><tr><td>BR1167</td><td>Marlin Motors</td></tr><tr><td>BR1545</td><td>Piaggio Motors</td></tr><tr><td>BR2401</td><td>Colman Automotive Building</td></tr><tr><td>BR2586</td><td>Datsun Motors</td></tr><tr><td>BR0419</td><td>Daihatsu Motors</td></tr><tr><td>BR0867</td><td>Hyundai Motors</td></tr><tr><td>BR1770</td><td>Seat Motors</td></tr><tr><td>BR1824</td><td>Smart Motors</td></tr><tr><td>BR2348</td><td>Buick Automobile Company Building</td></tr><tr><td>BR0185</td><td>Bitter Motors</td></tr><tr><td>BR0455</td><td>DeLorean Motors</td></tr><tr><td>BR0692</td><td>Gilbern Motors</td></tr><tr><td>BR0790</td><td>Hillman Motors</td></tr><tr><td>BR0955</td><td>Iveco Motors</td></tr><tr><td>BR0978</td><td>Jeep Motors</td></tr><tr><td>BR1420</td><td>NSU Motors</td></tr><tr><td>BR1522</td><td>Peugeot Motors</td></tr><tr><td>BR1719</td><td>San Motors</td></tr><tr><td>BR2335</td><td>Bohn Motor Company Automobile Dealership</td></tr><tr><td>BR1499</td><td>Panther Motors</td></tr><tr><td>BR3906</td><td>Freightliner Motors</td></tr><tr><td>BR6186</td><td>Lada Motors</td></tr><tr><td>BR0299</td><td>Cadillac Motors</td></tr><tr><td>BR0438</td><td>Datsun Motors</td></tr><tr><td>BR1629</td><td>Ranger Motors</td></tr><tr><td>BR1941</td><td>Tornado Motors</td></tr><tr><td>BR2032</td><td>Volkswagen do Brasil Motors</td></tr><tr><td>BR2057</td><td>Volvo Motors</td></tr><tr><td>BR2241</td><td>Talbot  Motors</td></tr><tr><td>BR0191</td><td>BMW Motors</td></tr><tr><td>BR0537</td><td>Elva Motors</td></tr><tr><td>BR1623</td><td>Ranger Motors</td></tr><tr><td>BR2284</td><td>Herald Motors</td></tr><tr><td>BR0035</td><td>Alfa Romeo Motors</td></tr><tr><td>BR0785</td><td>Hillman Motors</td></tr><tr><td>BR0818</td><td>Honda Motors</td></tr><tr><td>BR1137</td><td>Lynx Motors</td></tr><tr><td>BR1146</td><td>BMW Motors</td></tr><tr><td>BR1759</td><td>Scion Motors</td></tr><tr><td>BR2375</td><td>Cass Motor Sales</td></tr><tr><td>BR3426</td><td>Fiat do Brasil Motors</td></tr><tr><td>BR0613</td><td>Ford Australia Motors</td></tr><tr><td>BR1205</td><td>Matra (including Deutsch-Bonnet, René Bonnet) Motors</td></tr><tr><td>BR1515</td><td>Perodua Motors</td></tr><tr><td>BR1618</td><td>Puma Motors</td></tr><tr><td>BR2766</td><td>DeSoto Motors</td></tr><tr><td>BR0127</td><td>Aston Martin Motors</td></tr><tr><td>BR1447</td><td>Opel Motors</td></tr><tr><td>BR1823</td><td>Smart Motors</td></tr><tr><td>BR2259</td><td>Das Motors</td></tr><tr><td>BR0199</td><td>BMW Motors</td></tr><tr><td>BR0201</td><td>Bond Motors</td></tr><tr><td>BR0237</td><td>British Leyland Motors</td></tr><tr><td>BR0493</td><td>Donkervoort Motors</td></tr><tr><td>BR1041</td><td>Lamborghini Motors</td></tr><tr><td>BR1485</td><td>Panoz Motors</td></tr><tr><td>BR1527</td><td>Peugeot Motors</td></tr><tr><td>BR2417</td><td>H Street Playhouse</td></tr><tr><td>BR7266</td><td>Mazda Motors</td></tr><tr><td>BR0128</td><td>Aston Martin Motors</td></tr><tr><td>BR0234</td><td>British Leyland Motors</td></tr><tr><td>BR1029</td><td>KTM Motors</td></tr><tr><td>BR1125</td><td>LuAZ Motors</td></tr><tr><td>BR1219</td><td>Mazda Motors</td></tr><tr><td>BR1421</td><td>Oldsmobile Motors</td></tr><tr><td>BR1523</td><td>Peugeot Motors</td></tr><tr><td>BR1764</td><td>Seat Motors</td></tr><tr><td>BR2195</td><td>Morris  Motors</td></tr><tr><td>BR2200</td><td>Morris  Motors</td></tr><tr><td>BR2317</td><td>2008 NRHP-listed</td></tr><tr><td>BR0028</td><td>Aixam-Mega (including Arola) Motors</td></tr><tr><td>BR0038</td><td>Alfa Romeo Motors</td></tr><tr><td>BR0872</td><td>IFA (including Trabant, Wartburg, Barkas) Motors</td></tr><tr><td>BR0898</td><td>Innocenti Motors</td></tr><tr><td>BR0912</td><td>Isdera Motors</td></tr><tr><td>BR1005</td><td>Kia Motors</td></tr><tr><td>BR1147</td><td>Mahindra Motors</td></tr><tr><td>BR1999</td><td>UAZ Motors</td></tr><tr><td>BR2023</td><td>Volkswagen Motors</td></tr><tr><td>BR2108</td><td>ZIL Motors</td></tr><tr><td>BR2341</td><td>Buick Automobile Company Building</td></tr><tr><td>BR2344</td><td>Buick Automobile Company Building</td></tr><tr><td>BR0008</td><td>AC Cars Motors</td></tr><tr><td>BR0445</td><td>Delahaye Motors</td></tr><tr><td>BR1493</td><td>Panther Motors</td></tr><tr><td>BR1754</td><td>Scion Motors</td></tr><tr><td>BR2059</td><td>Volvo Motors</td></tr><tr><td>BR0024</td><td>Aixam-Mega (including Arola) Motors</td></tr><tr><td>BR0524</td><td>Eicher Polaris Motors</td></tr><tr><td>BR1218</td><td>Mazda Motors</td></tr><tr><td>BR1482</td><td>Panoz Motors</td></tr><tr><td>BR1687</td><td>SAIC Motor Motors</td></tr><tr><td>BR1838</td><td>Spyker Motors</td></tr><tr><td>BR1902</td><td>Tata Motors</td></tr><tr><td>BR1977</td><td>Turner Motors</td></tr><tr><td>BR2201</td><td>Austin  Motors</td></tr><tr><td>BR2374</td><td>Cass Motor Sales</td></tr><tr><td>BR1175</td><td>Maruti Motors</td></tr><tr><td>BR1544</td><td>Piaggio Motors</td></tr><tr><td>BR1641</td><td>Renault Motors</td></tr><tr><td>BR0214</td><td>Borgward (including Goliath and Lloyd) Motors</td></tr><tr><td>BR0588</td><td>Fiat India Motors</td></tr><tr><td>BR1049</td><td>Lamborghini Motors</td></tr><tr><td>BR1727</td><td>Santa Matilde Motors</td></tr><tr><td>BR2105</td><td>ZIL Motors</td></tr><tr><td>BR0369</td><td>Citroën Motors</td></tr><tr><td>BR0555</td><td>Ferrari Motors</td></tr><tr><td>BR0615</td><td>Ford Australia Motors</td></tr><tr><td>BR0840</td><td>Hudson Motors</td></tr><tr><td>BR1121</td><td>LuAZ Motors</td></tr><tr><td>BR1314</td><td>Mitsubishi Motors</td></tr><tr><td>BR1563</td><td>Polestar Motors</td></tr><tr><td>BR2239</td><td>Standard  Motors</td></tr><tr><td>BR2339</td><td>Bohn Motor Company Automobile Dealership</td></tr><tr><td>BR2393</td><td>Clemens Automobile Company Building</td></tr></tbody></table></div>"
      ]
     },
     "metadata": {
      "application/vnd.databricks.v1+output": {
       "addedWidgets": {},
       "aggData": [],
       "aggError": "",
       "aggOverflow": false,
       "aggSchema": [],
       "aggSeriesLimitReached": false,
       "aggType": "",
       "arguments": {},
       "columnCustomDisplayInfos": {},
       "data": [
        [
         "BR0131",
         "Audi Motors"
        ],
        [
         "BR0760",
         "Healey Motors"
        ],
        [
         "BR0789",
         "Hillman Motors"
        ],
        [
         "BR0938",
         "Isotta Fraschini Motors"
        ],
        [
         "BR1040",
         "Lada Motors"
        ],
        [
         "BR1693",
         "Saleen Motors"
        ],
        [
         "BR1792",
         "Simca do Brasil Motors"
        ],
        [
         "BR1799",
         "Simca do Brasil Motors"
        ],
        [
         "BR1955",
         "Toyota Motors"
        ],
        [
         "BR1978",
         "Turner Motors"
        ],
        [
         "BR2068",
         "Westfield Motors"
        ],
        [
         "BR2332",
         "Bohn Motor Company Automobile Dealership"
        ],
        [
         "BR0151",
         "Auto-Union Motors"
        ],
        [
         "BR0409",
         "DAF Motors"
        ],
        [
         "BR0434",
         "Datsun Motors"
        ],
        [
         "BR0599",
         "Fisker, Karma Motors"
        ],
        [
         "BR0753",
         "Healey Motors"
        ],
        [
         "BR1143",
         "Mahindra Motors"
        ],
        [
         "BR12246",
         "Volkswagen South Africa Motors"
        ],
        [
         "BR1233",
         "McLaren Motors"
        ],
        [
         "BR1558",
         "Plymouth Motors"
        ],
        [
         "BR1795",
         "Simca do Brasil Motors"
        ],
        [
         "BR1847",
         "SsangYong Motors"
        ],
        [
         "BR1943",
         "Tornado Motors"
        ],
        [
         "BR2054",
         "Volvo Motors"
        ],
        [
         "BR2063",
         "Westfield Motors"
        ],
        [
         "BR0019",
         "Acura Motors"
        ],
        [
         "BR0145",
         "Autobianchi Motors"
        ],
        [
         "BR0913",
         "Isdera Motors"
        ],
        [
         "BR1340",
         "Monteverdi Motors"
        ],
        [
         "BR1630",
         "Ranger Motors"
        ],
        [
         "BR1865",
         "Studebaker Motors"
        ],
        [
         "BR2139",
         "Horch Motors"
        ],
        [
         "BR0274",
         "Buick Motors"
        ],
        [
         "BR0308",
         "Caterham Motors"
        ],
        [
         "BR0399",
         "Daewoo, Saehan, Chevrolet Korea Motors"
        ],
        [
         "BR0471",
         "De Tomaso Motors"
        ],
        [
         "BR0731",
         "GTA Spano Motors"
        ],
        [
         "BR0759",
         "Healey Motors"
        ],
        [
         "BR1383",
         "Nissan Motors"
        ],
        [
         "BR1664",
         "Rolls-Royce Motors"
        ],
        [
         "BR1769",
         "Seat Motors"
        ],
        [
         "BR2262",
         "Ramani Motors"
        ],
        [
         "BR2352",
         "Cadillac Automobile Company Building"
        ],
        [
         "BR0114",
         "Asia Motors Motors"
        ],
        [
         "BR0462",
         "DeSoto Motors"
        ],
        [
         "BR0699",
         "Gilbern Motors"
        ],
        [
         "BR0793",
         "Hindustan Motors"
        ],
        [
         "BR1479",
         "Panhard Motors"
        ],
        [
         "BR2275",
         "Deccan Motors"
        ],
        [
         "BR0138",
         "Audi Motors"
        ],
        [
         "BR0202",
         "Bond Motors"
        ],
        [
         "BR0700",
         "Gilbern Motors"
        ],
        [
         "BR0988",
         "Jensen Motors"
        ],
        [
         "BR9246",
         "Piaggio Motors"
        ],
        [
         "BR0095",
         "ARO Motors"
        ],
        [
         "BR0351",
         "Chrysler Europe Motors"
        ],
        [
         "BR0368",
         "Citroën Motors"
        ],
        [
         "BR0614",
         "Ford Australia Motors"
        ],
        [
         "BR1248",
         "Mercedes-Benz (including Maybach) Motors"
        ],
        [
         "BR1884",
         "Sunbeam Motors"
        ],
        [
         "BR2035",
         "Volkswagen do Brasil Motors"
        ],
        [
         "BR0070",
         "AMC, Eagle Motors"
        ],
        [
         "BR0251",
         "Austin, Rover Motors"
        ],
        [
         "BR0262",
         "Bugatti Motors"
        ],
        [
         "BR1243",
         "Mercedes-Benz (including Maybach) Motors"
        ],
        [
         "BR1289",
         "Mia Motors"
        ],
        [
         "BR1405",
         "Noble Motors"
        ],
        [
         "BR2033",
         "Volkswagen do Brasil Motors"
        ],
        [
         "BR2329",
         "Blankinship Motor Company Building"
        ],
        [
         "BR2385",
         "Claremore Auto Dealership"
        ],
        [
         "BR0130",
         "Aston Martin Motors"
        ],
        [
         "BR0891",
         "Innocenti Motors"
        ],
        [
         "BR1177",
         "Maruti Motors"
        ],
        [
         "BR1321",
         "Monica Motors"
        ],
        [
         "BR13626",
         "Deccan Motors"
        ],
        [
         "BR0064",
         "AMC, Eagle Motors"
        ],
        [
         "BR0673",
         "GAZ Motors"
        ],
        [
         "BR0685",
         "Geo Motors"
        ],
        [
         "BR0718",
         "Glas Motors"
        ],
        [
         "BR1298",
         "Micro Motors"
        ],
        [
         "BR1300",
         "Micro Motors"
        ],
        [
         "BR1347",
         "Morgan Motors"
        ],
        [
         "BR1373",
         "Naza Motors"
        ],
        [
         "BR2337",
         "Bohn Motor Company Automobile Dealership"
        ],
        [
         "BR0231",
         "British Leyland Motors"
        ],
        [
         "BR0895",
         "Innocenti Motors"
        ],
        [
         "BR1228",
         "Mazzanti Motors"
        ],
        [
         "BR1617",
         "Puma Motors"
        ],
        [
         "BR1637",
         "Reliant Motors"
        ],
        [
         "BR1680",
         "Saab Motors"
        ],
        [
         "BR1821",
         "Smart Motors"
        ],
        [
         "BR1940",
         "Tesla Motors"
        ],
        [
         "BR2391",
         "Clemens Automobile Company Building"
        ],
        [
         "BR2467",
         "Kindel Building"
        ],
        [
         "BR3186",
         "Elva Motors"
        ],
        [
         "BR5466",
         "Isdera Motors"
        ],
        [
         "BR9126",
         "Peugeot Motors"
        ],
        [
         "BR0104",
         "Artega Motors"
        ],
        [
         "BR0354",
         "Chrysler Europe Motors"
        ],
        [
         "BR0494",
         "Donkervoort Motors"
        ],
        [
         "BR0528",
         "Eicher Polaris Motors"
        ],
        [
         "BR1074",
         "Lexus Motors"
        ],
        [
         "BR1503",
         "Peel Motors"
        ],
        [
         "BR1718",
         "San Motors"
        ],
        [
         "BR1864",
         "Studebaker Motors"
        ],
        [
         "BR1993",
         "UAZ Motors"
        ],
        [
         "BR2217",
         "Riley  Motors"
        ],
        [
         "BR0682",
         "Geo Motors"
        ],
        [
         "BR0905",
         "Invicta Motors"
        ],
        [
         "BR10686",
         "Simca Motors"
        ],
        [
         "BR1325",
         "Monica Motors"
        ],
        [
         "BR1568",
         "Polestar Motors"
        ],
        [
         "BR1822",
         "Smart Motors"
        ],
        [
         "BR2154",
         "Maybach  Motors"
        ],
        [
         "BR0011",
         "Acura Motors"
        ],
        [
         "BR0115",
         "Asia Motors Motors"
        ],
        [
         "BR0223",
         "Bristol Motors"
        ],
        [
         "BR0490",
         "Dodge Motors"
        ],
        [
         "BR0625",
         "Ford do Brasil Motors"
        ],
        [
         "BR1111",
         "LTI Motors"
        ],
        [
         "BR1829",
         "Smart Motors"
        ],
        [
         "BR2277",
         "Deccan Motors"
        ],
        [
         "BR2369",
         "Casa de cadillac"
        ],
        [
         "BR6066",
         "Koenigsegg Motors"
        ],
        [
         "BR0512",
         "e.GO Mobile Motors"
        ],
        [
         "BR0584",
         "Fiat India Motors"
        ],
        [
         "BR1691",
         "Saleen Motors"
        ],
        [
         "BR1845",
         "SsangYong Motors"
        ],
        [
         "BR1932",
         "Tesla Motors"
        ],
        [
         "BR0360",
         "Chrysler Europe Motors"
        ],
        [
         "BR0388",
         "Dacia Motors"
        ],
        [
         "BR0486",
         "Ariel Motors"
        ],
        [
         "BR0811",
         "Honda Motors"
        ],
        [
         "BR1105",
         "Lotus Motors"
        ],
        [
         "BR1762",
         "Seat Motors"
        ],
        [
         "BR1768",
         "Seat Motors"
        ],
        [
         "BR1960",
         "Toyota Motors"
        ],
        [
         "BR2322",
         "Blankinship Motor Company Building"
        ],
        [
         "BR2412",
         "H Street Playhouse"
        ],
        [
         "BR2440",
         "Hupmobile Building"
        ],
        [
         "BR0058",
         "Alvis Motors"
        ],
        [
         "BR0447",
         "Delahaye Motors"
        ],
        [
         "BR0479",
         "De Tomaso Motors"
        ],
        [
         "BR0501",
         "Edsel Motors"
        ],
        [
         "BR0919",
         "Isdera Motors"
        ],
        [
         "BR1152",
         "Marcos Motors"
        ],
        [
         "BR2289",
         "Herald Motors"
        ],
        [
         "BR9426",
         "Pontiac, Asüna Motors"
        ],
        [
         "BR0027",
         "Aixam-Mega (including Arola) Motors"
        ],
        [
         "BR0411",
         "Daihatsu Motors"
        ],
        [
         "BR1140",
         "Lynx Motors"
        ],
        [
         "BR2087",
         "Zastava Motors"
        ],
        [
         "BR2155",
         "Maybach  Motors"
        ],
        [
         "BR2233",
         "Standard  Motors"
        ],
        [
         "BR5406",
         "Invicta Motors"
        ],
        [
         "BR0463",
         "DeSoto Motors"
        ],
        [
         "BR0606",
         "Artega Motors"
        ],
        [
         "BR0662",
         "FSO Motors"
        ],
        [
         "BR1180",
         "Maruti Motors"
        ],
        [
         "BR1380",
         "Naza Motors"
        ],
        [
         "BR13986",
         "Bohn Motor Company Automobile Dealership"
        ],
        [
         "BR1553",
         "Plymouth Motors"
        ],
        [
         "BR1789",
         "Simca Motors"
        ],
        [
         "BR1957",
         "Toyota Motors"
        ],
        [
         "BR2025",
         "Volkswagen Motors"
        ],
        [
         "BR2100",
         "ZAZ Motors"
        ],
        [
         "BR2378",
         "Cass Motor Sales"
        ],
        [
         "BR0089",
         "Ariel Motors"
        ],
        [
         "BR0608",
         "Ford America Motors"
        ],
        [
         "BR0941",
         "Isuzu Motors"
        ],
        [
         "BR1273",
         "Messerschmitt Motors"
        ],
        [
         "BR1860",
         "Standard-Triumph Motors"
        ],
        [
         "BR1888",
         "Sunbeam Motors"
        ],
        [
         "BR2142",
         "Wanderer Motors"
        ],
        [
         "BR2319",
         "2008 NRHP-listed"
        ],
        [
         "BR0264",
         "Bugatti Motors"
        ],
        [
         "BR0498",
         "Donkervoort Motors"
        ],
        [
         "BR0829",
         "Honda India Motors"
        ],
        [
         "BR0890",
         "Infiniti Motors"
        ],
        [
         "BR1044",
         "Lamborghini Motors"
        ],
        [
         "BR13746",
         "Zion Automobils"
        ],
        [
         "BR1398",
         "Nissan India Motors"
        ],
        [
         "BR1877",
         "Subaru Motors"
        ],
        [
         "BR1927",
         "Tazzari Motors"
        ],
        [
         "BR2410",
         "Colman Automotive Building"
        ],
        [
         "BR0534",
         "Elva Motors"
        ],
        [
         "BR1442",
         "Opel Motors"
        ],
        [
         "BR1722",
         "Santa Matilde Motors"
        ],
        [
         "BR1990",
         "TVR Motors"
        ],
        [
         "BR2070",
         "Westfield Motors"
        ],
        [
         "BR2204",
         "Austin  Motors"
        ],
        [
         "BR0204",
         "Bond Motors"
        ],
        [
         "BR0717",
         "Glas Motors"
        ],
        [
         "BR0947",
         "Isuzu Motors"
        ],
        [
         "BR0983",
         "Jensen Motors"
        ],
        [
         "BR1003",
         "Kia Motors"
        ],
        [
         "BR11706",
         "Toyota Motors"
        ],
        [
         "BR1232",
         "McLaren Motors"
        ],
        [
         "BR1688",
         "SAIC Motor Motors"
        ],
        [
         "BR1809",
         "Singer Motors"
        ],
        [
         "BR1968",
         "Toyota India Motors"
        ],
        [
         "BR2018",
         "Venturi Motors"
        ],
        [
         "BR2022",
         "Volkswagen Motors"
        ],
        [
         "BR2226",
         "Cizeta-Moroder Motors"
        ],
        [
         "BR0235",
         "British Leyland Motors"
        ],
        [
         "BR0634",
         "Ford Europe Motors"
        ],
        [
         "BR0889",
         "Infiniti Motors"
        ],
        [
         "BR1318",
         "Mitsubishi Motors"
        ],
        [
         "BR1626",
         "Buick Motors"
        ],
        [
         "BR2267",
         "Ramani Motors"
        ],
        [
         "BR0591",
         "Fisker, Karma Motors"
        ],
        [
         "BR0642",
         "Ford India Motors"
        ],
        [
         "BR0930",
         "Iso Motors"
        ],
        [
         "BR1027",
         "KTM Motors"
        ],
        [
         "BR1065",
         "Land Rover Motors"
        ],
        [
         "BR1382",
         "Nissan Motors"
        ],
        [
         "BR1749",
         "Saturn Motors"
        ],
        [
         "BR2433",
         "Hupmobile Building"
        ],
        [
         "BR8406",
         "Noble Motors"
        ],
        [
         "BR0040",
         "Alfa Romeo Motors"
        ],
        [
         "BR0218",
         "Borgward (including Goliath and Lloyd) Motors"
        ],
        [
         "BR0337",
         "Chevrolet India Motors"
        ],
        [
         "BR1162",
         "Marlin Motors"
        ],
        [
         "BR0082",
         "Ariel Motors"
        ],
        [
         "BR0164",
         "Auverland Motors"
        ],
        [
         "BR0598",
         "Fisker, Karma Motors"
        ],
        [
         "BR0735",
         "GTA Spano Motors"
        ],
        [
         "BR1063",
         "Land Rover Motors"
        ],
        [
         "BR1579",
         "Pontiac, Asüna Motors"
        ],
        [
         "BR2149",
         "Wanderer Motors"
        ],
        [
         "BR2168",
         "Izh  Motors"
        ],
        [
         "BR0279",
         "Buick Motors"
        ],
        [
         "BR0884",
         "Infiniti Motors"
        ],
        [
         "BR1048",
         "Lamborghini Motors"
        ],
        [
         "BR1094",
         "Lincoln Motors"
        ],
        [
         "BR1292",
         "Micro Motors"
        ],
        [
         "BR1323",
         "Monica Motors"
        ],
        [
         "BR1395",
         "Nissan India Motors"
        ],
        [
         "BR1424",
         "Oldsmobile Motors"
        ],
        [
         "BR1477",
         "Panhard Motors"
        ],
        [
         "BR1670",
         "Rolls-Royce Motors"
        ],
        [
         "BR1708",
         "Samsung Motors"
        ],
        [
         "BR2039",
         "Volkswagen do Brasil Motors"
        ],
        [
         "BR2404",
         "Colman Automotive Building"
        ],
        [
         "BR0270",
         "Bugatti Motors"
        ],
        [
         "BR0275",
         "Buick Motors"
        ],
        [
         "BR0378",
         "Cizeta-Moroder Motors"
        ],
        [
         "BR0405",
         "DAF Motors"
        ],
        [
         "BR0592",
         "Fisker, Karma Motors"
        ],
        [
         "BR0881",
         "Infiniti Motors"
        ],
        [
         "BR0963",
         "Jaguar Motors"
        ],
        [
         "BR1320",
         "Mitsubishi Motors"
        ],
        [
         "BR1531",
         "PGO Motors"
        ],
        [
         "BR1612",
         "Puma Motors"
        ],
        [
         "BR1873",
         "Subaru Motors"
        ],
        [
         "BR2077",
         "Wiesmann Motors"
        ],
        [
         "BR2143",
         "Wanderer Motors"
        ],
        [
         "BR2223",
         "Wolseley  Motors"
        ],
        [
         "BR0509",
         "Edsel Motors"
        ],
        [
         "BR1267",
         "Merkur Motors"
        ],
        [
         "BR2225",
         "Wolseley  Motors"
        ],
        [
         "BR0168",
         "Auverland Motors"
        ],
        [
         "BR0318",
         "Checker Motors"
        ],
        [
         "BR0362",
         "Citroën Motors"
        ],
        [
         "BR0562",
         "Fiat Motors"
        ],
        [
         "BR0738",
         "GTA Spano Motors"
        ],
        [
         "BR0805",
         "Holden Motors"
        ],
        [
         "BR0934",
         "Isotta Fraschini Motors"
        ],
        [
         "BR1051",
         "Lancia Motors"
        ],
        [
         "BR11466",
         "Tatra Motors"
        ],
        [
         "BR1192",
         "Mastretta Motors"
        ],
        [
         "BR1746",
         "Cadillac Motors"
        ],
        [
         "BR1830",
         "Smart Motors"
        ],
        [
         "BR2297",
         "Zion Automobils"
        ],
        [
         "BR8046",
         "Morgan Motors"
        ],
        [
         "BR0037",
         "Alfa Romeo Motors"
        ],
        [
         "BR0268",
         "Bugatti Motors"
        ],
        [
         "BR0367",
         "Citroën Motors"
        ],
        [
         "BR1212",
         "Mazda Motors"
        ],
        [
         "BR13806",
         "Atlantic Motor Company"
        ],
        [
         "BR1491",
         "Panther Motors"
        ],
        [
         "BR1750",
         "Saturn Motors"
        ],
        [
         "BR1820",
         "Skoda Motors"
        ],
        [
         "BR2037",
         "Volkswagen do Brasil Motors"
        ],
        [
         "BR2248",
         "Talbot  Motors"
        ],
        [
         "BR2280",
         "Deccan Motors"
        ],
        [
         "BR7926",
         "Monica Motors"
        ],
        [
         "BR1149",
         "Mahindra Motors"
        ],
        [
         "BR1449",
         "Opel Motors"
        ],
        [
         "BR6786",
         "Lynx Motors"
        ],
        [
         "BR0059",
         "Alvis Motors"
        ],
        [
         "BR0497",
         "Donkervoort Motors"
        ],
        [
         "BR0561",
         "Fiat Motors"
        ],
        [
         "BR0933",
         "Isotta Fraschini Motors"
        ],
        [
         "BR1164",
         "Marlin Motors"
        ],
        [
         "BR11946",
         "UAZ Motors"
        ],
        [
         "BR1399",
         "Nissan India Motors"
        ],
        [
         "BR1414",
         "NSU Motors"
        ],
        [
         "BR1935",
         "Tesla Motors"
        ],
        [
         "BR2210",
         "Austin  Motors"
        ],
        [
         "BR3306",
         "Ferrari Motors"
        ],
        [
         "BR3546",
         "Fisker, Karma Motors"
        ],
        [
         "BR0075",
         "Anadol Motors"
        ],
        [
         "BR0135",
         "Audi Motors"
        ],
        [
         "BR0163",
         "Auverland Motors"
        ],
        [
         "BR0491",
         "Donkervoort Motors"
        ],
        [
         "BR0647",
         "Ford India Motors"
        ],
        [
         "BR0765",
         "Heinkel Motors"
        ],
        [
         "BR10206",
         "Samsung Motors"
        ],
        [
         "BR1353",
         "Moskwitch Motors"
        ],
        [
         "BR1561",
         "Polestar Motors"
        ],
        [
         "BR1828",
         "Smart Motors"
        ],
        [
         "BR2062",
         "Westfield Motors"
        ],
        [
         "BR2084",
         "Zastava Motors"
        ],
        [
         "BR2383",
         "Claremore Auto Dealership"
        ],
        [
         "BR0451",
         "DeLorean Motors"
        ],
        [
         "BR0701",
         "Ginetta Motors"
        ],
        [
         "BR0786",
         "Audi Motors"
        ],
        [
         "BR1293",
         "Micro Motors"
        ],
        [
         "BR2191",
         "Morris  Motors"
        ],
        [
         "BR4146",
         "Gilbern Motors"
        ],
        [
         "BR0285",
         "Bytom Motors"
        ],
        [
         "BR0525",
         "Eicher Polaris Motors"
        ],
        [
         "BR0714",
         "Glas Motors"
        ],
        [
         "BR1452",
         "Packard Motors"
        ],
        [
         "BR1660",
         "Rivian Motors"
        ],
        [
         "BR2244",
         "Talbot  Motors"
        ],
        [
         "BR5646",
         "Isuzu Motors"
        ],
        [
         "BR0575",
         "Fiat do Brasil Motors"
        ],
        [
         "BR0803",
         "Holden Motors"
        ],
        [
         "BR1195",
         "Mastretta Motors"
        ],
        [
         "BR1279",
         "Messerschmitt Motors"
        ],
        [
         "BR1844",
         "SsangYong Motors"
        ],
        [
         "BR2221",
         "Wolseley  Motors"
        ],
        [
         "BR0553",
         "Ferrari Motors"
        ],
        [
         "BR0579",
         "Fiat do Brasil Motors"
        ],
        [
         "BR0841",
         "Humber Motors"
        ],
        [
         "BR1045",
         "Lamborghini Motors"
        ],
        [
         "BR1112",
         "LTI Motors"
        ],
        [
         "BR12186",
         "Volkswagen do Brasil Motors"
        ],
        [
         "BR12366",
         "Westfield Motors"
        ],
        [
         "BR1460",
         "Packard Motors"
        ],
        [
         "BR1597",
         "Premier Motors"
        ],
        [
         "BR2192",
         "Morris  Motors"
        ],
        [
         "BR0158",
         "Auto-Union Motors"
        ],
        [
         "BR0243",
         "Austin-Healey Motors"
        ],
        [
         "BR0298",
         "Cadillac Motors"
        ],
        [
         "BR0771",
         "Hennessey Motors"
        ],
        [
         "BR0857",
         "Hummer Motors"
        ],
        [
         "BR1155",
         "Marcos Motors"
        ],
        [
         "BR12786",
         "Horch Motors"
        ],
        [
         "BR12966",
         "Izh  Motors"
        ],
        [
         "BR2185",
         "MG  Motors"
        ],
        [
         "BR7446",
         "Mercedes-Benz (including Maybach) Motors"
        ],
        [
         "BR0172",
         "Bentley Motors"
        ],
        [
         "BR0392",
         "Daewoo, Saehan, Chevrolet Korea Motors"
        ],
        [
         "BR0943",
         "Isuzu Motors"
        ],
        [
         "BR1047",
         "Lamborghini Motors"
        ],
        [
         "BR14706",
         "Jones Motor Company"
        ],
        [
         "BR1598",
         "Premier Motors"
        ],
        [
         "BR1755",
         "Scion Motors"
        ],
        [
         "BR2005",
         "Vauxhall Motors"
        ],
        [
         "BR2188",
         "MG  Motors"
        ],
        [
         "BR0017",
         "Acura Motors"
        ],
        [
         "BR0651",
         "Freightliner Motors"
        ],
        [
         "BR0900",
         "Innocenti Motors"
        ],
        [
         "BR1288",
         "Mia Motors"
        ],
        [
         "BR1330",
         "Monica Motors"
        ],
        [
         "BR1390",
         "Nissan Motors"
        ],
        [
         "BR1862",
         "Studebaker Motors"
        ],
        [
         "BR1871",
         "Subaru Motors"
        ],
        [
         "BR1939",
         "Tesla Motors"
        ],
        [
         "BR1951",
         "Toyota Motors"
        ],
        [
         "BR2083",
         "Zastava Motors"
        ],
        [
         "BR2415",
         "H Street Playhouse"
        ],
        [
         "BR4086",
         "Geo Motors"
        ],
        [
         "BR0708",
         "Ginetta Motors"
        ],
        [
         "BR0801",
         "Holden Motors"
        ],
        [
         "BR1220",
         "Mazda Motors"
        ],
        [
         "BR1369",
         "Nash Motors"
        ],
        [
         "BR1384",
         "Nissan Motors"
        ],
        [
         "BR1464",
         "Pagani Motors"
        ],
        [
         "BR1778",
         "Shelby SuperCars Motors"
        ],
        [
         "BR2097",
         "ZAZ Motors"
        ],
        [
         "BR1438",
         "Oltcit Motors"
        ],
        [
         "BR1461",
         "Pagani Motors"
        ],
        [
         "BR1771",
         "Shelby SuperCars Motors"
        ],
        [
         "BR2445",
         "Jennings Ford Automobile Dealership"
        ],
        [
         "BR2449",
         "Jennings Ford Automobile Dealership"
        ],
        [
         "BR2706",
         "DeLorean Motors"
        ],
        [
         "BR0347",
         "Chrysler Motors"
        ],
        [
         "BR0353",
         "Chrysler Europe Motors"
        ],
        [
         "BR0604",
         "Ford America Motors"
        ],
        [
         "BR0770",
         "Heinkel Motors"
        ],
        [
         "BR1632",
         "Reliant Motors"
        ],
        [
         "BR2420",
         "H Street Playhouse"
        ],
        [
         "BR4986",
         "Hudson Motors"
        ],
        [
         "BR0980",
         "Jeep Motors"
        ],
        [
         "BR1861",
         "Studebaker Motors"
        ],
        [
         "BR1991",
         "UAZ Motors"
        ],
        [
         "BR2308",
         "Atlantic Motor Company"
        ],
        [
         "BR2452",
         "Jones Motor Company"
        ],
        [
         "BR6486",
         "Ligier Motors"
        ],
        [
         "BR0225",
         "Bristol Motors"
        ],
        [
         "BR0269",
         "Bugatti Motors"
        ],
        [
         "BR0300",
         "Cadillac Motors"
        ],
        [
         "BR0415",
         "Daihatsu Motors"
        ],
        [
         "BR0732",
         "GTA Spano Motors"
        ],
        [
         "BR0927",
         "Iso Motors"
        ],
        [
         "BR1608",
         "Proton Motors"
        ],
        [
         "BR1913",
         "Tatra Motors"
        ],
        [
         "BR1917",
         "Tatra Motors"
        ],
        [
         "BR2047",
         "Volkswagen South Africa Motors"
        ],
        [
         "BR2179",
         "Lagonda  Motors"
        ],
        [
         "BR2237",
         "Standard  Motors"
        ],
        [
         "BR2946",
         "Donkervoort Motors"
        ],
        [
         "BR0001",
         "AC Cars Motors"
        ],
        [
         "BR0018",
         "Acura Motors"
        ],
        [
         "BR0304",
         "Caterham Motors"
        ],
        [
         "BR0407",
         "DAF Motors"
        ],
        [
         "BR0960",
         "Iveco Motors"
        ],
        [
         "BR0989",
         "Jensen Motors"
        ],
        [
         "BR10326",
         "Santa Matilde Motors"
        ],
        [
         "BR1418",
         "NSU Motors"
        ],
        [
         "BR1600",
         "Premier Motors"
        ],
        [
         "BR1757",
         "Scion Motors"
        ],
        [
         "BR1931",
         "Tesla Motors"
        ],
        [
         "BR2072",
         "Wiesmann Motors"
        ],
        [
         "BR2117",
         "Audi Motors"
        ],
        [
         "BR7746",
         "Micro Motors"
        ],
        [
         "BR0013",
         "Acura Motors"
        ],
        [
         "BR0182",
         "Bitter Motors"
        ],
        [
         "BR0219",
         "Borgward (including Goliath and Lloyd) Motors"
        ],
        [
         "BR0252",
         "Austin, Rover Motors"
        ],
        [
         "BR0363",
         "Citroën Motors"
        ],
        [
         "BR0792",
         "Hindustan Motors"
        ],
        [
         "BR0877",
         "IFA (including Trabant, Wartburg, Barkas) Motors"
        ],
        [
         "BR0888",
         "Infiniti Motors"
        ],
        [
         "BR0972",
         "Jeep Motors"
        ],
        [
         "BR12006",
         "Vauxhall Motors"
        ],
        [
         "BR1547",
         "Piaggio Motors"
        ],
        [
         "BR2061",
         "Westfield Motors"
        ],
        [
         "BR2158",
         "Maybach  Motors"
        ],
        [
         "BR2252",
         "Das Motors"
        ],
        [
         "BR2377",
         "Cass Motor Sales"
        ],
        [
         "BR0505",
         "Edsel Motors"
        ],
        [
         "BR10986",
         "Spyker Motors"
        ],
        [
         "BR1351",
         "Moskwitch Motors"
        ],
        [
         "BR1549",
         "Piaggio Motors"
        ],
        [
         "BR1604",
         "Proton Motors"
        ],
        [
         "BR1677",
         "Saab Motors"
        ],
        [
         "BR1840",
         "Spyker Motors"
        ],
        [
         "BR1863",
         "Studebaker Motors"
        ],
        [
         "BR1919",
         "Tatra Motors"
        ],
        [
         "BR2147",
         "Wanderer Motors"
        ],
        [
         "BR2160",
         "Maybach  Motors"
        ],
        [
         "BR2293",
         "Zion Automobils"
        ],
        [
         "BR2406",
         "DAF Motors"
        ],
        [
         "BR8106",
         "Moskwitch Motors"
        ],
        [
         "BR0531",
         "Elva Motors"
        ],
        [
         "BR0691",
         "Gilbern Motors"
        ],
        [
         "BR0828",
         "Honda India Motors"
        ],
        [
         "BR10566",
         "Seat Motors"
        ],
        [
         "BR1067",
         "Land Rover Motors"
        ],
        [
         "BR1812",
         "Skoda Motors"
        ],
        [
         "BR1910",
         "Tata Motors"
        ],
        [
         "BR2291",
         "Zion Automobils"
        ],
        [
         "BR7866",
         "Mitsubishi Motors"
        ],
        [
         "BR1270",
         "Merkur Motors"
        ],
        [
         "BR13926",
         "Blankinship Motor Company Building"
        ],
        [
         "BR1984",
         "TVR Motors"
        ],
        [
         "BR2050",
         "Volkswagen South Africa Motors"
        ],
        [
         "BR2213",
         "Riley  Motors"
        ],
        [
         "BR2360",
         "Cadillac Automobile Company Building"
        ],
        [
         "BR2646",
         "Delahaye Motors"
        ],
        [
         "BR5046",
         "Humber Motors"
        ],
        [
         "BR0065",
         "AMC, Eagle Motors"
        ],
        [
         "BR0313",
         "Checker Motors"
        ],
        [
         "BR0393",
         "Daewoo, Saehan, Chevrolet Korea Motors"
        ],
        [
         "BR0802",
         "Holden Motors"
        ],
        [
         "BR1413",
         "NSU Motors"
        ],
        [
         "BR1681",
         "SAIC Motor Motors"
        ],
        [
         "BR1735",
         "Santana Motors"
        ],
        [
         "BR1752",
         "Scion Motors"
        ],
        [
         "BR2064",
         "Westfield Motors"
        ],
        [
         "BR2125",
         "DKW Motors"
        ],
        [
         "BR0189",
         "Bitter Motors"
        ],
        [
         "BR0513",
         "e.GO Mobile Motors"
        ],
        [
         "BR0544",
         "Facel Vega Motors"
        ],
        [
         "BR0775",
         "Hennessey Motors"
        ],
        [
         "BR1445",
         "Opel Motors"
        ],
        [
         "BR1654",
         "Rivian Motors"
        ],
        [
         "BR1743",
         "Saturn Motors"
        ],
        [
         "BR2046",
         "Chrysler Motors"
        ],
        [
         "BR2138",
         "Horch Motors"
        ],
        [
         "BR0006",
         "AC Cars Motors"
        ],
        [
         "BR0139",
         "Audi Motors"
        ],
        [
         "BR0649",
         "Ford India Motors"
        ],
        [
         "BR1050",
         "Lamborghini Motors"
        ],
        [
         "BR1071",
         "Lexus Motors"
        ],
        [
         "BR12486",
         "Zastava Motors"
        ],
        [
         "BR1307",
         "Mini Motors"
        ],
        [
         "BR1661",
         "Rolls-Royce Motors"
        ],
        [
         "BR1832",
         "Spyker Motors"
        ],
        [
         "BR1934",
         "Tesla Motors"
        ],
        [
         "BR2065",
         "Westfield Motors"
        ],
        [
         "BR2129",
         "DKW Motors"
        ],
        [
         "BR2441",
         "Jennings Ford Automobile Dealership"
        ],
        [
         "BR0153",
         "Auto-Union Motors"
        ],
        [
         "BR0968",
         "Jaguar Motors"
        ],
        [
         "BR11586",
         "Tesla Motors"
        ],
        [
         "BR1255",
         "Mercury Motors"
        ],
        [
         "BR1402",
         "Noble Motors"
        ],
        [
         "BR1965",
         "Toyota India Motors"
        ],
        [
         "BR1969",
         "Toyota India Motors"
        ],
        [
         "BR2085",
         "Zastava Motors"
        ],
        [
         "BR2288",
         "Herald Motors"
        ],
        [
         "BR5706",
         "Iveco Motors"
        ],
        [
         "BR0461",
         "DeSoto Motors"
        ],
        [
         "BR0568",
         "Fiat Motors"
        ],
        [
         "BR0666",
         "Asia Motors Motors"
        ],
        [
         "BR0773",
         "Hennessey Motors"
        ],
        [
         "BR0852",
         "Hummer Motors"
        ],
        [
         "BR1322",
         "Monica Motors"
        ],
        [
         "BR0032",
         "Alfa Romeo Motors"
        ],
        [
         "BR0212",
         "Borgward (including Goliath and Lloyd) Motors"
        ],
        [
         "BR0728",
         "GMC Motors"
        ],
        [
         "BR0861",
         "Hyundai Motors"
        ],
        [
         "BR0868",
         "Hyundai Motors"
        ],
        [
         "BR0966",
         "Auverland Motors"
        ],
        [
         "BR1182",
         "Maserati Motors"
        ],
        [
         "BR0762",
         "Heinkel Motors"
        ],
        [
         "BR13506",
         "Das Motors"
        ],
        [
         "BR14586",
         "Hupmobile Building"
        ],
        [
         "BR1628",
         "Ranger Motors"
        ],
        [
         "BR1658",
         "Rivian Motors"
        ],
        [
         "BR1711",
         "San Motors"
        ],
        [
         "BR1763",
         "Seat Motors"
        ],
        [
         "BR1989",
         "TVR Motors"
        ],
        [
         "BR2468",
         "Kindel Building"
        ],
        [
         "BR0031",
         "Alfa Romeo Motors"
        ],
        [
         "BR0121",
         "Aston Martin Motors"
        ],
        [
         "BR0171",
         "Bentley Motors"
        ],
        [
         "BR0500",
         "Donkervoort Motors"
        ],
        [
         "BR0638",
         "Ford Europe Motors"
        ],
        [
         "BR0650",
         "Ford India Motors"
        ],
        [
         "BR1017",
         "Koenigsegg Motors"
        ],
        [
         "BR10746",
         "Simca do Brasil Motors"
        ],
        [
         "BR1263",
         "Merkur Motors"
        ],
        [
         "BR1403",
         "Noble Motors"
        ],
        [
         "BR1947",
         "Tornado Motors"
        ],
        [
         "BR2447",
         "Jennings Ford Automobile Dealership"
        ],
        [
         "BR3246",
         "Facel Vega Motors"
        ],
        [
         "BR0169",
         "Auverland Motors"
        ],
        [
         "BR0517",
         "e.GO Mobile Motors"
        ],
        [
         "BR0911",
         "Isdera Motors"
        ],
        [
         "BR1197",
         "Mastretta Motors"
        ],
        [
         "BR1525",
         "Peugeot Motors"
        ],
        [
         "BR1529",
         "Peugeot Motors"
        ],
        [
         "BR1564",
         "Polestar Motors"
        ],
        [
         "BR1577",
         "Pontiac, Asüna Motors"
        ],
        [
         "BR1592",
         "Premier Motors"
        ],
        [
         "BR1855",
         "Standard-Triumph Motors"
        ],
        [
         "BR2150",
         "Wanderer Motors"
        ],
        [
         "BR0315",
         "Checker Motors"
        ],
        [
         "BR0408",
         "DAF Motors"
        ],
        [
         "BR0502",
         "Edsel Motors"
        ],
        [
         "BR0504",
         "Edsel Motors"
        ],
        [
         "BR0572",
         "Fiat do Brasil Motors"
        ],
        [
         "BR0617",
         "Ford Australia Motors"
        ],
        [
         "BR0794",
         "Hindustan Motors"
        ],
        [
         "BR0849",
         "Humber Motors"
        ],
        [
         "BR0958",
         "Iveco Motors"
        ],
        [
         "BR0995",
         "JPX Motors"
        ],
        [
         "BR13026",
         "Lagonda  Motors"
        ],
        [
         "BR1574",
         "Pontiac, Asüna Motors"
        ],
        [
         "BR1594",
         "Premier Motors"
        ],
        [
         "BR1731",
         "Santana Motors"
        ],
        [
         "BR1944",
         "Tornado Motors"
        ],
        [
         "BR2115",
         "Audi Motors"
        ],
        [
         "BR0125",
         "Aston Martin Motors"
        ],
        [
         "BR0297",
         "Cadillac Motors"
        ],
        [
         "BR0372",
         "Cizeta-Moroder Motors"
        ],
        [
         "BR0798",
         "Hindustan Motors"
        ],
        [
         "BR0939",
         "Isotta Fraschini Motors"
        ],
        [
         "BR1302",
         "Mini Motors"
        ],
        [
         "BR1377",
         "Naza Motors"
        ],
        [
         "BR14226",
         "Cass Motor Sales"
        ],
        [
         "BR14526",
         "Howard Motor Company Building"
        ],
        [
         "BR1463",
         "Pagani Motors"
        ],
        [
         "BR1473",
         "Panhard Motors"
        ],
        [
         "BR1952",
         "Toyota Motors"
        ],
        [
         "BR2021",
         "Volkswagen Motors"
        ],
        [
         "BR5886",
         "Jensen Motors"
        ],
        [
         "BR0053",
         "Alvis Motors"
        ],
        [
         "BR0054",
         "Alvis Motors"
        ],
        [
         "BR0514",
         "e.GO Mobile Motors"
        ],
        [
         "BR0744",
         "Gumpert Motors"
        ],
        [
         "BR1012",
         "Koenigsegg Motors"
        ],
        [
         "BR1159",
         "Marcos Motors"
        ],
        [
         "BR1444",
         "Opel Motors"
        ],
        [
         "BR1721",
         "Santa Matilde Motors"
        ],
        [
         "BR1753",
         "Scion Motors"
        ],
        [
         "BR2090",
         "Zastava Motors"
        ],
        [
         "BR2399",
         "Clemens Automobile Company Building"
        ],
        [
         "BR0140",
         "Audi Motors"
        ],
        [
         "BR0690",
         "Geo Motors"
        ],
        [
         "BR0922",
         "Iso Motors"
        ],
        [
         "BR1349",
         "Morgan Motors"
        ],
        [
         "BR1737",
         "Santana Motors"
        ],
        [
         "BR1949",
         "Tornado Motors"
        ],
        [
         "BR4806",
         "Holden Motors"
        ],
        [
         "BR5826",
         "Jeep Motors"
        ],
        [
         "BR8646",
         "Opel Motors"
        ],
        [
         "BR0352",
         "Chrysler Europe Motors"
        ],
        [
         "BR0458",
         "DeLorean Motors"
        ],
        [
         "BR0784",
         "Hillman Motors"
        ],
        [
         "BR1230",
         "Mazzanti Motors"
        ],
        [
         "BR1425",
         "Oldsmobile Motors"
        ],
        [
         "BR1967",
         "Toyota India Motors"
        ],
        [
         "BR2091",
         "ZAZ Motors"
        ],
        [
         "BR2429",
         "Howard Motor Company Building"
        ],
        [
         "BR5346",
         "Innocenti Motors"
        ],
        [
         "BR0144",
         "Autobianchi Motors"
        ],
        [
         "BR1098",
         "Lincoln Motors"
        ],
        [
         "BR1239",
         "McLaren Motors"
        ],
        [
         "BR1747",
         "Saturn Motors"
        ],
        [
         "BR1849",
         "SsangYong Motors"
        ],
        [
         "BR2464",
         "Kindel Building"
        ],
        [
         "BR9186",
         "PGO Motors"
        ],
        [
         "BR0068",
         "AMC, Eagle Motors"
        ],
        [
         "BR0291",
         "Cadillac Motors"
        ],
        [
         "BR0452",
         "DeLorean Motors"
        ],
        [
         "BR0672",
         "GAZ Motors"
        ],
        [
         "BR0688",
         "Geo Motors"
        ],
        [
         "BR0778",
         "Hennessey Motors"
        ],
        [
         "BR10506",
         "Scion Motors"
        ],
        [
         "BR1208",
         "Matra (including Deutsch-Bonnet, René Bonnet) Motors"
        ],
        [
         "BR1290",
         "Mia Motors"
        ],
        [
         "BR1343",
         "Morgan Motors"
        ],
        [
         "BR1541",
         "Piaggio Motors"
        ],
        [
         "BR1915",
         "Tatra Motors"
        ],
        [
         "BR2048",
         "Volkswagen South Africa Motors"
        ],
        [
         "BR2455",
         "Jones Motor Company"
        ],
        [
         "BR2470",
         "Kindel Building"
        ],
        [
         "BR0092",
         "ARO Motors"
        ],
        [
         "BR0111",
         "Asia Motors Motors"
        ],
        [
         "BR0383",
         "Dacia Motors"
        ],
        [
         "BR0423",
         "Daimler Motors"
        ],
        [
         "BR0713",
         "Glas Motors"
        ],
        [
         "BR0817",
         "Honda Motors"
        ],
        [
         "BR0928",
         "Iso Motors"
        ],
        [
         "BR0993",
         "JPX Motors"
        ],
        [
         "BR1061",
         "Land Rover Motors"
        ],
        [
         "BR1301",
         "Mini Motors"
        ],
        [
         "BR1605",
         "Proton Motors"
        ],
        [
         "BR2075",
         "Wiesmann Motors"
        ],
        [
         "BR2161",
         "Izh  Motors"
        ],
        [
         "BR2178",
         "Lagonda  Motors"
        ],
        [
         "BR0014",
         "Acura Motors"
        ],
        [
         "BR0232",
         "British Leyland Motors"
        ],
        [
         "BR0271",
         "Buick Motors"
        ],
        [
         "BR0559",
         "Ferrari Motors"
        ],
        [
         "BR0707",
         "Ginetta Motors"
        ],
        [
         "BR0722",
         "GMC Motors"
        ],
        [
         "BR0918",
         "Isdera Motors"
        ],
        [
         "BR1163",
         "Marlin Motors"
        ],
        [
         "BR1615",
         "Puma Motors"
        ],
        [
         "BR2123",
         "DKW Motors"
        ],
        [
         "BR2437",
         "Hupmobile Building"
        ],
        [
         "BR2443",
         "Jennings Ford Automobile Dealership"
        ],
        [
         "BR0101",
         "Artega Motors"
        ],
        [
         "BR0112",
         "Asia Motors Motors"
        ],
        [
         "BR0222",
         "Bristol Motors"
        ],
        [
         "BR0230",
         "Bristol Motors"
        ],
        [
         "BR1015",
         "Koenigsegg Motors"
        ],
        [
         "BR1141",
         "Mahindra Motors"
        ],
        [
         "BR1358",
         "Moskwitch Motors"
        ],
        [
         "BR1922",
         "Tazzari Motors"
        ],
        [
         "BR2402",
         "Colman Automotive Building"
        ],
        [
         "BR0552",
         "Ferrari Motors"
        ],
        [
         "BR0658",
         "Freightliner Motors"
        ],
        [
         "BR0859",
         "Hummer Motors"
        ],
        [
         "BR1310",
         "Mini Motors"
        ],
        [
         "BR1391",
         "Nissan India Motors"
        ],
        [
         "BR1714",
         "San Motors"
        ],
        [
         "BR1945",
         "Tornado Motors"
        ],
        [
         "BR2263",
         "Ramani Motors"
        ],
        [
         "BR0069",
         "AMC, Eagle Motors"
        ],
        [
         "BR0198",
         "BMW Motors"
        ],
        [
         "BR0621",
         "Ford do Brasil Motors"
        ],
        [
         "BR0997",
         "JPX Motors"
        ],
        [
         "BR1215",
         "Mazda Motors"
        ],
        [
         "BR1407",
         "Noble Motors"
        ],
        [
         "BR2024",
         "Volkswagen Motors"
        ],
        [
         "BR0863",
         "Hyundai Motors"
        ],
        [
         "BR0967",
         "Jaguar Motors"
        ],
        [
         "BR1412",
         "NSU Motors"
        ],
        [
         "BR1435",
         "Oltcit Motors"
        ],
        [
         "BR1710",
         "Samsung Motors"
        ],
        [
         "BR1929",
         "Tazzari Motors"
        ],
        [
         "BR2134",
         "Horch Motors"
        ],
        [
         "BR2230",
         "Wolseley  Motors"
        ],
        [
         "BR2295",
         "Zion Automobils"
        ],
        [
         "BR4446",
         "Gumpert Motors"
        ],
        [
         "BR0519",
         "e.GO Mobile Motors"
        ],
        [
         "BR0660",
         "Freightliner Motors"
        ],
        [
         "BR11106",
         "Standard-Triumph Motors"
        ],
        [
         "BR1404",
         "Noble Motors"
        ],
        [
         "BR1869",
         "Studebaker Motors"
        ],
        [
         "BR1880",
         "Subaru Motors"
        ],
        [
         "BR2071",
         "Wiesmann Motors"
        ],
        [
         "BR2232",
         "Standard  Motors"
        ],
        [
         "BR2427",
         "Howard Motor Company Building"
        ],
        [
         "BR4746",
         "Hindustan Motors"
        ],
        [
         "BR0044",
         "Alpine Motors"
        ],
        [
         "BR0539",
         "Elva Motors"
        ],
        [
         "BR1093",
         "Lincoln Motors"
        ],
        [
         "BR1241",
         "Mercedes-Benz (including Maybach) Motors"
        ],
        [
         "BR1408",
         "Noble Motors"
        ],
        [
         "BR14766",
         "Kindel Building"
        ],
        [
         "BR1689",
         "SAIC Motor Motors"
        ],
        [
         "BR1700",
         "Saleen Motors"
        ],
        [
         "BR2372",
         "Cass Motor Sales"
        ],
        [
         "BR0129",
         "Aston Martin Motors"
        ],
        [
         "BR0211",
         "Borgward (including Goliath and Lloyd) Motors"
        ],
        [
         "BR0321",
         "Chevrolet Motors"
        ],
        [
         "BR0433",
         "Datsun Motors"
        ],
        [
         "BR0607",
         "Ford America Motors"
        ],
        [
         "BR0764",
         "Heinkel Motors"
        ],
        [
         "BR0984",
         "Jensen Motors"
        ],
        [
         "BR2159",
         "Maybach  Motors"
        ],
        [
         "BR0009",
         "AC Cars Motors"
        ],
        [
         "BR0783",
         "Hillman Motors"
        ],
        [
         "BR0878",
         "IFA (including Trabant, Wartburg, Barkas) Motors"
        ],
        [
         "BR1483",
         "Panoz Motors"
        ],
        [
         "BR2171",
         "Lagonda  Motors"
        ],
        [
         "BR2323",
         "Blankinship Motor Company Building"
        ],
        [
         "BR2362",
         "Casa de cadillac"
        ],
        [
         "BR0254",
         "Austin, Rover Motors"
        ],
        [
         "BR0823",
         "Honda India Motors"
        ],
        [
         "BR14166",
         "Casa de cadillac"
        ],
        [
         "BR1540",
         "PGO Motors"
        ],
        [
         "BR1613",
         "Puma Motors"
        ],
        [
         "BR1892",
         "Suzuki Motors"
        ],
        [
         "BR1948",
         "Tornado Motors"
        ],
        [
         "BR1959",
         "Toyota Motors"
        ],
        [
         "BR2106",
         "Chrysler Europe Motors"
        ],
        [
         "BR7386",
         "McLaren Motors"
        ],
        [
         "BR0021",
         "Aixam-Mega (including Arola) Motors"
        ],
        [
         "BR0385",
         "Dacia Motors"
        ],
        [
         "BR1083",
         "Ligier Motors"
        ],
        [
         "BR1179",
         "Maruti Motors"
        ],
        [
         "BR1240",
         "McLaren Motors"
        ],
        [
         "BR14406",
         "Colman Automotive Building"
        ],
        [
         "BR2017",
         "Venturi Motors"
        ],
        [
         "BR2428",
         "Howard Motor Company Building"
        ],
        [
         "BR0195",
         "BMW Motors"
        ],
        [
         "BR0247",
         "Austin-Healey Motors"
        ],
        [
         "BR0709",
         "Ginetta Motors"
        ],
        [
         "BR0710",
         "Ginetta Motors"
        ],
        [
         "BR1671",
         "Saab Motors"
        ],
        [
         "BR2407",
         "Colman Automotive Building"
        ],
        [
         "BR0328",
         "Chevrolet Motors"
        ],
        [
         "BR0350",
         "Chrysler Motors"
        ],
        [
         "BR0395",
         "Daewoo, Saehan, Chevrolet Korea Motors"
        ],
        [
         "BR0581",
         "Fiat India Motors"
        ],
        [
         "BR0627",
         "Ford do Brasil Motors"
        ],
        [
         "BR0755",
         "Healey Motors"
        ],
        [
         "BR1117",
         "LTI Motors"
        ],
        [
         "BR1305",
         "Mini Motors"
        ],
        [
         "BR1332",
         "Monteverdi Motors"
        ],
        [
         "BR1378",
         "Naza Motors"
        ],
        [
         "BR2285",
         "Herald Motors"
        ],
        [
         "BR2353",
         "Cadillac Automobile Company Building"
        ],
        [
         "BR7686",
         "Mia Motors"
        ],
        [
         "BR0048",
         "Alpine Motors"
        ],
        [
         "BR0293",
         "Cadillac Motors"
        ],
        [
         "BR0301",
         "Caterham Motors"
        ],
        [
         "BR0429",
         "Daimler Motors"
        ],
        [
         "BR0585",
         "Fiat India Motors"
        ],
        [
         "BR0720",
         "Glas Motors"
        ],
        [
         "BR0787",
         "Hillman Motors"
        ],
        [
         "BR0871",
         "IFA (including Trabant, Wartburg, Barkas) Motors"
        ],
        [
         "BR1025",
         "KTM Motors"
        ],
        [
         "BR2095",
         "ZAZ Motors"
        ],
        [
         "BR2133",
         "Horch Motors"
        ],
        [
         "BR0005",
         "AC Cars Motors"
        ],
        [
         "BR0791",
         "Hindustan Motors"
        ],
        [
         "BR0846",
         "Autobianchi Motors"
        ],
        [
         "BR0883",
         "Infiniti Motors"
        ],
        [
         "BR1088",
         "Ligier Motors"
        ],
        [
         "BR1181",
         "Maserati Motors"
        ],
        [
         "BR1565",
         "Polestar Motors"
        ],
        [
         "BR2367",
         "Casa de cadillac"
        ],
        [
         "BR2380",
         "Cass Motor Sales"
        ],
        [
         "BR6546",
         "Lincoln Motors"
        ],
        [
         "BR9066",
         "Perodua Motors"
        ],
        [
         "BR0045",
         "Alpine Motors"
        ],
        [
         "BR1223",
         "Mazzanti Motors"
        ],
        [
         "BR12666",
         "Audi Motors"
        ],
        [
         "BR1364",
         "Nash Motors"
        ],
        [
         "BR1601",
         "Proton Motors"
        ],
        [
         "BR1878",
         "Subaru Motors"
        ],
        [
         "BR2042",
         "Volkswagen South Africa Motors"
        ],
        [
         "BR0473",
         "De Tomaso Motors"
        ],
        [
         "BR1053",
         "Lancia Motors"
        ],
        [
         "BR1244",
         "Mercedes-Benz (including Maybach) Motors"
        ],
        [
         "BR1785",
         "Simca Motors"
        ],
        [
         "BR2101",
         "ZIL Motors"
        ],
        [
         "BR2165",
         "Izh  Motors"
        ],
        [
         "BR7146",
         "Mastretta Motors"
        ],
        [
         "BR0126",
         "Aixam-Mega (including Arola) Motors"
        ],
        [
         "BR0359",
         "Chrysler Europe Motors"
        ],
        [
         "BR0611",
         "Ford Australia Motors"
        ],
        [
         "BR1104",
         "Lotus Motors"
        ],
        [
         "BR1174",
         "Maruti Motors"
        ],
        [
         "BR1277",
         "Messerschmitt Motors"
        ],
        [
         "BR1419",
         "NSU Motors"
        ],
        [
         "BR1510",
         "Peel Motors"
        ],
        [
         "BR1653",
         "Rivian Motors"
        ],
        [
         "BR1780",
         "Shelby SuperCars Motors"
        ],
        [
         "BR2135",
         "Horch Motors"
        ],
        [
         "BR2167",
         "Izh  Motors"
        ],
        [
         "BR2371",
         "Cass Motor Sales"
        ],
        [
         "BR3606",
         "Ford America Motors"
        ],
        [
         "BR0143",
         "Autobianchi Motors"
        ],
        [
         "BR1283",
         "Mia Motors"
        ],
        [
         "BR1328",
         "Monica Motors"
        ],
        [
         "BR1783",
         "Simca Motors"
        ],
        [
         "BR0727",
         "GMC Motors"
        ],
        [
         "BR0892",
         "Innocenti Motors"
        ],
        [
         "BR1123",
         "LuAZ Motors"
        ],
        [
         "BR12906",
         "Maybach  Motors"
        ],
        [
         "BR1690",
         "SAIC Motor Motors"
        ],
        [
         "BR1843",
         "SsangYong Motors"
        ],
        [
         "BR2067",
         "Westfield Motors"
        ],
        [
         "BR2099",
         "ZAZ Motors"
        ],
        [
         "BR0057",
         "Alvis Motors"
        ],
        [
         "BR0929",
         "Iso Motors"
        ],
        [
         "BR1842",
         "SsangYong Motors"
        ],
        [
         "BR0073",
         "Anadol Motors"
        ],
        [
         "BR0492",
         "Donkervoort Motors"
        ],
        [
         "BR0565",
         "Fiat Motors"
        ],
        [
         "BR0851",
         "Hummer Motors"
        ],
        [
         "BR1032",
         "Lada Motors"
        ],
        [
         "BR1190",
         "Maserati Motors"
        ],
        [
         "BR1410",
         "Noble Motors"
        ],
        [
         "BR1678",
         "Saab Motors"
        ],
        [
         "BR2082",
         "Zastava Motors"
        ],
        [
         "BR2124",
         "DKW Motors"
        ],
        [
         "BR2131",
         "Horch Motors"
        ],
        [
         "BR2247",
         "Talbot  Motors"
        ],
        [
         "BR2460",
         "Jones Motor Company"
        ],
        [
         "BR3786",
         "Ford Europe Motors"
        ],
        [
         "BR0080",
         "Anadol Motors"
        ],
        [
         "BR0085",
         "Ariel Motors"
        ],
        [
         "BR0220",
         "Borgward (including Goliath and Lloyd) Motors"
        ],
        [
         "BR0342",
         "Chrysler Motors"
        ],
        [
         "BR0624",
         "Ford do Brasil Motors"
        ],
        [
         "BR0730",
         "GMC Motors"
        ],
        [
         "BR0845",
         "Humber Motors"
        ],
        [
         "BR0935",
         "Isotta Fraschini Motors"
        ],
        [
         "BR1055",
         "Lancia Motors"
        ],
        [
         "BR1326",
         "Bristol Motors"
        ],
        [
         "BR1867",
         "Studebaker Motors"
        ],
        [
         "BR1895",
         "Suzuki Motors"
        ],
        [
         "BR2153",
         "Maybach  Motors"
        ],
        [
         "BR2184",
         "MG  Motors"
        ],
        [
         "BR2250",
         "Talbot  Motors"
        ],
        [
         "BR2282",
         "Herald Motors"
        ],
        [
         "BR6606",
         "Lotus Motors"
        ],
        [
         "BR0152",
         "Auto-Union Motors"
        ],
        [
         "BR0842",
         "Humber Motors"
        ],
        [
         "BR1291",
         "Micro Motors"
        ],
        [
         "BR2199",
         "Morris  Motors"
        ],
        [
         "BR2451",
         "Jones Motor Company"
        ],
        [
         "BR0029",
         "Aixam-Mega (including Arola) Motors"
        ],
        [
         "BR0033",
         "Alfa Romeo Motors"
        ],
        [
         "BR0229",
         "Bristol Motors"
        ],
        [
         "BR0457",
         "DeLorean Motors"
        ],
        [
         "BR0605",
         "Ford America Motors"
        ],
        [
         "BR0950",
         "Isuzu Motors"
        ],
        [
         "BR0990",
         "Jensen Motors"
        ],
        [
         "BR1585",
         "Porsche Motors"
        ],
        [
         "BR1672",
         "Saab Motors"
        ],
        [
         "BR4026",
         "GAZ Motors"
        ],
        [
         "BR0424",
         "Daimler Motors"
        ],
        [
         "BR0971",
         "Jeep Motors"
        ],
        [
         "BR1114",
         "LTI Motors"
        ],
        [
         "BR1258",
         "Mercury Motors"
        ],
        [
         "BR1488",
         "Panoz Motors"
        ],
        [
         "BR1679",
         "Saab Motors"
        ],
        [
         "BR2172",
         "Lagonda  Motors"
        ],
        [
         "BR2462",
         "Kindel Building"
        ],
        [
         "BR0094",
         "ARO Motors"
        ],
        [
         "BR0357",
         "Chrysler Europe Motors"
        ],
        [
         "BR0417",
         "Daihatsu Motors"
        ],
        [
         "BR0854",
         "Hummer Motors"
        ],
        [
         "BR1014",
         "Koenigsegg Motors"
        ],
        [
         "BR1245",
         "Mercedes-Benz (including Maybach) Motors"
        ],
        [
         "BR1295",
         "Micro Motors"
        ],
        [
         "BR1625",
         "Ranger Motors"
        ],
        [
         "BR1683",
         "SAIC Motor Motors"
        ],
        [
         "BR1742",
         "Saturn Motors"
        ],
        [
         "BR1827",
         "Smart Motors"
        ],
        [
         "BR1975",
         "Turner Motors"
        ],
        [
         "BR0120",
         "Asia Motors Motors"
        ],
        [
         "BR0382",
         "Dacia Motors"
        ],
        [
         "BR0470",
         "DeSoto Motors"
        ],
        [
         "BR1034",
         "Lada Motors"
        ],
        [
         "BR10626",
         "Shelby SuperCars Motors"
        ],
        [
         "BR1099",
         "Lincoln Motors"
        ],
        [
         "BR2351",
         "Cadillac Automobile Company Building"
        ],
        [
         "BR2394",
         "Clemens Automobile Company Building"
        ],
        [
         "BR0310",
         "Caterham Motors"
        ],
        [
         "BR0602",
         "Ford America Motors"
        ],
        [
         "BR0694",
         "Gilbern Motors"
        ],
        [
         "BR1668",
         "Rolls-Royce Motors"
        ],
        [
         "BR2148",
         "Wanderer Motors"
        ],
        [
         "BR2309",
         "Atlantic Motor Company"
        ],
        [
         "BR0546",
         "ARO Motors"
        ],
        [
         "BR0678",
         "GAZ Motors"
        ],
        [
         "BR1569",
         "Polestar Motors"
        ],
        [
         "BR1570",
         "Polestar Motors"
        ],
        [
         "BR1811",
         "Skoda Motors"
        ],
        [
         "BR1882",
         "Sunbeam Motors"
        ],
        [
         "BR1901",
         "Tata Motors"
        ],
        [
         "BR1937",
         "Tesla Motors"
        ],
        [
         "BR1988",
         "TVR Motors"
        ],
        [
         "BR2034",
         "Volkswagen do Brasil Motors"
        ],
        [
         "BR2334",
         "Bohn Motor Company Automobile Dealership"
        ],
        [
         "BR0074",
         "Anadol Motors"
        ],
        [
         "BR0103",
         "Artega Motors"
        ],
        [
         "BR0338",
         "Chevrolet India Motors"
        ],
        [
         "BR0418",
         "Daihatsu Motors"
        ],
        [
         "BR0435",
         "Datsun Motors"
        ],
        [
         "BR0533",
         "Elva Motors"
        ],
        [
         "BR0879",
         "IFA (including Trabant, Wartburg, Barkas) Motors"
        ],
        [
         "BR1512",
         "Perodua Motors"
        ],
        [
         "BR2234",
         "Standard  Motors"
        ],
        [
         "BR2245",
         "Talbot  Motors"
        ],
        [
         "BR2283",
         "Herald Motors"
        ],
        [
         "BR2438",
         "Hupmobile Building"
        ],
        [
         "BR8466",
         "NSU Motors"
        ],
        [
         "BR8766",
         "Pagani Motors"
        ],
        [
         "BR0961",
         "Jaguar Motors"
        ],
        [
         "BR1471",
         "Panhard Motors"
        ],
        [
         "BR1603",
         "Proton Motors"
        ],
        [
         "BR1879",
         "Subaru Motors"
        ],
        [
         "BR2211",
         "Riley  Motors"
        ],
        [
         "BR2320",
         "2008 NRHP-listed"
        ],
        [
         "BR0020",
         "Acura Motors"
        ],
        [
         "BR0339",
         "Chevrolet India Motors"
        ],
        [
         "BR0375",
         "Cizeta-Moroder Motors"
        ],
        [
         "BR0404",
         "DAF Motors"
        ],
        [
         "BR0752",
         "Healey Motors"
        ],
        [
         "BR1315",
         "Mitsubishi Motors"
        ],
        [
         "BR1392",
         "Nissan India Motors"
        ],
        [
         "BR1542",
         "Piaggio Motors"
        ],
        [
         "BR2302",
         "Atlantic Motor Company"
        ],
        [
         "BR0397",
         "Daewoo, Saehan, Chevrolet Korea Motors"
        ],
        [
         "BR0675",
         "GAZ Motors"
        ],
        [
         "BR11526",
         "Tazzari Motors"
        ],
        [
         "BR1619",
         "Puma Motors"
        ],
        [
         "BR1798",
         "Simca do Brasil Motors"
        ],
        [
         "BR1994",
         "UAZ Motors"
        ],
        [
         "BR2342",
         "Buick Automobile Company Building"
        ],
        [
         "BR7506",
         "Mercury Motors"
        ],
        [
         "BR0049",
         "Alpine Motors"
        ],
        [
         "BR0640",
         "Ford Europe Motors"
        ],
        [
         "BR0653",
         "Freightliner Motors"
        ],
        [
         "BR0897",
         "Innocenti Motors"
        ],
        [
         "BR1520",
         "Perodua Motors"
        ],
        [
         "BR1621",
         "Ranger Motors"
        ],
        [
         "BR2008",
         "Vauxhall Motors"
        ],
        [
         "BR2170",
         "Izh  Motors"
        ],
        [
         "BR2526",
         "Daimler Motors"
        ],
        [
         "BR3006",
         "Edsel Motors"
        ],
        [
         "BR8226",
         "Naza Motors"
        ],
        [
         "BR0170",
         "Auverland Motors"
        ],
        [
         "BR0843",
         "Humber Motors"
        ],
        [
         "BR1249",
         "Mercedes-Benz (including Maybach) Motors"
        ],
        [
         "BR1552",
         "Plymouth Motors"
        ],
        [
         "BR2258",
         "Das Motors"
        ],
        [
         "BR0084",
         "Ariel Motors"
        ],
        [
         "BR0610",
         "Ford America Motors"
        ],
        [
         "BR1077",
         "Lexus Motors"
        ],
        [
         "BR1101",
         "Lotus Motors"
        ],
        [
         "BR1107",
         "Lotus Motors"
        ],
        [
         "BR1209",
         "Matra (including Deutsch-Bonnet, René Bonnet) Motors"
        ],
        [
         "BR1235",
         "McLaren Motors"
        ],
        [
         "BR1417",
         "NSU Motors"
        ],
        [
         "BR1519",
         "Perodua Motors"
        ],
        [
         "BR1524",
         "Peugeot Motors"
        ],
        [
         "BR1640",
         "Reliant Motors"
        ],
        [
         "BR2110",
         "ZIL Motors"
        ],
        [
         "BR2307",
         "Atlantic Motor Company"
        ],
        [
         "BR2457",
         "Jones Motor Company"
        ],
        [
         "BR5106",
         "Hummer Motors"
        ],
        [
         "BR6306",
         "Lancia Motors"
        ],
        [
         "BR0108",
         "Artega Motors"
        ],
        [
         "BR0380",
         "Cizeta-Moroder Motors"
        ],
        [
         "BR0577",
         "Fiat do Brasil Motors"
        ],
        [
         "BR0812",
         "Honda Motors"
        ],
        [
         "BR0865",
         "Hyundai Motors"
        ],
        [
         "BR1202",
         "Matra (including Deutsch-Bonnet, René Bonnet) Motors"
        ],
        [
         "BR1504",
         "Peel Motors"
        ],
        [
         "BR1833",
         "Spyker Motors"
        ],
        [
         "BR2041",
         "Volkswagen South Africa Motors"
        ],
        [
         "BR2313",
         "2008 NRHP-listed"
        ],
        [
         "BR3726",
         "Ford do Brasil Motors"
        ],
        [
         "BR7326",
         "Mazzanti Motors"
        ],
        [
         "BR0334",
         "Chevrolet India Motors"
        ],
        [
         "BR0364",
         "Citroën Motors"
        ],
        [
         "BR0371",
         "Cizeta-Moroder Motors"
        ],
        [
         "BR0485",
         "Dodge Motors"
        ],
        [
         "BR0909",
         "Invicta Motors"
        ],
        [
         "BR0921",
         "Iso Motors"
        ],
        [
         "BR0267",
         "Bugatti Motors"
        ],
        [
         "BR0410",
         "DAF Motors"
        ],
        [
         "BR0469",
         "DeSoto Motors"
        ],
        [
         "BR0654",
         "Freightliner Motors"
        ],
        [
         "BR1528",
         "Peugeot Motors"
        ],
        [
         "BR2183",
         "MG  Motors"
        ],
        [
         "BR2264",
         "Ramani Motors"
        ],
        [
         "BR0041",
         "Alpine Motors"
        ],
        [
         "BR0122",
         "Aston Martin Motors"
        ],
        [
         "BR0349",
         "Chrysler Motors"
        ],
        [
         "BR0906",
         "Auto-Union Motors"
        ],
        [
         "BR0973",
         "Jeep Motors"
        ],
        [
         "BR1168",
         "Marlin Motors"
        ],
        [
         "BR1231",
         "McLaren Motors"
        ],
        [
         "BR1518",
         "Perodua Motors"
        ],
        [
         "BR1639",
         "Reliant Motors"
        ],
        [
         "BR2290",
         "Herald Motors"
        ],
        [
         "BR0302",
         "Caterham Motors"
        ],
        [
         "BR0468",
         "DeSoto Motors"
        ],
        [
         "BR0477",
         "De Tomaso Motors"
        ],
        [
         "BR0768",
         "Heinkel Motors"
        ],
        [
         "BR0824",
         "Honda India Motors"
        ],
        [
         "BR1008",
         "Kia Motors"
        ],
        [
         "BR1674",
         "Saab Motors"
        ],
        [
         "BR1697",
         "Saleen Motors"
        ],
        [
         "BR1715",
         "San Motors"
        ],
        [
         "BR1782",
         "Simca Motors"
        ],
        [
         "BR1797",
         "Simca do Brasil Motors"
        ],
        [
         "BR1924",
         "Tazzari Motors"
        ],
        [
         "BR4686",
         "Hillman Motors"
        ],
        [
         "BR8826",
         "Panhard Motors"
        ],
        [
         "BR0322",
         "Chevrolet Motors"
        ],
        [
         "BR0724",
         "GMC Motors"
        ],
        [
         "BR0994",
         "JPX Motors"
        ],
        [
         "BR1173",
         "Maruti Motors"
        ],
        [
         "BR1692",
         "Saleen Motors"
        ],
        [
         "BR1875",
         "Subaru Motors"
        ],
        [
         "BR0004",
         "AC Cars Motors"
        ],
        [
         "BR0067",
         "AMC, Eagle Motors"
        ],
        [
         "BR0459",
         "DeLorean Motors"
        ],
        [
         "BR0488",
         "Dodge Motors"
        ],
        [
         "BR0663",
         "FSO Motors"
        ],
        [
         "BR0711",
         "Glas Motors"
        ],
        [
         "BR0747",
         "Gumpert Motors"
        ],
        [
         "BR0894",
         "Innocenti Motors"
        ],
        [
         "BR1039",
         "Lada Motors"
        ],
        [
         "BR14046",
         "Buick Automobile Company Building"
        ],
        [
         "BR1440",
         "Oltcit Motors"
        ],
        [
         "BR1492",
         "Panther Motors"
        ],
        [
         "BR1557",
         "Plymouth Motors"
        ],
        [
         "BR2388",
         "Claremore Auto Dealership"
        ],
        [
         "BR0224",
         "Bristol Motors"
        ],
        [
         "BR1303",
         "Mini Motors"
        ],
        [
         "BR1304",
         "Mini Motors"
        ],
        [
         "BR13086",
         "MG  Motors"
        ],
        [
         "BR1567",
         "Polestar Motors"
        ],
        [
         "BR1659",
         "Rivian Motors"
        ],
        [
         "BR1725",
         "Santa Matilde Motors"
        ],
        [
         "BR2104",
         "ZIL Motors"
        ],
        [
         "BR6426",
         "Lexus Motors"
        ],
        [
         "BR0697",
         "Gilbern Motors"
        ],
        [
         "BR0781",
         "Hillman Motors"
        ],
        [
         "BR0931",
         "Isotta Fraschini Motors"
        ],
        [
         "BR1070",
         "Land Rover Motors"
        ],
        [
         "BR1130",
         "LuAZ Motors"
        ],
        [
         "BR1397",
         "Nissan India Motors"
        ],
        [
         "BR1595",
         "Premier Motors"
        ],
        [
         "BR1985",
         "TVR Motors"
        ],
        [
         "BR2011",
         "Venturi Motors"
        ],
        [
         "BR2089",
         "Zastava Motors"
        ],
        [
         "BR0484",
         "Dodge Motors"
        ],
        [
         "BR0899",
         "Innocenti Motors"
        ],
        [
         "BR1379",
         "Naza Motors"
        ],
        [
         "BR1903",
         "Tata Motors"
        ],
        [
         "BR0303",
         "Caterham Motors"
        ],
        [
         "BR0523",
         "Eicher Polaris Motors"
        ],
        [
         "BR0538",
         "Elva Motors"
        ],
        [
         "BR1363",
         "Nash Motors"
        ],
        [
         "BR1459",
         "Packard Motors"
        ],
        [
         "BR1837",
         "Spyker Motors"
        ],
        [
         "BR1918",
         "Tatra Motors"
        ],
        [
         "BR2281",
         "Herald Motors"
        ],
        [
         "BR0025",
         "Aixam-Mega (including Arola) Motors"
        ],
        [
         "BR1068",
         "Land Rover Motors"
        ],
        [
         "BR1135",
         "Lynx Motors"
        ],
        [
         "BR1560",
         "Plymouth Motors"
        ],
        [
         "BR1717",
         "San Motors"
        ],
        [
         "BR1923",
         "Tazzari Motors"
        ],
        [
         "BR1964",
         "Toyota India Motors"
        ],
        [
         "BR4266",
         "Glas Motors"
        ],
        [
         "BR0159",
         "Auto-Union Motors"
        ],
        [
         "BR0331",
         "Chevrolet India Motors"
        ],
        [
         "BR0681",
         "Geo Motors"
        ],
        [
         "BR0703",
         "Ginetta Motors"
        ],
        [
         "BR0832",
         "Hudson Motors"
        ],
        [
         "BR0880",
         "IFA (including Trabant, Wartburg, Barkas) Motors"
        ],
        [
         "BR0999",
         "JPX Motors"
        ],
        [
         "BR1974",
         "Turner Motors"
        ],
        [
         "BR2180",
         "Lagonda  Motors"
        ],
        [
         "BR0923",
         "Iso Motors"
        ],
        [
         "BR0953",
         "Iveco Motors"
        ],
        [
         "BR1498",
         "Panther Motors"
        ],
        [
         "BR1583",
         "Porsche Motors"
        ],
        [
         "BR1709",
         "Samsung Motors"
        ],
        [
         "BR1723",
         "Santa Matilde Motors"
        ],
        [
         "BR1920",
         "Tatra Motors"
        ],
        [
         "BR2222",
         "Wolseley  Motors"
        ],
        [
         "BR2231",
         "Standard  Motors"
        ],
        [
         "BR2273",
         "Deccan Motors"
        ],
        [
         "BR2327",
         "Blankinship Motor Company Building"
        ],
        [
         "BR0077",
         "Anadol Motors"
        ],
        [
         "BR0344",
         "Chrysler Motors"
        ],
        [
         "BR0774",
         "Hennessey Motors"
        ],
        [
         "BR0901",
         "Invicta Motors"
        ],
        [
         "BR1193",
         "Mastretta Motors"
        ],
        [
         "BR1199",
         "Mastretta Motors"
        ],
        [
         "BR1227",
         "Mazzanti Motors"
        ],
        [
         "BR1317",
         "Mitsubishi Motors"
        ],
        [
         "BR1428",
         "Oldsmobile Motors"
        ],
        [
         "BR1589",
         "Porsche Motors"
        ],
        [
         "BR1634",
         "Reliant Motors"
        ],
        [
         "BR1894",
         "Suzuki Motors"
        ],
        [
         "BR0387",
         "Dacia Motors"
        ],
        [
         "BR0426",
         "Anadol Motors"
        ],
        [
         "BR0573",
         "Fiat do Brasil Motors"
        ],
        [
         "BR1234",
         "McLaren Motors"
        ],
        [
         "BR1401",
         "Noble Motors"
        ],
        [
         "BR1578",
         "Pontiac, Asüna Motors"
        ],
        [
         "BR1788",
         "Simca Motors"
        ],
        [
         "BR1805",
         "Singer Motors"
        ],
        [
         "BR2144",
         "Wanderer Motors"
        ],
        [
         "BR2243",
         "Talbot  Motors"
        ],
        [
         "BR0154",
         "Auto-Union Motors"
        ],
        [
         "BR0193",
         "BMW Motors"
        ],
        [
         "BR0439",
         "Datsun Motors"
        ],
        [
         "BR0910",
         "Invicta Motors"
        ],
        [
         "BR1360",
         "Moskwitch Motors"
        ],
        [
         "BR1649",
         "Renault Motors"
        ],
        [
         "BR1804",
         "Singer Motors"
        ],
        [
         "BR1963",
         "Toyota India Motors"
        ],
        [
         "BR2019",
         "Venturi Motors"
        ],
        [
         "BR0098",
         "ARO Motors"
        ],
        [
         "BR0141",
         "Autobianchi Motors"
        ],
        [
         "BR0442",
         "Delahaye Motors"
        ],
        [
         "BR0590",
         "Fiat India Motors"
        ],
        [
         "BR10086",
         "SAIC Motor Motors"
        ],
        [
         "BR1043",
         "Lamborghini Motors"
        ],
        [
         "BR1222",
         "Mazzanti Motors"
        ],
        [
         "BR1393",
         "Nissan India Motors"
        ],
        [
         "BR2031",
         "Volkswagen do Brasil Motors"
        ],
        [
         "BR2187",
         "MG  Motors"
        ],
        [
         "BR2207",
         "Austin  Motors"
        ],
        [
         "BR2240",
         "Standard  Motors"
        ],
        [
         "BR2361",
         "Casa de cadillac"
        ],
        [
         "BR2392",
         "Clemens Automobile Company Building"
        ],
        [
         "BR5946",
         "JPX Motors"
        ],
        [
         "BR0208",
         "Bond Motors"
        ],
        [
         "BR0260",
         "Austin, Rover Motors"
        ],
        [
         "BR0309",
         "Caterham Motors"
        ],
        [
         "BR1128",
         "LuAZ Motors"
        ],
        [
         "BR1348",
         "Morgan Motors"
        ],
        [
         "BR1667",
         "Rolls-Royce Motors"
        ],
        [
         "BR2312",
         "2008 NRHP-listed"
        ],
        [
         "BR2423",
         "Howard Motor Company Building"
        ],
        [
         "BR4926",
         "Honda India Motors"
        ],
        [
         "BR0391",
         "Daewoo, Saehan, Chevrolet Korea Motors"
        ],
        [
         "BR0751",
         "Healey Motors"
        ],
        [
         "BR0769",
         "Heinkel Motors"
        ],
        [
         "BR0998",
         "JPX Motors"
        ],
        [
         "BR1183",
         "Maserati Motors"
        ],
        [
         "BR1313",
         "Mitsubishi Motors"
        ],
        [
         "BR1455",
         "Packard Motors"
        ],
        [
         "BR2463",
         "Kindel Building"
        ],
        [
         "BR4566",
         "Heinkel Motors"
        ],
        [
         "BR1108",
         "Lotus Motors"
        ],
        [
         "BR1204",
         "Matra (including Deutsch-Bonnet, René Bonnet) Motors"
        ],
        [
         "BR13326",
         "Wolseley  Motors"
        ],
        [
         "BR1372",
         "Naza Motors"
        ],
        [
         "BR1758",
         "Scion Motors"
        ],
        [
         "BR1887",
         "Sunbeam Motors"
        ],
        [
         "BR2214",
         "Riley  Motors"
        ],
        [
         "BR7986",
         "Monteverdi Motors"
        ],
        [
         "BR0515",
         "e.GO Mobile Motors"
        ],
        [
         "BR0661",
         "FSO Motors"
        ],
        [
         "BR1021",
         "KTM Motors"
        ],
        [
         "BR1268",
         "Merkur Motors"
        ],
        [
         "BR13266",
         "Riley  Motors"
        ],
        [
         "BR2151",
         "Maybach  Motors"
        ],
        [
         "BR2300",
         "Zion Automobils"
        ],
        [
         "BR2382",
         "Claremore Auto Dealership"
        ],
        [
         "BR0010",
         "AC Cars Motors"
        ],
        [
         "BR0051",
         "Alvis Motors"
        ],
        [
         "BR0341",
         "Chrysler Motors"
        ],
        [
         "BR0384",
         "Dacia Motors"
        ],
        [
         "BR0569",
         "Fiat Motors"
        ],
        [
         "BR14646",
         "Jennings Ford Automobile Dealership"
        ],
        [
         "BR1562",
         "Polestar Motors"
        ],
        [
         "BR1872",
         "Subaru Motors"
        ],
        [
         "BR2128",
         "DKW Motors"
        ],
        [
         "BR2197",
         "Morris  Motors"
        ],
        [
         "BR2253",
         "Das Motors"
        ],
        [
         "BR2315",
         "2008 NRHP-listed"
        ],
        [
         "BR0443",
         "Delahaye Motors"
        ],
        [
         "BR0925",
         "Iso Motors"
        ],
        [
         "BR1019",
         "Koenigsegg Motors"
        ],
        [
         "BR1411",
         "NSU Motors"
        ],
        [
         "BR1733",
         "Santana Motors"
        ],
        [
         "BR1745",
         "Saturn Motors"
        ],
        [
         "BR1962",
         "Toyota India Motors"
        ],
        [
         "BR2251",
         "Das Motors"
        ],
        [
         "BR0102",
         "Artega Motors"
        ],
        [
         "BR0745",
         "Gumpert Motors"
        ],
        [
         "BR0858",
         "Hummer Motors"
        ],
        [
         "BR0917",
         "Isdera Motors"
        ],
        [
         "BR1171",
         "Maruti Motors"
        ],
        [
         "BR1247",
         "Mercedes-Benz (including Maybach) Motors"
        ],
        [
         "BR1831",
         "Spyker Motors"
        ],
        [
         "BR2448",
         "Jennings Ford Automobile Dealership"
        ],
        [
         "BR0173",
         "Bentley Motors"
        ],
        [
         "BR0249",
         "Austin-Healey Motors"
        ],
        [
         "BR0619",
         "Ford Australia Motors"
        ],
        [
         "BR1118",
         "LTI Motors"
        ],
        [
         "BR1294",
         "Micro Motors"
        ],
        [
         "BR1593",
         "Premier Motors"
        ],
        [
         "BR1712",
         "San Motors"
        ],
        [
         "BR1728",
         "Santa Matilde Motors"
        ],
        [
         "BR2409",
         "Colman Automotive Building"
        ],
        [
         "BR8586",
         "Oltcit Motors"
        ],
        [
         "BR0402",
         "DAF Motors"
        ],
        [
         "BR0542",
         "Facel Vega Motors"
        ],
        [
         "BR11646",
         "Tornado Motors"
        ],
        [
         "BR1467",
         "Pagani Motors"
        ],
        [
         "BR2321",
         "Blankinship Motor Company Building"
        ],
        [
         "BR7026",
         "Maruti Motors"
        ],
        [
         "BR0295",
         "Cadillac Motors"
        ],
        [
         "BR0641",
         "Ford India Motors"
        ],
        [
         "BR0715",
         "Glas Motors"
        ],
        [
         "BR0975",
         "Jeep Motors"
        ],
        [
         "BR1004",
         "Kia Motors"
        ],
        [
         "BR1610",
         "Proton Motors"
        ],
        [
         "BR1741",
         "Saturn Motors"
        ],
        [
         "BR2053",
         "Volvo Motors"
        ],
        [
         "BR2340",
         "Bohn Motor Company Automobile Dealership"
        ],
        [
         "BR0042",
         "Alpine Motors"
        ],
        [
         "BR0311",
         "Checker Motors"
        ],
        [
         "BR0482",
         "Dodge Motors"
        ],
        [
         "BR0870",
         "Hyundai Motors"
        ],
        [
         "BR1362",
         "Nash Motors"
        ],
        [
         "BR1571",
         "Pontiac, Asüna Motors"
        ],
        [
         "BR2370",
         "Casa de cadillac"
        ],
        [
         "BR2389",
         "Claremore Auto Dealership"
        ],
        [
         "BR3966",
         "FSO Motors"
        ],
        [
         "BR6846",
         "Mahindra Motors"
        ],
        [
         "BR7806",
         "Mini Motors"
        ],
        [
         "BR0420",
         "Daihatsu Motors"
        ],
        [
         "BR0667",
         "FSO Motors"
        ],
        [
         "BR0742",
         "Gumpert Motors"
        ],
        [
         "BR0822",
         "Honda India Motors"
        ],
        [
         "BR0981",
         "Jensen Motors"
        ],
        [
         "BR1052",
         "Lancia Motors"
        ],
        [
         "BR1194",
         "Mastretta Motors"
        ],
        [
         "BR1620",
         "Puma Motors"
        ],
        [
         "BR1761",
         "Seat Motors"
        ],
        [
         "BR1925",
         "Tazzari Motors"
        ],
        [
         "BR1933",
         "Tesla Motors"
        ],
        [
         "BR2045",
         "Volkswagen South Africa Motors"
        ],
        [
         "BR2469",
         "Kindel Building"
        ],
        [
         "BR8706",
         "Packard Motors"
        ],
        [
         "BR9306",
         "Plymouth Motors"
        ],
        [
         "BR0015",
         "Acura Motors"
        ],
        [
         "BR0217",
         "Borgward (including Goliath and Lloyd) Motors"
        ],
        [
         "BR0283",
         "Bytom Motors"
        ],
        [
         "BR1274",
         "Messerschmitt Motors"
        ],
        [
         "BR1431",
         "Oltcit Motors"
        ],
        [
         "BR1451",
         "Packard Motors"
        ],
        [
         "BR1554",
         "Plymouth Motors"
        ],
        [
         "BR2049",
         "Volkswagen South Africa Motors"
        ],
        [
         "BR2088",
         "Zastava Motors"
        ],
        [
         "BR2107",
         "ZIL Motors"
        ],
        [
         "BR2305",
         "Atlantic Motor Company"
        ],
        [
         "BR5586",
         "Isotta Fraschini Motors"
        ],
        [
         "BR0290",
         "Bytom Motors"
        ],
        [
         "BR0474",
         "De Tomaso Motors"
        ],
        [
         "BR0940",
         "Isotta Fraschini Motors"
        ],
        [
         "BR2202",
         "Austin  Motors"
        ],
        [
         "BR6246",
         "Lamborghini Motors"
        ],
        [
         "BR0179",
         "Bentley Motors"
        ],
        [
         "BR0797",
         "Hindustan Motors"
        ],
        [
         "BR1261",
         "Merkur Motors"
        ],
        [
         "BR1575",
         "Pontiac, Asüna Motors"
        ],
        [
         "BR2114",
         "Audi Motors"
        ],
        [
         "BR2208",
         "Austin  Motors"
        ],
        [
         "BR0087",
         "Ariel Motors"
        ],
        [
         "BR0117",
         "Asia Motors Motors"
        ],
        [
         "BR0181",
         "Bitter Motors"
        ],
        [
         "BR0183",
         "Bitter Motors"
        ],
        [
         "BR0464",
         "DeSoto Motors"
        ],
        [
         "BR0633",
         "Ford Europe Motors"
        ],
        [
         "BR8946",
         "Panther Motors"
        ],
        [
         "BR0643",
         "Ford India Motors"
        ],
        [
         "BR1086",
         "Bitter Motors"
        ],
        [
         "BR1465",
         "Pagani Motors"
        ],
        [
         "BR1489",
         "Panoz Motors"
        ],
        [
         "BR1643",
         "Renault Motors"
        ],
        [
         "BR1765",
         "Seat Motors"
        ],
        [
         "BR0090",
         "Ariel Motors"
        ],
        [
         "BR0487",
         "Dodge Motors"
        ],
        [
         "BR1020",
         "Koenigsegg Motors"
        ],
        [
         "BR1073",
         "Lexus Motors"
        ],
        [
         "BR1102",
         "Lotus Motors"
        ],
        [
         "BR12306",
         "Volvo Motors"
        ],
        [
         "BR1682",
         "SAIC Motor Motors"
        ],
        [
         "BR1702",
         "Samsung Motors"
        ],
        [
         "BR1938",
         "Tesla Motors"
        ],
        [
         "BR1958",
         "Toyota Motors"
        ],
        [
         "BR2173",
         "Lagonda  Motors"
        ],
        [
         "BR0379",
         "Cizeta-Moroder Motors"
        ],
        [
         "BR0687",
         "Geo Motors"
        ],
        [
         "BR0767",
         "Heinkel Motors"
        ],
        [
         "BR14106",
         "Cadillac Automobile Company Building"
        ],
        [
         "BR1454",
         "Packard Motors"
        ],
        [
         "BR1642",
         "Renault Motors"
        ],
        [
         "BR1652",
         "Rivian Motors"
        ],
        [
         "BR2052",
         "Volvo Motors"
        ],
        [
         "BR2157",
         "Maybach  Motors"
        ],
        [
         "BR2182",
         "MG  Motors"
        ],
        [
         "BR3666",
         "Ford Australia Motors"
        ],
        [
         "BR0668",
         "FSO Motors"
        ],
        [
         "BR0719",
         "Glas Motors"
        ],
        [
         "BR1079",
         "Lexus Motors"
        ],
        [
         "BR1299",
         "Micro Motors"
        ],
        [
         "BR1685",
         "SAIC Motor Motors"
        ],
        [
         "BR1720",
         "San Motors"
        ],
        [
         "BR1729",
         "Santa Matilde Motors"
        ],
        [
         "BR2079",
         "Wiesmann Motors"
        ],
        [
         "BR2163",
         "Izh  Motors"
        ],
        [
         "BR2414",
         "H Street Playhouse"
        ],
        [
         "BR6966",
         "Marlin Motors"
        ],
        [
         "BR0819",
         "Honda Motors"
        ],
        [
         "BR1214",
         "Mazda Motors"
        ],
        [
         "BR1911",
         "Tatra Motors"
        ],
        [
         "BR2166",
         "Citroën Motors"
        ],
        [
         "BR2175",
         "Lagonda  Motors"
        ],
        [
         "BR2198",
         "Morris  Motors"
        ],
        [
         "BR6126",
         "KTM Motors"
        ],
        [
         "BR0400",
         "Daewoo, Saehan, Chevrolet Korea Motors"
        ],
        [
         "BR0527",
         "Eicher Polaris Motors"
        ],
        [
         "BR1103",
         "Lotus Motors"
        ],
        [
         "BR13686",
         "Herald Motors"
        ],
        [
         "BR1815",
         "Skoda Motors"
        ],
        [
         "BR0414",
         "Daihatsu Motors"
        ],
        [
         "BR0444",
         "Delahaye Motors"
        ],
        [
         "BR0959",
         "Iveco Motors"
        ],
        [
         "BR1058",
         "Lancia Motors"
        ],
        [
         "BR1338",
         "Monteverdi Motors"
        ],
        [
         "BR1388",
         "Nissan Motors"
        ],
        [
         "BR1854",
         "Standard-Triumph Motors"
        ],
        [
         "BR2270",
         "Ramani Motors"
        ],
        [
         "BR2278",
         "Deccan Motors"
        ],
        [
         "BR2287",
         "Herald Motors"
        ],
        [
         "BR2324",
         "Blankinship Motor Company Building"
        ],
        [
         "BR0280",
         "Buick Motors"
        ],
        [
         "BR0631",
         "Ford Europe Motors"
        ],
        [
         "BR0702",
         "Ginetta Motors"
        ],
        [
         "BR0942",
         "Isuzu Motors"
        ],
        [
         "BR1151",
         "Marcos Motors"
        ],
        [
         "BR2121",
         "DKW Motors"
        ],
        [
         "BR2174",
         "Lagonda  Motors"
        ],
        [
         "BR2886",
         "Dodge Motors"
        ],
        [
         "BR0213",
         "Borgward (including Goliath and Lloyd) Motors"
        ],
        [
         "BR0680",
         "GAZ Motors"
        ],
        [
         "BR1075",
         "Lexus Motors"
        ],
        [
         "BR1207",
         "Matra (including Deutsch-Bonnet, René Bonnet) Motors"
        ],
        [
         "BR1507",
         "Peel Motors"
        ],
        [
         "BR2080",
         "Wiesmann Motors"
        ],
        [
         "BR0454",
         "DeLorean Motors"
        ],
        [
         "BR0974",
         "Jeep Motors"
        ],
        [
         "BR1026",
         "Bentley Motors"
        ],
        [
         "BR13566",
         "Ramani Motors"
        ],
        [
         "BR1457",
         "Packard Motors"
        ],
        [
         "BR1684",
         "SAIC Motor Motors"
        ],
        [
         "BR2301",
         "Atlantic Motor Company"
        ],
        [
         "BR2310",
         "Atlantic Motor Company"
        ],
        [
         "BR2384",
         "Claremore Auto Dealership"
        ],
        [
         "BR2454",
         "Jones Motor Company"
        ],
        [
         "BR0186",
         "Alfa Romeo Motors"
        ],
        [
         "BR0834",
         "Hudson Motors"
        ],
        [
         "BR0904",
         "Invicta Motors"
        ],
        [
         "BR0907",
         "Invicta Motors"
        ],
        [
         "BR1200",
         "Mastretta Motors"
        ],
        [
         "BR1889",
         "Sunbeam Motors"
        ],
        [
         "BR2140",
         "Horch Motors"
        ],
        [
         "BR2177",
         "Lagonda  Motors"
        ],
        [
         "BR0810",
         "Holden Motors"
        ],
        [
         "BR1530",
         "Peugeot Motors"
        ],
        [
         "BR1638",
         "Reliant Motors"
        ],
        [
         "BR1779",
         "Shelby SuperCars Motors"
        ],
        [
         "BR1928",
         "Tazzari Motors"
        ],
        [
         "BR1954",
         "Toyota Motors"
        ],
        [
         "BR1998",
         "UAZ Motors"
        ],
        [
         "BR2355",
         "Cadillac Automobile Company Building"
        ],
        [
         "BR2359",
         "Cadillac Automobile Company Building"
        ],
        [
         "BR0012",
         "Acura Motors"
        ],
        [
         "BR0578",
         "Fiat do Brasil Motors"
        ],
        [
         "BR0748",
         "Gumpert Motors"
        ],
        [
         "BR1386",
         "British Leyland Motors"
        ],
        [
         "BR1868",
         "Studebaker Motors"
        ],
        [
         "BR1930",
         "Tazzari Motors"
        ],
        [
         "BR0427",
         "Daimler Motors"
        ],
        [
         "BR0924",
         "Iso Motors"
        ],
        [
         "BR0949",
         "Isuzu Motors"
        ],
        [
         "BR1001",
         "Kia Motors"
        ],
        [
         "BR1157",
         "Marcos Motors"
        ],
        [
         "BR1165",
         "Marlin Motors"
        ],
        [
         "BR1188",
         "Maserati Motors"
        ],
        [
         "BR1513",
         "Perodua Motors"
        ],
        [
         "BR1751",
         "Scion Motors"
        ],
        [
         "BR2029",
         "Volkswagen Motors"
        ],
        [
         "BR2060",
         "Volvo Motors"
        ],
        [
         "BR2137",
         "Horch Motors"
        ],
        [
         "BR0403",
         "DAF Motors"
        ],
        [
         "BR0645",
         "Ford India Motors"
        ],
        [
         "BR0893",
         "Innocenti Motors"
        ],
        [
         "BR1170",
         "Marlin Motors"
        ],
        [
         "BR1371",
         "Naza Motors"
        ],
        [
         "BR1858",
         "Standard-Triumph Motors"
        ],
        [
         "BR2419",
         "H Street Playhouse"
        ],
        [
         "BR3066",
         "e.GO Mobile Motors"
        ],
        [
         "BR0061",
         "AMC, Eagle Motors"
        ],
        [
         "BR0323",
         "Chevrolet Motors"
        ],
        [
         "BR1475",
         "Panhard Motors"
        ],
        [
         "BR1908",
         "Tata Motors"
        ],
        [
         "BR2220",
         "Riley  Motors"
        ],
        [
         "BR2286",
         "Dacia Motors"
        ],
        [
         "BR2431",
         "Hupmobile Building"
        ],
        [
         "BR0332",
         "Chevrolet India Motors"
        ],
        [
         "BR0551",
         "Ferrari Motors"
        ],
        [
         "BR0969",
         "Jaguar Motors"
        ],
        [
         "BR1172",
         "Maruti Motors"
        ],
        [
         "BR1203",
         "Matra (including Deutsch-Bonnet, René Bonnet) Motors"
        ],
        [
         "BR1543",
         "Piaggio Motors"
        ],
        [
         "BR1588",
         "Porsche Motors"
        ],
        [
         "BR1800",
         "Simca do Brasil Motors"
        ],
        [
         "BR1839",
         "Spyker Motors"
        ],
        [
         "BR0221",
         "Bristol Motors"
        ],
        [
         "BR0422",
         "Daimler Motors"
        ],
        [
         "BR0450",
         "Delahaye Motors"
        ],
        [
         "BR0669",
         "FSO Motors"
        ],
        [
         "BR0712",
         "Glas Motors"
        ],
        [
         "BR0804",
         "Holden Motors"
        ],
        [
         "BR0844",
         "Humber Motors"
        ],
        [
         "BR0970",
         "Jaguar Motors"
        ],
        [
         "BR1092",
         "Lincoln Motors"
        ],
        [
         "BR1184",
         "Maserati Motors"
        ],
        [
         "BR1251",
         "Mercury Motors"
        ],
        [
         "BR1287",
         "Mia Motors"
        ],
        [
         "BR1582",
         "Porsche Motors"
        ],
        [
         "BR1787",
         "Simca Motors"
        ],
        [
         "BR2395",
         "Clemens Automobile Company Building"
        ],
        [
         "BR0265",
         "Bugatti Motors"
        ],
        [
         "BR0305",
         "Caterham Motors"
        ],
        [
         "BR0860",
         "Hummer Motors"
        ],
        [
         "BR1023",
         "KTM Motors"
        ],
        [
         "BR1037",
         "Lada Motors"
        ],
        [
         "BR10446",
         "Saturn Motors"
        ],
        [
         "BR4386",
         "GTA Spano Motors"
        ],
        [
         "BR0060",
         "Alvis Motors"
        ],
        [
         "BR0123",
         "Aston Martin Motors"
        ],
        [
         "BR0239",
         "British Leyland Motors"
        ],
        [
         "BR0306",
         "Alvis Motors"
        ],
        [
         "BR10026",
         "Saab Motors"
        ],
        [
         "BR1217",
         "Mazda Motors"
        ],
        [
         "BR1914",
         "Tatra Motors"
        ],
        [
         "BR2113",
         "Audi Motors"
        ],
        [
         "BR4626",
         "Hennessey Motors"
        ],
        [
         "BR0381",
         "Dacia Motors"
        ],
        [
         "BR0629",
         "Ford do Brasil Motors"
        ],
        [
         "BR1060",
         "Lancia Motors"
        ],
        [
         "BR1145",
         "Mahindra Motors"
        ],
        [
         "BR1229",
         "Mazzanti Motors"
        ],
        [
         "BR1252",
         "Mercury Motors"
        ],
        [
         "BR1602",
         "Proton Motors"
        ],
        [
         "BR1793",
         "Simca do Brasil Motors"
        ],
        [
         "BR2130",
         "DKW Motors"
        ],
        [
         "BR2411",
         "H Street Playhouse"
        ],
        [
         "BR0215",
         "Borgward (including Goliath and Lloyd) Motors"
        ],
        [
         "BR0329",
         "Chevrolet Motors"
        ],
        [
         "BR0441",
         "Delahaye Motors"
        ],
        [
         "BR1059",
         "Lancia Motors"
        ],
        [
         "BR13386",
         "Standard  Motors"
        ],
        [
         "BR1590",
         "Porsche Motors"
        ],
        [
         "BR1647",
         "Renault Motors"
        ],
        [
         "BR1777",
         "Shelby SuperCars Motors"
        ],
        [
         "BR2040",
         "Volkswagen do Brasil Motors"
        ],
        [
         "BR2164",
         "Izh  Motors"
        ],
        [
         "BR0483",
         "Dodge Motors"
        ],
        [
         "BR0739",
         "GTA Spano Motors"
        ],
        [
         "BR0987",
         "Jensen Motors"
        ],
        [
         "BR1129",
         "LuAZ Motors"
        ],
        [
         "BR12126",
         "Volkswagen Motors"
        ],
        [
         "BR1275",
         "Messerschmitt Motors"
        ],
        [
         "BR1495",
         "Panther Motors"
        ],
        [
         "BR1657",
         "Rivian Motors"
        ],
        [
         "BR1686",
         "Bytom Motors"
        ],
        [
         "BR0228",
         "Bristol Motors"
        ],
        [
         "BR0272",
         "Buick Motors"
        ],
        [
         "BR10386",
         "Santana Motors"
        ],
        [
         "BR1080",
         "Lexus Motors"
        ],
        [
         "BR1148",
         "Mahindra Motors"
        ],
        [
         "BR1150",
         "Mahindra Motors"
        ],
        [
         "BR1370",
         "Nash Motors"
        ],
        [
         "BR1673",
         "Saab Motors"
        ],
        [
         "BR0324",
         "Chevrolet Motors"
        ],
        [
         "BR0815",
         "Honda Motors"
        ],
        [
         "BR0985",
         "Jensen Motors"
        ],
        [
         "BR1127",
         "LuAZ Motors"
        ],
        [
         "BR12606",
         "ZIL Motors"
        ],
        [
         "BR1655",
         "Rivian Motors"
        ],
        [
         "BR1841",
         "SsangYong Motors"
        ],
        [
         "BR2118",
         "Audi Motors"
        ],
        [
         "BR2368",
         "Casa de cadillac"
        ],
        [
         "BR0277",
         "Buick Motors"
        ],
        [
         "BR0827",
         "Honda India Motors"
        ],
        [
         "BR1365",
         "Nash Motors"
        ],
        [
         "BR1784",
         "Simca Motors"
        ],
        [
         "BR2190",
         "MG  Motors"
        ],
        [
         "BR5226",
         "IFA (including Trabant, Wartburg, Barkas) Motors"
        ],
        [
         "BR0188",
         "Bitter Motors"
        ],
        [
         "BR0432",
         "Datsun Motors"
        ],
        [
         "BR1701",
         "Samsung Motors"
        ],
        [
         "BR2009",
         "Vauxhall Motors"
        ],
        [
         "BR2030",
         "Volkswagen Motors"
        ],
        [
         "BR2058",
         "Volvo Motors"
        ],
        [
         "BR2271",
         "Deccan Motors"
        ],
        [
         "BR2303",
         "Atlantic Motor Company"
        ],
        [
         "BR2357",
         "Cadillac Automobile Company Building"
        ],
        [
         "BR0003",
         "AC Cars Motors"
        ],
        [
         "BR0050",
         "Alpine Motors"
        ],
        [
         "BR0227",
         "Bristol Motors"
        ],
        [
         "BR0521",
         "Eicher Polaris Motors"
        ],
        [
         "BR0620",
         "Ford Australia Motors"
        ],
        [
         "BR0623",
         "Ford do Brasil Motors"
        ],
        [
         "BR0807",
         "Holden Motors"
        ],
        [
         "BR1450",
         "Opel Motors"
        ],
        [
         "BR1971",
         "Turner Motors"
        ],
        [
         "BR1987",
         "TVR Motors"
        ],
        [
         "BR2119",
         "Audi Motors"
        ],
        [
         "BR0072",
         "Anadol Motors"
        ],
        [
         "BR0078",
         "Anadol Motors"
        ],
        [
         "BR0081",
         "Ariel Motors"
        ],
        [
         "BR0118",
         "Asia Motors Motors"
        ],
        [
         "BR0180",
         "Bentley Motors"
        ],
        [
         "BR0203",
         "Bond Motors"
        ],
        [
         "BR1138",
         "Lynx Motors"
        ],
        [
         "BR1238",
         "McLaren Motors"
        ],
        [
         "BR2346",
         "Daewoo, Saehan, Chevrolet Korea Motors"
        ],
        [
         "BR6006",
         "Kia Motors"
        ],
        [
         "BR0047",
         "Alpine Motors"
        ],
        [
         "BR0253",
         "Austin, Rover Motors"
        ],
        [
         "BR0601",
         "Ford America Motors"
        ],
        [
         "BR0833",
         "Hudson Motors"
        ],
        [
         "BR10806",
         "Singer Motors"
        ],
        [
         "BR1158",
         "Marcos Motors"
        ],
        [
         "BR1502",
         "Peel Motors"
        ],
        [
         "BR1555",
         "Plymouth Motors"
        ],
        [
         "BR1611",
         "Puma Motors"
        ],
        [
         "BR1635",
         "Reliant Motors"
        ],
        [
         "BR1852",
         "Standard-Triumph Motors"
        ],
        [
         "BR1980",
         "Turner Motors"
        ],
        [
         "BR2028",
         "Volkswagen Motors"
        ],
        [
         "BR2229",
         "Wolseley  Motors"
        ],
        [
         "BR2338",
         "Bohn Motor Company Automobile Dealership"
        ],
        [
         "BR8286",
         "Nissan Motors"
        ],
        [
         "BR0043",
         "Alpine Motors"
        ],
        [
         "BR0194",
         "BMW Motors"
        ],
        [
         "BR0695",
         "Gilbern Motors"
        ],
        [
         "BR1028",
         "KTM Motors"
        ],
        [
         "BR1178",
         "Maruti Motors"
        ],
        [
         "BR1669",
         "Rolls-Royce Motors"
        ],
        [
         "BR2330",
         "Blankinship Motor Company Building"
        ],
        [
         "BR2358",
         "Cadillac Automobile Company Building"
        ],
        [
         "BR0704",
         "Ginetta Motors"
        ],
        [
         "BR0721",
         "GMC Motors"
        ],
        [
         "BR0838",
         "Hudson Motors"
        ],
        [
         "BR10146",
         "Saleen Motors"
        ],
        [
         "BR1087",
         "Ligier Motors"
        ],
        [
         "BR1266",
         "Borgward (including Goliath and Lloyd) Motors"
        ],
        [
         "BR2331",
         "Bohn Motor Company Automobile Dealership"
        ],
        [
         "BR2345",
         "Buick Automobile Company Building"
        ],
        [
         "BR2347",
         "Buick Automobile Company Building"
        ],
        [
         "BR0205",
         "Bond Motors"
        ],
        [
         "BR0278",
         "Buick Motors"
        ],
        [
         "BR0333",
         "Chevrolet India Motors"
        ],
        [
         "BR0412",
         "Daihatsu Motors"
        ],
        [
         "BR0460",
         "DeLorean Motors"
        ],
        [
         "BR0520",
         "e.GO Mobile Motors"
        ],
        [
         "BR0726",
         "Aston Martin Motors"
        ],
        [
         "BR0837",
         "Hudson Motors"
        ],
        [
         "BR0908",
         "Invicta Motors"
        ],
        [
         "BR11286",
         "Sunbeam Motors"
        ],
        [
         "BR1480",
         "Panhard Motors"
        ],
        [
         "BR0165",
         "Auverland Motors"
        ],
        [
         "BR0600",
         "Fisker, Karma Motors"
        ],
        [
         "BR0979",
         "Jeep Motors"
        ],
        [
         "BR1035",
         "Lada Motors"
        ],
        [
         "BR1210",
         "Matra (including Deutsch-Bonnet, René Bonnet) Motors"
        ],
        [
         "BR1264",
         "Merkur Motors"
        ],
        [
         "BR1559",
         "Plymouth Motors"
        ],
        [
         "BR1573",
         "Pontiac, Asüna Motors"
        ],
        [
         "BR2450",
         "Jennings Ford Automobile Dealership"
        ],
        [
         "BR0083",
         "Ariel Motors"
        ],
        [
         "BR0161",
         "Auverland Motors"
        ],
        [
         "BR0197",
         "BMW Motors"
        ],
        [
         "BR0481",
         "Dodge Motors"
        ],
        [
         "BR0567",
         "Fiat Motors"
        ],
        [
         "BR0945",
         "Isuzu Motors"
        ],
        [
         "BR11406",
         "Tata Motors"
        ],
        [
         "BR1521",
         "Peugeot Motors"
        ],
        [
         "BR1814",
         "Skoda Motors"
        ],
        [
         "BR2007",
         "Vauxhall Motors"
        ],
        [
         "BR2405",
         "Colman Automotive Building"
        ],
        [
         "BR0655",
         "Freightliner Motors"
        ],
        [
         "BR0964",
         "Jaguar Motors"
        ],
        [
         "BR1013",
         "Koenigsegg Motors"
        ],
        [
         "BR1834",
         "Spyker Motors"
        ],
        [
         "BR1835",
         "Spyker Motors"
        ],
        [
         "BR0200",
         "BMW Motors"
        ],
        [
         "BR0240",
         "British Leyland Motors"
        ],
        [
         "BR0657",
         "Freightliner Motors"
        ],
        [
         "BR0665",
         "FSO Motors"
        ],
        [
         "BR0698",
         "Gilbern Motors"
        ],
        [
         "BR0741",
         "Gumpert Motors"
        ],
        [
         "BR1113",
         "LTI Motors"
        ],
        [
         "BR1198",
         "Mastretta Motors"
        ],
        [
         "BR1253",
         "Mercury Motors"
        ],
        [
         "BR1807",
         "Singer Motors"
        ],
        [
         "BR1897",
         "Suzuki Motors"
        ],
        [
         "BR1905",
         "Tata Motors"
        ],
        [
         "BR2000",
         "UAZ Motors"
        ],
        [
         "BR6366",
         "Land Rover Motors"
        ],
        [
         "BR0055",
         "Alvis Motors"
        ],
        [
         "BR0902",
         "Invicta Motors"
        ],
        [
         "BR1110",
         "Lotus Motors"
        ],
        [
         "BR1511",
         "Perodua Motors"
        ],
        [
         "BR2152",
         "Maybach  Motors"
        ],
        [
         "BR2444",
         "Jennings Ford Automobile Dealership"
        ],
        [
         "BR0066",
         "Acura Motors"
        ],
        [
         "BR0294",
         "Cadillac Motors"
        ],
        [
         "BR0814",
         "Honda Motors"
        ],
        [
         "BR0839",
         "Hudson Motors"
        ],
        [
         "BR0873",
         "IFA (including Trabant, Wartburg, Barkas) Motors"
        ],
        [
         "BR11826",
         "Turner Motors"
        ],
        [
         "BR1189",
         "Maserati Motors"
        ],
        [
         "BR1259",
         "Mercury Motors"
        ],
        [
         "BR1808",
         "Singer Motors"
        ],
        [
         "BR2004",
         "Vauxhall Motors"
        ],
        [
         "BR2027",
         "Volkswagen Motors"
        ],
        [
         "BR0317",
         "Checker Motors"
        ],
        [
         "BR1333",
         "Monteverdi Motors"
        ],
        [
         "BR1651",
         "Rivian Motors"
        ],
        [
         "BR1803",
         "Singer Motors"
        ],
        [
         "BR2103",
         "ZIL Motors"
        ],
        [
         "BR2132",
         "Horch Motors"
        ],
        [
         "BR2260",
         "Das Motors"
        ],
        [
         "BR2350",
         "Buick Automobile Company Building"
        ],
        [
         "BR2421",
         "Howard Motor Company Building"
        ],
        [
         "BR0071",
         "Anadol Motors"
        ],
        [
         "BR0160",
         "Auto-Union Motors"
        ],
        [
         "BR0175",
         "Bentley Motors"
        ],
        [
         "BR0413",
         "Daihatsu Motors"
        ],
        [
         "BR0635",
         "Ford Europe Motors"
        ],
        [
         "BR0693",
         "Gilbern Motors"
        ],
        [
         "BR0734",
         "GTA Spano Motors"
        ],
        [
         "BR1663",
         "Rolls-Royce Motors"
        ],
        [
         "BR1874",
         "Subaru Motors"
        ],
        [
         "BR2122",
         "DKW Motors"
        ],
        [
         "BR8886",
         "Panoz Motors"
        ],
        [
         "BR0192",
         "BMW Motors"
        ],
        [
         "BR0255",
         "Austin, Rover Motors"
        ],
        [
         "BR0637",
         "Ford Europe Motors"
        ],
        [
         "BR0757",
         "Healey Motors"
        ],
        [
         "BR0965",
         "Jaguar Motors"
        ],
        [
         "BR1078",
         "Lexus Motors"
        ],
        [
         "BR1262",
         "Merkur Motors"
        ],
        [
         "BR1352",
         "Moskwitch Motors"
        ],
        [
         "BR1448",
         "Opel Motors"
        ],
        [
         "BR1631",
         "Reliant Motors"
        ],
        [
         "BR1633",
         "Reliant Motors"
        ],
        [
         "BR1665",
         "Rolls-Royce Motors"
        ],
        [
         "BR2169",
         "Izh  Motors"
        ],
        [
         "BR2272",
         "Deccan Motors"
        ],
        [
         "BR2318",
         "2008 NRHP-listed"
        ],
        [
         "BR1224",
         "Mazzanti Motors"
        ],
        [
         "BR1339",
         "Monteverdi Motors"
        ],
        [
         "BR1699",
         "Saleen Motors"
        ],
        [
         "BR1739",
         "Santana Motors"
        ],
        [
         "BR1972",
         "Turner Motors"
        ],
        [
         "BR2439",
         "Hupmobile Building"
        ],
        [
         "BR0052",
         "Alvis Motors"
        ],
        [
         "BR0119",
         "Asia Motors Motors"
        ],
        [
         "BR0723",
         "GMC Motors"
        ],
        [
         "BR1167",
         "Marlin Motors"
        ],
        [
         "BR1545",
         "Piaggio Motors"
        ],
        [
         "BR2401",
         "Colman Automotive Building"
        ],
        [
         "BR2586",
         "Datsun Motors"
        ],
        [
         "BR0419",
         "Daihatsu Motors"
        ],
        [
         "BR0867",
         "Hyundai Motors"
        ],
        [
         "BR1770",
         "Seat Motors"
        ],
        [
         "BR1824",
         "Smart Motors"
        ],
        [
         "BR2348",
         "Buick Automobile Company Building"
        ],
        [
         "BR0185",
         "Bitter Motors"
        ],
        [
         "BR0455",
         "DeLorean Motors"
        ],
        [
         "BR0692",
         "Gilbern Motors"
        ],
        [
         "BR0790",
         "Hillman Motors"
        ],
        [
         "BR0955",
         "Iveco Motors"
        ],
        [
         "BR0978",
         "Jeep Motors"
        ],
        [
         "BR1420",
         "NSU Motors"
        ],
        [
         "BR1522",
         "Peugeot Motors"
        ],
        [
         "BR1719",
         "San Motors"
        ],
        [
         "BR2335",
         "Bohn Motor Company Automobile Dealership"
        ],
        [
         "BR1499",
         "Panther Motors"
        ],
        [
         "BR3906",
         "Freightliner Motors"
        ],
        [
         "BR6186",
         "Lada Motors"
        ],
        [
         "BR0299",
         "Cadillac Motors"
        ],
        [
         "BR0438",
         "Datsun Motors"
        ],
        [
         "BR1629",
         "Ranger Motors"
        ],
        [
         "BR1941",
         "Tornado Motors"
        ],
        [
         "BR2032",
         "Volkswagen do Brasil Motors"
        ],
        [
         "BR2057",
         "Volvo Motors"
        ],
        [
         "BR2241",
         "Talbot  Motors"
        ],
        [
         "BR0191",
         "BMW Motors"
        ],
        [
         "BR0537",
         "Elva Motors"
        ],
        [
         "BR1623",
         "Ranger Motors"
        ],
        [
         "BR2284",
         "Herald Motors"
        ],
        [
         "BR0035",
         "Alfa Romeo Motors"
        ],
        [
         "BR0785",
         "Hillman Motors"
        ],
        [
         "BR0818",
         "Honda Motors"
        ],
        [
         "BR1137",
         "Lynx Motors"
        ],
        [
         "BR1146",
         "BMW Motors"
        ],
        [
         "BR1759",
         "Scion Motors"
        ],
        [
         "BR2375",
         "Cass Motor Sales"
        ],
        [
         "BR3426",
         "Fiat do Brasil Motors"
        ],
        [
         "BR0613",
         "Ford Australia Motors"
        ],
        [
         "BR1205",
         "Matra (including Deutsch-Bonnet, René Bonnet) Motors"
        ],
        [
         "BR1515",
         "Perodua Motors"
        ],
        [
         "BR1618",
         "Puma Motors"
        ],
        [
         "BR2766",
         "DeSoto Motors"
        ],
        [
         "BR0127",
         "Aston Martin Motors"
        ],
        [
         "BR1447",
         "Opel Motors"
        ],
        [
         "BR1823",
         "Smart Motors"
        ],
        [
         "BR2259",
         "Das Motors"
        ],
        [
         "BR0199",
         "BMW Motors"
        ],
        [
         "BR0201",
         "Bond Motors"
        ],
        [
         "BR0237",
         "British Leyland Motors"
        ],
        [
         "BR0493",
         "Donkervoort Motors"
        ],
        [
         "BR1041",
         "Lamborghini Motors"
        ],
        [
         "BR1485",
         "Panoz Motors"
        ],
        [
         "BR1527",
         "Peugeot Motors"
        ],
        [
         "BR2417",
         "H Street Playhouse"
        ],
        [
         "BR7266",
         "Mazda Motors"
        ],
        [
         "BR0128",
         "Aston Martin Motors"
        ],
        [
         "BR0234",
         "British Leyland Motors"
        ],
        [
         "BR1029",
         "KTM Motors"
        ],
        [
         "BR1125",
         "LuAZ Motors"
        ],
        [
         "BR1219",
         "Mazda Motors"
        ],
        [
         "BR1421",
         "Oldsmobile Motors"
        ],
        [
         "BR1523",
         "Peugeot Motors"
        ],
        [
         "BR1764",
         "Seat Motors"
        ],
        [
         "BR2195",
         "Morris  Motors"
        ],
        [
         "BR2200",
         "Morris  Motors"
        ],
        [
         "BR2317",
         "2008 NRHP-listed"
        ],
        [
         "BR0028",
         "Aixam-Mega (including Arola) Motors"
        ],
        [
         "BR0038",
         "Alfa Romeo Motors"
        ],
        [
         "BR0872",
         "IFA (including Trabant, Wartburg, Barkas) Motors"
        ],
        [
         "BR0898",
         "Innocenti Motors"
        ],
        [
         "BR0912",
         "Isdera Motors"
        ],
        [
         "BR1005",
         "Kia Motors"
        ],
        [
         "BR1147",
         "Mahindra Motors"
        ],
        [
         "BR1999",
         "UAZ Motors"
        ],
        [
         "BR2023",
         "Volkswagen Motors"
        ],
        [
         "BR2108",
         "ZIL Motors"
        ],
        [
         "BR2341",
         "Buick Automobile Company Building"
        ],
        [
         "BR2344",
         "Buick Automobile Company Building"
        ],
        [
         "BR0008",
         "AC Cars Motors"
        ],
        [
         "BR0445",
         "Delahaye Motors"
        ],
        [
         "BR1493",
         "Panther Motors"
        ],
        [
         "BR1754",
         "Scion Motors"
        ],
        [
         "BR2059",
         "Volvo Motors"
        ],
        [
         "BR0024",
         "Aixam-Mega (including Arola) Motors"
        ],
        [
         "BR0524",
         "Eicher Polaris Motors"
        ],
        [
         "BR1218",
         "Mazda Motors"
        ],
        [
         "BR1482",
         "Panoz Motors"
        ],
        [
         "BR1687",
         "SAIC Motor Motors"
        ],
        [
         "BR1838",
         "Spyker Motors"
        ],
        [
         "BR1902",
         "Tata Motors"
        ],
        [
         "BR1977",
         "Turner Motors"
        ],
        [
         "BR2201",
         "Austin  Motors"
        ],
        [
         "BR2374",
         "Cass Motor Sales"
        ],
        [
         "BR1175",
         "Maruti Motors"
        ],
        [
         "BR1544",
         "Piaggio Motors"
        ],
        [
         "BR1641",
         "Renault Motors"
        ],
        [
         "BR0214",
         "Borgward (including Goliath and Lloyd) Motors"
        ],
        [
         "BR0588",
         "Fiat India Motors"
        ],
        [
         "BR1049",
         "Lamborghini Motors"
        ],
        [
         "BR1727",
         "Santa Matilde Motors"
        ],
        [
         "BR2105",
         "ZIL Motors"
        ],
        [
         "BR0369",
         "Citroën Motors"
        ],
        [
         "BR0555",
         "Ferrari Motors"
        ],
        [
         "BR0615",
         "Ford Australia Motors"
        ],
        [
         "BR0840",
         "Hudson Motors"
        ],
        [
         "BR1121",
         "LuAZ Motors"
        ],
        [
         "BR1314",
         "Mitsubishi Motors"
        ],
        [
         "BR1563",
         "Polestar Motors"
        ],
        [
         "BR2239",
         "Standard  Motors"
        ],
        [
         "BR2339",
         "Bohn Motor Company Automobile Dealership"
        ],
        [
         "BR2393",
         "Clemens Automobile Company Building"
        ]
       ],
       "datasetInfos": [],
       "dbfsResultPath": null,
       "isJsonSchema": true,
       "metadata": {},
       "overflow": false,
       "plotOptions": {
        "customPlotOptions": {},
        "displayType": "table",
        "pivotAggregation": null,
        "pivotColumns": null,
        "xColumns": null,
        "yColumns": null
       },
       "removedWidgets": [],
       "schema": [
        {
         "metadata": "{}",
         "name": "Branch_ID",
         "type": "\"string\""
        },
        {
         "metadata": "{}",
         "name": "BranchName",
         "type": "\"string\""
        }
       ],
       "type": "table"
      }
     },
     "output_type": "display_data"
    }
   ],
   "source": [
    "df_filter_new.display()"
   ]
  },
  {
   "cell_type": "markdown",
   "metadata": {
    "application/vnd.databricks.v1+cell": {
     "cellMetadata": {},
     "inputWidgets": {},
     "nuid": "4ac7f264-95de-446f-8cb5-fea2822f4d36",
     "showTitle": false,
     "tableResultSettingsMap": {},
     "title": ""
    }
   },
   "source": [
    "###Create Surrogate Key"
   ]
  },
  {
   "cell_type": "markdown",
   "metadata": {
    "application/vnd.databricks.v1+cell": {
     "cellMetadata": {},
     "inputWidgets": {},
     "nuid": "accfacbf-128b-4317-a94f-5c0ec7473e31",
     "showTitle": false,
     "tableResultSettingsMap": {},
     "title": ""
    }
   },
   "source": [
    "###Fetch the max Surrogate Key from existing table"
   ]
  },
  {
   "cell_type": "code",
   "execution_count": 0,
   "metadata": {
    "application/vnd.databricks.v1+cell": {
     "cellMetadata": {
      "byteLimit": 2048000,
      "rowLimit": 10000
     },
     "inputWidgets": {},
     "nuid": "bc02f85a-df7f-4ebd-a654-015b6ccd2130",
     "showTitle": false,
     "tableResultSettingsMap": {},
     "title": ""
    }
   },
   "outputs": [],
   "source": [
    "if (incremental_flag =='0'):\n",
    "    max_value = 0\n",
    "else:\n",
    "    max_value_df = spark.sql(\"SELECT MAX(dim_branch_key) FROM cars_catalog.gold.dim_branch\")\n",
    "    max_value = max_value_df.collect()[0][0]"
   ]
  },
  {
   "cell_type": "markdown",
   "metadata": {
    "application/vnd.databricks.v1+cell": {
     "cellMetadata": {},
     "inputWidgets": {},
     "nuid": "c8da3615-3e74-48a6-8a86-5f79d6ec7b0b",
     "showTitle": false,
     "tableResultSettingsMap": {},
     "title": ""
    }
   },
   "source": [
    "###Create Surrogate Key column and ADD the max surrogate key"
   ]
  },
  {
   "cell_type": "code",
   "execution_count": 0,
   "metadata": {
    "application/vnd.databricks.v1+cell": {
     "cellMetadata": {
      "byteLimit": 2048000,
      "rowLimit": 10000
     },
     "inputWidgets": {},
     "nuid": "c80b8633-ef15-4c7d-b82a-b6a01fe432ec",
     "showTitle": false,
     "tableResultSettingsMap": {},
     "title": ""
    }
   },
   "outputs": [],
   "source": [
    "df_filter_new = df_filter_new.withColumn(\"dim_branch_key\", max_value + monotonically_increasing_id())"
   ]
  },
  {
   "cell_type": "markdown",
   "metadata": {
    "application/vnd.databricks.v1+cell": {
     "cellMetadata": {
      "byteLimit": 2048000,
      "implicitDf": true,
      "rowLimit": 10000
     },
     "inputWidgets": {},
     "nuid": "502a21b4-019a-48e3-8cae-d7e6d7149268",
     "showTitle": false,
     "tableResultSettingsMap": {},
     "title": ""
    }
   },
   "source": [
    "###Create Final DF - df_filter_old + df-filter-new"
   ]
  },
  {
   "cell_type": "code",
   "execution_count": 0,
   "metadata": {
    "application/vnd.databricks.v1+cell": {
     "cellMetadata": {
      "byteLimit": 2048000,
      "rowLimit": 10000
     },
     "inputWidgets": {},
     "nuid": "12859b91-ed3f-4a79-93f8-39e082dc6e27",
     "showTitle": false,
     "tableResultSettingsMap": {},
     "title": ""
    }
   },
   "outputs": [],
   "source": [
    "df_final = df_filter_new.union(df_filter_old)"
   ]
  },
  {
   "cell_type": "markdown",
   "metadata": {
    "application/vnd.databricks.v1+cell": {
     "cellMetadata": {},
     "inputWidgets": {},
     "nuid": "85397567-35dc-40dd-9cbb-eed06af65dac",
     "showTitle": false,
     "tableResultSettingsMap": {},
     "title": ""
    }
   },
   "source": [
    "#SCD TYPE-1(UPSERT)"
   ]
  },
  {
   "cell_type": "code",
   "execution_count": 0,
   "metadata": {
    "application/vnd.databricks.v1+cell": {
     "cellMetadata": {
      "byteLimit": 2048000,
      "rowLimit": 10000
     },
     "inputWidgets": {},
     "nuid": "a1db0004-e0f0-4b75-9764-1dd01a97b395",
     "showTitle": false,
     "tableResultSettingsMap": {},
     "title": ""
    }
   },
   "outputs": [],
   "source": [
    "from delta.tables import DeltaTable"
   ]
  },
  {
   "cell_type": "code",
   "execution_count": 0,
   "metadata": {
    "application/vnd.databricks.v1+cell": {
     "cellMetadata": {
      "byteLimit": 2048000,
      "rowLimit": 10000
     },
     "inputWidgets": {},
     "nuid": "61712d3e-c318-4056-84dc-d74e3a7e4fb8",
     "showTitle": false,
     "tableResultSettingsMap": {},
     "title": ""
    }
   },
   "outputs": [],
   "source": [
    "#Incremental RUN\n",
    "if spark.catalog.tableExists('cars_catalog.gold.dim_branch'):\n",
    "    delta_tbl = DeltaTable.forPath(spark, \"abfss://gold@carsbaggiodatalake.dfs.core.windows.net/dim_branch\")\n",
    "    delta_tbl.alias(\"trg\").merge(df_final.alias(\"src\"), \"trg.dim_branch_key = src.dim_branch_key\")\\\n",
    "                          .whenMatchedUpdateAll()\\\n",
    "                          .whenNotMatchedInsertAll()\\\n",
    "                          .execute()\n",
    "                         \n",
    "                          \n",
    "    \n",
    "#Initial RUN\n",
    "else:\n",
    "    df_final.write.format(\"delta\")\\\n",
    "            .mode(\"overwrite\")\\\n",
    "            .option(\"path\", \"abfss://gold@carsbaggiodatalake.dfs.core.windows.net/dim_branch\")\\\n",
    "            .saveAsTable(\"cars_catalog.gold.dim_branch\")"
   ]
  },
  {
   "cell_type": "code",
   "execution_count": 0,
   "metadata": {
    "application/vnd.databricks.v1+cell": {
     "cellMetadata": {
      "byteLimit": 2048000,
      "implicitDf": true,
      "rowLimit": 10000
     },
     "inputWidgets": {},
     "nuid": "de47838b-224b-4a18-a7d1-ab422d9826ba",
     "showTitle": false,
     "tableResultSettingsMap": {},
     "title": ""
    }
   },
   "outputs": [
    {
     "output_type": "display_data",
     "data": {
      "text/html": [
       "<style scoped>\n",
       "  .table-result-container {\n",
       "    max-height: 300px;\n",
       "    overflow: auto;\n",
       "  }\n",
       "  table, th, td {\n",
       "    border: 1px solid black;\n",
       "    border-collapse: collapse;\n",
       "  }\n",
       "  th, td {\n",
       "    padding: 5px;\n",
       "  }\n",
       "  th {\n",
       "    text-align: left;\n",
       "  }\n",
       "</style><div class='table-result-container'><table class='table-result'><thead style='background-color: white'><tr><th>Branch_ID</th><th>BranchName</th><th>dim_branch_key</th></tr></thead><tbody><tr><td>BR0131</td><td>Audi Motors</td><td>0</td></tr><tr><td>BR0760</td><td>Healey Motors</td><td>1</td></tr><tr><td>BR0789</td><td>Hillman Motors</td><td>2</td></tr><tr><td>BR0938</td><td>Isotta Fraschini Motors</td><td>3</td></tr><tr><td>BR1040</td><td>Lada Motors</td><td>4</td></tr><tr><td>BR1693</td><td>Saleen Motors</td><td>5</td></tr><tr><td>BR1792</td><td>Simca do Brasil Motors</td><td>6</td></tr><tr><td>BR1799</td><td>Simca do Brasil Motors</td><td>7</td></tr><tr><td>BR1955</td><td>Toyota Motors</td><td>8</td></tr><tr><td>BR1978</td><td>Turner Motors</td><td>9</td></tr><tr><td>BR2068</td><td>Westfield Motors</td><td>10</td></tr><tr><td>BR2332</td><td>Bohn Motor Company Automobile Dealership</td><td>11</td></tr><tr><td>BR0151</td><td>Auto-Union Motors</td><td>12</td></tr><tr><td>BR0409</td><td>DAF Motors</td><td>13</td></tr><tr><td>BR0434</td><td>Datsun Motors</td><td>14</td></tr><tr><td>BR0599</td><td>Fisker, Karma Motors</td><td>15</td></tr><tr><td>BR0753</td><td>Healey Motors</td><td>16</td></tr><tr><td>BR1143</td><td>Mahindra Motors</td><td>17</td></tr><tr><td>BR12246</td><td>Volkswagen South Africa Motors</td><td>18</td></tr><tr><td>BR1233</td><td>McLaren Motors</td><td>19</td></tr><tr><td>BR1558</td><td>Plymouth Motors</td><td>20</td></tr><tr><td>BR1795</td><td>Simca do Brasil Motors</td><td>21</td></tr><tr><td>BR1847</td><td>SsangYong Motors</td><td>22</td></tr><tr><td>BR1943</td><td>Tornado Motors</td><td>23</td></tr><tr><td>BR2054</td><td>Volvo Motors</td><td>24</td></tr><tr><td>BR2063</td><td>Westfield Motors</td><td>25</td></tr><tr><td>BR0019</td><td>Acura Motors</td><td>26</td></tr><tr><td>BR0145</td><td>Autobianchi Motors</td><td>27</td></tr><tr><td>BR0913</td><td>Isdera Motors</td><td>28</td></tr><tr><td>BR1340</td><td>Monteverdi Motors</td><td>29</td></tr><tr><td>BR1630</td><td>Ranger Motors</td><td>30</td></tr><tr><td>BR1865</td><td>Studebaker Motors</td><td>31</td></tr><tr><td>BR2139</td><td>Horch Motors</td><td>32</td></tr><tr><td>BR0274</td><td>Buick Motors</td><td>33</td></tr><tr><td>BR0308</td><td>Caterham Motors</td><td>34</td></tr><tr><td>BR0399</td><td>Daewoo, Saehan, Chevrolet Korea Motors</td><td>35</td></tr><tr><td>BR0471</td><td>De Tomaso Motors</td><td>36</td></tr><tr><td>BR0731</td><td>GTA Spano Motors</td><td>37</td></tr><tr><td>BR0759</td><td>Healey Motors</td><td>38</td></tr><tr><td>BR1383</td><td>Nissan Motors</td><td>39</td></tr><tr><td>BR1664</td><td>Rolls-Royce Motors</td><td>40</td></tr><tr><td>BR1769</td><td>Seat Motors</td><td>41</td></tr><tr><td>BR2262</td><td>Ramani Motors</td><td>42</td></tr><tr><td>BR2352</td><td>Cadillac Automobile Company Building</td><td>43</td></tr><tr><td>BR0114</td><td>Asia Motors Motors</td><td>44</td></tr><tr><td>BR0462</td><td>DeSoto Motors</td><td>45</td></tr><tr><td>BR0699</td><td>Gilbern Motors</td><td>46</td></tr><tr><td>BR0793</td><td>Hindustan Motors</td><td>47</td></tr><tr><td>BR1479</td><td>Panhard Motors</td><td>48</td></tr><tr><td>BR2275</td><td>Deccan Motors</td><td>49</td></tr><tr><td>BR0138</td><td>Audi Motors</td><td>50</td></tr><tr><td>BR0202</td><td>Bond Motors</td><td>51</td></tr><tr><td>BR0700</td><td>Gilbern Motors</td><td>52</td></tr><tr><td>BR0988</td><td>Jensen Motors</td><td>53</td></tr><tr><td>BR9246</td><td>Piaggio Motors</td><td>54</td></tr><tr><td>BR0095</td><td>ARO Motors</td><td>55</td></tr><tr><td>BR0351</td><td>Chrysler Europe Motors</td><td>56</td></tr><tr><td>BR0368</td><td>Citroën Motors</td><td>57</td></tr><tr><td>BR0614</td><td>Ford Australia Motors</td><td>58</td></tr><tr><td>BR1248</td><td>Mercedes-Benz (including Maybach) Motors</td><td>59</td></tr><tr><td>BR1884</td><td>Sunbeam Motors</td><td>60</td></tr><tr><td>BR2035</td><td>Volkswagen do Brasil Motors</td><td>61</td></tr><tr><td>BR0070</td><td>AMC, Eagle Motors</td><td>62</td></tr><tr><td>BR0251</td><td>Austin, Rover Motors</td><td>63</td></tr><tr><td>BR0262</td><td>Bugatti Motors</td><td>64</td></tr><tr><td>BR1243</td><td>Mercedes-Benz (including Maybach) Motors</td><td>65</td></tr><tr><td>BR1289</td><td>Mia Motors</td><td>66</td></tr><tr><td>BR1405</td><td>Noble Motors</td><td>67</td></tr><tr><td>BR2033</td><td>Volkswagen do Brasil Motors</td><td>68</td></tr><tr><td>BR2329</td><td>Blankinship Motor Company Building</td><td>69</td></tr><tr><td>BR2385</td><td>Claremore Auto Dealership</td><td>70</td></tr><tr><td>BR0130</td><td>Aston Martin Motors</td><td>71</td></tr><tr><td>BR0891</td><td>Innocenti Motors</td><td>72</td></tr><tr><td>BR1177</td><td>Maruti Motors</td><td>73</td></tr><tr><td>BR1321</td><td>Monica Motors</td><td>74</td></tr><tr><td>BR13626</td><td>Deccan Motors</td><td>75</td></tr><tr><td>BR0064</td><td>AMC, Eagle Motors</td><td>76</td></tr><tr><td>BR0673</td><td>GAZ Motors</td><td>77</td></tr><tr><td>BR0685</td><td>Geo Motors</td><td>78</td></tr><tr><td>BR0718</td><td>Glas Motors</td><td>79</td></tr><tr><td>BR1298</td><td>Micro Motors</td><td>80</td></tr><tr><td>BR1300</td><td>Micro Motors</td><td>81</td></tr><tr><td>BR1347</td><td>Morgan Motors</td><td>82</td></tr><tr><td>BR1373</td><td>Naza Motors</td><td>83</td></tr><tr><td>BR2337</td><td>Bohn Motor Company Automobile Dealership</td><td>84</td></tr><tr><td>BR0231</td><td>British Leyland Motors</td><td>85</td></tr><tr><td>BR0895</td><td>Innocenti Motors</td><td>86</td></tr><tr><td>BR1228</td><td>Mazzanti Motors</td><td>87</td></tr><tr><td>BR1617</td><td>Puma Motors</td><td>88</td></tr><tr><td>BR1637</td><td>Reliant Motors</td><td>89</td></tr><tr><td>BR1680</td><td>Saab Motors</td><td>90</td></tr><tr><td>BR1821</td><td>Smart Motors</td><td>91</td></tr><tr><td>BR1940</td><td>Tesla Motors</td><td>92</td></tr><tr><td>BR2391</td><td>Clemens Automobile Company Building</td><td>93</td></tr><tr><td>BR2467</td><td>Kindel Building</td><td>94</td></tr><tr><td>BR3186</td><td>Elva Motors</td><td>95</td></tr><tr><td>BR5466</td><td>Isdera Motors</td><td>96</td></tr><tr><td>BR9126</td><td>Peugeot Motors</td><td>97</td></tr><tr><td>BR0104</td><td>Artega Motors</td><td>98</td></tr><tr><td>BR0354</td><td>Chrysler Europe Motors</td><td>99</td></tr><tr><td>BR0494</td><td>Donkervoort Motors</td><td>100</td></tr><tr><td>BR0528</td><td>Eicher Polaris Motors</td><td>101</td></tr><tr><td>BR1074</td><td>Lexus Motors</td><td>102</td></tr><tr><td>BR1503</td><td>Peel Motors</td><td>103</td></tr><tr><td>BR1718</td><td>San Motors</td><td>104</td></tr><tr><td>BR1864</td><td>Studebaker Motors</td><td>105</td></tr><tr><td>BR1993</td><td>UAZ Motors</td><td>106</td></tr><tr><td>BR2217</td><td>Riley  Motors</td><td>107</td></tr><tr><td>BR0682</td><td>Geo Motors</td><td>108</td></tr><tr><td>BR0905</td><td>Invicta Motors</td><td>109</td></tr><tr><td>BR10686</td><td>Simca Motors</td><td>110</td></tr><tr><td>BR1325</td><td>Monica Motors</td><td>111</td></tr><tr><td>BR1568</td><td>Polestar Motors</td><td>112</td></tr><tr><td>BR1822</td><td>Smart Motors</td><td>113</td></tr><tr><td>BR2154</td><td>Maybach  Motors</td><td>114</td></tr><tr><td>BR0011</td><td>Acura Motors</td><td>115</td></tr><tr><td>BR0115</td><td>Asia Motors Motors</td><td>116</td></tr><tr><td>BR0223</td><td>Bristol Motors</td><td>117</td></tr><tr><td>BR0490</td><td>Dodge Motors</td><td>118</td></tr><tr><td>BR0625</td><td>Ford do Brasil Motors</td><td>119</td></tr><tr><td>BR1111</td><td>LTI Motors</td><td>120</td></tr><tr><td>BR1829</td><td>Smart Motors</td><td>121</td></tr><tr><td>BR2277</td><td>Deccan Motors</td><td>122</td></tr><tr><td>BR2369</td><td>Casa de cadillac</td><td>123</td></tr><tr><td>BR6066</td><td>Koenigsegg Motors</td><td>124</td></tr><tr><td>BR0512</td><td>e.GO Mobile Motors</td><td>125</td></tr><tr><td>BR0584</td><td>Fiat India Motors</td><td>126</td></tr><tr><td>BR1691</td><td>Saleen Motors</td><td>127</td></tr><tr><td>BR1845</td><td>SsangYong Motors</td><td>128</td></tr><tr><td>BR1932</td><td>Tesla Motors</td><td>129</td></tr><tr><td>BR0360</td><td>Chrysler Europe Motors</td><td>130</td></tr><tr><td>BR0388</td><td>Dacia Motors</td><td>131</td></tr><tr><td>BR0486</td><td>Ariel Motors</td><td>132</td></tr><tr><td>BR0811</td><td>Honda Motors</td><td>133</td></tr><tr><td>BR1105</td><td>Lotus Motors</td><td>134</td></tr><tr><td>BR1762</td><td>Seat Motors</td><td>135</td></tr><tr><td>BR1768</td><td>Seat Motors</td><td>136</td></tr><tr><td>BR1960</td><td>Toyota Motors</td><td>137</td></tr><tr><td>BR2322</td><td>Blankinship Motor Company Building</td><td>138</td></tr><tr><td>BR2412</td><td>H Street Playhouse</td><td>139</td></tr><tr><td>BR2440</td><td>Hupmobile Building</td><td>140</td></tr><tr><td>BR0058</td><td>Alvis Motors</td><td>141</td></tr><tr><td>BR0447</td><td>Delahaye Motors</td><td>142</td></tr><tr><td>BR0479</td><td>De Tomaso Motors</td><td>143</td></tr><tr><td>BR0501</td><td>Edsel Motors</td><td>144</td></tr><tr><td>BR0919</td><td>Isdera Motors</td><td>145</td></tr><tr><td>BR1152</td><td>Marcos Motors</td><td>146</td></tr><tr><td>BR2289</td><td>Herald Motors</td><td>147</td></tr><tr><td>BR9426</td><td>Pontiac, Asüna Motors</td><td>148</td></tr><tr><td>BR0027</td><td>Aixam-Mega (including Arola) Motors</td><td>149</td></tr><tr><td>BR0411</td><td>Daihatsu Motors</td><td>150</td></tr><tr><td>BR1140</td><td>Lynx Motors</td><td>151</td></tr><tr><td>BR2087</td><td>Zastava Motors</td><td>152</td></tr><tr><td>BR2155</td><td>Maybach  Motors</td><td>153</td></tr><tr><td>BR2233</td><td>Standard  Motors</td><td>154</td></tr><tr><td>BR5406</td><td>Invicta Motors</td><td>155</td></tr><tr><td>BR0463</td><td>DeSoto Motors</td><td>156</td></tr><tr><td>BR0606</td><td>Artega Motors</td><td>157</td></tr><tr><td>BR0662</td><td>FSO Motors</td><td>158</td></tr><tr><td>BR1180</td><td>Maruti Motors</td><td>159</td></tr><tr><td>BR1380</td><td>Naza Motors</td><td>160</td></tr><tr><td>BR13986</td><td>Bohn Motor Company Automobile Dealership</td><td>161</td></tr><tr><td>BR1553</td><td>Plymouth Motors</td><td>162</td></tr><tr><td>BR1789</td><td>Simca Motors</td><td>163</td></tr><tr><td>BR1957</td><td>Toyota Motors</td><td>164</td></tr><tr><td>BR2025</td><td>Volkswagen Motors</td><td>165</td></tr><tr><td>BR2100</td><td>ZAZ Motors</td><td>166</td></tr><tr><td>BR2378</td><td>Cass Motor Sales</td><td>167</td></tr><tr><td>BR0089</td><td>Ariel Motors</td><td>168</td></tr><tr><td>BR0608</td><td>Ford America Motors</td><td>169</td></tr><tr><td>BR0941</td><td>Isuzu Motors</td><td>170</td></tr><tr><td>BR1273</td><td>Messerschmitt Motors</td><td>171</td></tr><tr><td>BR1860</td><td>Standard-Triumph Motors</td><td>172</td></tr><tr><td>BR1888</td><td>Sunbeam Motors</td><td>173</td></tr><tr><td>BR2142</td><td>Wanderer Motors</td><td>174</td></tr><tr><td>BR2319</td><td>2008 NRHP-listed</td><td>175</td></tr><tr><td>BR0264</td><td>Bugatti Motors</td><td>176</td></tr><tr><td>BR0498</td><td>Donkervoort Motors</td><td>177</td></tr><tr><td>BR0829</td><td>Honda India Motors</td><td>178</td></tr><tr><td>BR0890</td><td>Infiniti Motors</td><td>179</td></tr><tr><td>BR1044</td><td>Lamborghini Motors</td><td>180</td></tr><tr><td>BR13746</td><td>Zion Automobils</td><td>181</td></tr><tr><td>BR1398</td><td>Nissan India Motors</td><td>182</td></tr><tr><td>BR1877</td><td>Subaru Motors</td><td>183</td></tr><tr><td>BR1927</td><td>Tazzari Motors</td><td>184</td></tr><tr><td>BR2410</td><td>Colman Automotive Building</td><td>185</td></tr><tr><td>BR0534</td><td>Elva Motors</td><td>186</td></tr><tr><td>BR1442</td><td>Opel Motors</td><td>187</td></tr><tr><td>BR1722</td><td>Santa Matilde Motors</td><td>188</td></tr><tr><td>BR1990</td><td>TVR Motors</td><td>189</td></tr><tr><td>BR2070</td><td>Westfield Motors</td><td>190</td></tr><tr><td>BR2204</td><td>Austin  Motors</td><td>191</td></tr><tr><td>BR0204</td><td>Bond Motors</td><td>192</td></tr><tr><td>BR0717</td><td>Glas Motors</td><td>193</td></tr><tr><td>BR0947</td><td>Isuzu Motors</td><td>194</td></tr><tr><td>BR0983</td><td>Jensen Motors</td><td>195</td></tr><tr><td>BR1003</td><td>Kia Motors</td><td>196</td></tr><tr><td>BR11706</td><td>Toyota Motors</td><td>197</td></tr><tr><td>BR1232</td><td>McLaren Motors</td><td>198</td></tr><tr><td>BR1688</td><td>SAIC Motor Motors</td><td>199</td></tr><tr><td>BR1809</td><td>Singer Motors</td><td>200</td></tr><tr><td>BR1968</td><td>Toyota India Motors</td><td>201</td></tr><tr><td>BR2018</td><td>Venturi Motors</td><td>202</td></tr><tr><td>BR2022</td><td>Volkswagen Motors</td><td>203</td></tr><tr><td>BR2226</td><td>Cizeta-Moroder Motors</td><td>204</td></tr><tr><td>BR0235</td><td>British Leyland Motors</td><td>205</td></tr><tr><td>BR0634</td><td>Ford Europe Motors</td><td>206</td></tr><tr><td>BR0889</td><td>Infiniti Motors</td><td>207</td></tr><tr><td>BR1318</td><td>Mitsubishi Motors</td><td>208</td></tr><tr><td>BR1626</td><td>Buick Motors</td><td>209</td></tr><tr><td>BR2267</td><td>Ramani Motors</td><td>210</td></tr><tr><td>BR0591</td><td>Fisker, Karma Motors</td><td>211</td></tr><tr><td>BR0642</td><td>Ford India Motors</td><td>212</td></tr><tr><td>BR0930</td><td>Iso Motors</td><td>213</td></tr><tr><td>BR1027</td><td>KTM Motors</td><td>214</td></tr><tr><td>BR1065</td><td>Land Rover Motors</td><td>215</td></tr><tr><td>BR1382</td><td>Nissan Motors</td><td>216</td></tr><tr><td>BR1749</td><td>Saturn Motors</td><td>217</td></tr><tr><td>BR2433</td><td>Hupmobile Building</td><td>218</td></tr><tr><td>BR8406</td><td>Noble Motors</td><td>219</td></tr><tr><td>BR0040</td><td>Alfa Romeo Motors</td><td>220</td></tr><tr><td>BR0218</td><td>Borgward (including Goliath and Lloyd) Motors</td><td>221</td></tr><tr><td>BR0337</td><td>Chevrolet India Motors</td><td>222</td></tr><tr><td>BR1162</td><td>Marlin Motors</td><td>223</td></tr><tr><td>BR0082</td><td>Ariel Motors</td><td>224</td></tr><tr><td>BR0164</td><td>Auverland Motors</td><td>225</td></tr><tr><td>BR0598</td><td>Fisker, Karma Motors</td><td>226</td></tr><tr><td>BR0735</td><td>GTA Spano Motors</td><td>227</td></tr><tr><td>BR1063</td><td>Land Rover Motors</td><td>228</td></tr><tr><td>BR1579</td><td>Pontiac, Asüna Motors</td><td>229</td></tr><tr><td>BR2149</td><td>Wanderer Motors</td><td>230</td></tr><tr><td>BR2168</td><td>Izh  Motors</td><td>231</td></tr><tr><td>BR0279</td><td>Buick Motors</td><td>232</td></tr><tr><td>BR0884</td><td>Infiniti Motors</td><td>233</td></tr><tr><td>BR1048</td><td>Lamborghini Motors</td><td>234</td></tr><tr><td>BR1094</td><td>Lincoln Motors</td><td>235</td></tr><tr><td>BR1292</td><td>Micro Motors</td><td>236</td></tr><tr><td>BR1323</td><td>Monica Motors</td><td>237</td></tr><tr><td>BR1395</td><td>Nissan India Motors</td><td>238</td></tr><tr><td>BR1424</td><td>Oldsmobile Motors</td><td>239</td></tr><tr><td>BR1477</td><td>Panhard Motors</td><td>240</td></tr><tr><td>BR1670</td><td>Rolls-Royce Motors</td><td>241</td></tr><tr><td>BR1708</td><td>Samsung Motors</td><td>242</td></tr><tr><td>BR2039</td><td>Volkswagen do Brasil Motors</td><td>243</td></tr><tr><td>BR2404</td><td>Colman Automotive Building</td><td>244</td></tr><tr><td>BR0270</td><td>Bugatti Motors</td><td>245</td></tr><tr><td>BR0275</td><td>Buick Motors</td><td>246</td></tr><tr><td>BR0378</td><td>Cizeta-Moroder Motors</td><td>247</td></tr><tr><td>BR0405</td><td>DAF Motors</td><td>248</td></tr><tr><td>BR0592</td><td>Fisker, Karma Motors</td><td>249</td></tr><tr><td>BR0881</td><td>Infiniti Motors</td><td>250</td></tr><tr><td>BR0963</td><td>Jaguar Motors</td><td>251</td></tr><tr><td>BR1320</td><td>Mitsubishi Motors</td><td>252</td></tr><tr><td>BR1531</td><td>PGO Motors</td><td>253</td></tr><tr><td>BR1612</td><td>Puma Motors</td><td>254</td></tr><tr><td>BR1873</td><td>Subaru Motors</td><td>255</td></tr><tr><td>BR2077</td><td>Wiesmann Motors</td><td>256</td></tr><tr><td>BR2143</td><td>Wanderer Motors</td><td>257</td></tr><tr><td>BR2223</td><td>Wolseley  Motors</td><td>258</td></tr><tr><td>BR0509</td><td>Edsel Motors</td><td>259</td></tr><tr><td>BR1267</td><td>Merkur Motors</td><td>260</td></tr><tr><td>BR2225</td><td>Wolseley  Motors</td><td>261</td></tr><tr><td>BR0168</td><td>Auverland Motors</td><td>262</td></tr><tr><td>BR0318</td><td>Checker Motors</td><td>263</td></tr><tr><td>BR0362</td><td>Citroën Motors</td><td>264</td></tr><tr><td>BR0562</td><td>Fiat Motors</td><td>265</td></tr><tr><td>BR0738</td><td>GTA Spano Motors</td><td>266</td></tr><tr><td>BR0805</td><td>Holden Motors</td><td>267</td></tr><tr><td>BR0934</td><td>Isotta Fraschini Motors</td><td>268</td></tr><tr><td>BR1051</td><td>Lancia Motors</td><td>269</td></tr><tr><td>BR11466</td><td>Tatra Motors</td><td>270</td></tr><tr><td>BR1192</td><td>Mastretta Motors</td><td>271</td></tr><tr><td>BR1746</td><td>Cadillac Motors</td><td>272</td></tr><tr><td>BR1830</td><td>Smart Motors</td><td>273</td></tr><tr><td>BR2297</td><td>Zion Automobils</td><td>274</td></tr><tr><td>BR8046</td><td>Morgan Motors</td><td>275</td></tr><tr><td>BR0037</td><td>Alfa Romeo Motors</td><td>276</td></tr><tr><td>BR0268</td><td>Bugatti Motors</td><td>277</td></tr><tr><td>BR0367</td><td>Citroën Motors</td><td>278</td></tr><tr><td>BR1212</td><td>Mazda Motors</td><td>279</td></tr><tr><td>BR13806</td><td>Atlantic Motor Company</td><td>280</td></tr><tr><td>BR1491</td><td>Panther Motors</td><td>281</td></tr><tr><td>BR1750</td><td>Saturn Motors</td><td>282</td></tr><tr><td>BR1820</td><td>Skoda Motors</td><td>283</td></tr><tr><td>BR2037</td><td>Volkswagen do Brasil Motors</td><td>284</td></tr><tr><td>BR2248</td><td>Talbot  Motors</td><td>285</td></tr><tr><td>BR2280</td><td>Deccan Motors</td><td>286</td></tr><tr><td>BR7926</td><td>Monica Motors</td><td>287</td></tr><tr><td>BR1149</td><td>Mahindra Motors</td><td>288</td></tr><tr><td>BR1449</td><td>Opel Motors</td><td>289</td></tr><tr><td>BR6786</td><td>Lynx Motors</td><td>290</td></tr><tr><td>BR0059</td><td>Alvis Motors</td><td>291</td></tr><tr><td>BR0497</td><td>Donkervoort Motors</td><td>292</td></tr><tr><td>BR0561</td><td>Fiat Motors</td><td>293</td></tr><tr><td>BR0933</td><td>Isotta Fraschini Motors</td><td>294</td></tr><tr><td>BR1164</td><td>Marlin Motors</td><td>295</td></tr><tr><td>BR11946</td><td>UAZ Motors</td><td>296</td></tr><tr><td>BR1399</td><td>Nissan India Motors</td><td>297</td></tr><tr><td>BR1414</td><td>NSU Motors</td><td>298</td></tr><tr><td>BR1935</td><td>Tesla Motors</td><td>299</td></tr><tr><td>BR2210</td><td>Austin  Motors</td><td>300</td></tr><tr><td>BR3306</td><td>Ferrari Motors</td><td>301</td></tr><tr><td>BR3546</td><td>Fisker, Karma Motors</td><td>302</td></tr><tr><td>BR0075</td><td>Anadol Motors</td><td>303</td></tr><tr><td>BR0135</td><td>Audi Motors</td><td>304</td></tr><tr><td>BR0163</td><td>Auverland Motors</td><td>305</td></tr><tr><td>BR0491</td><td>Donkervoort Motors</td><td>306</td></tr><tr><td>BR0647</td><td>Ford India Motors</td><td>307</td></tr><tr><td>BR0765</td><td>Heinkel Motors</td><td>308</td></tr><tr><td>BR10206</td><td>Samsung Motors</td><td>309</td></tr><tr><td>BR1353</td><td>Moskwitch Motors</td><td>310</td></tr><tr><td>BR1561</td><td>Polestar Motors</td><td>311</td></tr><tr><td>BR1828</td><td>Smart Motors</td><td>312</td></tr><tr><td>BR2062</td><td>Westfield Motors</td><td>313</td></tr><tr><td>BR2084</td><td>Zastava Motors</td><td>314</td></tr><tr><td>BR2383</td><td>Claremore Auto Dealership</td><td>315</td></tr><tr><td>BR0451</td><td>DeLorean Motors</td><td>316</td></tr><tr><td>BR0701</td><td>Ginetta Motors</td><td>317</td></tr><tr><td>BR0786</td><td>Audi Motors</td><td>318</td></tr><tr><td>BR1293</td><td>Micro Motors</td><td>319</td></tr><tr><td>BR2191</td><td>Morris  Motors</td><td>320</td></tr><tr><td>BR4146</td><td>Gilbern Motors</td><td>321</td></tr><tr><td>BR0285</td><td>Bytom Motors</td><td>322</td></tr><tr><td>BR0525</td><td>Eicher Polaris Motors</td><td>323</td></tr><tr><td>BR0714</td><td>Glas Motors</td><td>324</td></tr><tr><td>BR1452</td><td>Packard Motors</td><td>325</td></tr><tr><td>BR1660</td><td>Rivian Motors</td><td>326</td></tr><tr><td>BR2244</td><td>Talbot  Motors</td><td>327</td></tr><tr><td>BR5646</td><td>Isuzu Motors</td><td>328</td></tr><tr><td>BR0575</td><td>Fiat do Brasil Motors</td><td>329</td></tr><tr><td>BR0803</td><td>Holden Motors</td><td>330</td></tr><tr><td>BR1195</td><td>Mastretta Motors</td><td>331</td></tr><tr><td>BR1279</td><td>Messerschmitt Motors</td><td>332</td></tr><tr><td>BR1844</td><td>SsangYong Motors</td><td>333</td></tr><tr><td>BR2221</td><td>Wolseley  Motors</td><td>334</td></tr><tr><td>BR0553</td><td>Ferrari Motors</td><td>335</td></tr><tr><td>BR0579</td><td>Fiat do Brasil Motors</td><td>336</td></tr><tr><td>BR0841</td><td>Humber Motors</td><td>337</td></tr><tr><td>BR1045</td><td>Lamborghini Motors</td><td>338</td></tr><tr><td>BR1112</td><td>LTI Motors</td><td>339</td></tr><tr><td>BR12186</td><td>Volkswagen do Brasil Motors</td><td>340</td></tr><tr><td>BR12366</td><td>Westfield Motors</td><td>341</td></tr><tr><td>BR1460</td><td>Packard Motors</td><td>342</td></tr><tr><td>BR1597</td><td>Premier Motors</td><td>343</td></tr><tr><td>BR2192</td><td>Morris  Motors</td><td>344</td></tr><tr><td>BR0158</td><td>Auto-Union Motors</td><td>345</td></tr><tr><td>BR0243</td><td>Austin-Healey Motors</td><td>346</td></tr><tr><td>BR0298</td><td>Cadillac Motors</td><td>347</td></tr><tr><td>BR0771</td><td>Hennessey Motors</td><td>348</td></tr><tr><td>BR0857</td><td>Hummer Motors</td><td>349</td></tr><tr><td>BR1155</td><td>Marcos Motors</td><td>350</td></tr><tr><td>BR12786</td><td>Horch Motors</td><td>351</td></tr><tr><td>BR12966</td><td>Izh  Motors</td><td>352</td></tr><tr><td>BR2185</td><td>MG  Motors</td><td>353</td></tr><tr><td>BR7446</td><td>Mercedes-Benz (including Maybach) Motors</td><td>354</td></tr><tr><td>BR0172</td><td>Bentley Motors</td><td>355</td></tr><tr><td>BR0392</td><td>Daewoo, Saehan, Chevrolet Korea Motors</td><td>356</td></tr><tr><td>BR0943</td><td>Isuzu Motors</td><td>357</td></tr><tr><td>BR1047</td><td>Lamborghini Motors</td><td>358</td></tr><tr><td>BR14706</td><td>Jones Motor Company</td><td>359</td></tr><tr><td>BR1598</td><td>Premier Motors</td><td>360</td></tr><tr><td>BR1755</td><td>Scion Motors</td><td>361</td></tr><tr><td>BR2005</td><td>Vauxhall Motors</td><td>362</td></tr><tr><td>BR2188</td><td>MG  Motors</td><td>363</td></tr><tr><td>BR0017</td><td>Acura Motors</td><td>364</td></tr><tr><td>BR0651</td><td>Freightliner Motors</td><td>365</td></tr><tr><td>BR0900</td><td>Innocenti Motors</td><td>366</td></tr><tr><td>BR1288</td><td>Mia Motors</td><td>367</td></tr><tr><td>BR1330</td><td>Monica Motors</td><td>368</td></tr><tr><td>BR1390</td><td>Nissan Motors</td><td>369</td></tr><tr><td>BR1862</td><td>Studebaker Motors</td><td>370</td></tr><tr><td>BR1871</td><td>Subaru Motors</td><td>371</td></tr><tr><td>BR1939</td><td>Tesla Motors</td><td>372</td></tr><tr><td>BR1951</td><td>Toyota Motors</td><td>373</td></tr><tr><td>BR2083</td><td>Zastava Motors</td><td>374</td></tr><tr><td>BR2415</td><td>H Street Playhouse</td><td>375</td></tr><tr><td>BR4086</td><td>Geo Motors</td><td>376</td></tr><tr><td>BR0708</td><td>Ginetta Motors</td><td>377</td></tr><tr><td>BR0801</td><td>Holden Motors</td><td>378</td></tr><tr><td>BR1220</td><td>Mazda Motors</td><td>379</td></tr><tr><td>BR1369</td><td>Nash Motors</td><td>380</td></tr><tr><td>BR1384</td><td>Nissan Motors</td><td>381</td></tr><tr><td>BR1464</td><td>Pagani Motors</td><td>382</td></tr><tr><td>BR1778</td><td>Shelby SuperCars Motors</td><td>383</td></tr><tr><td>BR2097</td><td>ZAZ Motors</td><td>384</td></tr><tr><td>BR1438</td><td>Oltcit Motors</td><td>385</td></tr><tr><td>BR1461</td><td>Pagani Motors</td><td>386</td></tr><tr><td>BR1771</td><td>Shelby SuperCars Motors</td><td>387</td></tr><tr><td>BR2445</td><td>Jennings Ford Automobile Dealership</td><td>388</td></tr><tr><td>BR2449</td><td>Jennings Ford Automobile Dealership</td><td>389</td></tr><tr><td>BR2706</td><td>DeLorean Motors</td><td>390</td></tr><tr><td>BR0347</td><td>Chrysler Motors</td><td>391</td></tr><tr><td>BR0353</td><td>Chrysler Europe Motors</td><td>392</td></tr><tr><td>BR0604</td><td>Ford America Motors</td><td>393</td></tr><tr><td>BR0770</td><td>Heinkel Motors</td><td>394</td></tr><tr><td>BR1632</td><td>Reliant Motors</td><td>395</td></tr><tr><td>BR2420</td><td>H Street Playhouse</td><td>396</td></tr><tr><td>BR4986</td><td>Hudson Motors</td><td>397</td></tr><tr><td>BR0980</td><td>Jeep Motors</td><td>398</td></tr><tr><td>BR1861</td><td>Studebaker Motors</td><td>399</td></tr><tr><td>BR1991</td><td>UAZ Motors</td><td>400</td></tr><tr><td>BR2308</td><td>Atlantic Motor Company</td><td>401</td></tr><tr><td>BR2452</td><td>Jones Motor Company</td><td>402</td></tr><tr><td>BR6486</td><td>Ligier Motors</td><td>403</td></tr><tr><td>BR0225</td><td>Bristol Motors</td><td>404</td></tr><tr><td>BR0269</td><td>Bugatti Motors</td><td>405</td></tr><tr><td>BR0300</td><td>Cadillac Motors</td><td>406</td></tr><tr><td>BR0415</td><td>Daihatsu Motors</td><td>407</td></tr><tr><td>BR0732</td><td>GTA Spano Motors</td><td>408</td></tr><tr><td>BR0927</td><td>Iso Motors</td><td>409</td></tr><tr><td>BR1608</td><td>Proton Motors</td><td>410</td></tr><tr><td>BR1913</td><td>Tatra Motors</td><td>411</td></tr><tr><td>BR1917</td><td>Tatra Motors</td><td>412</td></tr><tr><td>BR2047</td><td>Volkswagen South Africa Motors</td><td>413</td></tr><tr><td>BR2179</td><td>Lagonda  Motors</td><td>414</td></tr><tr><td>BR2237</td><td>Standard  Motors</td><td>415</td></tr><tr><td>BR2946</td><td>Donkervoort Motors</td><td>416</td></tr><tr><td>BR0001</td><td>AC Cars Motors</td><td>417</td></tr><tr><td>BR0018</td><td>Acura Motors</td><td>418</td></tr><tr><td>BR0304</td><td>Caterham Motors</td><td>419</td></tr><tr><td>BR0407</td><td>DAF Motors</td><td>420</td></tr><tr><td>BR0960</td><td>Iveco Motors</td><td>421</td></tr><tr><td>BR0989</td><td>Jensen Motors</td><td>422</td></tr><tr><td>BR10326</td><td>Santa Matilde Motors</td><td>423</td></tr><tr><td>BR1418</td><td>NSU Motors</td><td>424</td></tr><tr><td>BR1600</td><td>Premier Motors</td><td>425</td></tr><tr><td>BR1757</td><td>Scion Motors</td><td>426</td></tr><tr><td>BR1931</td><td>Tesla Motors</td><td>427</td></tr><tr><td>BR2072</td><td>Wiesmann Motors</td><td>428</td></tr><tr><td>BR2117</td><td>Audi Motors</td><td>429</td></tr><tr><td>BR7746</td><td>Micro Motors</td><td>430</td></tr><tr><td>BR0013</td><td>Acura Motors</td><td>431</td></tr><tr><td>BR0182</td><td>Bitter Motors</td><td>432</td></tr><tr><td>BR0219</td><td>Borgward (including Goliath and Lloyd) Motors</td><td>433</td></tr><tr><td>BR0252</td><td>Austin, Rover Motors</td><td>434</td></tr><tr><td>BR0363</td><td>Citroën Motors</td><td>435</td></tr><tr><td>BR0792</td><td>Hindustan Motors</td><td>436</td></tr><tr><td>BR0877</td><td>IFA (including Trabant, Wartburg, Barkas) Motors</td><td>437</td></tr><tr><td>BR0888</td><td>Infiniti Motors</td><td>438</td></tr><tr><td>BR0972</td><td>Jeep Motors</td><td>439</td></tr><tr><td>BR12006</td><td>Vauxhall Motors</td><td>440</td></tr><tr><td>BR1547</td><td>Piaggio Motors</td><td>441</td></tr><tr><td>BR2061</td><td>Westfield Motors</td><td>442</td></tr><tr><td>BR2158</td><td>Maybach  Motors</td><td>443</td></tr><tr><td>BR2252</td><td>Das Motors</td><td>444</td></tr><tr><td>BR2377</td><td>Cass Motor Sales</td><td>445</td></tr><tr><td>BR0505</td><td>Edsel Motors</td><td>446</td></tr><tr><td>BR10986</td><td>Spyker Motors</td><td>447</td></tr><tr><td>BR1351</td><td>Moskwitch Motors</td><td>448</td></tr><tr><td>BR1549</td><td>Piaggio Motors</td><td>449</td></tr><tr><td>BR1604</td><td>Proton Motors</td><td>450</td></tr><tr><td>BR1677</td><td>Saab Motors</td><td>451</td></tr><tr><td>BR1840</td><td>Spyker Motors</td><td>452</td></tr><tr><td>BR1863</td><td>Studebaker Motors</td><td>453</td></tr><tr><td>BR1919</td><td>Tatra Motors</td><td>454</td></tr><tr><td>BR2147</td><td>Wanderer Motors</td><td>455</td></tr><tr><td>BR2160</td><td>Maybach  Motors</td><td>456</td></tr><tr><td>BR2293</td><td>Zion Automobils</td><td>457</td></tr><tr><td>BR2406</td><td>DAF Motors</td><td>458</td></tr><tr><td>BR8106</td><td>Moskwitch Motors</td><td>459</td></tr><tr><td>BR0531</td><td>Elva Motors</td><td>460</td></tr><tr><td>BR0691</td><td>Gilbern Motors</td><td>461</td></tr><tr><td>BR0828</td><td>Honda India Motors</td><td>462</td></tr><tr><td>BR10566</td><td>Seat Motors</td><td>463</td></tr><tr><td>BR1067</td><td>Land Rover Motors</td><td>464</td></tr><tr><td>BR1812</td><td>Skoda Motors</td><td>465</td></tr><tr><td>BR1910</td><td>Tata Motors</td><td>466</td></tr><tr><td>BR2291</td><td>Zion Automobils</td><td>467</td></tr><tr><td>BR7866</td><td>Mitsubishi Motors</td><td>468</td></tr><tr><td>BR1270</td><td>Merkur Motors</td><td>469</td></tr><tr><td>BR13926</td><td>Blankinship Motor Company Building</td><td>470</td></tr><tr><td>BR1984</td><td>TVR Motors</td><td>471</td></tr><tr><td>BR2050</td><td>Volkswagen South Africa Motors</td><td>472</td></tr><tr><td>BR2213</td><td>Riley  Motors</td><td>473</td></tr><tr><td>BR2360</td><td>Cadillac Automobile Company Building</td><td>474</td></tr><tr><td>BR2646</td><td>Delahaye Motors</td><td>475</td></tr><tr><td>BR5046</td><td>Humber Motors</td><td>476</td></tr><tr><td>BR0065</td><td>AMC, Eagle Motors</td><td>477</td></tr><tr><td>BR0313</td><td>Checker Motors</td><td>478</td></tr><tr><td>BR0393</td><td>Daewoo, Saehan, Chevrolet Korea Motors</td><td>479</td></tr><tr><td>BR0802</td><td>Holden Motors</td><td>480</td></tr><tr><td>BR1413</td><td>NSU Motors</td><td>481</td></tr><tr><td>BR1681</td><td>SAIC Motor Motors</td><td>482</td></tr><tr><td>BR1735</td><td>Santana Motors</td><td>483</td></tr><tr><td>BR1752</td><td>Scion Motors</td><td>484</td></tr><tr><td>BR2064</td><td>Westfield Motors</td><td>485</td></tr><tr><td>BR2125</td><td>DKW Motors</td><td>486</td></tr><tr><td>BR0189</td><td>Bitter Motors</td><td>487</td></tr><tr><td>BR0513</td><td>e.GO Mobile Motors</td><td>488</td></tr><tr><td>BR0544</td><td>Facel Vega Motors</td><td>489</td></tr><tr><td>BR0775</td><td>Hennessey Motors</td><td>490</td></tr><tr><td>BR1445</td><td>Opel Motors</td><td>491</td></tr><tr><td>BR1654</td><td>Rivian Motors</td><td>492</td></tr><tr><td>BR1743</td><td>Saturn Motors</td><td>493</td></tr><tr><td>BR2046</td><td>Chrysler Motors</td><td>494</td></tr><tr><td>BR2138</td><td>Horch Motors</td><td>495</td></tr><tr><td>BR0006</td><td>AC Cars Motors</td><td>496</td></tr><tr><td>BR0139</td><td>Audi Motors</td><td>497</td></tr><tr><td>BR0649</td><td>Ford India Motors</td><td>498</td></tr><tr><td>BR1050</td><td>Lamborghini Motors</td><td>499</td></tr><tr><td>BR1071</td><td>Lexus Motors</td><td>500</td></tr><tr><td>BR12486</td><td>Zastava Motors</td><td>501</td></tr><tr><td>BR1307</td><td>Mini Motors</td><td>502</td></tr><tr><td>BR1661</td><td>Rolls-Royce Motors</td><td>503</td></tr><tr><td>BR1832</td><td>Spyker Motors</td><td>504</td></tr><tr><td>BR1934</td><td>Tesla Motors</td><td>505</td></tr><tr><td>BR2065</td><td>Westfield Motors</td><td>506</td></tr><tr><td>BR2129</td><td>DKW Motors</td><td>507</td></tr><tr><td>BR2441</td><td>Jennings Ford Automobile Dealership</td><td>508</td></tr><tr><td>BR0153</td><td>Auto-Union Motors</td><td>509</td></tr><tr><td>BR0968</td><td>Jaguar Motors</td><td>510</td></tr><tr><td>BR11586</td><td>Tesla Motors</td><td>511</td></tr><tr><td>BR1255</td><td>Mercury Motors</td><td>512</td></tr><tr><td>BR1402</td><td>Noble Motors</td><td>513</td></tr><tr><td>BR1965</td><td>Toyota India Motors</td><td>514</td></tr><tr><td>BR1969</td><td>Toyota India Motors</td><td>515</td></tr><tr><td>BR2085</td><td>Zastava Motors</td><td>516</td></tr><tr><td>BR2288</td><td>Herald Motors</td><td>517</td></tr><tr><td>BR5706</td><td>Iveco Motors</td><td>518</td></tr><tr><td>BR0461</td><td>DeSoto Motors</td><td>519</td></tr><tr><td>BR0568</td><td>Fiat Motors</td><td>520</td></tr><tr><td>BR0666</td><td>Asia Motors Motors</td><td>521</td></tr><tr><td>BR0773</td><td>Hennessey Motors</td><td>522</td></tr><tr><td>BR0852</td><td>Hummer Motors</td><td>523</td></tr><tr><td>BR1322</td><td>Monica Motors</td><td>524</td></tr><tr><td>BR0032</td><td>Alfa Romeo Motors</td><td>525</td></tr><tr><td>BR0212</td><td>Borgward (including Goliath and Lloyd) Motors</td><td>526</td></tr><tr><td>BR0728</td><td>GMC Motors</td><td>527</td></tr><tr><td>BR0861</td><td>Hyundai Motors</td><td>528</td></tr><tr><td>BR0868</td><td>Hyundai Motors</td><td>529</td></tr><tr><td>BR0966</td><td>Auverland Motors</td><td>530</td></tr><tr><td>BR1182</td><td>Maserati Motors</td><td>531</td></tr><tr><td>BR0762</td><td>Heinkel Motors</td><td>532</td></tr><tr><td>BR13506</td><td>Das Motors</td><td>533</td></tr><tr><td>BR14586</td><td>Hupmobile Building</td><td>534</td></tr><tr><td>BR1628</td><td>Ranger Motors</td><td>535</td></tr><tr><td>BR1658</td><td>Rivian Motors</td><td>536</td></tr><tr><td>BR1711</td><td>San Motors</td><td>537</td></tr><tr><td>BR1763</td><td>Seat Motors</td><td>538</td></tr><tr><td>BR1989</td><td>TVR Motors</td><td>539</td></tr><tr><td>BR2468</td><td>Kindel Building</td><td>540</td></tr><tr><td>BR0031</td><td>Alfa Romeo Motors</td><td>541</td></tr><tr><td>BR0121</td><td>Aston Martin Motors</td><td>542</td></tr><tr><td>BR0171</td><td>Bentley Motors</td><td>543</td></tr><tr><td>BR0500</td><td>Donkervoort Motors</td><td>544</td></tr><tr><td>BR0638</td><td>Ford Europe Motors</td><td>545</td></tr><tr><td>BR0650</td><td>Ford India Motors</td><td>546</td></tr><tr><td>BR1017</td><td>Koenigsegg Motors</td><td>547</td></tr><tr><td>BR10746</td><td>Simca do Brasil Motors</td><td>548</td></tr><tr><td>BR1263</td><td>Merkur Motors</td><td>549</td></tr><tr><td>BR1403</td><td>Noble Motors</td><td>550</td></tr><tr><td>BR1947</td><td>Tornado Motors</td><td>551</td></tr><tr><td>BR2447</td><td>Jennings Ford Automobile Dealership</td><td>552</td></tr><tr><td>BR3246</td><td>Facel Vega Motors</td><td>553</td></tr><tr><td>BR0169</td><td>Auverland Motors</td><td>554</td></tr><tr><td>BR0517</td><td>e.GO Mobile Motors</td><td>555</td></tr><tr><td>BR0911</td><td>Isdera Motors</td><td>556</td></tr><tr><td>BR1197</td><td>Mastretta Motors</td><td>557</td></tr><tr><td>BR1525</td><td>Peugeot Motors</td><td>558</td></tr><tr><td>BR1529</td><td>Peugeot Motors</td><td>559</td></tr><tr><td>BR1564</td><td>Polestar Motors</td><td>560</td></tr><tr><td>BR1577</td><td>Pontiac, Asüna Motors</td><td>561</td></tr><tr><td>BR1592</td><td>Premier Motors</td><td>562</td></tr><tr><td>BR1855</td><td>Standard-Triumph Motors</td><td>563</td></tr><tr><td>BR2150</td><td>Wanderer Motors</td><td>564</td></tr><tr><td>BR0315</td><td>Checker Motors</td><td>565</td></tr><tr><td>BR0408</td><td>DAF Motors</td><td>566</td></tr><tr><td>BR0502</td><td>Edsel Motors</td><td>567</td></tr><tr><td>BR0504</td><td>Edsel Motors</td><td>568</td></tr><tr><td>BR0572</td><td>Fiat do Brasil Motors</td><td>569</td></tr><tr><td>BR0617</td><td>Ford Australia Motors</td><td>570</td></tr><tr><td>BR0794</td><td>Hindustan Motors</td><td>571</td></tr><tr><td>BR0849</td><td>Humber Motors</td><td>572</td></tr><tr><td>BR0958</td><td>Iveco Motors</td><td>573</td></tr><tr><td>BR0995</td><td>JPX Motors</td><td>574</td></tr><tr><td>BR13026</td><td>Lagonda  Motors</td><td>575</td></tr><tr><td>BR1574</td><td>Pontiac, Asüna Motors</td><td>576</td></tr><tr><td>BR1594</td><td>Premier Motors</td><td>577</td></tr><tr><td>BR1731</td><td>Santana Motors</td><td>578</td></tr><tr><td>BR1944</td><td>Tornado Motors</td><td>579</td></tr><tr><td>BR2115</td><td>Audi Motors</td><td>580</td></tr><tr><td>BR0125</td><td>Aston Martin Motors</td><td>581</td></tr><tr><td>BR0297</td><td>Cadillac Motors</td><td>582</td></tr><tr><td>BR0372</td><td>Cizeta-Moroder Motors</td><td>583</td></tr><tr><td>BR0798</td><td>Hindustan Motors</td><td>584</td></tr><tr><td>BR0939</td><td>Isotta Fraschini Motors</td><td>585</td></tr><tr><td>BR1302</td><td>Mini Motors</td><td>586</td></tr><tr><td>BR1377</td><td>Naza Motors</td><td>587</td></tr><tr><td>BR14226</td><td>Cass Motor Sales</td><td>588</td></tr><tr><td>BR14526</td><td>Howard Motor Company Building</td><td>589</td></tr><tr><td>BR1463</td><td>Pagani Motors</td><td>590</td></tr><tr><td>BR1473</td><td>Panhard Motors</td><td>591</td></tr><tr><td>BR1952</td><td>Toyota Motors</td><td>592</td></tr><tr><td>BR2021</td><td>Volkswagen Motors</td><td>593</td></tr><tr><td>BR5886</td><td>Jensen Motors</td><td>594</td></tr><tr><td>BR0053</td><td>Alvis Motors</td><td>595</td></tr><tr><td>BR0054</td><td>Alvis Motors</td><td>596</td></tr><tr><td>BR0514</td><td>e.GO Mobile Motors</td><td>597</td></tr><tr><td>BR0744</td><td>Gumpert Motors</td><td>598</td></tr><tr><td>BR1012</td><td>Koenigsegg Motors</td><td>599</td></tr><tr><td>BR1159</td><td>Marcos Motors</td><td>600</td></tr><tr><td>BR1444</td><td>Opel Motors</td><td>601</td></tr><tr><td>BR1721</td><td>Santa Matilde Motors</td><td>602</td></tr><tr><td>BR1753</td><td>Scion Motors</td><td>603</td></tr><tr><td>BR2090</td><td>Zastava Motors</td><td>604</td></tr><tr><td>BR2399</td><td>Clemens Automobile Company Building</td><td>605</td></tr><tr><td>BR0140</td><td>Audi Motors</td><td>606</td></tr><tr><td>BR0690</td><td>Geo Motors</td><td>607</td></tr><tr><td>BR0922</td><td>Iso Motors</td><td>608</td></tr><tr><td>BR1349</td><td>Morgan Motors</td><td>609</td></tr><tr><td>BR1737</td><td>Santana Motors</td><td>610</td></tr><tr><td>BR1949</td><td>Tornado Motors</td><td>611</td></tr><tr><td>BR4806</td><td>Holden Motors</td><td>612</td></tr><tr><td>BR5826</td><td>Jeep Motors</td><td>613</td></tr><tr><td>BR8646</td><td>Opel Motors</td><td>614</td></tr><tr><td>BR0352</td><td>Chrysler Europe Motors</td><td>615</td></tr><tr><td>BR0458</td><td>DeLorean Motors</td><td>616</td></tr><tr><td>BR0784</td><td>Hillman Motors</td><td>617</td></tr><tr><td>BR1230</td><td>Mazzanti Motors</td><td>618</td></tr><tr><td>BR1425</td><td>Oldsmobile Motors</td><td>619</td></tr><tr><td>BR1967</td><td>Toyota India Motors</td><td>620</td></tr><tr><td>BR2091</td><td>ZAZ Motors</td><td>621</td></tr><tr><td>BR2429</td><td>Howard Motor Company Building</td><td>622</td></tr><tr><td>BR5346</td><td>Innocenti Motors</td><td>623</td></tr><tr><td>BR0144</td><td>Autobianchi Motors</td><td>624</td></tr><tr><td>BR1098</td><td>Lincoln Motors</td><td>625</td></tr><tr><td>BR1239</td><td>McLaren Motors</td><td>626</td></tr><tr><td>BR1747</td><td>Saturn Motors</td><td>627</td></tr><tr><td>BR1849</td><td>SsangYong Motors</td><td>628</td></tr><tr><td>BR2464</td><td>Kindel Building</td><td>629</td></tr><tr><td>BR9186</td><td>PGO Motors</td><td>630</td></tr><tr><td>BR0068</td><td>AMC, Eagle Motors</td><td>631</td></tr><tr><td>BR0291</td><td>Cadillac Motors</td><td>632</td></tr><tr><td>BR0452</td><td>DeLorean Motors</td><td>633</td></tr><tr><td>BR0672</td><td>GAZ Motors</td><td>634</td></tr><tr><td>BR0688</td><td>Geo Motors</td><td>635</td></tr><tr><td>BR0778</td><td>Hennessey Motors</td><td>636</td></tr><tr><td>BR10506</td><td>Scion Motors</td><td>637</td></tr><tr><td>BR1208</td><td>Matra (including Deutsch-Bonnet, René Bonnet) Motors</td><td>638</td></tr><tr><td>BR1290</td><td>Mia Motors</td><td>639</td></tr><tr><td>BR1343</td><td>Morgan Motors</td><td>640</td></tr><tr><td>BR1541</td><td>Piaggio Motors</td><td>641</td></tr><tr><td>BR1915</td><td>Tatra Motors</td><td>642</td></tr><tr><td>BR2048</td><td>Volkswagen South Africa Motors</td><td>643</td></tr><tr><td>BR2455</td><td>Jones Motor Company</td><td>644</td></tr><tr><td>BR2470</td><td>Kindel Building</td><td>645</td></tr><tr><td>BR0092</td><td>ARO Motors</td><td>646</td></tr><tr><td>BR0111</td><td>Asia Motors Motors</td><td>647</td></tr><tr><td>BR0383</td><td>Dacia Motors</td><td>648</td></tr><tr><td>BR0423</td><td>Daimler Motors</td><td>649</td></tr><tr><td>BR0713</td><td>Glas Motors</td><td>650</td></tr><tr><td>BR0817</td><td>Honda Motors</td><td>651</td></tr><tr><td>BR0928</td><td>Iso Motors</td><td>652</td></tr><tr><td>BR0993</td><td>JPX Motors</td><td>653</td></tr><tr><td>BR1061</td><td>Land Rover Motors</td><td>654</td></tr><tr><td>BR1301</td><td>Mini Motors</td><td>655</td></tr><tr><td>BR1605</td><td>Proton Motors</td><td>656</td></tr><tr><td>BR2075</td><td>Wiesmann Motors</td><td>657</td></tr><tr><td>BR2161</td><td>Izh  Motors</td><td>658</td></tr><tr><td>BR2178</td><td>Lagonda  Motors</td><td>659</td></tr><tr><td>BR0014</td><td>Acura Motors</td><td>660</td></tr><tr><td>BR0232</td><td>British Leyland Motors</td><td>661</td></tr><tr><td>BR0271</td><td>Buick Motors</td><td>662</td></tr><tr><td>BR0559</td><td>Ferrari Motors</td><td>663</td></tr><tr><td>BR0707</td><td>Ginetta Motors</td><td>664</td></tr><tr><td>BR0722</td><td>GMC Motors</td><td>665</td></tr><tr><td>BR0918</td><td>Isdera Motors</td><td>666</td></tr><tr><td>BR1163</td><td>Marlin Motors</td><td>667</td></tr><tr><td>BR1615</td><td>Puma Motors</td><td>668</td></tr><tr><td>BR2123</td><td>DKW Motors</td><td>669</td></tr><tr><td>BR2437</td><td>Hupmobile Building</td><td>670</td></tr><tr><td>BR2443</td><td>Jennings Ford Automobile Dealership</td><td>671</td></tr><tr><td>BR0101</td><td>Artega Motors</td><td>672</td></tr><tr><td>BR0112</td><td>Asia Motors Motors</td><td>673</td></tr><tr><td>BR0222</td><td>Bristol Motors</td><td>674</td></tr><tr><td>BR0230</td><td>Bristol Motors</td><td>675</td></tr><tr><td>BR1015</td><td>Koenigsegg Motors</td><td>676</td></tr><tr><td>BR1141</td><td>Mahindra Motors</td><td>677</td></tr><tr><td>BR1358</td><td>Moskwitch Motors</td><td>678</td></tr><tr><td>BR1922</td><td>Tazzari Motors</td><td>679</td></tr><tr><td>BR2402</td><td>Colman Automotive Building</td><td>680</td></tr><tr><td>BR0552</td><td>Ferrari Motors</td><td>681</td></tr><tr><td>BR0658</td><td>Freightliner Motors</td><td>682</td></tr><tr><td>BR0859</td><td>Hummer Motors</td><td>683</td></tr><tr><td>BR1310</td><td>Mini Motors</td><td>684</td></tr><tr><td>BR1391</td><td>Nissan India Motors</td><td>685</td></tr><tr><td>BR1714</td><td>San Motors</td><td>686</td></tr><tr><td>BR1945</td><td>Tornado Motors</td><td>687</td></tr><tr><td>BR2263</td><td>Ramani Motors</td><td>688</td></tr><tr><td>BR0069</td><td>AMC, Eagle Motors</td><td>689</td></tr><tr><td>BR0198</td><td>BMW Motors</td><td>690</td></tr><tr><td>BR0621</td><td>Ford do Brasil Motors</td><td>691</td></tr><tr><td>BR0997</td><td>JPX Motors</td><td>692</td></tr><tr><td>BR1215</td><td>Mazda Motors</td><td>693</td></tr><tr><td>BR1407</td><td>Noble Motors</td><td>694</td></tr><tr><td>BR2024</td><td>Volkswagen Motors</td><td>695</td></tr><tr><td>BR0863</td><td>Hyundai Motors</td><td>696</td></tr><tr><td>BR0967</td><td>Jaguar Motors</td><td>697</td></tr><tr><td>BR1412</td><td>NSU Motors</td><td>698</td></tr><tr><td>BR1435</td><td>Oltcit Motors</td><td>699</td></tr><tr><td>BR1710</td><td>Samsung Motors</td><td>700</td></tr><tr><td>BR1929</td><td>Tazzari Motors</td><td>701</td></tr><tr><td>BR2134</td><td>Horch Motors</td><td>702</td></tr><tr><td>BR2230</td><td>Wolseley  Motors</td><td>703</td></tr><tr><td>BR2295</td><td>Zion Automobils</td><td>704</td></tr><tr><td>BR4446</td><td>Gumpert Motors</td><td>705</td></tr><tr><td>BR0519</td><td>e.GO Mobile Motors</td><td>706</td></tr><tr><td>BR0660</td><td>Freightliner Motors</td><td>707</td></tr><tr><td>BR11106</td><td>Standard-Triumph Motors</td><td>708</td></tr><tr><td>BR1404</td><td>Noble Motors</td><td>709</td></tr><tr><td>BR1869</td><td>Studebaker Motors</td><td>710</td></tr><tr><td>BR1880</td><td>Subaru Motors</td><td>711</td></tr><tr><td>BR2071</td><td>Wiesmann Motors</td><td>712</td></tr><tr><td>BR2232</td><td>Standard  Motors</td><td>713</td></tr><tr><td>BR2427</td><td>Howard Motor Company Building</td><td>714</td></tr><tr><td>BR4746</td><td>Hindustan Motors</td><td>715</td></tr><tr><td>BR0044</td><td>Alpine Motors</td><td>716</td></tr><tr><td>BR0539</td><td>Elva Motors</td><td>717</td></tr><tr><td>BR1093</td><td>Lincoln Motors</td><td>718</td></tr><tr><td>BR1241</td><td>Mercedes-Benz (including Maybach) Motors</td><td>719</td></tr><tr><td>BR1408</td><td>Noble Motors</td><td>720</td></tr><tr><td>BR14766</td><td>Kindel Building</td><td>721</td></tr><tr><td>BR1689</td><td>SAIC Motor Motors</td><td>722</td></tr><tr><td>BR1700</td><td>Saleen Motors</td><td>723</td></tr><tr><td>BR2372</td><td>Cass Motor Sales</td><td>724</td></tr><tr><td>BR0129</td><td>Aston Martin Motors</td><td>725</td></tr><tr><td>BR0211</td><td>Borgward (including Goliath and Lloyd) Motors</td><td>726</td></tr><tr><td>BR0321</td><td>Chevrolet Motors</td><td>727</td></tr><tr><td>BR0433</td><td>Datsun Motors</td><td>728</td></tr><tr><td>BR0607</td><td>Ford America Motors</td><td>729</td></tr><tr><td>BR0764</td><td>Heinkel Motors</td><td>730</td></tr><tr><td>BR0984</td><td>Jensen Motors</td><td>731</td></tr><tr><td>BR2159</td><td>Maybach  Motors</td><td>732</td></tr><tr><td>BR0009</td><td>AC Cars Motors</td><td>733</td></tr><tr><td>BR0783</td><td>Hillman Motors</td><td>734</td></tr><tr><td>BR0878</td><td>IFA (including Trabant, Wartburg, Barkas) Motors</td><td>735</td></tr><tr><td>BR1483</td><td>Panoz Motors</td><td>736</td></tr><tr><td>BR2171</td><td>Lagonda  Motors</td><td>737</td></tr><tr><td>BR2323</td><td>Blankinship Motor Company Building</td><td>738</td></tr><tr><td>BR2362</td><td>Casa de cadillac</td><td>739</td></tr><tr><td>BR0254</td><td>Austin, Rover Motors</td><td>740</td></tr><tr><td>BR0823</td><td>Honda India Motors</td><td>741</td></tr><tr><td>BR14166</td><td>Casa de cadillac</td><td>742</td></tr><tr><td>BR1540</td><td>PGO Motors</td><td>743</td></tr><tr><td>BR1613</td><td>Puma Motors</td><td>744</td></tr><tr><td>BR1892</td><td>Suzuki Motors</td><td>745</td></tr><tr><td>BR1948</td><td>Tornado Motors</td><td>746</td></tr><tr><td>BR1959</td><td>Toyota Motors</td><td>747</td></tr><tr><td>BR2106</td><td>Chrysler Europe Motors</td><td>748</td></tr><tr><td>BR7386</td><td>McLaren Motors</td><td>749</td></tr><tr><td>BR0021</td><td>Aixam-Mega (including Arola) Motors</td><td>750</td></tr><tr><td>BR0385</td><td>Dacia Motors</td><td>751</td></tr><tr><td>BR1083</td><td>Ligier Motors</td><td>752</td></tr><tr><td>BR1179</td><td>Maruti Motors</td><td>753</td></tr><tr><td>BR1240</td><td>McLaren Motors</td><td>754</td></tr><tr><td>BR14406</td><td>Colman Automotive Building</td><td>755</td></tr><tr><td>BR2017</td><td>Venturi Motors</td><td>756</td></tr><tr><td>BR2428</td><td>Howard Motor Company Building</td><td>757</td></tr><tr><td>BR0195</td><td>BMW Motors</td><td>758</td></tr><tr><td>BR0247</td><td>Austin-Healey Motors</td><td>759</td></tr><tr><td>BR0709</td><td>Ginetta Motors</td><td>760</td></tr><tr><td>BR0710</td><td>Ginetta Motors</td><td>761</td></tr><tr><td>BR1671</td><td>Saab Motors</td><td>762</td></tr><tr><td>BR2407</td><td>Colman Automotive Building</td><td>763</td></tr><tr><td>BR0328</td><td>Chevrolet Motors</td><td>764</td></tr><tr><td>BR0350</td><td>Chrysler Motors</td><td>765</td></tr><tr><td>BR0395</td><td>Daewoo, Saehan, Chevrolet Korea Motors</td><td>766</td></tr><tr><td>BR0581</td><td>Fiat India Motors</td><td>767</td></tr><tr><td>BR0627</td><td>Ford do Brasil Motors</td><td>768</td></tr><tr><td>BR0755</td><td>Healey Motors</td><td>769</td></tr><tr><td>BR1117</td><td>LTI Motors</td><td>770</td></tr><tr><td>BR1305</td><td>Mini Motors</td><td>771</td></tr><tr><td>BR1332</td><td>Monteverdi Motors</td><td>772</td></tr><tr><td>BR1378</td><td>Naza Motors</td><td>773</td></tr><tr><td>BR2285</td><td>Herald Motors</td><td>774</td></tr><tr><td>BR2353</td><td>Cadillac Automobile Company Building</td><td>775</td></tr><tr><td>BR7686</td><td>Mia Motors</td><td>776</td></tr><tr><td>BR0048</td><td>Alpine Motors</td><td>777</td></tr><tr><td>BR0293</td><td>Cadillac Motors</td><td>778</td></tr><tr><td>BR0301</td><td>Caterham Motors</td><td>779</td></tr><tr><td>BR0429</td><td>Daimler Motors</td><td>780</td></tr><tr><td>BR0585</td><td>Fiat India Motors</td><td>781</td></tr><tr><td>BR0720</td><td>Glas Motors</td><td>782</td></tr><tr><td>BR0787</td><td>Hillman Motors</td><td>783</td></tr><tr><td>BR0871</td><td>IFA (including Trabant, Wartburg, Barkas) Motors</td><td>784</td></tr><tr><td>BR1025</td><td>KTM Motors</td><td>785</td></tr><tr><td>BR2095</td><td>ZAZ Motors</td><td>786</td></tr><tr><td>BR2133</td><td>Horch Motors</td><td>787</td></tr><tr><td>BR0005</td><td>AC Cars Motors</td><td>788</td></tr><tr><td>BR0791</td><td>Hindustan Motors</td><td>789</td></tr><tr><td>BR0846</td><td>Autobianchi Motors</td><td>790</td></tr><tr><td>BR0883</td><td>Infiniti Motors</td><td>791</td></tr><tr><td>BR1088</td><td>Ligier Motors</td><td>792</td></tr><tr><td>BR1181</td><td>Maserati Motors</td><td>793</td></tr><tr><td>BR1565</td><td>Polestar Motors</td><td>794</td></tr><tr><td>BR2367</td><td>Casa de cadillac</td><td>795</td></tr><tr><td>BR2380</td><td>Cass Motor Sales</td><td>796</td></tr><tr><td>BR6546</td><td>Lincoln Motors</td><td>797</td></tr><tr><td>BR9066</td><td>Perodua Motors</td><td>798</td></tr><tr><td>BR0045</td><td>Alpine Motors</td><td>799</td></tr><tr><td>BR1223</td><td>Mazzanti Motors</td><td>800</td></tr><tr><td>BR12666</td><td>Audi Motors</td><td>801</td></tr><tr><td>BR1364</td><td>Nash Motors</td><td>802</td></tr><tr><td>BR1601</td><td>Proton Motors</td><td>803</td></tr><tr><td>BR1878</td><td>Subaru Motors</td><td>804</td></tr><tr><td>BR2042</td><td>Volkswagen South Africa Motors</td><td>805</td></tr><tr><td>BR0473</td><td>De Tomaso Motors</td><td>806</td></tr><tr><td>BR1053</td><td>Lancia Motors</td><td>807</td></tr><tr><td>BR1244</td><td>Mercedes-Benz (including Maybach) Motors</td><td>808</td></tr><tr><td>BR1785</td><td>Simca Motors</td><td>809</td></tr><tr><td>BR2101</td><td>ZIL Motors</td><td>810</td></tr><tr><td>BR2165</td><td>Izh  Motors</td><td>811</td></tr><tr><td>BR7146</td><td>Mastretta Motors</td><td>812</td></tr><tr><td>BR0126</td><td>Aixam-Mega (including Arola) Motors</td><td>813</td></tr><tr><td>BR0359</td><td>Chrysler Europe Motors</td><td>814</td></tr><tr><td>BR0611</td><td>Ford Australia Motors</td><td>815</td></tr><tr><td>BR1104</td><td>Lotus Motors</td><td>816</td></tr><tr><td>BR1174</td><td>Maruti Motors</td><td>817</td></tr><tr><td>BR1277</td><td>Messerschmitt Motors</td><td>818</td></tr><tr><td>BR1419</td><td>NSU Motors</td><td>819</td></tr><tr><td>BR1510</td><td>Peel Motors</td><td>820</td></tr><tr><td>BR1653</td><td>Rivian Motors</td><td>821</td></tr><tr><td>BR1780</td><td>Shelby SuperCars Motors</td><td>822</td></tr><tr><td>BR2135</td><td>Horch Motors</td><td>823</td></tr><tr><td>BR2167</td><td>Izh  Motors</td><td>824</td></tr><tr><td>BR2371</td><td>Cass Motor Sales</td><td>825</td></tr><tr><td>BR3606</td><td>Ford America Motors</td><td>826</td></tr><tr><td>BR0143</td><td>Autobianchi Motors</td><td>827</td></tr><tr><td>BR1283</td><td>Mia Motors</td><td>828</td></tr><tr><td>BR1328</td><td>Monica Motors</td><td>829</td></tr><tr><td>BR1783</td><td>Simca Motors</td><td>830</td></tr><tr><td>BR0727</td><td>GMC Motors</td><td>831</td></tr><tr><td>BR0892</td><td>Innocenti Motors</td><td>832</td></tr><tr><td>BR1123</td><td>LuAZ Motors</td><td>833</td></tr><tr><td>BR12906</td><td>Maybach  Motors</td><td>834</td></tr><tr><td>BR1690</td><td>SAIC Motor Motors</td><td>835</td></tr><tr><td>BR1843</td><td>SsangYong Motors</td><td>836</td></tr><tr><td>BR2067</td><td>Westfield Motors</td><td>837</td></tr><tr><td>BR2099</td><td>ZAZ Motors</td><td>838</td></tr><tr><td>BR0057</td><td>Alvis Motors</td><td>839</td></tr><tr><td>BR0929</td><td>Iso Motors</td><td>840</td></tr><tr><td>BR1842</td><td>SsangYong Motors</td><td>841</td></tr><tr><td>BR0073</td><td>Anadol Motors</td><td>842</td></tr><tr><td>BR0492</td><td>Donkervoort Motors</td><td>843</td></tr><tr><td>BR0565</td><td>Fiat Motors</td><td>844</td></tr><tr><td>BR0851</td><td>Hummer Motors</td><td>845</td></tr><tr><td>BR1032</td><td>Lada Motors</td><td>846</td></tr><tr><td>BR1190</td><td>Maserati Motors</td><td>847</td></tr><tr><td>BR1410</td><td>Noble Motors</td><td>848</td></tr><tr><td>BR1678</td><td>Saab Motors</td><td>849</td></tr><tr><td>BR2082</td><td>Zastava Motors</td><td>850</td></tr><tr><td>BR2124</td><td>DKW Motors</td><td>851</td></tr><tr><td>BR2131</td><td>Horch Motors</td><td>852</td></tr><tr><td>BR2247</td><td>Talbot  Motors</td><td>853</td></tr><tr><td>BR2460</td><td>Jones Motor Company</td><td>854</td></tr><tr><td>BR3786</td><td>Ford Europe Motors</td><td>855</td></tr><tr><td>BR0080</td><td>Anadol Motors</td><td>856</td></tr><tr><td>BR0085</td><td>Ariel Motors</td><td>857</td></tr><tr><td>BR0220</td><td>Borgward (including Goliath and Lloyd) Motors</td><td>858</td></tr><tr><td>BR0342</td><td>Chrysler Motors</td><td>859</td></tr><tr><td>BR0624</td><td>Ford do Brasil Motors</td><td>860</td></tr><tr><td>BR0730</td><td>GMC Motors</td><td>861</td></tr><tr><td>BR0845</td><td>Humber Motors</td><td>862</td></tr><tr><td>BR0935</td><td>Isotta Fraschini Motors</td><td>863</td></tr><tr><td>BR1055</td><td>Lancia Motors</td><td>864</td></tr><tr><td>BR1326</td><td>Bristol Motors</td><td>865</td></tr><tr><td>BR1867</td><td>Studebaker Motors</td><td>866</td></tr><tr><td>BR1895</td><td>Suzuki Motors</td><td>867</td></tr><tr><td>BR2153</td><td>Maybach  Motors</td><td>868</td></tr><tr><td>BR2184</td><td>MG  Motors</td><td>869</td></tr><tr><td>BR2250</td><td>Talbot  Motors</td><td>870</td></tr><tr><td>BR2282</td><td>Herald Motors</td><td>871</td></tr><tr><td>BR6606</td><td>Lotus Motors</td><td>872</td></tr><tr><td>BR0152</td><td>Auto-Union Motors</td><td>873</td></tr><tr><td>BR0842</td><td>Humber Motors</td><td>874</td></tr><tr><td>BR1291</td><td>Micro Motors</td><td>875</td></tr><tr><td>BR2199</td><td>Morris  Motors</td><td>876</td></tr><tr><td>BR2451</td><td>Jones Motor Company</td><td>877</td></tr><tr><td>BR0029</td><td>Aixam-Mega (including Arola) Motors</td><td>878</td></tr><tr><td>BR0033</td><td>Alfa Romeo Motors</td><td>879</td></tr><tr><td>BR0229</td><td>Bristol Motors</td><td>880</td></tr><tr><td>BR0457</td><td>DeLorean Motors</td><td>881</td></tr><tr><td>BR0605</td><td>Ford America Motors</td><td>882</td></tr><tr><td>BR0950</td><td>Isuzu Motors</td><td>883</td></tr><tr><td>BR0990</td><td>Jensen Motors</td><td>884</td></tr><tr><td>BR1585</td><td>Porsche Motors</td><td>885</td></tr><tr><td>BR1672</td><td>Saab Motors</td><td>886</td></tr><tr><td>BR4026</td><td>GAZ Motors</td><td>887</td></tr><tr><td>BR0424</td><td>Daimler Motors</td><td>888</td></tr><tr><td>BR0971</td><td>Jeep Motors</td><td>889</td></tr><tr><td>BR1114</td><td>LTI Motors</td><td>890</td></tr><tr><td>BR1258</td><td>Mercury Motors</td><td>891</td></tr><tr><td>BR1488</td><td>Panoz Motors</td><td>892</td></tr><tr><td>BR1679</td><td>Saab Motors</td><td>893</td></tr><tr><td>BR2172</td><td>Lagonda  Motors</td><td>894</td></tr><tr><td>BR2462</td><td>Kindel Building</td><td>895</td></tr><tr><td>BR0094</td><td>ARO Motors</td><td>896</td></tr><tr><td>BR0357</td><td>Chrysler Europe Motors</td><td>897</td></tr><tr><td>BR0417</td><td>Daihatsu Motors</td><td>898</td></tr><tr><td>BR0854</td><td>Hummer Motors</td><td>899</td></tr><tr><td>BR1014</td><td>Koenigsegg Motors</td><td>900</td></tr><tr><td>BR1245</td><td>Mercedes-Benz (including Maybach) Motors</td><td>901</td></tr><tr><td>BR1295</td><td>Micro Motors</td><td>902</td></tr><tr><td>BR1625</td><td>Ranger Motors</td><td>903</td></tr><tr><td>BR1683</td><td>SAIC Motor Motors</td><td>904</td></tr><tr><td>BR1742</td><td>Saturn Motors</td><td>905</td></tr><tr><td>BR1827</td><td>Smart Motors</td><td>906</td></tr><tr><td>BR1975</td><td>Turner Motors</td><td>907</td></tr><tr><td>BR0120</td><td>Asia Motors Motors</td><td>908</td></tr><tr><td>BR0382</td><td>Dacia Motors</td><td>909</td></tr><tr><td>BR0470</td><td>DeSoto Motors</td><td>910</td></tr><tr><td>BR1034</td><td>Lada Motors</td><td>911</td></tr><tr><td>BR10626</td><td>Shelby SuperCars Motors</td><td>912</td></tr><tr><td>BR1099</td><td>Lincoln Motors</td><td>913</td></tr><tr><td>BR2351</td><td>Cadillac Automobile Company Building</td><td>914</td></tr><tr><td>BR2394</td><td>Clemens Automobile Company Building</td><td>915</td></tr><tr><td>BR0310</td><td>Caterham Motors</td><td>916</td></tr><tr><td>BR0602</td><td>Ford America Motors</td><td>917</td></tr><tr><td>BR0694</td><td>Gilbern Motors</td><td>918</td></tr><tr><td>BR1668</td><td>Rolls-Royce Motors</td><td>919</td></tr><tr><td>BR2148</td><td>Wanderer Motors</td><td>920</td></tr><tr><td>BR2309</td><td>Atlantic Motor Company</td><td>921</td></tr><tr><td>BR0546</td><td>ARO Motors</td><td>922</td></tr><tr><td>BR0678</td><td>GAZ Motors</td><td>923</td></tr><tr><td>BR1569</td><td>Polestar Motors</td><td>924</td></tr><tr><td>BR1570</td><td>Polestar Motors</td><td>925</td></tr><tr><td>BR1811</td><td>Skoda Motors</td><td>926</td></tr><tr><td>BR1882</td><td>Sunbeam Motors</td><td>927</td></tr><tr><td>BR1901</td><td>Tata Motors</td><td>928</td></tr><tr><td>BR1937</td><td>Tesla Motors</td><td>929</td></tr><tr><td>BR1988</td><td>TVR Motors</td><td>930</td></tr><tr><td>BR2034</td><td>Volkswagen do Brasil Motors</td><td>931</td></tr><tr><td>BR2334</td><td>Bohn Motor Company Automobile Dealership</td><td>932</td></tr><tr><td>BR0074</td><td>Anadol Motors</td><td>933</td></tr><tr><td>BR0103</td><td>Artega Motors</td><td>934</td></tr><tr><td>BR0338</td><td>Chevrolet India Motors</td><td>935</td></tr><tr><td>BR0418</td><td>Daihatsu Motors</td><td>936</td></tr><tr><td>BR0435</td><td>Datsun Motors</td><td>937</td></tr><tr><td>BR0533</td><td>Elva Motors</td><td>938</td></tr><tr><td>BR0879</td><td>IFA (including Trabant, Wartburg, Barkas) Motors</td><td>939</td></tr><tr><td>BR1512</td><td>Perodua Motors</td><td>940</td></tr><tr><td>BR2234</td><td>Standard  Motors</td><td>941</td></tr><tr><td>BR2245</td><td>Talbot  Motors</td><td>942</td></tr><tr><td>BR2283</td><td>Herald Motors</td><td>943</td></tr><tr><td>BR2438</td><td>Hupmobile Building</td><td>944</td></tr><tr><td>BR8466</td><td>NSU Motors</td><td>945</td></tr><tr><td>BR8766</td><td>Pagani Motors</td><td>946</td></tr><tr><td>BR0961</td><td>Jaguar Motors</td><td>947</td></tr><tr><td>BR1471</td><td>Panhard Motors</td><td>948</td></tr><tr><td>BR1603</td><td>Proton Motors</td><td>949</td></tr><tr><td>BR1879</td><td>Subaru Motors</td><td>950</td></tr><tr><td>BR2211</td><td>Riley  Motors</td><td>951</td></tr><tr><td>BR2320</td><td>2008 NRHP-listed</td><td>952</td></tr><tr><td>BR0020</td><td>Acura Motors</td><td>953</td></tr><tr><td>BR0339</td><td>Chevrolet India Motors</td><td>954</td></tr><tr><td>BR0375</td><td>Cizeta-Moroder Motors</td><td>955</td></tr><tr><td>BR0404</td><td>DAF Motors</td><td>956</td></tr><tr><td>BR0752</td><td>Healey Motors</td><td>957</td></tr><tr><td>BR1315</td><td>Mitsubishi Motors</td><td>958</td></tr><tr><td>BR1392</td><td>Nissan India Motors</td><td>959</td></tr><tr><td>BR1542</td><td>Piaggio Motors</td><td>960</td></tr><tr><td>BR2302</td><td>Atlantic Motor Company</td><td>961</td></tr><tr><td>BR0397</td><td>Daewoo, Saehan, Chevrolet Korea Motors</td><td>962</td></tr><tr><td>BR0675</td><td>GAZ Motors</td><td>963</td></tr><tr><td>BR11526</td><td>Tazzari Motors</td><td>964</td></tr><tr><td>BR1619</td><td>Puma Motors</td><td>965</td></tr><tr><td>BR1798</td><td>Simca do Brasil Motors</td><td>966</td></tr><tr><td>BR1994</td><td>UAZ Motors</td><td>967</td></tr><tr><td>BR2342</td><td>Buick Automobile Company Building</td><td>968</td></tr><tr><td>BR7506</td><td>Mercury Motors</td><td>969</td></tr><tr><td>BR0049</td><td>Alpine Motors</td><td>970</td></tr><tr><td>BR0640</td><td>Ford Europe Motors</td><td>971</td></tr><tr><td>BR0653</td><td>Freightliner Motors</td><td>972</td></tr><tr><td>BR0897</td><td>Innocenti Motors</td><td>973</td></tr><tr><td>BR1520</td><td>Perodua Motors</td><td>974</td></tr><tr><td>BR1621</td><td>Ranger Motors</td><td>975</td></tr><tr><td>BR2008</td><td>Vauxhall Motors</td><td>976</td></tr><tr><td>BR2170</td><td>Izh  Motors</td><td>977</td></tr><tr><td>BR2526</td><td>Daimler Motors</td><td>978</td></tr><tr><td>BR3006</td><td>Edsel Motors</td><td>979</td></tr><tr><td>BR8226</td><td>Naza Motors</td><td>980</td></tr><tr><td>BR0170</td><td>Auverland Motors</td><td>981</td></tr><tr><td>BR0843</td><td>Humber Motors</td><td>982</td></tr><tr><td>BR1249</td><td>Mercedes-Benz (including Maybach) Motors</td><td>983</td></tr><tr><td>BR1552</td><td>Plymouth Motors</td><td>984</td></tr><tr><td>BR2258</td><td>Das Motors</td><td>985</td></tr><tr><td>BR0084</td><td>Ariel Motors</td><td>986</td></tr><tr><td>BR0610</td><td>Ford America Motors</td><td>987</td></tr><tr><td>BR1077</td><td>Lexus Motors</td><td>988</td></tr><tr><td>BR1101</td><td>Lotus Motors</td><td>989</td></tr><tr><td>BR1107</td><td>Lotus Motors</td><td>990</td></tr><tr><td>BR1209</td><td>Matra (including Deutsch-Bonnet, René Bonnet) Motors</td><td>991</td></tr><tr><td>BR1235</td><td>McLaren Motors</td><td>992</td></tr><tr><td>BR1417</td><td>NSU Motors</td><td>993</td></tr><tr><td>BR1519</td><td>Perodua Motors</td><td>994</td></tr><tr><td>BR1524</td><td>Peugeot Motors</td><td>995</td></tr><tr><td>BR1640</td><td>Reliant Motors</td><td>996</td></tr><tr><td>BR2110</td><td>ZIL Motors</td><td>997</td></tr><tr><td>BR2307</td><td>Atlantic Motor Company</td><td>998</td></tr><tr><td>BR2457</td><td>Jones Motor Company</td><td>999</td></tr><tr><td>BR5106</td><td>Hummer Motors</td><td>1000</td></tr><tr><td>BR6306</td><td>Lancia Motors</td><td>1001</td></tr><tr><td>BR0108</td><td>Artega Motors</td><td>1002</td></tr><tr><td>BR0380</td><td>Cizeta-Moroder Motors</td><td>1003</td></tr><tr><td>BR0577</td><td>Fiat do Brasil Motors</td><td>1004</td></tr><tr><td>BR0812</td><td>Honda Motors</td><td>1005</td></tr><tr><td>BR0865</td><td>Hyundai Motors</td><td>1006</td></tr><tr><td>BR1202</td><td>Matra (including Deutsch-Bonnet, René Bonnet) Motors</td><td>1007</td></tr><tr><td>BR1504</td><td>Peel Motors</td><td>1008</td></tr><tr><td>BR1833</td><td>Spyker Motors</td><td>1009</td></tr><tr><td>BR2041</td><td>Volkswagen South Africa Motors</td><td>1010</td></tr><tr><td>BR2313</td><td>2008 NRHP-listed</td><td>1011</td></tr><tr><td>BR3726</td><td>Ford do Brasil Motors</td><td>1012</td></tr><tr><td>BR7326</td><td>Mazzanti Motors</td><td>1013</td></tr><tr><td>BR0334</td><td>Chevrolet India Motors</td><td>1014</td></tr><tr><td>BR0364</td><td>Citroën Motors</td><td>1015</td></tr><tr><td>BR0371</td><td>Cizeta-Moroder Motors</td><td>1016</td></tr><tr><td>BR0485</td><td>Dodge Motors</td><td>1017</td></tr><tr><td>BR0909</td><td>Invicta Motors</td><td>1018</td></tr><tr><td>BR0921</td><td>Iso Motors</td><td>1019</td></tr><tr><td>BR0267</td><td>Bugatti Motors</td><td>1020</td></tr><tr><td>BR0410</td><td>DAF Motors</td><td>1021</td></tr><tr><td>BR0469</td><td>DeSoto Motors</td><td>1022</td></tr><tr><td>BR0654</td><td>Freightliner Motors</td><td>1023</td></tr><tr><td>BR1528</td><td>Peugeot Motors</td><td>1024</td></tr><tr><td>BR2183</td><td>MG  Motors</td><td>1025</td></tr><tr><td>BR2264</td><td>Ramani Motors</td><td>1026</td></tr><tr><td>BR0041</td><td>Alpine Motors</td><td>1027</td></tr><tr><td>BR0122</td><td>Aston Martin Motors</td><td>1028</td></tr><tr><td>BR0349</td><td>Chrysler Motors</td><td>1029</td></tr><tr><td>BR0906</td><td>Auto-Union Motors</td><td>1030</td></tr><tr><td>BR0973</td><td>Jeep Motors</td><td>1031</td></tr><tr><td>BR1168</td><td>Marlin Motors</td><td>1032</td></tr><tr><td>BR1231</td><td>McLaren Motors</td><td>1033</td></tr><tr><td>BR1518</td><td>Perodua Motors</td><td>1034</td></tr><tr><td>BR1639</td><td>Reliant Motors</td><td>1035</td></tr><tr><td>BR2290</td><td>Herald Motors</td><td>1036</td></tr><tr><td>BR0302</td><td>Caterham Motors</td><td>1037</td></tr><tr><td>BR0468</td><td>DeSoto Motors</td><td>1038</td></tr><tr><td>BR0477</td><td>De Tomaso Motors</td><td>1039</td></tr><tr><td>BR0768</td><td>Heinkel Motors</td><td>1040</td></tr><tr><td>BR0824</td><td>Honda India Motors</td><td>1041</td></tr><tr><td>BR1008</td><td>Kia Motors</td><td>1042</td></tr><tr><td>BR1674</td><td>Saab Motors</td><td>1043</td></tr><tr><td>BR1697</td><td>Saleen Motors</td><td>1044</td></tr><tr><td>BR1715</td><td>San Motors</td><td>1045</td></tr><tr><td>BR1782</td><td>Simca Motors</td><td>1046</td></tr><tr><td>BR1797</td><td>Simca do Brasil Motors</td><td>1047</td></tr><tr><td>BR1924</td><td>Tazzari Motors</td><td>1048</td></tr><tr><td>BR4686</td><td>Hillman Motors</td><td>1049</td></tr><tr><td>BR8826</td><td>Panhard Motors</td><td>1050</td></tr><tr><td>BR0322</td><td>Chevrolet Motors</td><td>1051</td></tr><tr><td>BR0724</td><td>GMC Motors</td><td>1052</td></tr><tr><td>BR0994</td><td>JPX Motors</td><td>1053</td></tr><tr><td>BR1173</td><td>Maruti Motors</td><td>1054</td></tr><tr><td>BR1692</td><td>Saleen Motors</td><td>1055</td></tr><tr><td>BR1875</td><td>Subaru Motors</td><td>1056</td></tr><tr><td>BR0004</td><td>AC Cars Motors</td><td>1057</td></tr><tr><td>BR0067</td><td>AMC, Eagle Motors</td><td>1058</td></tr><tr><td>BR0459</td><td>DeLorean Motors</td><td>1059</td></tr><tr><td>BR0488</td><td>Dodge Motors</td><td>1060</td></tr><tr><td>BR0663</td><td>FSO Motors</td><td>1061</td></tr><tr><td>BR0711</td><td>Glas Motors</td><td>1062</td></tr><tr><td>BR0747</td><td>Gumpert Motors</td><td>1063</td></tr><tr><td>BR0894</td><td>Innocenti Motors</td><td>1064</td></tr><tr><td>BR1039</td><td>Lada Motors</td><td>1065</td></tr><tr><td>BR14046</td><td>Buick Automobile Company Building</td><td>1066</td></tr><tr><td>BR1440</td><td>Oltcit Motors</td><td>1067</td></tr><tr><td>BR1492</td><td>Panther Motors</td><td>1068</td></tr><tr><td>BR1557</td><td>Plymouth Motors</td><td>1069</td></tr><tr><td>BR2388</td><td>Claremore Auto Dealership</td><td>1070</td></tr><tr><td>BR0224</td><td>Bristol Motors</td><td>1071</td></tr><tr><td>BR1303</td><td>Mini Motors</td><td>1072</td></tr><tr><td>BR1304</td><td>Mini Motors</td><td>1073</td></tr><tr><td>BR13086</td><td>MG  Motors</td><td>1074</td></tr><tr><td>BR1567</td><td>Polestar Motors</td><td>1075</td></tr><tr><td>BR1659</td><td>Rivian Motors</td><td>1076</td></tr><tr><td>BR1725</td><td>Santa Matilde Motors</td><td>1077</td></tr><tr><td>BR2104</td><td>ZIL Motors</td><td>1078</td></tr><tr><td>BR6426</td><td>Lexus Motors</td><td>1079</td></tr><tr><td>BR0697</td><td>Gilbern Motors</td><td>1080</td></tr><tr><td>BR0781</td><td>Hillman Motors</td><td>1081</td></tr><tr><td>BR0931</td><td>Isotta Fraschini Motors</td><td>1082</td></tr><tr><td>BR1070</td><td>Land Rover Motors</td><td>1083</td></tr><tr><td>BR1130</td><td>LuAZ Motors</td><td>1084</td></tr><tr><td>BR1397</td><td>Nissan India Motors</td><td>1085</td></tr><tr><td>BR1595</td><td>Premier Motors</td><td>1086</td></tr><tr><td>BR1985</td><td>TVR Motors</td><td>1087</td></tr><tr><td>BR2011</td><td>Venturi Motors</td><td>1088</td></tr><tr><td>BR2089</td><td>Zastava Motors</td><td>1089</td></tr><tr><td>BR0484</td><td>Dodge Motors</td><td>1090</td></tr><tr><td>BR0899</td><td>Innocenti Motors</td><td>1091</td></tr><tr><td>BR1379</td><td>Naza Motors</td><td>1092</td></tr><tr><td>BR1903</td><td>Tata Motors</td><td>1093</td></tr><tr><td>BR0303</td><td>Caterham Motors</td><td>1094</td></tr><tr><td>BR0523</td><td>Eicher Polaris Motors</td><td>1095</td></tr><tr><td>BR0538</td><td>Elva Motors</td><td>1096</td></tr><tr><td>BR1363</td><td>Nash Motors</td><td>1097</td></tr><tr><td>BR1459</td><td>Packard Motors</td><td>1098</td></tr><tr><td>BR1837</td><td>Spyker Motors</td><td>1099</td></tr><tr><td>BR1918</td><td>Tatra Motors</td><td>1100</td></tr><tr><td>BR2281</td><td>Herald Motors</td><td>1101</td></tr><tr><td>BR0025</td><td>Aixam-Mega (including Arola) Motors</td><td>1102</td></tr><tr><td>BR1068</td><td>Land Rover Motors</td><td>1103</td></tr><tr><td>BR1135</td><td>Lynx Motors</td><td>1104</td></tr><tr><td>BR1560</td><td>Plymouth Motors</td><td>1105</td></tr><tr><td>BR1717</td><td>San Motors</td><td>1106</td></tr><tr><td>BR1923</td><td>Tazzari Motors</td><td>1107</td></tr><tr><td>BR1964</td><td>Toyota India Motors</td><td>1108</td></tr><tr><td>BR4266</td><td>Glas Motors</td><td>1109</td></tr><tr><td>BR0159</td><td>Auto-Union Motors</td><td>1110</td></tr><tr><td>BR0331</td><td>Chevrolet India Motors</td><td>1111</td></tr><tr><td>BR0681</td><td>Geo Motors</td><td>1112</td></tr><tr><td>BR0703</td><td>Ginetta Motors</td><td>1113</td></tr><tr><td>BR0832</td><td>Hudson Motors</td><td>1114</td></tr><tr><td>BR0880</td><td>IFA (including Trabant, Wartburg, Barkas) Motors</td><td>1115</td></tr><tr><td>BR0999</td><td>JPX Motors</td><td>1116</td></tr><tr><td>BR1974</td><td>Turner Motors</td><td>1117</td></tr><tr><td>BR2180</td><td>Lagonda  Motors</td><td>1118</td></tr><tr><td>BR0923</td><td>Iso Motors</td><td>1119</td></tr><tr><td>BR0953</td><td>Iveco Motors</td><td>1120</td></tr><tr><td>BR1498</td><td>Panther Motors</td><td>1121</td></tr><tr><td>BR1583</td><td>Porsche Motors</td><td>1122</td></tr><tr><td>BR1709</td><td>Samsung Motors</td><td>1123</td></tr><tr><td>BR1723</td><td>Santa Matilde Motors</td><td>1124</td></tr><tr><td>BR1920</td><td>Tatra Motors</td><td>1125</td></tr><tr><td>BR2222</td><td>Wolseley  Motors</td><td>1126</td></tr><tr><td>BR2231</td><td>Standard  Motors</td><td>1127</td></tr><tr><td>BR2273</td><td>Deccan Motors</td><td>1128</td></tr><tr><td>BR2327</td><td>Blankinship Motor Company Building</td><td>1129</td></tr><tr><td>BR0077</td><td>Anadol Motors</td><td>1130</td></tr><tr><td>BR0344</td><td>Chrysler Motors</td><td>1131</td></tr><tr><td>BR0774</td><td>Hennessey Motors</td><td>1132</td></tr><tr><td>BR0901</td><td>Invicta Motors</td><td>1133</td></tr><tr><td>BR1193</td><td>Mastretta Motors</td><td>1134</td></tr><tr><td>BR1199</td><td>Mastretta Motors</td><td>1135</td></tr><tr><td>BR1227</td><td>Mazzanti Motors</td><td>1136</td></tr><tr><td>BR1317</td><td>Mitsubishi Motors</td><td>1137</td></tr><tr><td>BR1428</td><td>Oldsmobile Motors</td><td>1138</td></tr><tr><td>BR1589</td><td>Porsche Motors</td><td>1139</td></tr><tr><td>BR1634</td><td>Reliant Motors</td><td>1140</td></tr><tr><td>BR1894</td><td>Suzuki Motors</td><td>1141</td></tr><tr><td>BR0387</td><td>Dacia Motors</td><td>1142</td></tr><tr><td>BR0426</td><td>Anadol Motors</td><td>1143</td></tr><tr><td>BR0573</td><td>Fiat do Brasil Motors</td><td>1144</td></tr><tr><td>BR1234</td><td>McLaren Motors</td><td>1145</td></tr><tr><td>BR1401</td><td>Noble Motors</td><td>1146</td></tr><tr><td>BR1578</td><td>Pontiac, Asüna Motors</td><td>1147</td></tr><tr><td>BR1788</td><td>Simca Motors</td><td>1148</td></tr><tr><td>BR1805</td><td>Singer Motors</td><td>1149</td></tr><tr><td>BR2144</td><td>Wanderer Motors</td><td>1150</td></tr><tr><td>BR2243</td><td>Talbot  Motors</td><td>1151</td></tr><tr><td>BR0154</td><td>Auto-Union Motors</td><td>1152</td></tr><tr><td>BR0193</td><td>BMW Motors</td><td>1153</td></tr><tr><td>BR0439</td><td>Datsun Motors</td><td>1154</td></tr><tr><td>BR0910</td><td>Invicta Motors</td><td>1155</td></tr><tr><td>BR1360</td><td>Moskwitch Motors</td><td>1156</td></tr><tr><td>BR1649</td><td>Renault Motors</td><td>1157</td></tr><tr><td>BR1804</td><td>Singer Motors</td><td>1158</td></tr><tr><td>BR1963</td><td>Toyota India Motors</td><td>1159</td></tr><tr><td>BR2019</td><td>Venturi Motors</td><td>1160</td></tr><tr><td>BR0098</td><td>ARO Motors</td><td>1161</td></tr><tr><td>BR0141</td><td>Autobianchi Motors</td><td>1162</td></tr><tr><td>BR0442</td><td>Delahaye Motors</td><td>1163</td></tr><tr><td>BR0590</td><td>Fiat India Motors</td><td>1164</td></tr><tr><td>BR10086</td><td>SAIC Motor Motors</td><td>1165</td></tr><tr><td>BR1043</td><td>Lamborghini Motors</td><td>1166</td></tr><tr><td>BR1222</td><td>Mazzanti Motors</td><td>1167</td></tr><tr><td>BR1393</td><td>Nissan India Motors</td><td>1168</td></tr><tr><td>BR2031</td><td>Volkswagen do Brasil Motors</td><td>1169</td></tr><tr><td>BR2187</td><td>MG  Motors</td><td>1170</td></tr><tr><td>BR2207</td><td>Austin  Motors</td><td>1171</td></tr><tr><td>BR2240</td><td>Standard  Motors</td><td>1172</td></tr><tr><td>BR2361</td><td>Casa de cadillac</td><td>1173</td></tr><tr><td>BR2392</td><td>Clemens Automobile Company Building</td><td>1174</td></tr><tr><td>BR5946</td><td>JPX Motors</td><td>1175</td></tr><tr><td>BR0208</td><td>Bond Motors</td><td>1176</td></tr><tr><td>BR0260</td><td>Austin, Rover Motors</td><td>1177</td></tr><tr><td>BR0309</td><td>Caterham Motors</td><td>1178</td></tr><tr><td>BR1128</td><td>LuAZ Motors</td><td>1179</td></tr><tr><td>BR1348</td><td>Morgan Motors</td><td>1180</td></tr><tr><td>BR1667</td><td>Rolls-Royce Motors</td><td>1181</td></tr><tr><td>BR2312</td><td>2008 NRHP-listed</td><td>1182</td></tr><tr><td>BR2423</td><td>Howard Motor Company Building</td><td>1183</td></tr><tr><td>BR4926</td><td>Honda India Motors</td><td>1184</td></tr><tr><td>BR0391</td><td>Daewoo, Saehan, Chevrolet Korea Motors</td><td>1185</td></tr><tr><td>BR0751</td><td>Healey Motors</td><td>1186</td></tr><tr><td>BR0769</td><td>Heinkel Motors</td><td>1187</td></tr><tr><td>BR0998</td><td>JPX Motors</td><td>1188</td></tr><tr><td>BR1183</td><td>Maserati Motors</td><td>1189</td></tr><tr><td>BR1313</td><td>Mitsubishi Motors</td><td>1190</td></tr><tr><td>BR1455</td><td>Packard Motors</td><td>1191</td></tr><tr><td>BR2463</td><td>Kindel Building</td><td>1192</td></tr><tr><td>BR4566</td><td>Heinkel Motors</td><td>1193</td></tr><tr><td>BR1108</td><td>Lotus Motors</td><td>1194</td></tr><tr><td>BR1204</td><td>Matra (including Deutsch-Bonnet, René Bonnet) Motors</td><td>1195</td></tr><tr><td>BR13326</td><td>Wolseley  Motors</td><td>1196</td></tr><tr><td>BR1372</td><td>Naza Motors</td><td>1197</td></tr><tr><td>BR1758</td><td>Scion Motors</td><td>1198</td></tr><tr><td>BR1887</td><td>Sunbeam Motors</td><td>1199</td></tr><tr><td>BR2214</td><td>Riley  Motors</td><td>1200</td></tr><tr><td>BR7986</td><td>Monteverdi Motors</td><td>1201</td></tr><tr><td>BR0515</td><td>e.GO Mobile Motors</td><td>1202</td></tr><tr><td>BR0661</td><td>FSO Motors</td><td>1203</td></tr><tr><td>BR1021</td><td>KTM Motors</td><td>1204</td></tr><tr><td>BR1268</td><td>Merkur Motors</td><td>1205</td></tr><tr><td>BR13266</td><td>Riley  Motors</td><td>1206</td></tr><tr><td>BR2151</td><td>Maybach  Motors</td><td>1207</td></tr><tr><td>BR2300</td><td>Zion Automobils</td><td>1208</td></tr><tr><td>BR2382</td><td>Claremore Auto Dealership</td><td>1209</td></tr><tr><td>BR0010</td><td>AC Cars Motors</td><td>1210</td></tr><tr><td>BR0051</td><td>Alvis Motors</td><td>1211</td></tr><tr><td>BR0341</td><td>Chrysler Motors</td><td>1212</td></tr><tr><td>BR0384</td><td>Dacia Motors</td><td>1213</td></tr><tr><td>BR0569</td><td>Fiat Motors</td><td>1214</td></tr><tr><td>BR14646</td><td>Jennings Ford Automobile Dealership</td><td>1215</td></tr><tr><td>BR1562</td><td>Polestar Motors</td><td>1216</td></tr><tr><td>BR1872</td><td>Subaru Motors</td><td>1217</td></tr><tr><td>BR2128</td><td>DKW Motors</td><td>1218</td></tr><tr><td>BR2197</td><td>Morris  Motors</td><td>1219</td></tr><tr><td>BR2253</td><td>Das Motors</td><td>1220</td></tr><tr><td>BR2315</td><td>2008 NRHP-listed</td><td>1221</td></tr><tr><td>BR0443</td><td>Delahaye Motors</td><td>1222</td></tr><tr><td>BR0925</td><td>Iso Motors</td><td>1223</td></tr><tr><td>BR1019</td><td>Koenigsegg Motors</td><td>1224</td></tr><tr><td>BR1411</td><td>NSU Motors</td><td>1225</td></tr><tr><td>BR1733</td><td>Santana Motors</td><td>1226</td></tr><tr><td>BR1745</td><td>Saturn Motors</td><td>1227</td></tr><tr><td>BR1962</td><td>Toyota India Motors</td><td>1228</td></tr><tr><td>BR2251</td><td>Das Motors</td><td>1229</td></tr><tr><td>BR0102</td><td>Artega Motors</td><td>1230</td></tr><tr><td>BR0745</td><td>Gumpert Motors</td><td>1231</td></tr><tr><td>BR0858</td><td>Hummer Motors</td><td>1232</td></tr><tr><td>BR0917</td><td>Isdera Motors</td><td>1233</td></tr><tr><td>BR1171</td><td>Maruti Motors</td><td>1234</td></tr><tr><td>BR1247</td><td>Mercedes-Benz (including Maybach) Motors</td><td>1235</td></tr><tr><td>BR1831</td><td>Spyker Motors</td><td>1236</td></tr><tr><td>BR2448</td><td>Jennings Ford Automobile Dealership</td><td>1237</td></tr><tr><td>BR0173</td><td>Bentley Motors</td><td>1238</td></tr><tr><td>BR0249</td><td>Austin-Healey Motors</td><td>1239</td></tr><tr><td>BR0619</td><td>Ford Australia Motors</td><td>1240</td></tr><tr><td>BR1118</td><td>LTI Motors</td><td>1241</td></tr><tr><td>BR1294</td><td>Micro Motors</td><td>1242</td></tr><tr><td>BR1593</td><td>Premier Motors</td><td>1243</td></tr><tr><td>BR1712</td><td>San Motors</td><td>1244</td></tr><tr><td>BR1728</td><td>Santa Matilde Motors</td><td>1245</td></tr><tr><td>BR2409</td><td>Colman Automotive Building</td><td>1246</td></tr><tr><td>BR8586</td><td>Oltcit Motors</td><td>1247</td></tr><tr><td>BR0402</td><td>DAF Motors</td><td>1248</td></tr><tr><td>BR0542</td><td>Facel Vega Motors</td><td>1249</td></tr><tr><td>BR11646</td><td>Tornado Motors</td><td>1250</td></tr><tr><td>BR1467</td><td>Pagani Motors</td><td>1251</td></tr><tr><td>BR2321</td><td>Blankinship Motor Company Building</td><td>1252</td></tr><tr><td>BR7026</td><td>Maruti Motors</td><td>1253</td></tr><tr><td>BR0295</td><td>Cadillac Motors</td><td>1254</td></tr><tr><td>BR0641</td><td>Ford India Motors</td><td>1255</td></tr><tr><td>BR0715</td><td>Glas Motors</td><td>1256</td></tr><tr><td>BR0975</td><td>Jeep Motors</td><td>1257</td></tr><tr><td>BR1004</td><td>Kia Motors</td><td>1258</td></tr><tr><td>BR1610</td><td>Proton Motors</td><td>1259</td></tr><tr><td>BR1741</td><td>Saturn Motors</td><td>1260</td></tr><tr><td>BR2053</td><td>Volvo Motors</td><td>1261</td></tr><tr><td>BR2340</td><td>Bohn Motor Company Automobile Dealership</td><td>1262</td></tr><tr><td>BR0042</td><td>Alpine Motors</td><td>1263</td></tr><tr><td>BR0311</td><td>Checker Motors</td><td>1264</td></tr><tr><td>BR0482</td><td>Dodge Motors</td><td>1265</td></tr><tr><td>BR0870</td><td>Hyundai Motors</td><td>1266</td></tr><tr><td>BR1362</td><td>Nash Motors</td><td>1267</td></tr><tr><td>BR1571</td><td>Pontiac, Asüna Motors</td><td>1268</td></tr><tr><td>BR2370</td><td>Casa de cadillac</td><td>1269</td></tr><tr><td>BR2389</td><td>Claremore Auto Dealership</td><td>1270</td></tr><tr><td>BR3966</td><td>FSO Motors</td><td>1271</td></tr><tr><td>BR6846</td><td>Mahindra Motors</td><td>1272</td></tr><tr><td>BR7806</td><td>Mini Motors</td><td>1273</td></tr><tr><td>BR0420</td><td>Daihatsu Motors</td><td>1274</td></tr><tr><td>BR0667</td><td>FSO Motors</td><td>1275</td></tr><tr><td>BR0742</td><td>Gumpert Motors</td><td>1276</td></tr><tr><td>BR0822</td><td>Honda India Motors</td><td>1277</td></tr><tr><td>BR0981</td><td>Jensen Motors</td><td>1278</td></tr><tr><td>BR1052</td><td>Lancia Motors</td><td>1279</td></tr><tr><td>BR1194</td><td>Mastretta Motors</td><td>1280</td></tr><tr><td>BR1620</td><td>Puma Motors</td><td>1281</td></tr><tr><td>BR1761</td><td>Seat Motors</td><td>1282</td></tr><tr><td>BR1925</td><td>Tazzari Motors</td><td>1283</td></tr><tr><td>BR1933</td><td>Tesla Motors</td><td>1284</td></tr><tr><td>BR2045</td><td>Volkswagen South Africa Motors</td><td>1285</td></tr><tr><td>BR2469</td><td>Kindel Building</td><td>1286</td></tr><tr><td>BR8706</td><td>Packard Motors</td><td>1287</td></tr><tr><td>BR9306</td><td>Plymouth Motors</td><td>1288</td></tr><tr><td>BR0015</td><td>Acura Motors</td><td>1289</td></tr><tr><td>BR0217</td><td>Borgward (including Goliath and Lloyd) Motors</td><td>1290</td></tr><tr><td>BR0283</td><td>Bytom Motors</td><td>1291</td></tr><tr><td>BR1274</td><td>Messerschmitt Motors</td><td>1292</td></tr><tr><td>BR1431</td><td>Oltcit Motors</td><td>1293</td></tr><tr><td>BR1451</td><td>Packard Motors</td><td>1294</td></tr><tr><td>BR1554</td><td>Plymouth Motors</td><td>1295</td></tr><tr><td>BR2049</td><td>Volkswagen South Africa Motors</td><td>1296</td></tr><tr><td>BR2088</td><td>Zastava Motors</td><td>1297</td></tr><tr><td>BR2107</td><td>ZIL Motors</td><td>1298</td></tr><tr><td>BR2305</td><td>Atlantic Motor Company</td><td>1299</td></tr><tr><td>BR5586</td><td>Isotta Fraschini Motors</td><td>1300</td></tr><tr><td>BR0290</td><td>Bytom Motors</td><td>1301</td></tr><tr><td>BR0474</td><td>De Tomaso Motors</td><td>1302</td></tr><tr><td>BR0940</td><td>Isotta Fraschini Motors</td><td>1303</td></tr><tr><td>BR2202</td><td>Austin  Motors</td><td>1304</td></tr><tr><td>BR6246</td><td>Lamborghini Motors</td><td>1305</td></tr><tr><td>BR0179</td><td>Bentley Motors</td><td>1306</td></tr><tr><td>BR0797</td><td>Hindustan Motors</td><td>1307</td></tr><tr><td>BR1261</td><td>Merkur Motors</td><td>1308</td></tr><tr><td>BR1575</td><td>Pontiac, Asüna Motors</td><td>1309</td></tr><tr><td>BR2114</td><td>Audi Motors</td><td>1310</td></tr><tr><td>BR2208</td><td>Austin  Motors</td><td>1311</td></tr><tr><td>BR0087</td><td>Ariel Motors</td><td>1312</td></tr><tr><td>BR0117</td><td>Asia Motors Motors</td><td>1313</td></tr><tr><td>BR0181</td><td>Bitter Motors</td><td>1314</td></tr><tr><td>BR0183</td><td>Bitter Motors</td><td>1315</td></tr><tr><td>BR0464</td><td>DeSoto Motors</td><td>1316</td></tr><tr><td>BR0633</td><td>Ford Europe Motors</td><td>1317</td></tr><tr><td>BR8946</td><td>Panther Motors</td><td>1318</td></tr><tr><td>BR0643</td><td>Ford India Motors</td><td>1319</td></tr><tr><td>BR1086</td><td>Bitter Motors</td><td>1320</td></tr><tr><td>BR1465</td><td>Pagani Motors</td><td>1321</td></tr><tr><td>BR1489</td><td>Panoz Motors</td><td>1322</td></tr><tr><td>BR1643</td><td>Renault Motors</td><td>1323</td></tr><tr><td>BR1765</td><td>Seat Motors</td><td>1324</td></tr><tr><td>BR0090</td><td>Ariel Motors</td><td>1325</td></tr><tr><td>BR0487</td><td>Dodge Motors</td><td>1326</td></tr><tr><td>BR1020</td><td>Koenigsegg Motors</td><td>1327</td></tr><tr><td>BR1073</td><td>Lexus Motors</td><td>1328</td></tr><tr><td>BR1102</td><td>Lotus Motors</td><td>1329</td></tr><tr><td>BR12306</td><td>Volvo Motors</td><td>1330</td></tr><tr><td>BR1682</td><td>SAIC Motor Motors</td><td>1331</td></tr><tr><td>BR1702</td><td>Samsung Motors</td><td>1332</td></tr><tr><td>BR1938</td><td>Tesla Motors</td><td>1333</td></tr><tr><td>BR1958</td><td>Toyota Motors</td><td>1334</td></tr><tr><td>BR2173</td><td>Lagonda  Motors</td><td>1335</td></tr><tr><td>BR0379</td><td>Cizeta-Moroder Motors</td><td>1336</td></tr><tr><td>BR0687</td><td>Geo Motors</td><td>1337</td></tr><tr><td>BR0767</td><td>Heinkel Motors</td><td>1338</td></tr><tr><td>BR14106</td><td>Cadillac Automobile Company Building</td><td>1339</td></tr><tr><td>BR1454</td><td>Packard Motors</td><td>1340</td></tr><tr><td>BR1642</td><td>Renault Motors</td><td>1341</td></tr><tr><td>BR1652</td><td>Rivian Motors</td><td>1342</td></tr><tr><td>BR2052</td><td>Volvo Motors</td><td>1343</td></tr><tr><td>BR2157</td><td>Maybach  Motors</td><td>1344</td></tr><tr><td>BR2182</td><td>MG  Motors</td><td>1345</td></tr><tr><td>BR3666</td><td>Ford Australia Motors</td><td>1346</td></tr><tr><td>BR0668</td><td>FSO Motors</td><td>1347</td></tr><tr><td>BR0719</td><td>Glas Motors</td><td>1348</td></tr><tr><td>BR1079</td><td>Lexus Motors</td><td>1349</td></tr><tr><td>BR1299</td><td>Micro Motors</td><td>1350</td></tr><tr><td>BR1685</td><td>SAIC Motor Motors</td><td>1351</td></tr><tr><td>BR1720</td><td>San Motors</td><td>1352</td></tr><tr><td>BR1729</td><td>Santa Matilde Motors</td><td>1353</td></tr><tr><td>BR2079</td><td>Wiesmann Motors</td><td>1354</td></tr><tr><td>BR2163</td><td>Izh  Motors</td><td>1355</td></tr><tr><td>BR2414</td><td>H Street Playhouse</td><td>1356</td></tr><tr><td>BR6966</td><td>Marlin Motors</td><td>1357</td></tr><tr><td>BR0819</td><td>Honda Motors</td><td>1358</td></tr><tr><td>BR1214</td><td>Mazda Motors</td><td>1359</td></tr><tr><td>BR1911</td><td>Tatra Motors</td><td>1360</td></tr><tr><td>BR2166</td><td>Citroën Motors</td><td>1361</td></tr><tr><td>BR2175</td><td>Lagonda  Motors</td><td>1362</td></tr><tr><td>BR2198</td><td>Morris  Motors</td><td>1363</td></tr><tr><td>BR6126</td><td>KTM Motors</td><td>1364</td></tr><tr><td>BR0400</td><td>Daewoo, Saehan, Chevrolet Korea Motors</td><td>1365</td></tr><tr><td>BR0527</td><td>Eicher Polaris Motors</td><td>1366</td></tr><tr><td>BR1103</td><td>Lotus Motors</td><td>1367</td></tr><tr><td>BR13686</td><td>Herald Motors</td><td>1368</td></tr><tr><td>BR1815</td><td>Skoda Motors</td><td>1369</td></tr><tr><td>BR0414</td><td>Daihatsu Motors</td><td>1370</td></tr><tr><td>BR0444</td><td>Delahaye Motors</td><td>1371</td></tr><tr><td>BR0959</td><td>Iveco Motors</td><td>1372</td></tr><tr><td>BR1058</td><td>Lancia Motors</td><td>1373</td></tr><tr><td>BR1338</td><td>Monteverdi Motors</td><td>1374</td></tr><tr><td>BR1388</td><td>Nissan Motors</td><td>1375</td></tr><tr><td>BR1854</td><td>Standard-Triumph Motors</td><td>1376</td></tr><tr><td>BR2270</td><td>Ramani Motors</td><td>1377</td></tr><tr><td>BR2278</td><td>Deccan Motors</td><td>1378</td></tr><tr><td>BR2287</td><td>Herald Motors</td><td>1379</td></tr><tr><td>BR2324</td><td>Blankinship Motor Company Building</td><td>1380</td></tr><tr><td>BR0280</td><td>Buick Motors</td><td>1381</td></tr><tr><td>BR0631</td><td>Ford Europe Motors</td><td>1382</td></tr><tr><td>BR0702</td><td>Ginetta Motors</td><td>1383</td></tr><tr><td>BR0942</td><td>Isuzu Motors</td><td>1384</td></tr><tr><td>BR1151</td><td>Marcos Motors</td><td>1385</td></tr><tr><td>BR2121</td><td>DKW Motors</td><td>1386</td></tr><tr><td>BR2174</td><td>Lagonda  Motors</td><td>1387</td></tr><tr><td>BR2886</td><td>Dodge Motors</td><td>1388</td></tr><tr><td>BR0213</td><td>Borgward (including Goliath and Lloyd) Motors</td><td>1389</td></tr><tr><td>BR0680</td><td>GAZ Motors</td><td>1390</td></tr><tr><td>BR1075</td><td>Lexus Motors</td><td>1391</td></tr><tr><td>BR1207</td><td>Matra (including Deutsch-Bonnet, René Bonnet) Motors</td><td>1392</td></tr><tr><td>BR1507</td><td>Peel Motors</td><td>1393</td></tr><tr><td>BR2080</td><td>Wiesmann Motors</td><td>1394</td></tr><tr><td>BR0454</td><td>DeLorean Motors</td><td>1395</td></tr><tr><td>BR0974</td><td>Jeep Motors</td><td>1396</td></tr><tr><td>BR1026</td><td>Bentley Motors</td><td>1397</td></tr><tr><td>BR13566</td><td>Ramani Motors</td><td>1398</td></tr><tr><td>BR1457</td><td>Packard Motors</td><td>1399</td></tr><tr><td>BR1684</td><td>SAIC Motor Motors</td><td>1400</td></tr><tr><td>BR2301</td><td>Atlantic Motor Company</td><td>1401</td></tr><tr><td>BR2310</td><td>Atlantic Motor Company</td><td>1402</td></tr><tr><td>BR2384</td><td>Claremore Auto Dealership</td><td>1403</td></tr><tr><td>BR2454</td><td>Jones Motor Company</td><td>1404</td></tr><tr><td>BR0186</td><td>Alfa Romeo Motors</td><td>1405</td></tr><tr><td>BR0834</td><td>Hudson Motors</td><td>1406</td></tr><tr><td>BR0904</td><td>Invicta Motors</td><td>1407</td></tr><tr><td>BR0907</td><td>Invicta Motors</td><td>1408</td></tr><tr><td>BR1200</td><td>Mastretta Motors</td><td>1409</td></tr><tr><td>BR1889</td><td>Sunbeam Motors</td><td>1410</td></tr><tr><td>BR2140</td><td>Horch Motors</td><td>1411</td></tr><tr><td>BR2177</td><td>Lagonda  Motors</td><td>1412</td></tr><tr><td>BR0810</td><td>Holden Motors</td><td>1413</td></tr><tr><td>BR1530</td><td>Peugeot Motors</td><td>1414</td></tr><tr><td>BR1638</td><td>Reliant Motors</td><td>1415</td></tr><tr><td>BR1779</td><td>Shelby SuperCars Motors</td><td>1416</td></tr><tr><td>BR1928</td><td>Tazzari Motors</td><td>1417</td></tr><tr><td>BR1954</td><td>Toyota Motors</td><td>1418</td></tr><tr><td>BR1998</td><td>UAZ Motors</td><td>1419</td></tr><tr><td>BR2355</td><td>Cadillac Automobile Company Building</td><td>1420</td></tr><tr><td>BR2359</td><td>Cadillac Automobile Company Building</td><td>1421</td></tr><tr><td>BR0012</td><td>Acura Motors</td><td>1422</td></tr><tr><td>BR0578</td><td>Fiat do Brasil Motors</td><td>1423</td></tr><tr><td>BR0748</td><td>Gumpert Motors</td><td>1424</td></tr><tr><td>BR1386</td><td>British Leyland Motors</td><td>1425</td></tr><tr><td>BR1868</td><td>Studebaker Motors</td><td>1426</td></tr><tr><td>BR1930</td><td>Tazzari Motors</td><td>1427</td></tr><tr><td>BR0427</td><td>Daimler Motors</td><td>1428</td></tr><tr><td>BR0924</td><td>Iso Motors</td><td>1429</td></tr><tr><td>BR0949</td><td>Isuzu Motors</td><td>1430</td></tr><tr><td>BR1001</td><td>Kia Motors</td><td>1431</td></tr><tr><td>BR1157</td><td>Marcos Motors</td><td>1432</td></tr><tr><td>BR1165</td><td>Marlin Motors</td><td>1433</td></tr><tr><td>BR1188</td><td>Maserati Motors</td><td>1434</td></tr><tr><td>BR1513</td><td>Perodua Motors</td><td>1435</td></tr><tr><td>BR1751</td><td>Scion Motors</td><td>1436</td></tr><tr><td>BR2029</td><td>Volkswagen Motors</td><td>1437</td></tr><tr><td>BR2060</td><td>Volvo Motors</td><td>1438</td></tr><tr><td>BR2137</td><td>Horch Motors</td><td>1439</td></tr><tr><td>BR0403</td><td>DAF Motors</td><td>1440</td></tr><tr><td>BR0645</td><td>Ford India Motors</td><td>1441</td></tr><tr><td>BR0893</td><td>Innocenti Motors</td><td>1442</td></tr><tr><td>BR1170</td><td>Marlin Motors</td><td>1443</td></tr><tr><td>BR1371</td><td>Naza Motors</td><td>1444</td></tr><tr><td>BR1858</td><td>Standard-Triumph Motors</td><td>1445</td></tr><tr><td>BR2419</td><td>H Street Playhouse</td><td>1446</td></tr><tr><td>BR3066</td><td>e.GO Mobile Motors</td><td>1447</td></tr><tr><td>BR0061</td><td>AMC, Eagle Motors</td><td>1448</td></tr><tr><td>BR0323</td><td>Chevrolet Motors</td><td>1449</td></tr><tr><td>BR1475</td><td>Panhard Motors</td><td>1450</td></tr><tr><td>BR1908</td><td>Tata Motors</td><td>1451</td></tr><tr><td>BR2220</td><td>Riley  Motors</td><td>1452</td></tr><tr><td>BR2286</td><td>Dacia Motors</td><td>1453</td></tr><tr><td>BR2431</td><td>Hupmobile Building</td><td>1454</td></tr><tr><td>BR0332</td><td>Chevrolet India Motors</td><td>1455</td></tr><tr><td>BR0551</td><td>Ferrari Motors</td><td>1456</td></tr><tr><td>BR0969</td><td>Jaguar Motors</td><td>1457</td></tr><tr><td>BR1172</td><td>Maruti Motors</td><td>1458</td></tr><tr><td>BR1203</td><td>Matra (including Deutsch-Bonnet, René Bonnet) Motors</td><td>1459</td></tr><tr><td>BR1543</td><td>Piaggio Motors</td><td>1460</td></tr><tr><td>BR1588</td><td>Porsche Motors</td><td>1461</td></tr><tr><td>BR1800</td><td>Simca do Brasil Motors</td><td>1462</td></tr><tr><td>BR1839</td><td>Spyker Motors</td><td>1463</td></tr><tr><td>BR0221</td><td>Bristol Motors</td><td>1464</td></tr><tr><td>BR0422</td><td>Daimler Motors</td><td>1465</td></tr><tr><td>BR0450</td><td>Delahaye Motors</td><td>1466</td></tr><tr><td>BR0669</td><td>FSO Motors</td><td>1467</td></tr><tr><td>BR0712</td><td>Glas Motors</td><td>1468</td></tr><tr><td>BR0804</td><td>Holden Motors</td><td>1469</td></tr><tr><td>BR0844</td><td>Humber Motors</td><td>1470</td></tr><tr><td>BR0970</td><td>Jaguar Motors</td><td>1471</td></tr><tr><td>BR1092</td><td>Lincoln Motors</td><td>1472</td></tr><tr><td>BR1184</td><td>Maserati Motors</td><td>1473</td></tr><tr><td>BR1251</td><td>Mercury Motors</td><td>1474</td></tr><tr><td>BR1287</td><td>Mia Motors</td><td>1475</td></tr><tr><td>BR1582</td><td>Porsche Motors</td><td>1476</td></tr><tr><td>BR1787</td><td>Simca Motors</td><td>1477</td></tr><tr><td>BR2395</td><td>Clemens Automobile Company Building</td><td>1478</td></tr><tr><td>BR0265</td><td>Bugatti Motors</td><td>1479</td></tr><tr><td>BR0305</td><td>Caterham Motors</td><td>1480</td></tr><tr><td>BR0860</td><td>Hummer Motors</td><td>1481</td></tr><tr><td>BR1023</td><td>KTM Motors</td><td>1482</td></tr><tr><td>BR1037</td><td>Lada Motors</td><td>1483</td></tr><tr><td>BR10446</td><td>Saturn Motors</td><td>1484</td></tr><tr><td>BR4386</td><td>GTA Spano Motors</td><td>1485</td></tr><tr><td>BR0060</td><td>Alvis Motors</td><td>1486</td></tr><tr><td>BR0123</td><td>Aston Martin Motors</td><td>1487</td></tr><tr><td>BR0239</td><td>British Leyland Motors</td><td>1488</td></tr><tr><td>BR0306</td><td>Alvis Motors</td><td>1489</td></tr><tr><td>BR10026</td><td>Saab Motors</td><td>1490</td></tr><tr><td>BR1217</td><td>Mazda Motors</td><td>1491</td></tr><tr><td>BR1914</td><td>Tatra Motors</td><td>1492</td></tr><tr><td>BR2113</td><td>Audi Motors</td><td>1493</td></tr><tr><td>BR4626</td><td>Hennessey Motors</td><td>1494</td></tr><tr><td>BR0381</td><td>Dacia Motors</td><td>1495</td></tr><tr><td>BR0629</td><td>Ford do Brasil Motors</td><td>1496</td></tr><tr><td>BR1060</td><td>Lancia Motors</td><td>1497</td></tr><tr><td>BR1145</td><td>Mahindra Motors</td><td>1498</td></tr><tr><td>BR1229</td><td>Mazzanti Motors</td><td>1499</td></tr><tr><td>BR1252</td><td>Mercury Motors</td><td>1500</td></tr><tr><td>BR1602</td><td>Proton Motors</td><td>1501</td></tr><tr><td>BR1793</td><td>Simca do Brasil Motors</td><td>1502</td></tr><tr><td>BR2130</td><td>DKW Motors</td><td>1503</td></tr><tr><td>BR2411</td><td>H Street Playhouse</td><td>1504</td></tr><tr><td>BR0215</td><td>Borgward (including Goliath and Lloyd) Motors</td><td>1505</td></tr><tr><td>BR0329</td><td>Chevrolet Motors</td><td>1506</td></tr><tr><td>BR0441</td><td>Delahaye Motors</td><td>1507</td></tr><tr><td>BR1059</td><td>Lancia Motors</td><td>1508</td></tr><tr><td>BR13386</td><td>Standard  Motors</td><td>1509</td></tr><tr><td>BR1590</td><td>Porsche Motors</td><td>1510</td></tr><tr><td>BR1647</td><td>Renault Motors</td><td>1511</td></tr><tr><td>BR1777</td><td>Shelby SuperCars Motors</td><td>1512</td></tr><tr><td>BR2040</td><td>Volkswagen do Brasil Motors</td><td>1513</td></tr><tr><td>BR2164</td><td>Izh  Motors</td><td>1514</td></tr><tr><td>BR0483</td><td>Dodge Motors</td><td>1515</td></tr><tr><td>BR0739</td><td>GTA Spano Motors</td><td>1516</td></tr><tr><td>BR0987</td><td>Jensen Motors</td><td>1517</td></tr><tr><td>BR1129</td><td>LuAZ Motors</td><td>1518</td></tr><tr><td>BR12126</td><td>Volkswagen Motors</td><td>1519</td></tr><tr><td>BR1275</td><td>Messerschmitt Motors</td><td>1520</td></tr><tr><td>BR1495</td><td>Panther Motors</td><td>1521</td></tr><tr><td>BR1657</td><td>Rivian Motors</td><td>1522</td></tr><tr><td>BR1686</td><td>Bytom Motors</td><td>1523</td></tr><tr><td>BR0228</td><td>Bristol Motors</td><td>1524</td></tr><tr><td>BR0272</td><td>Buick Motors</td><td>1525</td></tr><tr><td>BR10386</td><td>Santana Motors</td><td>1526</td></tr><tr><td>BR1080</td><td>Lexus Motors</td><td>1527</td></tr><tr><td>BR1148</td><td>Mahindra Motors</td><td>1528</td></tr><tr><td>BR1150</td><td>Mahindra Motors</td><td>1529</td></tr><tr><td>BR1370</td><td>Nash Motors</td><td>1530</td></tr><tr><td>BR1673</td><td>Saab Motors</td><td>1531</td></tr><tr><td>BR0324</td><td>Chevrolet Motors</td><td>1532</td></tr><tr><td>BR0815</td><td>Honda Motors</td><td>1533</td></tr><tr><td>BR0985</td><td>Jensen Motors</td><td>1534</td></tr><tr><td>BR1127</td><td>LuAZ Motors</td><td>1535</td></tr><tr><td>BR12606</td><td>ZIL Motors</td><td>1536</td></tr><tr><td>BR1655</td><td>Rivian Motors</td><td>1537</td></tr><tr><td>BR1841</td><td>SsangYong Motors</td><td>1538</td></tr><tr><td>BR2118</td><td>Audi Motors</td><td>1539</td></tr><tr><td>BR2368</td><td>Casa de cadillac</td><td>1540</td></tr><tr><td>BR0277</td><td>Buick Motors</td><td>1541</td></tr><tr><td>BR0827</td><td>Honda India Motors</td><td>1542</td></tr><tr><td>BR1365</td><td>Nash Motors</td><td>1543</td></tr><tr><td>BR1784</td><td>Simca Motors</td><td>1544</td></tr><tr><td>BR2190</td><td>MG  Motors</td><td>1545</td></tr><tr><td>BR5226</td><td>IFA (including Trabant, Wartburg, Barkas) Motors</td><td>1546</td></tr><tr><td>BR0188</td><td>Bitter Motors</td><td>1547</td></tr><tr><td>BR0432</td><td>Datsun Motors</td><td>1548</td></tr><tr><td>BR1701</td><td>Samsung Motors</td><td>1549</td></tr><tr><td>BR2009</td><td>Vauxhall Motors</td><td>1550</td></tr><tr><td>BR2030</td><td>Volkswagen Motors</td><td>1551</td></tr><tr><td>BR2058</td><td>Volvo Motors</td><td>1552</td></tr><tr><td>BR2271</td><td>Deccan Motors</td><td>1553</td></tr><tr><td>BR2303</td><td>Atlantic Motor Company</td><td>1554</td></tr><tr><td>BR2357</td><td>Cadillac Automobile Company Building</td><td>1555</td></tr><tr><td>BR0003</td><td>AC Cars Motors</td><td>1556</td></tr><tr><td>BR0050</td><td>Alpine Motors</td><td>1557</td></tr><tr><td>BR0227</td><td>Bristol Motors</td><td>1558</td></tr><tr><td>BR0521</td><td>Eicher Polaris Motors</td><td>1559</td></tr><tr><td>BR0620</td><td>Ford Australia Motors</td><td>1560</td></tr><tr><td>BR0623</td><td>Ford do Brasil Motors</td><td>1561</td></tr><tr><td>BR0807</td><td>Holden Motors</td><td>1562</td></tr><tr><td>BR1450</td><td>Opel Motors</td><td>1563</td></tr><tr><td>BR1971</td><td>Turner Motors</td><td>1564</td></tr><tr><td>BR1987</td><td>TVR Motors</td><td>1565</td></tr><tr><td>BR2119</td><td>Audi Motors</td><td>1566</td></tr><tr><td>BR0072</td><td>Anadol Motors</td><td>1567</td></tr><tr><td>BR0078</td><td>Anadol Motors</td><td>1568</td></tr><tr><td>BR0081</td><td>Ariel Motors</td><td>1569</td></tr><tr><td>BR0118</td><td>Asia Motors Motors</td><td>1570</td></tr><tr><td>BR0180</td><td>Bentley Motors</td><td>1571</td></tr><tr><td>BR0203</td><td>Bond Motors</td><td>1572</td></tr><tr><td>BR1138</td><td>Lynx Motors</td><td>1573</td></tr><tr><td>BR1238</td><td>McLaren Motors</td><td>1574</td></tr><tr><td>BR2346</td><td>Daewoo, Saehan, Chevrolet Korea Motors</td><td>1575</td></tr><tr><td>BR6006</td><td>Kia Motors</td><td>1576</td></tr><tr><td>BR0047</td><td>Alpine Motors</td><td>1577</td></tr><tr><td>BR0253</td><td>Austin, Rover Motors</td><td>1578</td></tr><tr><td>BR0601</td><td>Ford America Motors</td><td>1579</td></tr><tr><td>BR0833</td><td>Hudson Motors</td><td>1580</td></tr><tr><td>BR10806</td><td>Singer Motors</td><td>1581</td></tr><tr><td>BR1158</td><td>Marcos Motors</td><td>1582</td></tr><tr><td>BR1502</td><td>Peel Motors</td><td>1583</td></tr><tr><td>BR1555</td><td>Plymouth Motors</td><td>1584</td></tr><tr><td>BR1611</td><td>Puma Motors</td><td>1585</td></tr><tr><td>BR1635</td><td>Reliant Motors</td><td>1586</td></tr><tr><td>BR1852</td><td>Standard-Triumph Motors</td><td>1587</td></tr><tr><td>BR1980</td><td>Turner Motors</td><td>1588</td></tr><tr><td>BR2028</td><td>Volkswagen Motors</td><td>1589</td></tr><tr><td>BR2229</td><td>Wolseley  Motors</td><td>1590</td></tr><tr><td>BR2338</td><td>Bohn Motor Company Automobile Dealership</td><td>1591</td></tr><tr><td>BR8286</td><td>Nissan Motors</td><td>1592</td></tr><tr><td>BR0043</td><td>Alpine Motors</td><td>1593</td></tr><tr><td>BR0194</td><td>BMW Motors</td><td>1594</td></tr><tr><td>BR0695</td><td>Gilbern Motors</td><td>1595</td></tr><tr><td>BR1028</td><td>KTM Motors</td><td>1596</td></tr><tr><td>BR1178</td><td>Maruti Motors</td><td>1597</td></tr><tr><td>BR1669</td><td>Rolls-Royce Motors</td><td>1598</td></tr><tr><td>BR2330</td><td>Blankinship Motor Company Building</td><td>1599</td></tr><tr><td>BR2358</td><td>Cadillac Automobile Company Building</td><td>1600</td></tr><tr><td>BR0704</td><td>Ginetta Motors</td><td>1601</td></tr><tr><td>BR0721</td><td>GMC Motors</td><td>1602</td></tr><tr><td>BR0838</td><td>Hudson Motors</td><td>1603</td></tr><tr><td>BR10146</td><td>Saleen Motors</td><td>1604</td></tr><tr><td>BR1087</td><td>Ligier Motors</td><td>1605</td></tr><tr><td>BR1266</td><td>Borgward (including Goliath and Lloyd) Motors</td><td>1606</td></tr><tr><td>BR2331</td><td>Bohn Motor Company Automobile Dealership</td><td>1607</td></tr><tr><td>BR2345</td><td>Buick Automobile Company Building</td><td>1608</td></tr><tr><td>BR2347</td><td>Buick Automobile Company Building</td><td>1609</td></tr><tr><td>BR0205</td><td>Bond Motors</td><td>1610</td></tr><tr><td>BR0278</td><td>Buick Motors</td><td>1611</td></tr><tr><td>BR0333</td><td>Chevrolet India Motors</td><td>1612</td></tr><tr><td>BR0412</td><td>Daihatsu Motors</td><td>1613</td></tr><tr><td>BR0460</td><td>DeLorean Motors</td><td>1614</td></tr><tr><td>BR0520</td><td>e.GO Mobile Motors</td><td>1615</td></tr><tr><td>BR0726</td><td>Aston Martin Motors</td><td>1616</td></tr><tr><td>BR0837</td><td>Hudson Motors</td><td>1617</td></tr><tr><td>BR0908</td><td>Invicta Motors</td><td>1618</td></tr><tr><td>BR11286</td><td>Sunbeam Motors</td><td>1619</td></tr><tr><td>BR1480</td><td>Panhard Motors</td><td>1620</td></tr><tr><td>BR0165</td><td>Auverland Motors</td><td>1621</td></tr><tr><td>BR0600</td><td>Fisker, Karma Motors</td><td>1622</td></tr><tr><td>BR0979</td><td>Jeep Motors</td><td>1623</td></tr><tr><td>BR1035</td><td>Lada Motors</td><td>1624</td></tr><tr><td>BR1210</td><td>Matra (including Deutsch-Bonnet, René Bonnet) Motors</td><td>1625</td></tr><tr><td>BR1264</td><td>Merkur Motors</td><td>1626</td></tr><tr><td>BR1559</td><td>Plymouth Motors</td><td>1627</td></tr><tr><td>BR1573</td><td>Pontiac, Asüna Motors</td><td>1628</td></tr><tr><td>BR2450</td><td>Jennings Ford Automobile Dealership</td><td>1629</td></tr><tr><td>BR0083</td><td>Ariel Motors</td><td>1630</td></tr><tr><td>BR0161</td><td>Auverland Motors</td><td>1631</td></tr><tr><td>BR0197</td><td>BMW Motors</td><td>1632</td></tr><tr><td>BR0481</td><td>Dodge Motors</td><td>1633</td></tr><tr><td>BR0567</td><td>Fiat Motors</td><td>1634</td></tr><tr><td>BR0945</td><td>Isuzu Motors</td><td>1635</td></tr><tr><td>BR11406</td><td>Tata Motors</td><td>1636</td></tr><tr><td>BR1521</td><td>Peugeot Motors</td><td>1637</td></tr><tr><td>BR1814</td><td>Skoda Motors</td><td>1638</td></tr><tr><td>BR2007</td><td>Vauxhall Motors</td><td>1639</td></tr><tr><td>BR2405</td><td>Colman Automotive Building</td><td>1640</td></tr><tr><td>BR0655</td><td>Freightliner Motors</td><td>1641</td></tr><tr><td>BR0964</td><td>Jaguar Motors</td><td>1642</td></tr><tr><td>BR1013</td><td>Koenigsegg Motors</td><td>1643</td></tr><tr><td>BR1834</td><td>Spyker Motors</td><td>1644</td></tr><tr><td>BR1835</td><td>Spyker Motors</td><td>1645</td></tr><tr><td>BR0200</td><td>BMW Motors</td><td>1646</td></tr><tr><td>BR0240</td><td>British Leyland Motors</td><td>1647</td></tr><tr><td>BR0657</td><td>Freightliner Motors</td><td>1648</td></tr><tr><td>BR0665</td><td>FSO Motors</td><td>1649</td></tr><tr><td>BR0698</td><td>Gilbern Motors</td><td>1650</td></tr><tr><td>BR0741</td><td>Gumpert Motors</td><td>1651</td></tr><tr><td>BR1113</td><td>LTI Motors</td><td>1652</td></tr><tr><td>BR1198</td><td>Mastretta Motors</td><td>1653</td></tr><tr><td>BR1253</td><td>Mercury Motors</td><td>1654</td></tr><tr><td>BR1807</td><td>Singer Motors</td><td>1655</td></tr><tr><td>BR1897</td><td>Suzuki Motors</td><td>1656</td></tr><tr><td>BR1905</td><td>Tata Motors</td><td>1657</td></tr><tr><td>BR2000</td><td>UAZ Motors</td><td>1658</td></tr><tr><td>BR6366</td><td>Land Rover Motors</td><td>1659</td></tr><tr><td>BR0055</td><td>Alvis Motors</td><td>1660</td></tr><tr><td>BR0902</td><td>Invicta Motors</td><td>1661</td></tr><tr><td>BR1110</td><td>Lotus Motors</td><td>1662</td></tr><tr><td>BR1511</td><td>Perodua Motors</td><td>1663</td></tr><tr><td>BR2152</td><td>Maybach  Motors</td><td>1664</td></tr><tr><td>BR2444</td><td>Jennings Ford Automobile Dealership</td><td>1665</td></tr><tr><td>BR0066</td><td>Acura Motors</td><td>1666</td></tr><tr><td>BR0294</td><td>Cadillac Motors</td><td>1667</td></tr><tr><td>BR0814</td><td>Honda Motors</td><td>1668</td></tr><tr><td>BR0839</td><td>Hudson Motors</td><td>1669</td></tr><tr><td>BR0873</td><td>IFA (including Trabant, Wartburg, Barkas) Motors</td><td>1670</td></tr><tr><td>BR11826</td><td>Turner Motors</td><td>1671</td></tr><tr><td>BR1189</td><td>Maserati Motors</td><td>1672</td></tr><tr><td>BR1259</td><td>Mercury Motors</td><td>1673</td></tr><tr><td>BR1808</td><td>Singer Motors</td><td>1674</td></tr><tr><td>BR2004</td><td>Vauxhall Motors</td><td>1675</td></tr><tr><td>BR2027</td><td>Volkswagen Motors</td><td>1676</td></tr><tr><td>BR0317</td><td>Checker Motors</td><td>1677</td></tr><tr><td>BR1333</td><td>Monteverdi Motors</td><td>1678</td></tr><tr><td>BR1651</td><td>Rivian Motors</td><td>1679</td></tr><tr><td>BR1803</td><td>Singer Motors</td><td>1680</td></tr><tr><td>BR2103</td><td>ZIL Motors</td><td>1681</td></tr><tr><td>BR2132</td><td>Horch Motors</td><td>1682</td></tr><tr><td>BR2260</td><td>Das Motors</td><td>1683</td></tr><tr><td>BR2350</td><td>Buick Automobile Company Building</td><td>1684</td></tr><tr><td>BR2421</td><td>Howard Motor Company Building</td><td>1685</td></tr><tr><td>BR0071</td><td>Anadol Motors</td><td>1686</td></tr><tr><td>BR0160</td><td>Auto-Union Motors</td><td>1687</td></tr><tr><td>BR0175</td><td>Bentley Motors</td><td>1688</td></tr><tr><td>BR0413</td><td>Daihatsu Motors</td><td>1689</td></tr><tr><td>BR0635</td><td>Ford Europe Motors</td><td>1690</td></tr><tr><td>BR0693</td><td>Gilbern Motors</td><td>1691</td></tr><tr><td>BR0734</td><td>GTA Spano Motors</td><td>1692</td></tr><tr><td>BR1663</td><td>Rolls-Royce Motors</td><td>1693</td></tr><tr><td>BR1874</td><td>Subaru Motors</td><td>1694</td></tr><tr><td>BR2122</td><td>DKW Motors</td><td>1695</td></tr><tr><td>BR8886</td><td>Panoz Motors</td><td>1696</td></tr><tr><td>BR0192</td><td>BMW Motors</td><td>1697</td></tr><tr><td>BR0255</td><td>Austin, Rover Motors</td><td>1698</td></tr><tr><td>BR0637</td><td>Ford Europe Motors</td><td>1699</td></tr><tr><td>BR0757</td><td>Healey Motors</td><td>1700</td></tr><tr><td>BR0965</td><td>Jaguar Motors</td><td>1701</td></tr><tr><td>BR1078</td><td>Lexus Motors</td><td>1702</td></tr><tr><td>BR1262</td><td>Merkur Motors</td><td>1703</td></tr><tr><td>BR1352</td><td>Moskwitch Motors</td><td>1704</td></tr><tr><td>BR1448</td><td>Opel Motors</td><td>1705</td></tr><tr><td>BR1631</td><td>Reliant Motors</td><td>1706</td></tr><tr><td>BR1633</td><td>Reliant Motors</td><td>1707</td></tr><tr><td>BR1665</td><td>Rolls-Royce Motors</td><td>1708</td></tr><tr><td>BR2169</td><td>Izh  Motors</td><td>1709</td></tr><tr><td>BR2272</td><td>Deccan Motors</td><td>1710</td></tr><tr><td>BR2318</td><td>2008 NRHP-listed</td><td>1711</td></tr><tr><td>BR1224</td><td>Mazzanti Motors</td><td>1712</td></tr><tr><td>BR1339</td><td>Monteverdi Motors</td><td>1713</td></tr><tr><td>BR1699</td><td>Saleen Motors</td><td>1714</td></tr><tr><td>BR1739</td><td>Santana Motors</td><td>1715</td></tr><tr><td>BR1972</td><td>Turner Motors</td><td>1716</td></tr><tr><td>BR2439</td><td>Hupmobile Building</td><td>1717</td></tr><tr><td>BR0052</td><td>Alvis Motors</td><td>1718</td></tr><tr><td>BR0119</td><td>Asia Motors Motors</td><td>1719</td></tr><tr><td>BR0723</td><td>GMC Motors</td><td>1720</td></tr><tr><td>BR1167</td><td>Marlin Motors</td><td>1721</td></tr><tr><td>BR1545</td><td>Piaggio Motors</td><td>1722</td></tr><tr><td>BR2401</td><td>Colman Automotive Building</td><td>1723</td></tr><tr><td>BR2586</td><td>Datsun Motors</td><td>1724</td></tr><tr><td>BR0419</td><td>Daihatsu Motors</td><td>1725</td></tr><tr><td>BR0867</td><td>Hyundai Motors</td><td>1726</td></tr><tr><td>BR1770</td><td>Seat Motors</td><td>1727</td></tr><tr><td>BR1824</td><td>Smart Motors</td><td>1728</td></tr><tr><td>BR2348</td><td>Buick Automobile Company Building</td><td>1729</td></tr><tr><td>BR0185</td><td>Bitter Motors</td><td>1730</td></tr><tr><td>BR0455</td><td>DeLorean Motors</td><td>1731</td></tr><tr><td>BR0692</td><td>Gilbern Motors</td><td>1732</td></tr><tr><td>BR0790</td><td>Hillman Motors</td><td>1733</td></tr><tr><td>BR0955</td><td>Iveco Motors</td><td>1734</td></tr><tr><td>BR0978</td><td>Jeep Motors</td><td>1735</td></tr><tr><td>BR1420</td><td>NSU Motors</td><td>1736</td></tr><tr><td>BR1522</td><td>Peugeot Motors</td><td>1737</td></tr><tr><td>BR1719</td><td>San Motors</td><td>1738</td></tr><tr><td>BR2335</td><td>Bohn Motor Company Automobile Dealership</td><td>1739</td></tr><tr><td>BR1499</td><td>Panther Motors</td><td>1740</td></tr><tr><td>BR3906</td><td>Freightliner Motors</td><td>1741</td></tr><tr><td>BR6186</td><td>Lada Motors</td><td>1742</td></tr><tr><td>BR0299</td><td>Cadillac Motors</td><td>1743</td></tr><tr><td>BR0438</td><td>Datsun Motors</td><td>1744</td></tr><tr><td>BR1629</td><td>Ranger Motors</td><td>1745</td></tr><tr><td>BR1941</td><td>Tornado Motors</td><td>1746</td></tr><tr><td>BR2032</td><td>Volkswagen do Brasil Motors</td><td>1747</td></tr><tr><td>BR2057</td><td>Volvo Motors</td><td>1748</td></tr><tr><td>BR2241</td><td>Talbot  Motors</td><td>1749</td></tr><tr><td>BR0191</td><td>BMW Motors</td><td>1750</td></tr><tr><td>BR0537</td><td>Elva Motors</td><td>1751</td></tr><tr><td>BR1623</td><td>Ranger Motors</td><td>1752</td></tr><tr><td>BR2284</td><td>Herald Motors</td><td>1753</td></tr><tr><td>BR0035</td><td>Alfa Romeo Motors</td><td>1754</td></tr><tr><td>BR0785</td><td>Hillman Motors</td><td>1755</td></tr><tr><td>BR0818</td><td>Honda Motors</td><td>1756</td></tr><tr><td>BR1137</td><td>Lynx Motors</td><td>1757</td></tr><tr><td>BR1146</td><td>BMW Motors</td><td>1758</td></tr><tr><td>BR1759</td><td>Scion Motors</td><td>1759</td></tr><tr><td>BR2375</td><td>Cass Motor Sales</td><td>1760</td></tr><tr><td>BR3426</td><td>Fiat do Brasil Motors</td><td>1761</td></tr><tr><td>BR0613</td><td>Ford Australia Motors</td><td>1762</td></tr><tr><td>BR1205</td><td>Matra (including Deutsch-Bonnet, René Bonnet) Motors</td><td>1763</td></tr><tr><td>BR1515</td><td>Perodua Motors</td><td>1764</td></tr><tr><td>BR1618</td><td>Puma Motors</td><td>1765</td></tr><tr><td>BR2766</td><td>DeSoto Motors</td><td>1766</td></tr><tr><td>BR0127</td><td>Aston Martin Motors</td><td>1767</td></tr><tr><td>BR1447</td><td>Opel Motors</td><td>1768</td></tr><tr><td>BR1823</td><td>Smart Motors</td><td>1769</td></tr><tr><td>BR2259</td><td>Das Motors</td><td>1770</td></tr><tr><td>BR0199</td><td>BMW Motors</td><td>1771</td></tr><tr><td>BR0201</td><td>Bond Motors</td><td>1772</td></tr><tr><td>BR0237</td><td>British Leyland Motors</td><td>1773</td></tr><tr><td>BR0493</td><td>Donkervoort Motors</td><td>1774</td></tr><tr><td>BR1041</td><td>Lamborghini Motors</td><td>1775</td></tr><tr><td>BR1485</td><td>Panoz Motors</td><td>1776</td></tr><tr><td>BR1527</td><td>Peugeot Motors</td><td>1777</td></tr><tr><td>BR2417</td><td>H Street Playhouse</td><td>1778</td></tr><tr><td>BR7266</td><td>Mazda Motors</td><td>1779</td></tr><tr><td>BR0128</td><td>Aston Martin Motors</td><td>1780</td></tr><tr><td>BR0234</td><td>British Leyland Motors</td><td>1781</td></tr><tr><td>BR1029</td><td>KTM Motors</td><td>1782</td></tr><tr><td>BR1125</td><td>LuAZ Motors</td><td>1783</td></tr><tr><td>BR1219</td><td>Mazda Motors</td><td>1784</td></tr><tr><td>BR1421</td><td>Oldsmobile Motors</td><td>1785</td></tr><tr><td>BR1523</td><td>Peugeot Motors</td><td>1786</td></tr><tr><td>BR1764</td><td>Seat Motors</td><td>1787</td></tr><tr><td>BR2195</td><td>Morris  Motors</td><td>1788</td></tr><tr><td>BR2200</td><td>Morris  Motors</td><td>1789</td></tr><tr><td>BR2317</td><td>2008 NRHP-listed</td><td>1790</td></tr><tr><td>BR0028</td><td>Aixam-Mega (including Arola) Motors</td><td>1791</td></tr><tr><td>BR0038</td><td>Alfa Romeo Motors</td><td>1792</td></tr><tr><td>BR0872</td><td>IFA (including Trabant, Wartburg, Barkas) Motors</td><td>1793</td></tr><tr><td>BR0898</td><td>Innocenti Motors</td><td>1794</td></tr><tr><td>BR0912</td><td>Isdera Motors</td><td>1795</td></tr><tr><td>BR1005</td><td>Kia Motors</td><td>1796</td></tr><tr><td>BR1147</td><td>Mahindra Motors</td><td>1797</td></tr><tr><td>BR1999</td><td>UAZ Motors</td><td>1798</td></tr><tr><td>BR2023</td><td>Volkswagen Motors</td><td>1799</td></tr><tr><td>BR2108</td><td>ZIL Motors</td><td>1800</td></tr><tr><td>BR2341</td><td>Buick Automobile Company Building</td><td>1801</td></tr><tr><td>BR2344</td><td>Buick Automobile Company Building</td><td>1802</td></tr><tr><td>BR0008</td><td>AC Cars Motors</td><td>1803</td></tr><tr><td>BR0445</td><td>Delahaye Motors</td><td>1804</td></tr><tr><td>BR1493</td><td>Panther Motors</td><td>1805</td></tr><tr><td>BR1754</td><td>Scion Motors</td><td>1806</td></tr><tr><td>BR2059</td><td>Volvo Motors</td><td>1807</td></tr><tr><td>BR0024</td><td>Aixam-Mega (including Arola) Motors</td><td>1808</td></tr><tr><td>BR0524</td><td>Eicher Polaris Motors</td><td>1809</td></tr><tr><td>BR1218</td><td>Mazda Motors</td><td>1810</td></tr><tr><td>BR1482</td><td>Panoz Motors</td><td>1811</td></tr><tr><td>BR1687</td><td>SAIC Motor Motors</td><td>1812</td></tr><tr><td>BR1838</td><td>Spyker Motors</td><td>1813</td></tr><tr><td>BR1902</td><td>Tata Motors</td><td>1814</td></tr><tr><td>BR1977</td><td>Turner Motors</td><td>1815</td></tr><tr><td>BR2201</td><td>Austin  Motors</td><td>1816</td></tr><tr><td>BR2374</td><td>Cass Motor Sales</td><td>1817</td></tr><tr><td>BR1175</td><td>Maruti Motors</td><td>1818</td></tr><tr><td>BR1544</td><td>Piaggio Motors</td><td>1819</td></tr><tr><td>BR1641</td><td>Renault Motors</td><td>1820</td></tr><tr><td>BR0214</td><td>Borgward (including Goliath and Lloyd) Motors</td><td>1821</td></tr><tr><td>BR0588</td><td>Fiat India Motors</td><td>1822</td></tr><tr><td>BR1049</td><td>Lamborghini Motors</td><td>1823</td></tr><tr><td>BR1727</td><td>Santa Matilde Motors</td><td>1824</td></tr><tr><td>BR2105</td><td>ZIL Motors</td><td>1825</td></tr><tr><td>BR0369</td><td>Citroën Motors</td><td>1826</td></tr><tr><td>BR0555</td><td>Ferrari Motors</td><td>1827</td></tr><tr><td>BR0615</td><td>Ford Australia Motors</td><td>1828</td></tr><tr><td>BR0840</td><td>Hudson Motors</td><td>1829</td></tr><tr><td>BR1121</td><td>LuAZ Motors</td><td>1830</td></tr><tr><td>BR1314</td><td>Mitsubishi Motors</td><td>1831</td></tr><tr><td>BR1563</td><td>Polestar Motors</td><td>1832</td></tr><tr><td>BR2239</td><td>Standard  Motors</td><td>1833</td></tr><tr><td>BR2339</td><td>Bohn Motor Company Automobile Dealership</td><td>1834</td></tr><tr><td>BR2393</td><td>Clemens Automobile Company Building</td><td>1835</td></tr></tbody></table></div>"
      ]
     },
     "metadata": {
      "application/vnd.databricks.v1+output": {
       "addedWidgets": {},
       "aggData": [],
       "aggError": "",
       "aggOverflow": false,
       "aggSchema": [],
       "aggSeriesLimitReached": false,
       "aggType": "",
       "arguments": {},
       "columnCustomDisplayInfos": {},
       "data": [
        [
         "BR0131",
         "Audi Motors",
         0
        ],
        [
         "BR0760",
         "Healey Motors",
         1
        ],
        [
         "BR0789",
         "Hillman Motors",
         2
        ],
        [
         "BR0938",
         "Isotta Fraschini Motors",
         3
        ],
        [
         "BR1040",
         "Lada Motors",
         4
        ],
        [
         "BR1693",
         "Saleen Motors",
         5
        ],
        [
         "BR1792",
         "Simca do Brasil Motors",
         6
        ],
        [
         "BR1799",
         "Simca do Brasil Motors",
         7
        ],
        [
         "BR1955",
         "Toyota Motors",
         8
        ],
        [
         "BR1978",
         "Turner Motors",
         9
        ],
        [
         "BR2068",
         "Westfield Motors",
         10
        ],
        [
         "BR2332",
         "Bohn Motor Company Automobile Dealership",
         11
        ],
        [
         "BR0151",
         "Auto-Union Motors",
         12
        ],
        [
         "BR0409",
         "DAF Motors",
         13
        ],
        [
         "BR0434",
         "Datsun Motors",
         14
        ],
        [
         "BR0599",
         "Fisker, Karma Motors",
         15
        ],
        [
         "BR0753",
         "Healey Motors",
         16
        ],
        [
         "BR1143",
         "Mahindra Motors",
         17
        ],
        [
         "BR12246",
         "Volkswagen South Africa Motors",
         18
        ],
        [
         "BR1233",
         "McLaren Motors",
         19
        ],
        [
         "BR1558",
         "Plymouth Motors",
         20
        ],
        [
         "BR1795",
         "Simca do Brasil Motors",
         21
        ],
        [
         "BR1847",
         "SsangYong Motors",
         22
        ],
        [
         "BR1943",
         "Tornado Motors",
         23
        ],
        [
         "BR2054",
         "Volvo Motors",
         24
        ],
        [
         "BR2063",
         "Westfield Motors",
         25
        ],
        [
         "BR0019",
         "Acura Motors",
         26
        ],
        [
         "BR0145",
         "Autobianchi Motors",
         27
        ],
        [
         "BR0913",
         "Isdera Motors",
         28
        ],
        [
         "BR1340",
         "Monteverdi Motors",
         29
        ],
        [
         "BR1630",
         "Ranger Motors",
         30
        ],
        [
         "BR1865",
         "Studebaker Motors",
         31
        ],
        [
         "BR2139",
         "Horch Motors",
         32
        ],
        [
         "BR0274",
         "Buick Motors",
         33
        ],
        [
         "BR0308",
         "Caterham Motors",
         34
        ],
        [
         "BR0399",
         "Daewoo, Saehan, Chevrolet Korea Motors",
         35
        ],
        [
         "BR0471",
         "De Tomaso Motors",
         36
        ],
        [
         "BR0731",
         "GTA Spano Motors",
         37
        ],
        [
         "BR0759",
         "Healey Motors",
         38
        ],
        [
         "BR1383",
         "Nissan Motors",
         39
        ],
        [
         "BR1664",
         "Rolls-Royce Motors",
         40
        ],
        [
         "BR1769",
         "Seat Motors",
         41
        ],
        [
         "BR2262",
         "Ramani Motors",
         42
        ],
        [
         "BR2352",
         "Cadillac Automobile Company Building",
         43
        ],
        [
         "BR0114",
         "Asia Motors Motors",
         44
        ],
        [
         "BR0462",
         "DeSoto Motors",
         45
        ],
        [
         "BR0699",
         "Gilbern Motors",
         46
        ],
        [
         "BR0793",
         "Hindustan Motors",
         47
        ],
        [
         "BR1479",
         "Panhard Motors",
         48
        ],
        [
         "BR2275",
         "Deccan Motors",
         49
        ],
        [
         "BR0138",
         "Audi Motors",
         50
        ],
        [
         "BR0202",
         "Bond Motors",
         51
        ],
        [
         "BR0700",
         "Gilbern Motors",
         52
        ],
        [
         "BR0988",
         "Jensen Motors",
         53
        ],
        [
         "BR9246",
         "Piaggio Motors",
         54
        ],
        [
         "BR0095",
         "ARO Motors",
         55
        ],
        [
         "BR0351",
         "Chrysler Europe Motors",
         56
        ],
        [
         "BR0368",
         "Citroën Motors",
         57
        ],
        [
         "BR0614",
         "Ford Australia Motors",
         58
        ],
        [
         "BR1248",
         "Mercedes-Benz (including Maybach) Motors",
         59
        ],
        [
         "BR1884",
         "Sunbeam Motors",
         60
        ],
        [
         "BR2035",
         "Volkswagen do Brasil Motors",
         61
        ],
        [
         "BR0070",
         "AMC, Eagle Motors",
         62
        ],
        [
         "BR0251",
         "Austin, Rover Motors",
         63
        ],
        [
         "BR0262",
         "Bugatti Motors",
         64
        ],
        [
         "BR1243",
         "Mercedes-Benz (including Maybach) Motors",
         65
        ],
        [
         "BR1289",
         "Mia Motors",
         66
        ],
        [
         "BR1405",
         "Noble Motors",
         67
        ],
        [
         "BR2033",
         "Volkswagen do Brasil Motors",
         68
        ],
        [
         "BR2329",
         "Blankinship Motor Company Building",
         69
        ],
        [
         "BR2385",
         "Claremore Auto Dealership",
         70
        ],
        [
         "BR0130",
         "Aston Martin Motors",
         71
        ],
        [
         "BR0891",
         "Innocenti Motors",
         72
        ],
        [
         "BR1177",
         "Maruti Motors",
         73
        ],
        [
         "BR1321",
         "Monica Motors",
         74
        ],
        [
         "BR13626",
         "Deccan Motors",
         75
        ],
        [
         "BR0064",
         "AMC, Eagle Motors",
         76
        ],
        [
         "BR0673",
         "GAZ Motors",
         77
        ],
        [
         "BR0685",
         "Geo Motors",
         78
        ],
        [
         "BR0718",
         "Glas Motors",
         79
        ],
        [
         "BR1298",
         "Micro Motors",
         80
        ],
        [
         "BR1300",
         "Micro Motors",
         81
        ],
        [
         "BR1347",
         "Morgan Motors",
         82
        ],
        [
         "BR1373",
         "Naza Motors",
         83
        ],
        [
         "BR2337",
         "Bohn Motor Company Automobile Dealership",
         84
        ],
        [
         "BR0231",
         "British Leyland Motors",
         85
        ],
        [
         "BR0895",
         "Innocenti Motors",
         86
        ],
        [
         "BR1228",
         "Mazzanti Motors",
         87
        ],
        [
         "BR1617",
         "Puma Motors",
         88
        ],
        [
         "BR1637",
         "Reliant Motors",
         89
        ],
        [
         "BR1680",
         "Saab Motors",
         90
        ],
        [
         "BR1821",
         "Smart Motors",
         91
        ],
        [
         "BR1940",
         "Tesla Motors",
         92
        ],
        [
         "BR2391",
         "Clemens Automobile Company Building",
         93
        ],
        [
         "BR2467",
         "Kindel Building",
         94
        ],
        [
         "BR3186",
         "Elva Motors",
         95
        ],
        [
         "BR5466",
         "Isdera Motors",
         96
        ],
        [
         "BR9126",
         "Peugeot Motors",
         97
        ],
        [
         "BR0104",
         "Artega Motors",
         98
        ],
        [
         "BR0354",
         "Chrysler Europe Motors",
         99
        ],
        [
         "BR0494",
         "Donkervoort Motors",
         100
        ],
        [
         "BR0528",
         "Eicher Polaris Motors",
         101
        ],
        [
         "BR1074",
         "Lexus Motors",
         102
        ],
        [
         "BR1503",
         "Peel Motors",
         103
        ],
        [
         "BR1718",
         "San Motors",
         104
        ],
        [
         "BR1864",
         "Studebaker Motors",
         105
        ],
        [
         "BR1993",
         "UAZ Motors",
         106
        ],
        [
         "BR2217",
         "Riley  Motors",
         107
        ],
        [
         "BR0682",
         "Geo Motors",
         108
        ],
        [
         "BR0905",
         "Invicta Motors",
         109
        ],
        [
         "BR10686",
         "Simca Motors",
         110
        ],
        [
         "BR1325",
         "Monica Motors",
         111
        ],
        [
         "BR1568",
         "Polestar Motors",
         112
        ],
        [
         "BR1822",
         "Smart Motors",
         113
        ],
        [
         "BR2154",
         "Maybach  Motors",
         114
        ],
        [
         "BR0011",
         "Acura Motors",
         115
        ],
        [
         "BR0115",
         "Asia Motors Motors",
         116
        ],
        [
         "BR0223",
         "Bristol Motors",
         117
        ],
        [
         "BR0490",
         "Dodge Motors",
         118
        ],
        [
         "BR0625",
         "Ford do Brasil Motors",
         119
        ],
        [
         "BR1111",
         "LTI Motors",
         120
        ],
        [
         "BR1829",
         "Smart Motors",
         121
        ],
        [
         "BR2277",
         "Deccan Motors",
         122
        ],
        [
         "BR2369",
         "Casa de cadillac",
         123
        ],
        [
         "BR6066",
         "Koenigsegg Motors",
         124
        ],
        [
         "BR0512",
         "e.GO Mobile Motors",
         125
        ],
        [
         "BR0584",
         "Fiat India Motors",
         126
        ],
        [
         "BR1691",
         "Saleen Motors",
         127
        ],
        [
         "BR1845",
         "SsangYong Motors",
         128
        ],
        [
         "BR1932",
         "Tesla Motors",
         129
        ],
        [
         "BR0360",
         "Chrysler Europe Motors",
         130
        ],
        [
         "BR0388",
         "Dacia Motors",
         131
        ],
        [
         "BR0486",
         "Ariel Motors",
         132
        ],
        [
         "BR0811",
         "Honda Motors",
         133
        ],
        [
         "BR1105",
         "Lotus Motors",
         134
        ],
        [
         "BR1762",
         "Seat Motors",
         135
        ],
        [
         "BR1768",
         "Seat Motors",
         136
        ],
        [
         "BR1960",
         "Toyota Motors",
         137
        ],
        [
         "BR2322",
         "Blankinship Motor Company Building",
         138
        ],
        [
         "BR2412",
         "H Street Playhouse",
         139
        ],
        [
         "BR2440",
         "Hupmobile Building",
         140
        ],
        [
         "BR0058",
         "Alvis Motors",
         141
        ],
        [
         "BR0447",
         "Delahaye Motors",
         142
        ],
        [
         "BR0479",
         "De Tomaso Motors",
         143
        ],
        [
         "BR0501",
         "Edsel Motors",
         144
        ],
        [
         "BR0919",
         "Isdera Motors",
         145
        ],
        [
         "BR1152",
         "Marcos Motors",
         146
        ],
        [
         "BR2289",
         "Herald Motors",
         147
        ],
        [
         "BR9426",
         "Pontiac, Asüna Motors",
         148
        ],
        [
         "BR0027",
         "Aixam-Mega (including Arola) Motors",
         149
        ],
        [
         "BR0411",
         "Daihatsu Motors",
         150
        ],
        [
         "BR1140",
         "Lynx Motors",
         151
        ],
        [
         "BR2087",
         "Zastava Motors",
         152
        ],
        [
         "BR2155",
         "Maybach  Motors",
         153
        ],
        [
         "BR2233",
         "Standard  Motors",
         154
        ],
        [
         "BR5406",
         "Invicta Motors",
         155
        ],
        [
         "BR0463",
         "DeSoto Motors",
         156
        ],
        [
         "BR0606",
         "Artega Motors",
         157
        ],
        [
         "BR0662",
         "FSO Motors",
         158
        ],
        [
         "BR1180",
         "Maruti Motors",
         159
        ],
        [
         "BR1380",
         "Naza Motors",
         160
        ],
        [
         "BR13986",
         "Bohn Motor Company Automobile Dealership",
         161
        ],
        [
         "BR1553",
         "Plymouth Motors",
         162
        ],
        [
         "BR1789",
         "Simca Motors",
         163
        ],
        [
         "BR1957",
         "Toyota Motors",
         164
        ],
        [
         "BR2025",
         "Volkswagen Motors",
         165
        ],
        [
         "BR2100",
         "ZAZ Motors",
         166
        ],
        [
         "BR2378",
         "Cass Motor Sales",
         167
        ],
        [
         "BR0089",
         "Ariel Motors",
         168
        ],
        [
         "BR0608",
         "Ford America Motors",
         169
        ],
        [
         "BR0941",
         "Isuzu Motors",
         170
        ],
        [
         "BR1273",
         "Messerschmitt Motors",
         171
        ],
        [
         "BR1860",
         "Standard-Triumph Motors",
         172
        ],
        [
         "BR1888",
         "Sunbeam Motors",
         173
        ],
        [
         "BR2142",
         "Wanderer Motors",
         174
        ],
        [
         "BR2319",
         "2008 NRHP-listed",
         175
        ],
        [
         "BR0264",
         "Bugatti Motors",
         176
        ],
        [
         "BR0498",
         "Donkervoort Motors",
         177
        ],
        [
         "BR0829",
         "Honda India Motors",
         178
        ],
        [
         "BR0890",
         "Infiniti Motors",
         179
        ],
        [
         "BR1044",
         "Lamborghini Motors",
         180
        ],
        [
         "BR13746",
         "Zion Automobils",
         181
        ],
        [
         "BR1398",
         "Nissan India Motors",
         182
        ],
        [
         "BR1877",
         "Subaru Motors",
         183
        ],
        [
         "BR1927",
         "Tazzari Motors",
         184
        ],
        [
         "BR2410",
         "Colman Automotive Building",
         185
        ],
        [
         "BR0534",
         "Elva Motors",
         186
        ],
        [
         "BR1442",
         "Opel Motors",
         187
        ],
        [
         "BR1722",
         "Santa Matilde Motors",
         188
        ],
        [
         "BR1990",
         "TVR Motors",
         189
        ],
        [
         "BR2070",
         "Westfield Motors",
         190
        ],
        [
         "BR2204",
         "Austin  Motors",
         191
        ],
        [
         "BR0204",
         "Bond Motors",
         192
        ],
        [
         "BR0717",
         "Glas Motors",
         193
        ],
        [
         "BR0947",
         "Isuzu Motors",
         194
        ],
        [
         "BR0983",
         "Jensen Motors",
         195
        ],
        [
         "BR1003",
         "Kia Motors",
         196
        ],
        [
         "BR11706",
         "Toyota Motors",
         197
        ],
        [
         "BR1232",
         "McLaren Motors",
         198
        ],
        [
         "BR1688",
         "SAIC Motor Motors",
         199
        ],
        [
         "BR1809",
         "Singer Motors",
         200
        ],
        [
         "BR1968",
         "Toyota India Motors",
         201
        ],
        [
         "BR2018",
         "Venturi Motors",
         202
        ],
        [
         "BR2022",
         "Volkswagen Motors",
         203
        ],
        [
         "BR2226",
         "Cizeta-Moroder Motors",
         204
        ],
        [
         "BR0235",
         "British Leyland Motors",
         205
        ],
        [
         "BR0634",
         "Ford Europe Motors",
         206
        ],
        [
         "BR0889",
         "Infiniti Motors",
         207
        ],
        [
         "BR1318",
         "Mitsubishi Motors",
         208
        ],
        [
         "BR1626",
         "Buick Motors",
         209
        ],
        [
         "BR2267",
         "Ramani Motors",
         210
        ],
        [
         "BR0591",
         "Fisker, Karma Motors",
         211
        ],
        [
         "BR0642",
         "Ford India Motors",
         212
        ],
        [
         "BR0930",
         "Iso Motors",
         213
        ],
        [
         "BR1027",
         "KTM Motors",
         214
        ],
        [
         "BR1065",
         "Land Rover Motors",
         215
        ],
        [
         "BR1382",
         "Nissan Motors",
         216
        ],
        [
         "BR1749",
         "Saturn Motors",
         217
        ],
        [
         "BR2433",
         "Hupmobile Building",
         218
        ],
        [
         "BR8406",
         "Noble Motors",
         219
        ],
        [
         "BR0040",
         "Alfa Romeo Motors",
         220
        ],
        [
         "BR0218",
         "Borgward (including Goliath and Lloyd) Motors",
         221
        ],
        [
         "BR0337",
         "Chevrolet India Motors",
         222
        ],
        [
         "BR1162",
         "Marlin Motors",
         223
        ],
        [
         "BR0082",
         "Ariel Motors",
         224
        ],
        [
         "BR0164",
         "Auverland Motors",
         225
        ],
        [
         "BR0598",
         "Fisker, Karma Motors",
         226
        ],
        [
         "BR0735",
         "GTA Spano Motors",
         227
        ],
        [
         "BR1063",
         "Land Rover Motors",
         228
        ],
        [
         "BR1579",
         "Pontiac, Asüna Motors",
         229
        ],
        [
         "BR2149",
         "Wanderer Motors",
         230
        ],
        [
         "BR2168",
         "Izh  Motors",
         231
        ],
        [
         "BR0279",
         "Buick Motors",
         232
        ],
        [
         "BR0884",
         "Infiniti Motors",
         233
        ],
        [
         "BR1048",
         "Lamborghini Motors",
         234
        ],
        [
         "BR1094",
         "Lincoln Motors",
         235
        ],
        [
         "BR1292",
         "Micro Motors",
         236
        ],
        [
         "BR1323",
         "Monica Motors",
         237
        ],
        [
         "BR1395",
         "Nissan India Motors",
         238
        ],
        [
         "BR1424",
         "Oldsmobile Motors",
         239
        ],
        [
         "BR1477",
         "Panhard Motors",
         240
        ],
        [
         "BR1670",
         "Rolls-Royce Motors",
         241
        ],
        [
         "BR1708",
         "Samsung Motors",
         242
        ],
        [
         "BR2039",
         "Volkswagen do Brasil Motors",
         243
        ],
        [
         "BR2404",
         "Colman Automotive Building",
         244
        ],
        [
         "BR0270",
         "Bugatti Motors",
         245
        ],
        [
         "BR0275",
         "Buick Motors",
         246
        ],
        [
         "BR0378",
         "Cizeta-Moroder Motors",
         247
        ],
        [
         "BR0405",
         "DAF Motors",
         248
        ],
        [
         "BR0592",
         "Fisker, Karma Motors",
         249
        ],
        [
         "BR0881",
         "Infiniti Motors",
         250
        ],
        [
         "BR0963",
         "Jaguar Motors",
         251
        ],
        [
         "BR1320",
         "Mitsubishi Motors",
         252
        ],
        [
         "BR1531",
         "PGO Motors",
         253
        ],
        [
         "BR1612",
         "Puma Motors",
         254
        ],
        [
         "BR1873",
         "Subaru Motors",
         255
        ],
        [
         "BR2077",
         "Wiesmann Motors",
         256
        ],
        [
         "BR2143",
         "Wanderer Motors",
         257
        ],
        [
         "BR2223",
         "Wolseley  Motors",
         258
        ],
        [
         "BR0509",
         "Edsel Motors",
         259
        ],
        [
         "BR1267",
         "Merkur Motors",
         260
        ],
        [
         "BR2225",
         "Wolseley  Motors",
         261
        ],
        [
         "BR0168",
         "Auverland Motors",
         262
        ],
        [
         "BR0318",
         "Checker Motors",
         263
        ],
        [
         "BR0362",
         "Citroën Motors",
         264
        ],
        [
         "BR0562",
         "Fiat Motors",
         265
        ],
        [
         "BR0738",
         "GTA Spano Motors",
         266
        ],
        [
         "BR0805",
         "Holden Motors",
         267
        ],
        [
         "BR0934",
         "Isotta Fraschini Motors",
         268
        ],
        [
         "BR1051",
         "Lancia Motors",
         269
        ],
        [
         "BR11466",
         "Tatra Motors",
         270
        ],
        [
         "BR1192",
         "Mastretta Motors",
         271
        ],
        [
         "BR1746",
         "Cadillac Motors",
         272
        ],
        [
         "BR1830",
         "Smart Motors",
         273
        ],
        [
         "BR2297",
         "Zion Automobils",
         274
        ],
        [
         "BR8046",
         "Morgan Motors",
         275
        ],
        [
         "BR0037",
         "Alfa Romeo Motors",
         276
        ],
        [
         "BR0268",
         "Bugatti Motors",
         277
        ],
        [
         "BR0367",
         "Citroën Motors",
         278
        ],
        [
         "BR1212",
         "Mazda Motors",
         279
        ],
        [
         "BR13806",
         "Atlantic Motor Company",
         280
        ],
        [
         "BR1491",
         "Panther Motors",
         281
        ],
        [
         "BR1750",
         "Saturn Motors",
         282
        ],
        [
         "BR1820",
         "Skoda Motors",
         283
        ],
        [
         "BR2037",
         "Volkswagen do Brasil Motors",
         284
        ],
        [
         "BR2248",
         "Talbot  Motors",
         285
        ],
        [
         "BR2280",
         "Deccan Motors",
         286
        ],
        [
         "BR7926",
         "Monica Motors",
         287
        ],
        [
         "BR1149",
         "Mahindra Motors",
         288
        ],
        [
         "BR1449",
         "Opel Motors",
         289
        ],
        [
         "BR6786",
         "Lynx Motors",
         290
        ],
        [
         "BR0059",
         "Alvis Motors",
         291
        ],
        [
         "BR0497",
         "Donkervoort Motors",
         292
        ],
        [
         "BR0561",
         "Fiat Motors",
         293
        ],
        [
         "BR0933",
         "Isotta Fraschini Motors",
         294
        ],
        [
         "BR1164",
         "Marlin Motors",
         295
        ],
        [
         "BR11946",
         "UAZ Motors",
         296
        ],
        [
         "BR1399",
         "Nissan India Motors",
         297
        ],
        [
         "BR1414",
         "NSU Motors",
         298
        ],
        [
         "BR1935",
         "Tesla Motors",
         299
        ],
        [
         "BR2210",
         "Austin  Motors",
         300
        ],
        [
         "BR3306",
         "Ferrari Motors",
         301
        ],
        [
         "BR3546",
         "Fisker, Karma Motors",
         302
        ],
        [
         "BR0075",
         "Anadol Motors",
         303
        ],
        [
         "BR0135",
         "Audi Motors",
         304
        ],
        [
         "BR0163",
         "Auverland Motors",
         305
        ],
        [
         "BR0491",
         "Donkervoort Motors",
         306
        ],
        [
         "BR0647",
         "Ford India Motors",
         307
        ],
        [
         "BR0765",
         "Heinkel Motors",
         308
        ],
        [
         "BR10206",
         "Samsung Motors",
         309
        ],
        [
         "BR1353",
         "Moskwitch Motors",
         310
        ],
        [
         "BR1561",
         "Polestar Motors",
         311
        ],
        [
         "BR1828",
         "Smart Motors",
         312
        ],
        [
         "BR2062",
         "Westfield Motors",
         313
        ],
        [
         "BR2084",
         "Zastava Motors",
         314
        ],
        [
         "BR2383",
         "Claremore Auto Dealership",
         315
        ],
        [
         "BR0451",
         "DeLorean Motors",
         316
        ],
        [
         "BR0701",
         "Ginetta Motors",
         317
        ],
        [
         "BR0786",
         "Audi Motors",
         318
        ],
        [
         "BR1293",
         "Micro Motors",
         319
        ],
        [
         "BR2191",
         "Morris  Motors",
         320
        ],
        [
         "BR4146",
         "Gilbern Motors",
         321
        ],
        [
         "BR0285",
         "Bytom Motors",
         322
        ],
        [
         "BR0525",
         "Eicher Polaris Motors",
         323
        ],
        [
         "BR0714",
         "Glas Motors",
         324
        ],
        [
         "BR1452",
         "Packard Motors",
         325
        ],
        [
         "BR1660",
         "Rivian Motors",
         326
        ],
        [
         "BR2244",
         "Talbot  Motors",
         327
        ],
        [
         "BR5646",
         "Isuzu Motors",
         328
        ],
        [
         "BR0575",
         "Fiat do Brasil Motors",
         329
        ],
        [
         "BR0803",
         "Holden Motors",
         330
        ],
        [
         "BR1195",
         "Mastretta Motors",
         331
        ],
        [
         "BR1279",
         "Messerschmitt Motors",
         332
        ],
        [
         "BR1844",
         "SsangYong Motors",
         333
        ],
        [
         "BR2221",
         "Wolseley  Motors",
         334
        ],
        [
         "BR0553",
         "Ferrari Motors",
         335
        ],
        [
         "BR0579",
         "Fiat do Brasil Motors",
         336
        ],
        [
         "BR0841",
         "Humber Motors",
         337
        ],
        [
         "BR1045",
         "Lamborghini Motors",
         338
        ],
        [
         "BR1112",
         "LTI Motors",
         339
        ],
        [
         "BR12186",
         "Volkswagen do Brasil Motors",
         340
        ],
        [
         "BR12366",
         "Westfield Motors",
         341
        ],
        [
         "BR1460",
         "Packard Motors",
         342
        ],
        [
         "BR1597",
         "Premier Motors",
         343
        ],
        [
         "BR2192",
         "Morris  Motors",
         344
        ],
        [
         "BR0158",
         "Auto-Union Motors",
         345
        ],
        [
         "BR0243",
         "Austin-Healey Motors",
         346
        ],
        [
         "BR0298",
         "Cadillac Motors",
         347
        ],
        [
         "BR0771",
         "Hennessey Motors",
         348
        ],
        [
         "BR0857",
         "Hummer Motors",
         349
        ],
        [
         "BR1155",
         "Marcos Motors",
         350
        ],
        [
         "BR12786",
         "Horch Motors",
         351
        ],
        [
         "BR12966",
         "Izh  Motors",
         352
        ],
        [
         "BR2185",
         "MG  Motors",
         353
        ],
        [
         "BR7446",
         "Mercedes-Benz (including Maybach) Motors",
         354
        ],
        [
         "BR0172",
         "Bentley Motors",
         355
        ],
        [
         "BR0392",
         "Daewoo, Saehan, Chevrolet Korea Motors",
         356
        ],
        [
         "BR0943",
         "Isuzu Motors",
         357
        ],
        [
         "BR1047",
         "Lamborghini Motors",
         358
        ],
        [
         "BR14706",
         "Jones Motor Company",
         359
        ],
        [
         "BR1598",
         "Premier Motors",
         360
        ],
        [
         "BR1755",
         "Scion Motors",
         361
        ],
        [
         "BR2005",
         "Vauxhall Motors",
         362
        ],
        [
         "BR2188",
         "MG  Motors",
         363
        ],
        [
         "BR0017",
         "Acura Motors",
         364
        ],
        [
         "BR0651",
         "Freightliner Motors",
         365
        ],
        [
         "BR0900",
         "Innocenti Motors",
         366
        ],
        [
         "BR1288",
         "Mia Motors",
         367
        ],
        [
         "BR1330",
         "Monica Motors",
         368
        ],
        [
         "BR1390",
         "Nissan Motors",
         369
        ],
        [
         "BR1862",
         "Studebaker Motors",
         370
        ],
        [
         "BR1871",
         "Subaru Motors",
         371
        ],
        [
         "BR1939",
         "Tesla Motors",
         372
        ],
        [
         "BR1951",
         "Toyota Motors",
         373
        ],
        [
         "BR2083",
         "Zastava Motors",
         374
        ],
        [
         "BR2415",
         "H Street Playhouse",
         375
        ],
        [
         "BR4086",
         "Geo Motors",
         376
        ],
        [
         "BR0708",
         "Ginetta Motors",
         377
        ],
        [
         "BR0801",
         "Holden Motors",
         378
        ],
        [
         "BR1220",
         "Mazda Motors",
         379
        ],
        [
         "BR1369",
         "Nash Motors",
         380
        ],
        [
         "BR1384",
         "Nissan Motors",
         381
        ],
        [
         "BR1464",
         "Pagani Motors",
         382
        ],
        [
         "BR1778",
         "Shelby SuperCars Motors",
         383
        ],
        [
         "BR2097",
         "ZAZ Motors",
         384
        ],
        [
         "BR1438",
         "Oltcit Motors",
         385
        ],
        [
         "BR1461",
         "Pagani Motors",
         386
        ],
        [
         "BR1771",
         "Shelby SuperCars Motors",
         387
        ],
        [
         "BR2445",
         "Jennings Ford Automobile Dealership",
         388
        ],
        [
         "BR2449",
         "Jennings Ford Automobile Dealership",
         389
        ],
        [
         "BR2706",
         "DeLorean Motors",
         390
        ],
        [
         "BR0347",
         "Chrysler Motors",
         391
        ],
        [
         "BR0353",
         "Chrysler Europe Motors",
         392
        ],
        [
         "BR0604",
         "Ford America Motors",
         393
        ],
        [
         "BR0770",
         "Heinkel Motors",
         394
        ],
        [
         "BR1632",
         "Reliant Motors",
         395
        ],
        [
         "BR2420",
         "H Street Playhouse",
         396
        ],
        [
         "BR4986",
         "Hudson Motors",
         397
        ],
        [
         "BR0980",
         "Jeep Motors",
         398
        ],
        [
         "BR1861",
         "Studebaker Motors",
         399
        ],
        [
         "BR1991",
         "UAZ Motors",
         400
        ],
        [
         "BR2308",
         "Atlantic Motor Company",
         401
        ],
        [
         "BR2452",
         "Jones Motor Company",
         402
        ],
        [
         "BR6486",
         "Ligier Motors",
         403
        ],
        [
         "BR0225",
         "Bristol Motors",
         404
        ],
        [
         "BR0269",
         "Bugatti Motors",
         405
        ],
        [
         "BR0300",
         "Cadillac Motors",
         406
        ],
        [
         "BR0415",
         "Daihatsu Motors",
         407
        ],
        [
         "BR0732",
         "GTA Spano Motors",
         408
        ],
        [
         "BR0927",
         "Iso Motors",
         409
        ],
        [
         "BR1608",
         "Proton Motors",
         410
        ],
        [
         "BR1913",
         "Tatra Motors",
         411
        ],
        [
         "BR1917",
         "Tatra Motors",
         412
        ],
        [
         "BR2047",
         "Volkswagen South Africa Motors",
         413
        ],
        [
         "BR2179",
         "Lagonda  Motors",
         414
        ],
        [
         "BR2237",
         "Standard  Motors",
         415
        ],
        [
         "BR2946",
         "Donkervoort Motors",
         416
        ],
        [
         "BR0001",
         "AC Cars Motors",
         417
        ],
        [
         "BR0018",
         "Acura Motors",
         418
        ],
        [
         "BR0304",
         "Caterham Motors",
         419
        ],
        [
         "BR0407",
         "DAF Motors",
         420
        ],
        [
         "BR0960",
         "Iveco Motors",
         421
        ],
        [
         "BR0989",
         "Jensen Motors",
         422
        ],
        [
         "BR10326",
         "Santa Matilde Motors",
         423
        ],
        [
         "BR1418",
         "NSU Motors",
         424
        ],
        [
         "BR1600",
         "Premier Motors",
         425
        ],
        [
         "BR1757",
         "Scion Motors",
         426
        ],
        [
         "BR1931",
         "Tesla Motors",
         427
        ],
        [
         "BR2072",
         "Wiesmann Motors",
         428
        ],
        [
         "BR2117",
         "Audi Motors",
         429
        ],
        [
         "BR7746",
         "Micro Motors",
         430
        ],
        [
         "BR0013",
         "Acura Motors",
         431
        ],
        [
         "BR0182",
         "Bitter Motors",
         432
        ],
        [
         "BR0219",
         "Borgward (including Goliath and Lloyd) Motors",
         433
        ],
        [
         "BR0252",
         "Austin, Rover Motors",
         434
        ],
        [
         "BR0363",
         "Citroën Motors",
         435
        ],
        [
         "BR0792",
         "Hindustan Motors",
         436
        ],
        [
         "BR0877",
         "IFA (including Trabant, Wartburg, Barkas) Motors",
         437
        ],
        [
         "BR0888",
         "Infiniti Motors",
         438
        ],
        [
         "BR0972",
         "Jeep Motors",
         439
        ],
        [
         "BR12006",
         "Vauxhall Motors",
         440
        ],
        [
         "BR1547",
         "Piaggio Motors",
         441
        ],
        [
         "BR2061",
         "Westfield Motors",
         442
        ],
        [
         "BR2158",
         "Maybach  Motors",
         443
        ],
        [
         "BR2252",
         "Das Motors",
         444
        ],
        [
         "BR2377",
         "Cass Motor Sales",
         445
        ],
        [
         "BR0505",
         "Edsel Motors",
         446
        ],
        [
         "BR10986",
         "Spyker Motors",
         447
        ],
        [
         "BR1351",
         "Moskwitch Motors",
         448
        ],
        [
         "BR1549",
         "Piaggio Motors",
         449
        ],
        [
         "BR1604",
         "Proton Motors",
         450
        ],
        [
         "BR1677",
         "Saab Motors",
         451
        ],
        [
         "BR1840",
         "Spyker Motors",
         452
        ],
        [
         "BR1863",
         "Studebaker Motors",
         453
        ],
        [
         "BR1919",
         "Tatra Motors",
         454
        ],
        [
         "BR2147",
         "Wanderer Motors",
         455
        ],
        [
         "BR2160",
         "Maybach  Motors",
         456
        ],
        [
         "BR2293",
         "Zion Automobils",
         457
        ],
        [
         "BR2406",
         "DAF Motors",
         458
        ],
        [
         "BR8106",
         "Moskwitch Motors",
         459
        ],
        [
         "BR0531",
         "Elva Motors",
         460
        ],
        [
         "BR0691",
         "Gilbern Motors",
         461
        ],
        [
         "BR0828",
         "Honda India Motors",
         462
        ],
        [
         "BR10566",
         "Seat Motors",
         463
        ],
        [
         "BR1067",
         "Land Rover Motors",
         464
        ],
        [
         "BR1812",
         "Skoda Motors",
         465
        ],
        [
         "BR1910",
         "Tata Motors",
         466
        ],
        [
         "BR2291",
         "Zion Automobils",
         467
        ],
        [
         "BR7866",
         "Mitsubishi Motors",
         468
        ],
        [
         "BR1270",
         "Merkur Motors",
         469
        ],
        [
         "BR13926",
         "Blankinship Motor Company Building",
         470
        ],
        [
         "BR1984",
         "TVR Motors",
         471
        ],
        [
         "BR2050",
         "Volkswagen South Africa Motors",
         472
        ],
        [
         "BR2213",
         "Riley  Motors",
         473
        ],
        [
         "BR2360",
         "Cadillac Automobile Company Building",
         474
        ],
        [
         "BR2646",
         "Delahaye Motors",
         475
        ],
        [
         "BR5046",
         "Humber Motors",
         476
        ],
        [
         "BR0065",
         "AMC, Eagle Motors",
         477
        ],
        [
         "BR0313",
         "Checker Motors",
         478
        ],
        [
         "BR0393",
         "Daewoo, Saehan, Chevrolet Korea Motors",
         479
        ],
        [
         "BR0802",
         "Holden Motors",
         480
        ],
        [
         "BR1413",
         "NSU Motors",
         481
        ],
        [
         "BR1681",
         "SAIC Motor Motors",
         482
        ],
        [
         "BR1735",
         "Santana Motors",
         483
        ],
        [
         "BR1752",
         "Scion Motors",
         484
        ],
        [
         "BR2064",
         "Westfield Motors",
         485
        ],
        [
         "BR2125",
         "DKW Motors",
         486
        ],
        [
         "BR0189",
         "Bitter Motors",
         487
        ],
        [
         "BR0513",
         "e.GO Mobile Motors",
         488
        ],
        [
         "BR0544",
         "Facel Vega Motors",
         489
        ],
        [
         "BR0775",
         "Hennessey Motors",
         490
        ],
        [
         "BR1445",
         "Opel Motors",
         491
        ],
        [
         "BR1654",
         "Rivian Motors",
         492
        ],
        [
         "BR1743",
         "Saturn Motors",
         493
        ],
        [
         "BR2046",
         "Chrysler Motors",
         494
        ],
        [
         "BR2138",
         "Horch Motors",
         495
        ],
        [
         "BR0006",
         "AC Cars Motors",
         496
        ],
        [
         "BR0139",
         "Audi Motors",
         497
        ],
        [
         "BR0649",
         "Ford India Motors",
         498
        ],
        [
         "BR1050",
         "Lamborghini Motors",
         499
        ],
        [
         "BR1071",
         "Lexus Motors",
         500
        ],
        [
         "BR12486",
         "Zastava Motors",
         501
        ],
        [
         "BR1307",
         "Mini Motors",
         502
        ],
        [
         "BR1661",
         "Rolls-Royce Motors",
         503
        ],
        [
         "BR1832",
         "Spyker Motors",
         504
        ],
        [
         "BR1934",
         "Tesla Motors",
         505
        ],
        [
         "BR2065",
         "Westfield Motors",
         506
        ],
        [
         "BR2129",
         "DKW Motors",
         507
        ],
        [
         "BR2441",
         "Jennings Ford Automobile Dealership",
         508
        ],
        [
         "BR0153",
         "Auto-Union Motors",
         509
        ],
        [
         "BR0968",
         "Jaguar Motors",
         510
        ],
        [
         "BR11586",
         "Tesla Motors",
         511
        ],
        [
         "BR1255",
         "Mercury Motors",
         512
        ],
        [
         "BR1402",
         "Noble Motors",
         513
        ],
        [
         "BR1965",
         "Toyota India Motors",
         514
        ],
        [
         "BR1969",
         "Toyota India Motors",
         515
        ],
        [
         "BR2085",
         "Zastava Motors",
         516
        ],
        [
         "BR2288",
         "Herald Motors",
         517
        ],
        [
         "BR5706",
         "Iveco Motors",
         518
        ],
        [
         "BR0461",
         "DeSoto Motors",
         519
        ],
        [
         "BR0568",
         "Fiat Motors",
         520
        ],
        [
         "BR0666",
         "Asia Motors Motors",
         521
        ],
        [
         "BR0773",
         "Hennessey Motors",
         522
        ],
        [
         "BR0852",
         "Hummer Motors",
         523
        ],
        [
         "BR1322",
         "Monica Motors",
         524
        ],
        [
         "BR0032",
         "Alfa Romeo Motors",
         525
        ],
        [
         "BR0212",
         "Borgward (including Goliath and Lloyd) Motors",
         526
        ],
        [
         "BR0728",
         "GMC Motors",
         527
        ],
        [
         "BR0861",
         "Hyundai Motors",
         528
        ],
        [
         "BR0868",
         "Hyundai Motors",
         529
        ],
        [
         "BR0966",
         "Auverland Motors",
         530
        ],
        [
         "BR1182",
         "Maserati Motors",
         531
        ],
        [
         "BR0762",
         "Heinkel Motors",
         532
        ],
        [
         "BR13506",
         "Das Motors",
         533
        ],
        [
         "BR14586",
         "Hupmobile Building",
         534
        ],
        [
         "BR1628",
         "Ranger Motors",
         535
        ],
        [
         "BR1658",
         "Rivian Motors",
         536
        ],
        [
         "BR1711",
         "San Motors",
         537
        ],
        [
         "BR1763",
         "Seat Motors",
         538
        ],
        [
         "BR1989",
         "TVR Motors",
         539
        ],
        [
         "BR2468",
         "Kindel Building",
         540
        ],
        [
         "BR0031",
         "Alfa Romeo Motors",
         541
        ],
        [
         "BR0121",
         "Aston Martin Motors",
         542
        ],
        [
         "BR0171",
         "Bentley Motors",
         543
        ],
        [
         "BR0500",
         "Donkervoort Motors",
         544
        ],
        [
         "BR0638",
         "Ford Europe Motors",
         545
        ],
        [
         "BR0650",
         "Ford India Motors",
         546
        ],
        [
         "BR1017",
         "Koenigsegg Motors",
         547
        ],
        [
         "BR10746",
         "Simca do Brasil Motors",
         548
        ],
        [
         "BR1263",
         "Merkur Motors",
         549
        ],
        [
         "BR1403",
         "Noble Motors",
         550
        ],
        [
         "BR1947",
         "Tornado Motors",
         551
        ],
        [
         "BR2447",
         "Jennings Ford Automobile Dealership",
         552
        ],
        [
         "BR3246",
         "Facel Vega Motors",
         553
        ],
        [
         "BR0169",
         "Auverland Motors",
         554
        ],
        [
         "BR0517",
         "e.GO Mobile Motors",
         555
        ],
        [
         "BR0911",
         "Isdera Motors",
         556
        ],
        [
         "BR1197",
         "Mastretta Motors",
         557
        ],
        [
         "BR1525",
         "Peugeot Motors",
         558
        ],
        [
         "BR1529",
         "Peugeot Motors",
         559
        ],
        [
         "BR1564",
         "Polestar Motors",
         560
        ],
        [
         "BR1577",
         "Pontiac, Asüna Motors",
         561
        ],
        [
         "BR1592",
         "Premier Motors",
         562
        ],
        [
         "BR1855",
         "Standard-Triumph Motors",
         563
        ],
        [
         "BR2150",
         "Wanderer Motors",
         564
        ],
        [
         "BR0315",
         "Checker Motors",
         565
        ],
        [
         "BR0408",
         "DAF Motors",
         566
        ],
        [
         "BR0502",
         "Edsel Motors",
         567
        ],
        [
         "BR0504",
         "Edsel Motors",
         568
        ],
        [
         "BR0572",
         "Fiat do Brasil Motors",
         569
        ],
        [
         "BR0617",
         "Ford Australia Motors",
         570
        ],
        [
         "BR0794",
         "Hindustan Motors",
         571
        ],
        [
         "BR0849",
         "Humber Motors",
         572
        ],
        [
         "BR0958",
         "Iveco Motors",
         573
        ],
        [
         "BR0995",
         "JPX Motors",
         574
        ],
        [
         "BR13026",
         "Lagonda  Motors",
         575
        ],
        [
         "BR1574",
         "Pontiac, Asüna Motors",
         576
        ],
        [
         "BR1594",
         "Premier Motors",
         577
        ],
        [
         "BR1731",
         "Santana Motors",
         578
        ],
        [
         "BR1944",
         "Tornado Motors",
         579
        ],
        [
         "BR2115",
         "Audi Motors",
         580
        ],
        [
         "BR0125",
         "Aston Martin Motors",
         581
        ],
        [
         "BR0297",
         "Cadillac Motors",
         582
        ],
        [
         "BR0372",
         "Cizeta-Moroder Motors",
         583
        ],
        [
         "BR0798",
         "Hindustan Motors",
         584
        ],
        [
         "BR0939",
         "Isotta Fraschini Motors",
         585
        ],
        [
         "BR1302",
         "Mini Motors",
         586
        ],
        [
         "BR1377",
         "Naza Motors",
         587
        ],
        [
         "BR14226",
         "Cass Motor Sales",
         588
        ],
        [
         "BR14526",
         "Howard Motor Company Building",
         589
        ],
        [
         "BR1463",
         "Pagani Motors",
         590
        ],
        [
         "BR1473",
         "Panhard Motors",
         591
        ],
        [
         "BR1952",
         "Toyota Motors",
         592
        ],
        [
         "BR2021",
         "Volkswagen Motors",
         593
        ],
        [
         "BR5886",
         "Jensen Motors",
         594
        ],
        [
         "BR0053",
         "Alvis Motors",
         595
        ],
        [
         "BR0054",
         "Alvis Motors",
         596
        ],
        [
         "BR0514",
         "e.GO Mobile Motors",
         597
        ],
        [
         "BR0744",
         "Gumpert Motors",
         598
        ],
        [
         "BR1012",
         "Koenigsegg Motors",
         599
        ],
        [
         "BR1159",
         "Marcos Motors",
         600
        ],
        [
         "BR1444",
         "Opel Motors",
         601
        ],
        [
         "BR1721",
         "Santa Matilde Motors",
         602
        ],
        [
         "BR1753",
         "Scion Motors",
         603
        ],
        [
         "BR2090",
         "Zastava Motors",
         604
        ],
        [
         "BR2399",
         "Clemens Automobile Company Building",
         605
        ],
        [
         "BR0140",
         "Audi Motors",
         606
        ],
        [
         "BR0690",
         "Geo Motors",
         607
        ],
        [
         "BR0922",
         "Iso Motors",
         608
        ],
        [
         "BR1349",
         "Morgan Motors",
         609
        ],
        [
         "BR1737",
         "Santana Motors",
         610
        ],
        [
         "BR1949",
         "Tornado Motors",
         611
        ],
        [
         "BR4806",
         "Holden Motors",
         612
        ],
        [
         "BR5826",
         "Jeep Motors",
         613
        ],
        [
         "BR8646",
         "Opel Motors",
         614
        ],
        [
         "BR0352",
         "Chrysler Europe Motors",
         615
        ],
        [
         "BR0458",
         "DeLorean Motors",
         616
        ],
        [
         "BR0784",
         "Hillman Motors",
         617
        ],
        [
         "BR1230",
         "Mazzanti Motors",
         618
        ],
        [
         "BR1425",
         "Oldsmobile Motors",
         619
        ],
        [
         "BR1967",
         "Toyota India Motors",
         620
        ],
        [
         "BR2091",
         "ZAZ Motors",
         621
        ],
        [
         "BR2429",
         "Howard Motor Company Building",
         622
        ],
        [
         "BR5346",
         "Innocenti Motors",
         623
        ],
        [
         "BR0144",
         "Autobianchi Motors",
         624
        ],
        [
         "BR1098",
         "Lincoln Motors",
         625
        ],
        [
         "BR1239",
         "McLaren Motors",
         626
        ],
        [
         "BR1747",
         "Saturn Motors",
         627
        ],
        [
         "BR1849",
         "SsangYong Motors",
         628
        ],
        [
         "BR2464",
         "Kindel Building",
         629
        ],
        [
         "BR9186",
         "PGO Motors",
         630
        ],
        [
         "BR0068",
         "AMC, Eagle Motors",
         631
        ],
        [
         "BR0291",
         "Cadillac Motors",
         632
        ],
        [
         "BR0452",
         "DeLorean Motors",
         633
        ],
        [
         "BR0672",
         "GAZ Motors",
         634
        ],
        [
         "BR0688",
         "Geo Motors",
         635
        ],
        [
         "BR0778",
         "Hennessey Motors",
         636
        ],
        [
         "BR10506",
         "Scion Motors",
         637
        ],
        [
         "BR1208",
         "Matra (including Deutsch-Bonnet, René Bonnet) Motors",
         638
        ],
        [
         "BR1290",
         "Mia Motors",
         639
        ],
        [
         "BR1343",
         "Morgan Motors",
         640
        ],
        [
         "BR1541",
         "Piaggio Motors",
         641
        ],
        [
         "BR1915",
         "Tatra Motors",
         642
        ],
        [
         "BR2048",
         "Volkswagen South Africa Motors",
         643
        ],
        [
         "BR2455",
         "Jones Motor Company",
         644
        ],
        [
         "BR2470",
         "Kindel Building",
         645
        ],
        [
         "BR0092",
         "ARO Motors",
         646
        ],
        [
         "BR0111",
         "Asia Motors Motors",
         647
        ],
        [
         "BR0383",
         "Dacia Motors",
         648
        ],
        [
         "BR0423",
         "Daimler Motors",
         649
        ],
        [
         "BR0713",
         "Glas Motors",
         650
        ],
        [
         "BR0817",
         "Honda Motors",
         651
        ],
        [
         "BR0928",
         "Iso Motors",
         652
        ],
        [
         "BR0993",
         "JPX Motors",
         653
        ],
        [
         "BR1061",
         "Land Rover Motors",
         654
        ],
        [
         "BR1301",
         "Mini Motors",
         655
        ],
        [
         "BR1605",
         "Proton Motors",
         656
        ],
        [
         "BR2075",
         "Wiesmann Motors",
         657
        ],
        [
         "BR2161",
         "Izh  Motors",
         658
        ],
        [
         "BR2178",
         "Lagonda  Motors",
         659
        ],
        [
         "BR0014",
         "Acura Motors",
         660
        ],
        [
         "BR0232",
         "British Leyland Motors",
         661
        ],
        [
         "BR0271",
         "Buick Motors",
         662
        ],
        [
         "BR0559",
         "Ferrari Motors",
         663
        ],
        [
         "BR0707",
         "Ginetta Motors",
         664
        ],
        [
         "BR0722",
         "GMC Motors",
         665
        ],
        [
         "BR0918",
         "Isdera Motors",
         666
        ],
        [
         "BR1163",
         "Marlin Motors",
         667
        ],
        [
         "BR1615",
         "Puma Motors",
         668
        ],
        [
         "BR2123",
         "DKW Motors",
         669
        ],
        [
         "BR2437",
         "Hupmobile Building",
         670
        ],
        [
         "BR2443",
         "Jennings Ford Automobile Dealership",
         671
        ],
        [
         "BR0101",
         "Artega Motors",
         672
        ],
        [
         "BR0112",
         "Asia Motors Motors",
         673
        ],
        [
         "BR0222",
         "Bristol Motors",
         674
        ],
        [
         "BR0230",
         "Bristol Motors",
         675
        ],
        [
         "BR1015",
         "Koenigsegg Motors",
         676
        ],
        [
         "BR1141",
         "Mahindra Motors",
         677
        ],
        [
         "BR1358",
         "Moskwitch Motors",
         678
        ],
        [
         "BR1922",
         "Tazzari Motors",
         679
        ],
        [
         "BR2402",
         "Colman Automotive Building",
         680
        ],
        [
         "BR0552",
         "Ferrari Motors",
         681
        ],
        [
         "BR0658",
         "Freightliner Motors",
         682
        ],
        [
         "BR0859",
         "Hummer Motors",
         683
        ],
        [
         "BR1310",
         "Mini Motors",
         684
        ],
        [
         "BR1391",
         "Nissan India Motors",
         685
        ],
        [
         "BR1714",
         "San Motors",
         686
        ],
        [
         "BR1945",
         "Tornado Motors",
         687
        ],
        [
         "BR2263",
         "Ramani Motors",
         688
        ],
        [
         "BR0069",
         "AMC, Eagle Motors",
         689
        ],
        [
         "BR0198",
         "BMW Motors",
         690
        ],
        [
         "BR0621",
         "Ford do Brasil Motors",
         691
        ],
        [
         "BR0997",
         "JPX Motors",
         692
        ],
        [
         "BR1215",
         "Mazda Motors",
         693
        ],
        [
         "BR1407",
         "Noble Motors",
         694
        ],
        [
         "BR2024",
         "Volkswagen Motors",
         695
        ],
        [
         "BR0863",
         "Hyundai Motors",
         696
        ],
        [
         "BR0967",
         "Jaguar Motors",
         697
        ],
        [
         "BR1412",
         "NSU Motors",
         698
        ],
        [
         "BR1435",
         "Oltcit Motors",
         699
        ],
        [
         "BR1710",
         "Samsung Motors",
         700
        ],
        [
         "BR1929",
         "Tazzari Motors",
         701
        ],
        [
         "BR2134",
         "Horch Motors",
         702
        ],
        [
         "BR2230",
         "Wolseley  Motors",
         703
        ],
        [
         "BR2295",
         "Zion Automobils",
         704
        ],
        [
         "BR4446",
         "Gumpert Motors",
         705
        ],
        [
         "BR0519",
         "e.GO Mobile Motors",
         706
        ],
        [
         "BR0660",
         "Freightliner Motors",
         707
        ],
        [
         "BR11106",
         "Standard-Triumph Motors",
         708
        ],
        [
         "BR1404",
         "Noble Motors",
         709
        ],
        [
         "BR1869",
         "Studebaker Motors",
         710
        ],
        [
         "BR1880",
         "Subaru Motors",
         711
        ],
        [
         "BR2071",
         "Wiesmann Motors",
         712
        ],
        [
         "BR2232",
         "Standard  Motors",
         713
        ],
        [
         "BR2427",
         "Howard Motor Company Building",
         714
        ],
        [
         "BR4746",
         "Hindustan Motors",
         715
        ],
        [
         "BR0044",
         "Alpine Motors",
         716
        ],
        [
         "BR0539",
         "Elva Motors",
         717
        ],
        [
         "BR1093",
         "Lincoln Motors",
         718
        ],
        [
         "BR1241",
         "Mercedes-Benz (including Maybach) Motors",
         719
        ],
        [
         "BR1408",
         "Noble Motors",
         720
        ],
        [
         "BR14766",
         "Kindel Building",
         721
        ],
        [
         "BR1689",
         "SAIC Motor Motors",
         722
        ],
        [
         "BR1700",
         "Saleen Motors",
         723
        ],
        [
         "BR2372",
         "Cass Motor Sales",
         724
        ],
        [
         "BR0129",
         "Aston Martin Motors",
         725
        ],
        [
         "BR0211",
         "Borgward (including Goliath and Lloyd) Motors",
         726
        ],
        [
         "BR0321",
         "Chevrolet Motors",
         727
        ],
        [
         "BR0433",
         "Datsun Motors",
         728
        ],
        [
         "BR0607",
         "Ford America Motors",
         729
        ],
        [
         "BR0764",
         "Heinkel Motors",
         730
        ],
        [
         "BR0984",
         "Jensen Motors",
         731
        ],
        [
         "BR2159",
         "Maybach  Motors",
         732
        ],
        [
         "BR0009",
         "AC Cars Motors",
         733
        ],
        [
         "BR0783",
         "Hillman Motors",
         734
        ],
        [
         "BR0878",
         "IFA (including Trabant, Wartburg, Barkas) Motors",
         735
        ],
        [
         "BR1483",
         "Panoz Motors",
         736
        ],
        [
         "BR2171",
         "Lagonda  Motors",
         737
        ],
        [
         "BR2323",
         "Blankinship Motor Company Building",
         738
        ],
        [
         "BR2362",
         "Casa de cadillac",
         739
        ],
        [
         "BR0254",
         "Austin, Rover Motors",
         740
        ],
        [
         "BR0823",
         "Honda India Motors",
         741
        ],
        [
         "BR14166",
         "Casa de cadillac",
         742
        ],
        [
         "BR1540",
         "PGO Motors",
         743
        ],
        [
         "BR1613",
         "Puma Motors",
         744
        ],
        [
         "BR1892",
         "Suzuki Motors",
         745
        ],
        [
         "BR1948",
         "Tornado Motors",
         746
        ],
        [
         "BR1959",
         "Toyota Motors",
         747
        ],
        [
         "BR2106",
         "Chrysler Europe Motors",
         748
        ],
        [
         "BR7386",
         "McLaren Motors",
         749
        ],
        [
         "BR0021",
         "Aixam-Mega (including Arola) Motors",
         750
        ],
        [
         "BR0385",
         "Dacia Motors",
         751
        ],
        [
         "BR1083",
         "Ligier Motors",
         752
        ],
        [
         "BR1179",
         "Maruti Motors",
         753
        ],
        [
         "BR1240",
         "McLaren Motors",
         754
        ],
        [
         "BR14406",
         "Colman Automotive Building",
         755
        ],
        [
         "BR2017",
         "Venturi Motors",
         756
        ],
        [
         "BR2428",
         "Howard Motor Company Building",
         757
        ],
        [
         "BR0195",
         "BMW Motors",
         758
        ],
        [
         "BR0247",
         "Austin-Healey Motors",
         759
        ],
        [
         "BR0709",
         "Ginetta Motors",
         760
        ],
        [
         "BR0710",
         "Ginetta Motors",
         761
        ],
        [
         "BR1671",
         "Saab Motors",
         762
        ],
        [
         "BR2407",
         "Colman Automotive Building",
         763
        ],
        [
         "BR0328",
         "Chevrolet Motors",
         764
        ],
        [
         "BR0350",
         "Chrysler Motors",
         765
        ],
        [
         "BR0395",
         "Daewoo, Saehan, Chevrolet Korea Motors",
         766
        ],
        [
         "BR0581",
         "Fiat India Motors",
         767
        ],
        [
         "BR0627",
         "Ford do Brasil Motors",
         768
        ],
        [
         "BR0755",
         "Healey Motors",
         769
        ],
        [
         "BR1117",
         "LTI Motors",
         770
        ],
        [
         "BR1305",
         "Mini Motors",
         771
        ],
        [
         "BR1332",
         "Monteverdi Motors",
         772
        ],
        [
         "BR1378",
         "Naza Motors",
         773
        ],
        [
         "BR2285",
         "Herald Motors",
         774
        ],
        [
         "BR2353",
         "Cadillac Automobile Company Building",
         775
        ],
        [
         "BR7686",
         "Mia Motors",
         776
        ],
        [
         "BR0048",
         "Alpine Motors",
         777
        ],
        [
         "BR0293",
         "Cadillac Motors",
         778
        ],
        [
         "BR0301",
         "Caterham Motors",
         779
        ],
        [
         "BR0429",
         "Daimler Motors",
         780
        ],
        [
         "BR0585",
         "Fiat India Motors",
         781
        ],
        [
         "BR0720",
         "Glas Motors",
         782
        ],
        [
         "BR0787",
         "Hillman Motors",
         783
        ],
        [
         "BR0871",
         "IFA (including Trabant, Wartburg, Barkas) Motors",
         784
        ],
        [
         "BR1025",
         "KTM Motors",
         785
        ],
        [
         "BR2095",
         "ZAZ Motors",
         786
        ],
        [
         "BR2133",
         "Horch Motors",
         787
        ],
        [
         "BR0005",
         "AC Cars Motors",
         788
        ],
        [
         "BR0791",
         "Hindustan Motors",
         789
        ],
        [
         "BR0846",
         "Autobianchi Motors",
         790
        ],
        [
         "BR0883",
         "Infiniti Motors",
         791
        ],
        [
         "BR1088",
         "Ligier Motors",
         792
        ],
        [
         "BR1181",
         "Maserati Motors",
         793
        ],
        [
         "BR1565",
         "Polestar Motors",
         794
        ],
        [
         "BR2367",
         "Casa de cadillac",
         795
        ],
        [
         "BR2380",
         "Cass Motor Sales",
         796
        ],
        [
         "BR6546",
         "Lincoln Motors",
         797
        ],
        [
         "BR9066",
         "Perodua Motors",
         798
        ],
        [
         "BR0045",
         "Alpine Motors",
         799
        ],
        [
         "BR1223",
         "Mazzanti Motors",
         800
        ],
        [
         "BR12666",
         "Audi Motors",
         801
        ],
        [
         "BR1364",
         "Nash Motors",
         802
        ],
        [
         "BR1601",
         "Proton Motors",
         803
        ],
        [
         "BR1878",
         "Subaru Motors",
         804
        ],
        [
         "BR2042",
         "Volkswagen South Africa Motors",
         805
        ],
        [
         "BR0473",
         "De Tomaso Motors",
         806
        ],
        [
         "BR1053",
         "Lancia Motors",
         807
        ],
        [
         "BR1244",
         "Mercedes-Benz (including Maybach) Motors",
         808
        ],
        [
         "BR1785",
         "Simca Motors",
         809
        ],
        [
         "BR2101",
         "ZIL Motors",
         810
        ],
        [
         "BR2165",
         "Izh  Motors",
         811
        ],
        [
         "BR7146",
         "Mastretta Motors",
         812
        ],
        [
         "BR0126",
         "Aixam-Mega (including Arola) Motors",
         813
        ],
        [
         "BR0359",
         "Chrysler Europe Motors",
         814
        ],
        [
         "BR0611",
         "Ford Australia Motors",
         815
        ],
        [
         "BR1104",
         "Lotus Motors",
         816
        ],
        [
         "BR1174",
         "Maruti Motors",
         817
        ],
        [
         "BR1277",
         "Messerschmitt Motors",
         818
        ],
        [
         "BR1419",
         "NSU Motors",
         819
        ],
        [
         "BR1510",
         "Peel Motors",
         820
        ],
        [
         "BR1653",
         "Rivian Motors",
         821
        ],
        [
         "BR1780",
         "Shelby SuperCars Motors",
         822
        ],
        [
         "BR2135",
         "Horch Motors",
         823
        ],
        [
         "BR2167",
         "Izh  Motors",
         824
        ],
        [
         "BR2371",
         "Cass Motor Sales",
         825
        ],
        [
         "BR3606",
         "Ford America Motors",
         826
        ],
        [
         "BR0143",
         "Autobianchi Motors",
         827
        ],
        [
         "BR1283",
         "Mia Motors",
         828
        ],
        [
         "BR1328",
         "Monica Motors",
         829
        ],
        [
         "BR1783",
         "Simca Motors",
         830
        ],
        [
         "BR0727",
         "GMC Motors",
         831
        ],
        [
         "BR0892",
         "Innocenti Motors",
         832
        ],
        [
         "BR1123",
         "LuAZ Motors",
         833
        ],
        [
         "BR12906",
         "Maybach  Motors",
         834
        ],
        [
         "BR1690",
         "SAIC Motor Motors",
         835
        ],
        [
         "BR1843",
         "SsangYong Motors",
         836
        ],
        [
         "BR2067",
         "Westfield Motors",
         837
        ],
        [
         "BR2099",
         "ZAZ Motors",
         838
        ],
        [
         "BR0057",
         "Alvis Motors",
         839
        ],
        [
         "BR0929",
         "Iso Motors",
         840
        ],
        [
         "BR1842",
         "SsangYong Motors",
         841
        ],
        [
         "BR0073",
         "Anadol Motors",
         842
        ],
        [
         "BR0492",
         "Donkervoort Motors",
         843
        ],
        [
         "BR0565",
         "Fiat Motors",
         844
        ],
        [
         "BR0851",
         "Hummer Motors",
         845
        ],
        [
         "BR1032",
         "Lada Motors",
         846
        ],
        [
         "BR1190",
         "Maserati Motors",
         847
        ],
        [
         "BR1410",
         "Noble Motors",
         848
        ],
        [
         "BR1678",
         "Saab Motors",
         849
        ],
        [
         "BR2082",
         "Zastava Motors",
         850
        ],
        [
         "BR2124",
         "DKW Motors",
         851
        ],
        [
         "BR2131",
         "Horch Motors",
         852
        ],
        [
         "BR2247",
         "Talbot  Motors",
         853
        ],
        [
         "BR2460",
         "Jones Motor Company",
         854
        ],
        [
         "BR3786",
         "Ford Europe Motors",
         855
        ],
        [
         "BR0080",
         "Anadol Motors",
         856
        ],
        [
         "BR0085",
         "Ariel Motors",
         857
        ],
        [
         "BR0220",
         "Borgward (including Goliath and Lloyd) Motors",
         858
        ],
        [
         "BR0342",
         "Chrysler Motors",
         859
        ],
        [
         "BR0624",
         "Ford do Brasil Motors",
         860
        ],
        [
         "BR0730",
         "GMC Motors",
         861
        ],
        [
         "BR0845",
         "Humber Motors",
         862
        ],
        [
         "BR0935",
         "Isotta Fraschini Motors",
         863
        ],
        [
         "BR1055",
         "Lancia Motors",
         864
        ],
        [
         "BR1326",
         "Bristol Motors",
         865
        ],
        [
         "BR1867",
         "Studebaker Motors",
         866
        ],
        [
         "BR1895",
         "Suzuki Motors",
         867
        ],
        [
         "BR2153",
         "Maybach  Motors",
         868
        ],
        [
         "BR2184",
         "MG  Motors",
         869
        ],
        [
         "BR2250",
         "Talbot  Motors",
         870
        ],
        [
         "BR2282",
         "Herald Motors",
         871
        ],
        [
         "BR6606",
         "Lotus Motors",
         872
        ],
        [
         "BR0152",
         "Auto-Union Motors",
         873
        ],
        [
         "BR0842",
         "Humber Motors",
         874
        ],
        [
         "BR1291",
         "Micro Motors",
         875
        ],
        [
         "BR2199",
         "Morris  Motors",
         876
        ],
        [
         "BR2451",
         "Jones Motor Company",
         877
        ],
        [
         "BR0029",
         "Aixam-Mega (including Arola) Motors",
         878
        ],
        [
         "BR0033",
         "Alfa Romeo Motors",
         879
        ],
        [
         "BR0229",
         "Bristol Motors",
         880
        ],
        [
         "BR0457",
         "DeLorean Motors",
         881
        ],
        [
         "BR0605",
         "Ford America Motors",
         882
        ],
        [
         "BR0950",
         "Isuzu Motors",
         883
        ],
        [
         "BR0990",
         "Jensen Motors",
         884
        ],
        [
         "BR1585",
         "Porsche Motors",
         885
        ],
        [
         "BR1672",
         "Saab Motors",
         886
        ],
        [
         "BR4026",
         "GAZ Motors",
         887
        ],
        [
         "BR0424",
         "Daimler Motors",
         888
        ],
        [
         "BR0971",
         "Jeep Motors",
         889
        ],
        [
         "BR1114",
         "LTI Motors",
         890
        ],
        [
         "BR1258",
         "Mercury Motors",
         891
        ],
        [
         "BR1488",
         "Panoz Motors",
         892
        ],
        [
         "BR1679",
         "Saab Motors",
         893
        ],
        [
         "BR2172",
         "Lagonda  Motors",
         894
        ],
        [
         "BR2462",
         "Kindel Building",
         895
        ],
        [
         "BR0094",
         "ARO Motors",
         896
        ],
        [
         "BR0357",
         "Chrysler Europe Motors",
         897
        ],
        [
         "BR0417",
         "Daihatsu Motors",
         898
        ],
        [
         "BR0854",
         "Hummer Motors",
         899
        ],
        [
         "BR1014",
         "Koenigsegg Motors",
         900
        ],
        [
         "BR1245",
         "Mercedes-Benz (including Maybach) Motors",
         901
        ],
        [
         "BR1295",
         "Micro Motors",
         902
        ],
        [
         "BR1625",
         "Ranger Motors",
         903
        ],
        [
         "BR1683",
         "SAIC Motor Motors",
         904
        ],
        [
         "BR1742",
         "Saturn Motors",
         905
        ],
        [
         "BR1827",
         "Smart Motors",
         906
        ],
        [
         "BR1975",
         "Turner Motors",
         907
        ],
        [
         "BR0120",
         "Asia Motors Motors",
         908
        ],
        [
         "BR0382",
         "Dacia Motors",
         909
        ],
        [
         "BR0470",
         "DeSoto Motors",
         910
        ],
        [
         "BR1034",
         "Lada Motors",
         911
        ],
        [
         "BR10626",
         "Shelby SuperCars Motors",
         912
        ],
        [
         "BR1099",
         "Lincoln Motors",
         913
        ],
        [
         "BR2351",
         "Cadillac Automobile Company Building",
         914
        ],
        [
         "BR2394",
         "Clemens Automobile Company Building",
         915
        ],
        [
         "BR0310",
         "Caterham Motors",
         916
        ],
        [
         "BR0602",
         "Ford America Motors",
         917
        ],
        [
         "BR0694",
         "Gilbern Motors",
         918
        ],
        [
         "BR1668",
         "Rolls-Royce Motors",
         919
        ],
        [
         "BR2148",
         "Wanderer Motors",
         920
        ],
        [
         "BR2309",
         "Atlantic Motor Company",
         921
        ],
        [
         "BR0546",
         "ARO Motors",
         922
        ],
        [
         "BR0678",
         "GAZ Motors",
         923
        ],
        [
         "BR1569",
         "Polestar Motors",
         924
        ],
        [
         "BR1570",
         "Polestar Motors",
         925
        ],
        [
         "BR1811",
         "Skoda Motors",
         926
        ],
        [
         "BR1882",
         "Sunbeam Motors",
         927
        ],
        [
         "BR1901",
         "Tata Motors",
         928
        ],
        [
         "BR1937",
         "Tesla Motors",
         929
        ],
        [
         "BR1988",
         "TVR Motors",
         930
        ],
        [
         "BR2034",
         "Volkswagen do Brasil Motors",
         931
        ],
        [
         "BR2334",
         "Bohn Motor Company Automobile Dealership",
         932
        ],
        [
         "BR0074",
         "Anadol Motors",
         933
        ],
        [
         "BR0103",
         "Artega Motors",
         934
        ],
        [
         "BR0338",
         "Chevrolet India Motors",
         935
        ],
        [
         "BR0418",
         "Daihatsu Motors",
         936
        ],
        [
         "BR0435",
         "Datsun Motors",
         937
        ],
        [
         "BR0533",
         "Elva Motors",
         938
        ],
        [
         "BR0879",
         "IFA (including Trabant, Wartburg, Barkas) Motors",
         939
        ],
        [
         "BR1512",
         "Perodua Motors",
         940
        ],
        [
         "BR2234",
         "Standard  Motors",
         941
        ],
        [
         "BR2245",
         "Talbot  Motors",
         942
        ],
        [
         "BR2283",
         "Herald Motors",
         943
        ],
        [
         "BR2438",
         "Hupmobile Building",
         944
        ],
        [
         "BR8466",
         "NSU Motors",
         945
        ],
        [
         "BR8766",
         "Pagani Motors",
         946
        ],
        [
         "BR0961",
         "Jaguar Motors",
         947
        ],
        [
         "BR1471",
         "Panhard Motors",
         948
        ],
        [
         "BR1603",
         "Proton Motors",
         949
        ],
        [
         "BR1879",
         "Subaru Motors",
         950
        ],
        [
         "BR2211",
         "Riley  Motors",
         951
        ],
        [
         "BR2320",
         "2008 NRHP-listed",
         952
        ],
        [
         "BR0020",
         "Acura Motors",
         953
        ],
        [
         "BR0339",
         "Chevrolet India Motors",
         954
        ],
        [
         "BR0375",
         "Cizeta-Moroder Motors",
         955
        ],
        [
         "BR0404",
         "DAF Motors",
         956
        ],
        [
         "BR0752",
         "Healey Motors",
         957
        ],
        [
         "BR1315",
         "Mitsubishi Motors",
         958
        ],
        [
         "BR1392",
         "Nissan India Motors",
         959
        ],
        [
         "BR1542",
         "Piaggio Motors",
         960
        ],
        [
         "BR2302",
         "Atlantic Motor Company",
         961
        ],
        [
         "BR0397",
         "Daewoo, Saehan, Chevrolet Korea Motors",
         962
        ],
        [
         "BR0675",
         "GAZ Motors",
         963
        ],
        [
         "BR11526",
         "Tazzari Motors",
         964
        ],
        [
         "BR1619",
         "Puma Motors",
         965
        ],
        [
         "BR1798",
         "Simca do Brasil Motors",
         966
        ],
        [
         "BR1994",
         "UAZ Motors",
         967
        ],
        [
         "BR2342",
         "Buick Automobile Company Building",
         968
        ],
        [
         "BR7506",
         "Mercury Motors",
         969
        ],
        [
         "BR0049",
         "Alpine Motors",
         970
        ],
        [
         "BR0640",
         "Ford Europe Motors",
         971
        ],
        [
         "BR0653",
         "Freightliner Motors",
         972
        ],
        [
         "BR0897",
         "Innocenti Motors",
         973
        ],
        [
         "BR1520",
         "Perodua Motors",
         974
        ],
        [
         "BR1621",
         "Ranger Motors",
         975
        ],
        [
         "BR2008",
         "Vauxhall Motors",
         976
        ],
        [
         "BR2170",
         "Izh  Motors",
         977
        ],
        [
         "BR2526",
         "Daimler Motors",
         978
        ],
        [
         "BR3006",
         "Edsel Motors",
         979
        ],
        [
         "BR8226",
         "Naza Motors",
         980
        ],
        [
         "BR0170",
         "Auverland Motors",
         981
        ],
        [
         "BR0843",
         "Humber Motors",
         982
        ],
        [
         "BR1249",
         "Mercedes-Benz (including Maybach) Motors",
         983
        ],
        [
         "BR1552",
         "Plymouth Motors",
         984
        ],
        [
         "BR2258",
         "Das Motors",
         985
        ],
        [
         "BR0084",
         "Ariel Motors",
         986
        ],
        [
         "BR0610",
         "Ford America Motors",
         987
        ],
        [
         "BR1077",
         "Lexus Motors",
         988
        ],
        [
         "BR1101",
         "Lotus Motors",
         989
        ],
        [
         "BR1107",
         "Lotus Motors",
         990
        ],
        [
         "BR1209",
         "Matra (including Deutsch-Bonnet, René Bonnet) Motors",
         991
        ],
        [
         "BR1235",
         "McLaren Motors",
         992
        ],
        [
         "BR1417",
         "NSU Motors",
         993
        ],
        [
         "BR1519",
         "Perodua Motors",
         994
        ],
        [
         "BR1524",
         "Peugeot Motors",
         995
        ],
        [
         "BR1640",
         "Reliant Motors",
         996
        ],
        [
         "BR2110",
         "ZIL Motors",
         997
        ],
        [
         "BR2307",
         "Atlantic Motor Company",
         998
        ],
        [
         "BR2457",
         "Jones Motor Company",
         999
        ],
        [
         "BR5106",
         "Hummer Motors",
         1000
        ],
        [
         "BR6306",
         "Lancia Motors",
         1001
        ],
        [
         "BR0108",
         "Artega Motors",
         1002
        ],
        [
         "BR0380",
         "Cizeta-Moroder Motors",
         1003
        ],
        [
         "BR0577",
         "Fiat do Brasil Motors",
         1004
        ],
        [
         "BR0812",
         "Honda Motors",
         1005
        ],
        [
         "BR0865",
         "Hyundai Motors",
         1006
        ],
        [
         "BR1202",
         "Matra (including Deutsch-Bonnet, René Bonnet) Motors",
         1007
        ],
        [
         "BR1504",
         "Peel Motors",
         1008
        ],
        [
         "BR1833",
         "Spyker Motors",
         1009
        ],
        [
         "BR2041",
         "Volkswagen South Africa Motors",
         1010
        ],
        [
         "BR2313",
         "2008 NRHP-listed",
         1011
        ],
        [
         "BR3726",
         "Ford do Brasil Motors",
         1012
        ],
        [
         "BR7326",
         "Mazzanti Motors",
         1013
        ],
        [
         "BR0334",
         "Chevrolet India Motors",
         1014
        ],
        [
         "BR0364",
         "Citroën Motors",
         1015
        ],
        [
         "BR0371",
         "Cizeta-Moroder Motors",
         1016
        ],
        [
         "BR0485",
         "Dodge Motors",
         1017
        ],
        [
         "BR0909",
         "Invicta Motors",
         1018
        ],
        [
         "BR0921",
         "Iso Motors",
         1019
        ],
        [
         "BR0267",
         "Bugatti Motors",
         1020
        ],
        [
         "BR0410",
         "DAF Motors",
         1021
        ],
        [
         "BR0469",
         "DeSoto Motors",
         1022
        ],
        [
         "BR0654",
         "Freightliner Motors",
         1023
        ],
        [
         "BR1528",
         "Peugeot Motors",
         1024
        ],
        [
         "BR2183",
         "MG  Motors",
         1025
        ],
        [
         "BR2264",
         "Ramani Motors",
         1026
        ],
        [
         "BR0041",
         "Alpine Motors",
         1027
        ],
        [
         "BR0122",
         "Aston Martin Motors",
         1028
        ],
        [
         "BR0349",
         "Chrysler Motors",
         1029
        ],
        [
         "BR0906",
         "Auto-Union Motors",
         1030
        ],
        [
         "BR0973",
         "Jeep Motors",
         1031
        ],
        [
         "BR1168",
         "Marlin Motors",
         1032
        ],
        [
         "BR1231",
         "McLaren Motors",
         1033
        ],
        [
         "BR1518",
         "Perodua Motors",
         1034
        ],
        [
         "BR1639",
         "Reliant Motors",
         1035
        ],
        [
         "BR2290",
         "Herald Motors",
         1036
        ],
        [
         "BR0302",
         "Caterham Motors",
         1037
        ],
        [
         "BR0468",
         "DeSoto Motors",
         1038
        ],
        [
         "BR0477",
         "De Tomaso Motors",
         1039
        ],
        [
         "BR0768",
         "Heinkel Motors",
         1040
        ],
        [
         "BR0824",
         "Honda India Motors",
         1041
        ],
        [
         "BR1008",
         "Kia Motors",
         1042
        ],
        [
         "BR1674",
         "Saab Motors",
         1043
        ],
        [
         "BR1697",
         "Saleen Motors",
         1044
        ],
        [
         "BR1715",
         "San Motors",
         1045
        ],
        [
         "BR1782",
         "Simca Motors",
         1046
        ],
        [
         "BR1797",
         "Simca do Brasil Motors",
         1047
        ],
        [
         "BR1924",
         "Tazzari Motors",
         1048
        ],
        [
         "BR4686",
         "Hillman Motors",
         1049
        ],
        [
         "BR8826",
         "Panhard Motors",
         1050
        ],
        [
         "BR0322",
         "Chevrolet Motors",
         1051
        ],
        [
         "BR0724",
         "GMC Motors",
         1052
        ],
        [
         "BR0994",
         "JPX Motors",
         1053
        ],
        [
         "BR1173",
         "Maruti Motors",
         1054
        ],
        [
         "BR1692",
         "Saleen Motors",
         1055
        ],
        [
         "BR1875",
         "Subaru Motors",
         1056
        ],
        [
         "BR0004",
         "AC Cars Motors",
         1057
        ],
        [
         "BR0067",
         "AMC, Eagle Motors",
         1058
        ],
        [
         "BR0459",
         "DeLorean Motors",
         1059
        ],
        [
         "BR0488",
         "Dodge Motors",
         1060
        ],
        [
         "BR0663",
         "FSO Motors",
         1061
        ],
        [
         "BR0711",
         "Glas Motors",
         1062
        ],
        [
         "BR0747",
         "Gumpert Motors",
         1063
        ],
        [
         "BR0894",
         "Innocenti Motors",
         1064
        ],
        [
         "BR1039",
         "Lada Motors",
         1065
        ],
        [
         "BR14046",
         "Buick Automobile Company Building",
         1066
        ],
        [
         "BR1440",
         "Oltcit Motors",
         1067
        ],
        [
         "BR1492",
         "Panther Motors",
         1068
        ],
        [
         "BR1557",
         "Plymouth Motors",
         1069
        ],
        [
         "BR2388",
         "Claremore Auto Dealership",
         1070
        ],
        [
         "BR0224",
         "Bristol Motors",
         1071
        ],
        [
         "BR1303",
         "Mini Motors",
         1072
        ],
        [
         "BR1304",
         "Mini Motors",
         1073
        ],
        [
         "BR13086",
         "MG  Motors",
         1074
        ],
        [
         "BR1567",
         "Polestar Motors",
         1075
        ],
        [
         "BR1659",
         "Rivian Motors",
         1076
        ],
        [
         "BR1725",
         "Santa Matilde Motors",
         1077
        ],
        [
         "BR2104",
         "ZIL Motors",
         1078
        ],
        [
         "BR6426",
         "Lexus Motors",
         1079
        ],
        [
         "BR0697",
         "Gilbern Motors",
         1080
        ],
        [
         "BR0781",
         "Hillman Motors",
         1081
        ],
        [
         "BR0931",
         "Isotta Fraschini Motors",
         1082
        ],
        [
         "BR1070",
         "Land Rover Motors",
         1083
        ],
        [
         "BR1130",
         "LuAZ Motors",
         1084
        ],
        [
         "BR1397",
         "Nissan India Motors",
         1085
        ],
        [
         "BR1595",
         "Premier Motors",
         1086
        ],
        [
         "BR1985",
         "TVR Motors",
         1087
        ],
        [
         "BR2011",
         "Venturi Motors",
         1088
        ],
        [
         "BR2089",
         "Zastava Motors",
         1089
        ],
        [
         "BR0484",
         "Dodge Motors",
         1090
        ],
        [
         "BR0899",
         "Innocenti Motors",
         1091
        ],
        [
         "BR1379",
         "Naza Motors",
         1092
        ],
        [
         "BR1903",
         "Tata Motors",
         1093
        ],
        [
         "BR0303",
         "Caterham Motors",
         1094
        ],
        [
         "BR0523",
         "Eicher Polaris Motors",
         1095
        ],
        [
         "BR0538",
         "Elva Motors",
         1096
        ],
        [
         "BR1363",
         "Nash Motors",
         1097
        ],
        [
         "BR1459",
         "Packard Motors",
         1098
        ],
        [
         "BR1837",
         "Spyker Motors",
         1099
        ],
        [
         "BR1918",
         "Tatra Motors",
         1100
        ],
        [
         "BR2281",
         "Herald Motors",
         1101
        ],
        [
         "BR0025",
         "Aixam-Mega (including Arola) Motors",
         1102
        ],
        [
         "BR1068",
         "Land Rover Motors",
         1103
        ],
        [
         "BR1135",
         "Lynx Motors",
         1104
        ],
        [
         "BR1560",
         "Plymouth Motors",
         1105
        ],
        [
         "BR1717",
         "San Motors",
         1106
        ],
        [
         "BR1923",
         "Tazzari Motors",
         1107
        ],
        [
         "BR1964",
         "Toyota India Motors",
         1108
        ],
        [
         "BR4266",
         "Glas Motors",
         1109
        ],
        [
         "BR0159",
         "Auto-Union Motors",
         1110
        ],
        [
         "BR0331",
         "Chevrolet India Motors",
         1111
        ],
        [
         "BR0681",
         "Geo Motors",
         1112
        ],
        [
         "BR0703",
         "Ginetta Motors",
         1113
        ],
        [
         "BR0832",
         "Hudson Motors",
         1114
        ],
        [
         "BR0880",
         "IFA (including Trabant, Wartburg, Barkas) Motors",
         1115
        ],
        [
         "BR0999",
         "JPX Motors",
         1116
        ],
        [
         "BR1974",
         "Turner Motors",
         1117
        ],
        [
         "BR2180",
         "Lagonda  Motors",
         1118
        ],
        [
         "BR0923",
         "Iso Motors",
         1119
        ],
        [
         "BR0953",
         "Iveco Motors",
         1120
        ],
        [
         "BR1498",
         "Panther Motors",
         1121
        ],
        [
         "BR1583",
         "Porsche Motors",
         1122
        ],
        [
         "BR1709",
         "Samsung Motors",
         1123
        ],
        [
         "BR1723",
         "Santa Matilde Motors",
         1124
        ],
        [
         "BR1920",
         "Tatra Motors",
         1125
        ],
        [
         "BR2222",
         "Wolseley  Motors",
         1126
        ],
        [
         "BR2231",
         "Standard  Motors",
         1127
        ],
        [
         "BR2273",
         "Deccan Motors",
         1128
        ],
        [
         "BR2327",
         "Blankinship Motor Company Building",
         1129
        ],
        [
         "BR0077",
         "Anadol Motors",
         1130
        ],
        [
         "BR0344",
         "Chrysler Motors",
         1131
        ],
        [
         "BR0774",
         "Hennessey Motors",
         1132
        ],
        [
         "BR0901",
         "Invicta Motors",
         1133
        ],
        [
         "BR1193",
         "Mastretta Motors",
         1134
        ],
        [
         "BR1199",
         "Mastretta Motors",
         1135
        ],
        [
         "BR1227",
         "Mazzanti Motors",
         1136
        ],
        [
         "BR1317",
         "Mitsubishi Motors",
         1137
        ],
        [
         "BR1428",
         "Oldsmobile Motors",
         1138
        ],
        [
         "BR1589",
         "Porsche Motors",
         1139
        ],
        [
         "BR1634",
         "Reliant Motors",
         1140
        ],
        [
         "BR1894",
         "Suzuki Motors",
         1141
        ],
        [
         "BR0387",
         "Dacia Motors",
         1142
        ],
        [
         "BR0426",
         "Anadol Motors",
         1143
        ],
        [
         "BR0573",
         "Fiat do Brasil Motors",
         1144
        ],
        [
         "BR1234",
         "McLaren Motors",
         1145
        ],
        [
         "BR1401",
         "Noble Motors",
         1146
        ],
        [
         "BR1578",
         "Pontiac, Asüna Motors",
         1147
        ],
        [
         "BR1788",
         "Simca Motors",
         1148
        ],
        [
         "BR1805",
         "Singer Motors",
         1149
        ],
        [
         "BR2144",
         "Wanderer Motors",
         1150
        ],
        [
         "BR2243",
         "Talbot  Motors",
         1151
        ],
        [
         "BR0154",
         "Auto-Union Motors",
         1152
        ],
        [
         "BR0193",
         "BMW Motors",
         1153
        ],
        [
         "BR0439",
         "Datsun Motors",
         1154
        ],
        [
         "BR0910",
         "Invicta Motors",
         1155
        ],
        [
         "BR1360",
         "Moskwitch Motors",
         1156
        ],
        [
         "BR1649",
         "Renault Motors",
         1157
        ],
        [
         "BR1804",
         "Singer Motors",
         1158
        ],
        [
         "BR1963",
         "Toyota India Motors",
         1159
        ],
        [
         "BR2019",
         "Venturi Motors",
         1160
        ],
        [
         "BR0098",
         "ARO Motors",
         1161
        ],
        [
         "BR0141",
         "Autobianchi Motors",
         1162
        ],
        [
         "BR0442",
         "Delahaye Motors",
         1163
        ],
        [
         "BR0590",
         "Fiat India Motors",
         1164
        ],
        [
         "BR10086",
         "SAIC Motor Motors",
         1165
        ],
        [
         "BR1043",
         "Lamborghini Motors",
         1166
        ],
        [
         "BR1222",
         "Mazzanti Motors",
         1167
        ],
        [
         "BR1393",
         "Nissan India Motors",
         1168
        ],
        [
         "BR2031",
         "Volkswagen do Brasil Motors",
         1169
        ],
        [
         "BR2187",
         "MG  Motors",
         1170
        ],
        [
         "BR2207",
         "Austin  Motors",
         1171
        ],
        [
         "BR2240",
         "Standard  Motors",
         1172
        ],
        [
         "BR2361",
         "Casa de cadillac",
         1173
        ],
        [
         "BR2392",
         "Clemens Automobile Company Building",
         1174
        ],
        [
         "BR5946",
         "JPX Motors",
         1175
        ],
        [
         "BR0208",
         "Bond Motors",
         1176
        ],
        [
         "BR0260",
         "Austin, Rover Motors",
         1177
        ],
        [
         "BR0309",
         "Caterham Motors",
         1178
        ],
        [
         "BR1128",
         "LuAZ Motors",
         1179
        ],
        [
         "BR1348",
         "Morgan Motors",
         1180
        ],
        [
         "BR1667",
         "Rolls-Royce Motors",
         1181
        ],
        [
         "BR2312",
         "2008 NRHP-listed",
         1182
        ],
        [
         "BR2423",
         "Howard Motor Company Building",
         1183
        ],
        [
         "BR4926",
         "Honda India Motors",
         1184
        ],
        [
         "BR0391",
         "Daewoo, Saehan, Chevrolet Korea Motors",
         1185
        ],
        [
         "BR0751",
         "Healey Motors",
         1186
        ],
        [
         "BR0769",
         "Heinkel Motors",
         1187
        ],
        [
         "BR0998",
         "JPX Motors",
         1188
        ],
        [
         "BR1183",
         "Maserati Motors",
         1189
        ],
        [
         "BR1313",
         "Mitsubishi Motors",
         1190
        ],
        [
         "BR1455",
         "Packard Motors",
         1191
        ],
        [
         "BR2463",
         "Kindel Building",
         1192
        ],
        [
         "BR4566",
         "Heinkel Motors",
         1193
        ],
        [
         "BR1108",
         "Lotus Motors",
         1194
        ],
        [
         "BR1204",
         "Matra (including Deutsch-Bonnet, René Bonnet) Motors",
         1195
        ],
        [
         "BR13326",
         "Wolseley  Motors",
         1196
        ],
        [
         "BR1372",
         "Naza Motors",
         1197
        ],
        [
         "BR1758",
         "Scion Motors",
         1198
        ],
        [
         "BR1887",
         "Sunbeam Motors",
         1199
        ],
        [
         "BR2214",
         "Riley  Motors",
         1200
        ],
        [
         "BR7986",
         "Monteverdi Motors",
         1201
        ],
        [
         "BR0515",
         "e.GO Mobile Motors",
         1202
        ],
        [
         "BR0661",
         "FSO Motors",
         1203
        ],
        [
         "BR1021",
         "KTM Motors",
         1204
        ],
        [
         "BR1268",
         "Merkur Motors",
         1205
        ],
        [
         "BR13266",
         "Riley  Motors",
         1206
        ],
        [
         "BR2151",
         "Maybach  Motors",
         1207
        ],
        [
         "BR2300",
         "Zion Automobils",
         1208
        ],
        [
         "BR2382",
         "Claremore Auto Dealership",
         1209
        ],
        [
         "BR0010",
         "AC Cars Motors",
         1210
        ],
        [
         "BR0051",
         "Alvis Motors",
         1211
        ],
        [
         "BR0341",
         "Chrysler Motors",
         1212
        ],
        [
         "BR0384",
         "Dacia Motors",
         1213
        ],
        [
         "BR0569",
         "Fiat Motors",
         1214
        ],
        [
         "BR14646",
         "Jennings Ford Automobile Dealership",
         1215
        ],
        [
         "BR1562",
         "Polestar Motors",
         1216
        ],
        [
         "BR1872",
         "Subaru Motors",
         1217
        ],
        [
         "BR2128",
         "DKW Motors",
         1218
        ],
        [
         "BR2197",
         "Morris  Motors",
         1219
        ],
        [
         "BR2253",
         "Das Motors",
         1220
        ],
        [
         "BR2315",
         "2008 NRHP-listed",
         1221
        ],
        [
         "BR0443",
         "Delahaye Motors",
         1222
        ],
        [
         "BR0925",
         "Iso Motors",
         1223
        ],
        [
         "BR1019",
         "Koenigsegg Motors",
         1224
        ],
        [
         "BR1411",
         "NSU Motors",
         1225
        ],
        [
         "BR1733",
         "Santana Motors",
         1226
        ],
        [
         "BR1745",
         "Saturn Motors",
         1227
        ],
        [
         "BR1962",
         "Toyota India Motors",
         1228
        ],
        [
         "BR2251",
         "Das Motors",
         1229
        ],
        [
         "BR0102",
         "Artega Motors",
         1230
        ],
        [
         "BR0745",
         "Gumpert Motors",
         1231
        ],
        [
         "BR0858",
         "Hummer Motors",
         1232
        ],
        [
         "BR0917",
         "Isdera Motors",
         1233
        ],
        [
         "BR1171",
         "Maruti Motors",
         1234
        ],
        [
         "BR1247",
         "Mercedes-Benz (including Maybach) Motors",
         1235
        ],
        [
         "BR1831",
         "Spyker Motors",
         1236
        ],
        [
         "BR2448",
         "Jennings Ford Automobile Dealership",
         1237
        ],
        [
         "BR0173",
         "Bentley Motors",
         1238
        ],
        [
         "BR0249",
         "Austin-Healey Motors",
         1239
        ],
        [
         "BR0619",
         "Ford Australia Motors",
         1240
        ],
        [
         "BR1118",
         "LTI Motors",
         1241
        ],
        [
         "BR1294",
         "Micro Motors",
         1242
        ],
        [
         "BR1593",
         "Premier Motors",
         1243
        ],
        [
         "BR1712",
         "San Motors",
         1244
        ],
        [
         "BR1728",
         "Santa Matilde Motors",
         1245
        ],
        [
         "BR2409",
         "Colman Automotive Building",
         1246
        ],
        [
         "BR8586",
         "Oltcit Motors",
         1247
        ],
        [
         "BR0402",
         "DAF Motors",
         1248
        ],
        [
         "BR0542",
         "Facel Vega Motors",
         1249
        ],
        [
         "BR11646",
         "Tornado Motors",
         1250
        ],
        [
         "BR1467",
         "Pagani Motors",
         1251
        ],
        [
         "BR2321",
         "Blankinship Motor Company Building",
         1252
        ],
        [
         "BR7026",
         "Maruti Motors",
         1253
        ],
        [
         "BR0295",
         "Cadillac Motors",
         1254
        ],
        [
         "BR0641",
         "Ford India Motors",
         1255
        ],
        [
         "BR0715",
         "Glas Motors",
         1256
        ],
        [
         "BR0975",
         "Jeep Motors",
         1257
        ],
        [
         "BR1004",
         "Kia Motors",
         1258
        ],
        [
         "BR1610",
         "Proton Motors",
         1259
        ],
        [
         "BR1741",
         "Saturn Motors",
         1260
        ],
        [
         "BR2053",
         "Volvo Motors",
         1261
        ],
        [
         "BR2340",
         "Bohn Motor Company Automobile Dealership",
         1262
        ],
        [
         "BR0042",
         "Alpine Motors",
         1263
        ],
        [
         "BR0311",
         "Checker Motors",
         1264
        ],
        [
         "BR0482",
         "Dodge Motors",
         1265
        ],
        [
         "BR0870",
         "Hyundai Motors",
         1266
        ],
        [
         "BR1362",
         "Nash Motors",
         1267
        ],
        [
         "BR1571",
         "Pontiac, Asüna Motors",
         1268
        ],
        [
         "BR2370",
         "Casa de cadillac",
         1269
        ],
        [
         "BR2389",
         "Claremore Auto Dealership",
         1270
        ],
        [
         "BR3966",
         "FSO Motors",
         1271
        ],
        [
         "BR6846",
         "Mahindra Motors",
         1272
        ],
        [
         "BR7806",
         "Mini Motors",
         1273
        ],
        [
         "BR0420",
         "Daihatsu Motors",
         1274
        ],
        [
         "BR0667",
         "FSO Motors",
         1275
        ],
        [
         "BR0742",
         "Gumpert Motors",
         1276
        ],
        [
         "BR0822",
         "Honda India Motors",
         1277
        ],
        [
         "BR0981",
         "Jensen Motors",
         1278
        ],
        [
         "BR1052",
         "Lancia Motors",
         1279
        ],
        [
         "BR1194",
         "Mastretta Motors",
         1280
        ],
        [
         "BR1620",
         "Puma Motors",
         1281
        ],
        [
         "BR1761",
         "Seat Motors",
         1282
        ],
        [
         "BR1925",
         "Tazzari Motors",
         1283
        ],
        [
         "BR1933",
         "Tesla Motors",
         1284
        ],
        [
         "BR2045",
         "Volkswagen South Africa Motors",
         1285
        ],
        [
         "BR2469",
         "Kindel Building",
         1286
        ],
        [
         "BR8706",
         "Packard Motors",
         1287
        ],
        [
         "BR9306",
         "Plymouth Motors",
         1288
        ],
        [
         "BR0015",
         "Acura Motors",
         1289
        ],
        [
         "BR0217",
         "Borgward (including Goliath and Lloyd) Motors",
         1290
        ],
        [
         "BR0283",
         "Bytom Motors",
         1291
        ],
        [
         "BR1274",
         "Messerschmitt Motors",
         1292
        ],
        [
         "BR1431",
         "Oltcit Motors",
         1293
        ],
        [
         "BR1451",
         "Packard Motors",
         1294
        ],
        [
         "BR1554",
         "Plymouth Motors",
         1295
        ],
        [
         "BR2049",
         "Volkswagen South Africa Motors",
         1296
        ],
        [
         "BR2088",
         "Zastava Motors",
         1297
        ],
        [
         "BR2107",
         "ZIL Motors",
         1298
        ],
        [
         "BR2305",
         "Atlantic Motor Company",
         1299
        ],
        [
         "BR5586",
         "Isotta Fraschini Motors",
         1300
        ],
        [
         "BR0290",
         "Bytom Motors",
         1301
        ],
        [
         "BR0474",
         "De Tomaso Motors",
         1302
        ],
        [
         "BR0940",
         "Isotta Fraschini Motors",
         1303
        ],
        [
         "BR2202",
         "Austin  Motors",
         1304
        ],
        [
         "BR6246",
         "Lamborghini Motors",
         1305
        ],
        [
         "BR0179",
         "Bentley Motors",
         1306
        ],
        [
         "BR0797",
         "Hindustan Motors",
         1307
        ],
        [
         "BR1261",
         "Merkur Motors",
         1308
        ],
        [
         "BR1575",
         "Pontiac, Asüna Motors",
         1309
        ],
        [
         "BR2114",
         "Audi Motors",
         1310
        ],
        [
         "BR2208",
         "Austin  Motors",
         1311
        ],
        [
         "BR0087",
         "Ariel Motors",
         1312
        ],
        [
         "BR0117",
         "Asia Motors Motors",
         1313
        ],
        [
         "BR0181",
         "Bitter Motors",
         1314
        ],
        [
         "BR0183",
         "Bitter Motors",
         1315
        ],
        [
         "BR0464",
         "DeSoto Motors",
         1316
        ],
        [
         "BR0633",
         "Ford Europe Motors",
         1317
        ],
        [
         "BR8946",
         "Panther Motors",
         1318
        ],
        [
         "BR0643",
         "Ford India Motors",
         1319
        ],
        [
         "BR1086",
         "Bitter Motors",
         1320
        ],
        [
         "BR1465",
         "Pagani Motors",
         1321
        ],
        [
         "BR1489",
         "Panoz Motors",
         1322
        ],
        [
         "BR1643",
         "Renault Motors",
         1323
        ],
        [
         "BR1765",
         "Seat Motors",
         1324
        ],
        [
         "BR0090",
         "Ariel Motors",
         1325
        ],
        [
         "BR0487",
         "Dodge Motors",
         1326
        ],
        [
         "BR1020",
         "Koenigsegg Motors",
         1327
        ],
        [
         "BR1073",
         "Lexus Motors",
         1328
        ],
        [
         "BR1102",
         "Lotus Motors",
         1329
        ],
        [
         "BR12306",
         "Volvo Motors",
         1330
        ],
        [
         "BR1682",
         "SAIC Motor Motors",
         1331
        ],
        [
         "BR1702",
         "Samsung Motors",
         1332
        ],
        [
         "BR1938",
         "Tesla Motors",
         1333
        ],
        [
         "BR1958",
         "Toyota Motors",
         1334
        ],
        [
         "BR2173",
         "Lagonda  Motors",
         1335
        ],
        [
         "BR0379",
         "Cizeta-Moroder Motors",
         1336
        ],
        [
         "BR0687",
         "Geo Motors",
         1337
        ],
        [
         "BR0767",
         "Heinkel Motors",
         1338
        ],
        [
         "BR14106",
         "Cadillac Automobile Company Building",
         1339
        ],
        [
         "BR1454",
         "Packard Motors",
         1340
        ],
        [
         "BR1642",
         "Renault Motors",
         1341
        ],
        [
         "BR1652",
         "Rivian Motors",
         1342
        ],
        [
         "BR2052",
         "Volvo Motors",
         1343
        ],
        [
         "BR2157",
         "Maybach  Motors",
         1344
        ],
        [
         "BR2182",
         "MG  Motors",
         1345
        ],
        [
         "BR3666",
         "Ford Australia Motors",
         1346
        ],
        [
         "BR0668",
         "FSO Motors",
         1347
        ],
        [
         "BR0719",
         "Glas Motors",
         1348
        ],
        [
         "BR1079",
         "Lexus Motors",
         1349
        ],
        [
         "BR1299",
         "Micro Motors",
         1350
        ],
        [
         "BR1685",
         "SAIC Motor Motors",
         1351
        ],
        [
         "BR1720",
         "San Motors",
         1352
        ],
        [
         "BR1729",
         "Santa Matilde Motors",
         1353
        ],
        [
         "BR2079",
         "Wiesmann Motors",
         1354
        ],
        [
         "BR2163",
         "Izh  Motors",
         1355
        ],
        [
         "BR2414",
         "H Street Playhouse",
         1356
        ],
        [
         "BR6966",
         "Marlin Motors",
         1357
        ],
        [
         "BR0819",
         "Honda Motors",
         1358
        ],
        [
         "BR1214",
         "Mazda Motors",
         1359
        ],
        [
         "BR1911",
         "Tatra Motors",
         1360
        ],
        [
         "BR2166",
         "Citroën Motors",
         1361
        ],
        [
         "BR2175",
         "Lagonda  Motors",
         1362
        ],
        [
         "BR2198",
         "Morris  Motors",
         1363
        ],
        [
         "BR6126",
         "KTM Motors",
         1364
        ],
        [
         "BR0400",
         "Daewoo, Saehan, Chevrolet Korea Motors",
         1365
        ],
        [
         "BR0527",
         "Eicher Polaris Motors",
         1366
        ],
        [
         "BR1103",
         "Lotus Motors",
         1367
        ],
        [
         "BR13686",
         "Herald Motors",
         1368
        ],
        [
         "BR1815",
         "Skoda Motors",
         1369
        ],
        [
         "BR0414",
         "Daihatsu Motors",
         1370
        ],
        [
         "BR0444",
         "Delahaye Motors",
         1371
        ],
        [
         "BR0959",
         "Iveco Motors",
         1372
        ],
        [
         "BR1058",
         "Lancia Motors",
         1373
        ],
        [
         "BR1338",
         "Monteverdi Motors",
         1374
        ],
        [
         "BR1388",
         "Nissan Motors",
         1375
        ],
        [
         "BR1854",
         "Standard-Triumph Motors",
         1376
        ],
        [
         "BR2270",
         "Ramani Motors",
         1377
        ],
        [
         "BR2278",
         "Deccan Motors",
         1378
        ],
        [
         "BR2287",
         "Herald Motors",
         1379
        ],
        [
         "BR2324",
         "Blankinship Motor Company Building",
         1380
        ],
        [
         "BR0280",
         "Buick Motors",
         1381
        ],
        [
         "BR0631",
         "Ford Europe Motors",
         1382
        ],
        [
         "BR0702",
         "Ginetta Motors",
         1383
        ],
        [
         "BR0942",
         "Isuzu Motors",
         1384
        ],
        [
         "BR1151",
         "Marcos Motors",
         1385
        ],
        [
         "BR2121",
         "DKW Motors",
         1386
        ],
        [
         "BR2174",
         "Lagonda  Motors",
         1387
        ],
        [
         "BR2886",
         "Dodge Motors",
         1388
        ],
        [
         "BR0213",
         "Borgward (including Goliath and Lloyd) Motors",
         1389
        ],
        [
         "BR0680",
         "GAZ Motors",
         1390
        ],
        [
         "BR1075",
         "Lexus Motors",
         1391
        ],
        [
         "BR1207",
         "Matra (including Deutsch-Bonnet, René Bonnet) Motors",
         1392
        ],
        [
         "BR1507",
         "Peel Motors",
         1393
        ],
        [
         "BR2080",
         "Wiesmann Motors",
         1394
        ],
        [
         "BR0454",
         "DeLorean Motors",
         1395
        ],
        [
         "BR0974",
         "Jeep Motors",
         1396
        ],
        [
         "BR1026",
         "Bentley Motors",
         1397
        ],
        [
         "BR13566",
         "Ramani Motors",
         1398
        ],
        [
         "BR1457",
         "Packard Motors",
         1399
        ],
        [
         "BR1684",
         "SAIC Motor Motors",
         1400
        ],
        [
         "BR2301",
         "Atlantic Motor Company",
         1401
        ],
        [
         "BR2310",
         "Atlantic Motor Company",
         1402
        ],
        [
         "BR2384",
         "Claremore Auto Dealership",
         1403
        ],
        [
         "BR2454",
         "Jones Motor Company",
         1404
        ],
        [
         "BR0186",
         "Alfa Romeo Motors",
         1405
        ],
        [
         "BR0834",
         "Hudson Motors",
         1406
        ],
        [
         "BR0904",
         "Invicta Motors",
         1407
        ],
        [
         "BR0907",
         "Invicta Motors",
         1408
        ],
        [
         "BR1200",
         "Mastretta Motors",
         1409
        ],
        [
         "BR1889",
         "Sunbeam Motors",
         1410
        ],
        [
         "BR2140",
         "Horch Motors",
         1411
        ],
        [
         "BR2177",
         "Lagonda  Motors",
         1412
        ],
        [
         "BR0810",
         "Holden Motors",
         1413
        ],
        [
         "BR1530",
         "Peugeot Motors",
         1414
        ],
        [
         "BR1638",
         "Reliant Motors",
         1415
        ],
        [
         "BR1779",
         "Shelby SuperCars Motors",
         1416
        ],
        [
         "BR1928",
         "Tazzari Motors",
         1417
        ],
        [
         "BR1954",
         "Toyota Motors",
         1418
        ],
        [
         "BR1998",
         "UAZ Motors",
         1419
        ],
        [
         "BR2355",
         "Cadillac Automobile Company Building",
         1420
        ],
        [
         "BR2359",
         "Cadillac Automobile Company Building",
         1421
        ],
        [
         "BR0012",
         "Acura Motors",
         1422
        ],
        [
         "BR0578",
         "Fiat do Brasil Motors",
         1423
        ],
        [
         "BR0748",
         "Gumpert Motors",
         1424
        ],
        [
         "BR1386",
         "British Leyland Motors",
         1425
        ],
        [
         "BR1868",
         "Studebaker Motors",
         1426
        ],
        [
         "BR1930",
         "Tazzari Motors",
         1427
        ],
        [
         "BR0427",
         "Daimler Motors",
         1428
        ],
        [
         "BR0924",
         "Iso Motors",
         1429
        ],
        [
         "BR0949",
         "Isuzu Motors",
         1430
        ],
        [
         "BR1001",
         "Kia Motors",
         1431
        ],
        [
         "BR1157",
         "Marcos Motors",
         1432
        ],
        [
         "BR1165",
         "Marlin Motors",
         1433
        ],
        [
         "BR1188",
         "Maserati Motors",
         1434
        ],
        [
         "BR1513",
         "Perodua Motors",
         1435
        ],
        [
         "BR1751",
         "Scion Motors",
         1436
        ],
        [
         "BR2029",
         "Volkswagen Motors",
         1437
        ],
        [
         "BR2060",
         "Volvo Motors",
         1438
        ],
        [
         "BR2137",
         "Horch Motors",
         1439
        ],
        [
         "BR0403",
         "DAF Motors",
         1440
        ],
        [
         "BR0645",
         "Ford India Motors",
         1441
        ],
        [
         "BR0893",
         "Innocenti Motors",
         1442
        ],
        [
         "BR1170",
         "Marlin Motors",
         1443
        ],
        [
         "BR1371",
         "Naza Motors",
         1444
        ],
        [
         "BR1858",
         "Standard-Triumph Motors",
         1445
        ],
        [
         "BR2419",
         "H Street Playhouse",
         1446
        ],
        [
         "BR3066",
         "e.GO Mobile Motors",
         1447
        ],
        [
         "BR0061",
         "AMC, Eagle Motors",
         1448
        ],
        [
         "BR0323",
         "Chevrolet Motors",
         1449
        ],
        [
         "BR1475",
         "Panhard Motors",
         1450
        ],
        [
         "BR1908",
         "Tata Motors",
         1451
        ],
        [
         "BR2220",
         "Riley  Motors",
         1452
        ],
        [
         "BR2286",
         "Dacia Motors",
         1453
        ],
        [
         "BR2431",
         "Hupmobile Building",
         1454
        ],
        [
         "BR0332",
         "Chevrolet India Motors",
         1455
        ],
        [
         "BR0551",
         "Ferrari Motors",
         1456
        ],
        [
         "BR0969",
         "Jaguar Motors",
         1457
        ],
        [
         "BR1172",
         "Maruti Motors",
         1458
        ],
        [
         "BR1203",
         "Matra (including Deutsch-Bonnet, René Bonnet) Motors",
         1459
        ],
        [
         "BR1543",
         "Piaggio Motors",
         1460
        ],
        [
         "BR1588",
         "Porsche Motors",
         1461
        ],
        [
         "BR1800",
         "Simca do Brasil Motors",
         1462
        ],
        [
         "BR1839",
         "Spyker Motors",
         1463
        ],
        [
         "BR0221",
         "Bristol Motors",
         1464
        ],
        [
         "BR0422",
         "Daimler Motors",
         1465
        ],
        [
         "BR0450",
         "Delahaye Motors",
         1466
        ],
        [
         "BR0669",
         "FSO Motors",
         1467
        ],
        [
         "BR0712",
         "Glas Motors",
         1468
        ],
        [
         "BR0804",
         "Holden Motors",
         1469
        ],
        [
         "BR0844",
         "Humber Motors",
         1470
        ],
        [
         "BR0970",
         "Jaguar Motors",
         1471
        ],
        [
         "BR1092",
         "Lincoln Motors",
         1472
        ],
        [
         "BR1184",
         "Maserati Motors",
         1473
        ],
        [
         "BR1251",
         "Mercury Motors",
         1474
        ],
        [
         "BR1287",
         "Mia Motors",
         1475
        ],
        [
         "BR1582",
         "Porsche Motors",
         1476
        ],
        [
         "BR1787",
         "Simca Motors",
         1477
        ],
        [
         "BR2395",
         "Clemens Automobile Company Building",
         1478
        ],
        [
         "BR0265",
         "Bugatti Motors",
         1479
        ],
        [
         "BR0305",
         "Caterham Motors",
         1480
        ],
        [
         "BR0860",
         "Hummer Motors",
         1481
        ],
        [
         "BR1023",
         "KTM Motors",
         1482
        ],
        [
         "BR1037",
         "Lada Motors",
         1483
        ],
        [
         "BR10446",
         "Saturn Motors",
         1484
        ],
        [
         "BR4386",
         "GTA Spano Motors",
         1485
        ],
        [
         "BR0060",
         "Alvis Motors",
         1486
        ],
        [
         "BR0123",
         "Aston Martin Motors",
         1487
        ],
        [
         "BR0239",
         "British Leyland Motors",
         1488
        ],
        [
         "BR0306",
         "Alvis Motors",
         1489
        ],
        [
         "BR10026",
         "Saab Motors",
         1490
        ],
        [
         "BR1217",
         "Mazda Motors",
         1491
        ],
        [
         "BR1914",
         "Tatra Motors",
         1492
        ],
        [
         "BR2113",
         "Audi Motors",
         1493
        ],
        [
         "BR4626",
         "Hennessey Motors",
         1494
        ],
        [
         "BR0381",
         "Dacia Motors",
         1495
        ],
        [
         "BR0629",
         "Ford do Brasil Motors",
         1496
        ],
        [
         "BR1060",
         "Lancia Motors",
         1497
        ],
        [
         "BR1145",
         "Mahindra Motors",
         1498
        ],
        [
         "BR1229",
         "Mazzanti Motors",
         1499
        ],
        [
         "BR1252",
         "Mercury Motors",
         1500
        ],
        [
         "BR1602",
         "Proton Motors",
         1501
        ],
        [
         "BR1793",
         "Simca do Brasil Motors",
         1502
        ],
        [
         "BR2130",
         "DKW Motors",
         1503
        ],
        [
         "BR2411",
         "H Street Playhouse",
         1504
        ],
        [
         "BR0215",
         "Borgward (including Goliath and Lloyd) Motors",
         1505
        ],
        [
         "BR0329",
         "Chevrolet Motors",
         1506
        ],
        [
         "BR0441",
         "Delahaye Motors",
         1507
        ],
        [
         "BR1059",
         "Lancia Motors",
         1508
        ],
        [
         "BR13386",
         "Standard  Motors",
         1509
        ],
        [
         "BR1590",
         "Porsche Motors",
         1510
        ],
        [
         "BR1647",
         "Renault Motors",
         1511
        ],
        [
         "BR1777",
         "Shelby SuperCars Motors",
         1512
        ],
        [
         "BR2040",
         "Volkswagen do Brasil Motors",
         1513
        ],
        [
         "BR2164",
         "Izh  Motors",
         1514
        ],
        [
         "BR0483",
         "Dodge Motors",
         1515
        ],
        [
         "BR0739",
         "GTA Spano Motors",
         1516
        ],
        [
         "BR0987",
         "Jensen Motors",
         1517
        ],
        [
         "BR1129",
         "LuAZ Motors",
         1518
        ],
        [
         "BR12126",
         "Volkswagen Motors",
         1519
        ],
        [
         "BR1275",
         "Messerschmitt Motors",
         1520
        ],
        [
         "BR1495",
         "Panther Motors",
         1521
        ],
        [
         "BR1657",
         "Rivian Motors",
         1522
        ],
        [
         "BR1686",
         "Bytom Motors",
         1523
        ],
        [
         "BR0228",
         "Bristol Motors",
         1524
        ],
        [
         "BR0272",
         "Buick Motors",
         1525
        ],
        [
         "BR10386",
         "Santana Motors",
         1526
        ],
        [
         "BR1080",
         "Lexus Motors",
         1527
        ],
        [
         "BR1148",
         "Mahindra Motors",
         1528
        ],
        [
         "BR1150",
         "Mahindra Motors",
         1529
        ],
        [
         "BR1370",
         "Nash Motors",
         1530
        ],
        [
         "BR1673",
         "Saab Motors",
         1531
        ],
        [
         "BR0324",
         "Chevrolet Motors",
         1532
        ],
        [
         "BR0815",
         "Honda Motors",
         1533
        ],
        [
         "BR0985",
         "Jensen Motors",
         1534
        ],
        [
         "BR1127",
         "LuAZ Motors",
         1535
        ],
        [
         "BR12606",
         "ZIL Motors",
         1536
        ],
        [
         "BR1655",
         "Rivian Motors",
         1537
        ],
        [
         "BR1841",
         "SsangYong Motors",
         1538
        ],
        [
         "BR2118",
         "Audi Motors",
         1539
        ],
        [
         "BR2368",
         "Casa de cadillac",
         1540
        ],
        [
         "BR0277",
         "Buick Motors",
         1541
        ],
        [
         "BR0827",
         "Honda India Motors",
         1542
        ],
        [
         "BR1365",
         "Nash Motors",
         1543
        ],
        [
         "BR1784",
         "Simca Motors",
         1544
        ],
        [
         "BR2190",
         "MG  Motors",
         1545
        ],
        [
         "BR5226",
         "IFA (including Trabant, Wartburg, Barkas) Motors",
         1546
        ],
        [
         "BR0188",
         "Bitter Motors",
         1547
        ],
        [
         "BR0432",
         "Datsun Motors",
         1548
        ],
        [
         "BR1701",
         "Samsung Motors",
         1549
        ],
        [
         "BR2009",
         "Vauxhall Motors",
         1550
        ],
        [
         "BR2030",
         "Volkswagen Motors",
         1551
        ],
        [
         "BR2058",
         "Volvo Motors",
         1552
        ],
        [
         "BR2271",
         "Deccan Motors",
         1553
        ],
        [
         "BR2303",
         "Atlantic Motor Company",
         1554
        ],
        [
         "BR2357",
         "Cadillac Automobile Company Building",
         1555
        ],
        [
         "BR0003",
         "AC Cars Motors",
         1556
        ],
        [
         "BR0050",
         "Alpine Motors",
         1557
        ],
        [
         "BR0227",
         "Bristol Motors",
         1558
        ],
        [
         "BR0521",
         "Eicher Polaris Motors",
         1559
        ],
        [
         "BR0620",
         "Ford Australia Motors",
         1560
        ],
        [
         "BR0623",
         "Ford do Brasil Motors",
         1561
        ],
        [
         "BR0807",
         "Holden Motors",
         1562
        ],
        [
         "BR1450",
         "Opel Motors",
         1563
        ],
        [
         "BR1971",
         "Turner Motors",
         1564
        ],
        [
         "BR1987",
         "TVR Motors",
         1565
        ],
        [
         "BR2119",
         "Audi Motors",
         1566
        ],
        [
         "BR0072",
         "Anadol Motors",
         1567
        ],
        [
         "BR0078",
         "Anadol Motors",
         1568
        ],
        [
         "BR0081",
         "Ariel Motors",
         1569
        ],
        [
         "BR0118",
         "Asia Motors Motors",
         1570
        ],
        [
         "BR0180",
         "Bentley Motors",
         1571
        ],
        [
         "BR0203",
         "Bond Motors",
         1572
        ],
        [
         "BR1138",
         "Lynx Motors",
         1573
        ],
        [
         "BR1238",
         "McLaren Motors",
         1574
        ],
        [
         "BR2346",
         "Daewoo, Saehan, Chevrolet Korea Motors",
         1575
        ],
        [
         "BR6006",
         "Kia Motors",
         1576
        ],
        [
         "BR0047",
         "Alpine Motors",
         1577
        ],
        [
         "BR0253",
         "Austin, Rover Motors",
         1578
        ],
        [
         "BR0601",
         "Ford America Motors",
         1579
        ],
        [
         "BR0833",
         "Hudson Motors",
         1580
        ],
        [
         "BR10806",
         "Singer Motors",
         1581
        ],
        [
         "BR1158",
         "Marcos Motors",
         1582
        ],
        [
         "BR1502",
         "Peel Motors",
         1583
        ],
        [
         "BR1555",
         "Plymouth Motors",
         1584
        ],
        [
         "BR1611",
         "Puma Motors",
         1585
        ],
        [
         "BR1635",
         "Reliant Motors",
         1586
        ],
        [
         "BR1852",
         "Standard-Triumph Motors",
         1587
        ],
        [
         "BR1980",
         "Turner Motors",
         1588
        ],
        [
         "BR2028",
         "Volkswagen Motors",
         1589
        ],
        [
         "BR2229",
         "Wolseley  Motors",
         1590
        ],
        [
         "BR2338",
         "Bohn Motor Company Automobile Dealership",
         1591
        ],
        [
         "BR8286",
         "Nissan Motors",
         1592
        ],
        [
         "BR0043",
         "Alpine Motors",
         1593
        ],
        [
         "BR0194",
         "BMW Motors",
         1594
        ],
        [
         "BR0695",
         "Gilbern Motors",
         1595
        ],
        [
         "BR1028",
         "KTM Motors",
         1596
        ],
        [
         "BR1178",
         "Maruti Motors",
         1597
        ],
        [
         "BR1669",
         "Rolls-Royce Motors",
         1598
        ],
        [
         "BR2330",
         "Blankinship Motor Company Building",
         1599
        ],
        [
         "BR2358",
         "Cadillac Automobile Company Building",
         1600
        ],
        [
         "BR0704",
         "Ginetta Motors",
         1601
        ],
        [
         "BR0721",
         "GMC Motors",
         1602
        ],
        [
         "BR0838",
         "Hudson Motors",
         1603
        ],
        [
         "BR10146",
         "Saleen Motors",
         1604
        ],
        [
         "BR1087",
         "Ligier Motors",
         1605
        ],
        [
         "BR1266",
         "Borgward (including Goliath and Lloyd) Motors",
         1606
        ],
        [
         "BR2331",
         "Bohn Motor Company Automobile Dealership",
         1607
        ],
        [
         "BR2345",
         "Buick Automobile Company Building",
         1608
        ],
        [
         "BR2347",
         "Buick Automobile Company Building",
         1609
        ],
        [
         "BR0205",
         "Bond Motors",
         1610
        ],
        [
         "BR0278",
         "Buick Motors",
         1611
        ],
        [
         "BR0333",
         "Chevrolet India Motors",
         1612
        ],
        [
         "BR0412",
         "Daihatsu Motors",
         1613
        ],
        [
         "BR0460",
         "DeLorean Motors",
         1614
        ],
        [
         "BR0520",
         "e.GO Mobile Motors",
         1615
        ],
        [
         "BR0726",
         "Aston Martin Motors",
         1616
        ],
        [
         "BR0837",
         "Hudson Motors",
         1617
        ],
        [
         "BR0908",
         "Invicta Motors",
         1618
        ],
        [
         "BR11286",
         "Sunbeam Motors",
         1619
        ],
        [
         "BR1480",
         "Panhard Motors",
         1620
        ],
        [
         "BR0165",
         "Auverland Motors",
         1621
        ],
        [
         "BR0600",
         "Fisker, Karma Motors",
         1622
        ],
        [
         "BR0979",
         "Jeep Motors",
         1623
        ],
        [
         "BR1035",
         "Lada Motors",
         1624
        ],
        [
         "BR1210",
         "Matra (including Deutsch-Bonnet, René Bonnet) Motors",
         1625
        ],
        [
         "BR1264",
         "Merkur Motors",
         1626
        ],
        [
         "BR1559",
         "Plymouth Motors",
         1627
        ],
        [
         "BR1573",
         "Pontiac, Asüna Motors",
         1628
        ],
        [
         "BR2450",
         "Jennings Ford Automobile Dealership",
         1629
        ],
        [
         "BR0083",
         "Ariel Motors",
         1630
        ],
        [
         "BR0161",
         "Auverland Motors",
         1631
        ],
        [
         "BR0197",
         "BMW Motors",
         1632
        ],
        [
         "BR0481",
         "Dodge Motors",
         1633
        ],
        [
         "BR0567",
         "Fiat Motors",
         1634
        ],
        [
         "BR0945",
         "Isuzu Motors",
         1635
        ],
        [
         "BR11406",
         "Tata Motors",
         1636
        ],
        [
         "BR1521",
         "Peugeot Motors",
         1637
        ],
        [
         "BR1814",
         "Skoda Motors",
         1638
        ],
        [
         "BR2007",
         "Vauxhall Motors",
         1639
        ],
        [
         "BR2405",
         "Colman Automotive Building",
         1640
        ],
        [
         "BR0655",
         "Freightliner Motors",
         1641
        ],
        [
         "BR0964",
         "Jaguar Motors",
         1642
        ],
        [
         "BR1013",
         "Koenigsegg Motors",
         1643
        ],
        [
         "BR1834",
         "Spyker Motors",
         1644
        ],
        [
         "BR1835",
         "Spyker Motors",
         1645
        ],
        [
         "BR0200",
         "BMW Motors",
         1646
        ],
        [
         "BR0240",
         "British Leyland Motors",
         1647
        ],
        [
         "BR0657",
         "Freightliner Motors",
         1648
        ],
        [
         "BR0665",
         "FSO Motors",
         1649
        ],
        [
         "BR0698",
         "Gilbern Motors",
         1650
        ],
        [
         "BR0741",
         "Gumpert Motors",
         1651
        ],
        [
         "BR1113",
         "LTI Motors",
         1652
        ],
        [
         "BR1198",
         "Mastretta Motors",
         1653
        ],
        [
         "BR1253",
         "Mercury Motors",
         1654
        ],
        [
         "BR1807",
         "Singer Motors",
         1655
        ],
        [
         "BR1897",
         "Suzuki Motors",
         1656
        ],
        [
         "BR1905",
         "Tata Motors",
         1657
        ],
        [
         "BR2000",
         "UAZ Motors",
         1658
        ],
        [
         "BR6366",
         "Land Rover Motors",
         1659
        ],
        [
         "BR0055",
         "Alvis Motors",
         1660
        ],
        [
         "BR0902",
         "Invicta Motors",
         1661
        ],
        [
         "BR1110",
         "Lotus Motors",
         1662
        ],
        [
         "BR1511",
         "Perodua Motors",
         1663
        ],
        [
         "BR2152",
         "Maybach  Motors",
         1664
        ],
        [
         "BR2444",
         "Jennings Ford Automobile Dealership",
         1665
        ],
        [
         "BR0066",
         "Acura Motors",
         1666
        ],
        [
         "BR0294",
         "Cadillac Motors",
         1667
        ],
        [
         "BR0814",
         "Honda Motors",
         1668
        ],
        [
         "BR0839",
         "Hudson Motors",
         1669
        ],
        [
         "BR0873",
         "IFA (including Trabant, Wartburg, Barkas) Motors",
         1670
        ],
        [
         "BR11826",
         "Turner Motors",
         1671
        ],
        [
         "BR1189",
         "Maserati Motors",
         1672
        ],
        [
         "BR1259",
         "Mercury Motors",
         1673
        ],
        [
         "BR1808",
         "Singer Motors",
         1674
        ],
        [
         "BR2004",
         "Vauxhall Motors",
         1675
        ],
        [
         "BR2027",
         "Volkswagen Motors",
         1676
        ],
        [
         "BR0317",
         "Checker Motors",
         1677
        ],
        [
         "BR1333",
         "Monteverdi Motors",
         1678
        ],
        [
         "BR1651",
         "Rivian Motors",
         1679
        ],
        [
         "BR1803",
         "Singer Motors",
         1680
        ],
        [
         "BR2103",
         "ZIL Motors",
         1681
        ],
        [
         "BR2132",
         "Horch Motors",
         1682
        ],
        [
         "BR2260",
         "Das Motors",
         1683
        ],
        [
         "BR2350",
         "Buick Automobile Company Building",
         1684
        ],
        [
         "BR2421",
         "Howard Motor Company Building",
         1685
        ],
        [
         "BR0071",
         "Anadol Motors",
         1686
        ],
        [
         "BR0160",
         "Auto-Union Motors",
         1687
        ],
        [
         "BR0175",
         "Bentley Motors",
         1688
        ],
        [
         "BR0413",
         "Daihatsu Motors",
         1689
        ],
        [
         "BR0635",
         "Ford Europe Motors",
         1690
        ],
        [
         "BR0693",
         "Gilbern Motors",
         1691
        ],
        [
         "BR0734",
         "GTA Spano Motors",
         1692
        ],
        [
         "BR1663",
         "Rolls-Royce Motors",
         1693
        ],
        [
         "BR1874",
         "Subaru Motors",
         1694
        ],
        [
         "BR2122",
         "DKW Motors",
         1695
        ],
        [
         "BR8886",
         "Panoz Motors",
         1696
        ],
        [
         "BR0192",
         "BMW Motors",
         1697
        ],
        [
         "BR0255",
         "Austin, Rover Motors",
         1698
        ],
        [
         "BR0637",
         "Ford Europe Motors",
         1699
        ],
        [
         "BR0757",
         "Healey Motors",
         1700
        ],
        [
         "BR0965",
         "Jaguar Motors",
         1701
        ],
        [
         "BR1078",
         "Lexus Motors",
         1702
        ],
        [
         "BR1262",
         "Merkur Motors",
         1703
        ],
        [
         "BR1352",
         "Moskwitch Motors",
         1704
        ],
        [
         "BR1448",
         "Opel Motors",
         1705
        ],
        [
         "BR1631",
         "Reliant Motors",
         1706
        ],
        [
         "BR1633",
         "Reliant Motors",
         1707
        ],
        [
         "BR1665",
         "Rolls-Royce Motors",
         1708
        ],
        [
         "BR2169",
         "Izh  Motors",
         1709
        ],
        [
         "BR2272",
         "Deccan Motors",
         1710
        ],
        [
         "BR2318",
         "2008 NRHP-listed",
         1711
        ],
        [
         "BR1224",
         "Mazzanti Motors",
         1712
        ],
        [
         "BR1339",
         "Monteverdi Motors",
         1713
        ],
        [
         "BR1699",
         "Saleen Motors",
         1714
        ],
        [
         "BR1739",
         "Santana Motors",
         1715
        ],
        [
         "BR1972",
         "Turner Motors",
         1716
        ],
        [
         "BR2439",
         "Hupmobile Building",
         1717
        ],
        [
         "BR0052",
         "Alvis Motors",
         1718
        ],
        [
         "BR0119",
         "Asia Motors Motors",
         1719
        ],
        [
         "BR0723",
         "GMC Motors",
         1720
        ],
        [
         "BR1167",
         "Marlin Motors",
         1721
        ],
        [
         "BR1545",
         "Piaggio Motors",
         1722
        ],
        [
         "BR2401",
         "Colman Automotive Building",
         1723
        ],
        [
         "BR2586",
         "Datsun Motors",
         1724
        ],
        [
         "BR0419",
         "Daihatsu Motors",
         1725
        ],
        [
         "BR0867",
         "Hyundai Motors",
         1726
        ],
        [
         "BR1770",
         "Seat Motors",
         1727
        ],
        [
         "BR1824",
         "Smart Motors",
         1728
        ],
        [
         "BR2348",
         "Buick Automobile Company Building",
         1729
        ],
        [
         "BR0185",
         "Bitter Motors",
         1730
        ],
        [
         "BR0455",
         "DeLorean Motors",
         1731
        ],
        [
         "BR0692",
         "Gilbern Motors",
         1732
        ],
        [
         "BR0790",
         "Hillman Motors",
         1733
        ],
        [
         "BR0955",
         "Iveco Motors",
         1734
        ],
        [
         "BR0978",
         "Jeep Motors",
         1735
        ],
        [
         "BR1420",
         "NSU Motors",
         1736
        ],
        [
         "BR1522",
         "Peugeot Motors",
         1737
        ],
        [
         "BR1719",
         "San Motors",
         1738
        ],
        [
         "BR2335",
         "Bohn Motor Company Automobile Dealership",
         1739
        ],
        [
         "BR1499",
         "Panther Motors",
         1740
        ],
        [
         "BR3906",
         "Freightliner Motors",
         1741
        ],
        [
         "BR6186",
         "Lada Motors",
         1742
        ],
        [
         "BR0299",
         "Cadillac Motors",
         1743
        ],
        [
         "BR0438",
         "Datsun Motors",
         1744
        ],
        [
         "BR1629",
         "Ranger Motors",
         1745
        ],
        [
         "BR1941",
         "Tornado Motors",
         1746
        ],
        [
         "BR2032",
         "Volkswagen do Brasil Motors",
         1747
        ],
        [
         "BR2057",
         "Volvo Motors",
         1748
        ],
        [
         "BR2241",
         "Talbot  Motors",
         1749
        ],
        [
         "BR0191",
         "BMW Motors",
         1750
        ],
        [
         "BR0537",
         "Elva Motors",
         1751
        ],
        [
         "BR1623",
         "Ranger Motors",
         1752
        ],
        [
         "BR2284",
         "Herald Motors",
         1753
        ],
        [
         "BR0035",
         "Alfa Romeo Motors",
         1754
        ],
        [
         "BR0785",
         "Hillman Motors",
         1755
        ],
        [
         "BR0818",
         "Honda Motors",
         1756
        ],
        [
         "BR1137",
         "Lynx Motors",
         1757
        ],
        [
         "BR1146",
         "BMW Motors",
         1758
        ],
        [
         "BR1759",
         "Scion Motors",
         1759
        ],
        [
         "BR2375",
         "Cass Motor Sales",
         1760
        ],
        [
         "BR3426",
         "Fiat do Brasil Motors",
         1761
        ],
        [
         "BR0613",
         "Ford Australia Motors",
         1762
        ],
        [
         "BR1205",
         "Matra (including Deutsch-Bonnet, René Bonnet) Motors",
         1763
        ],
        [
         "BR1515",
         "Perodua Motors",
         1764
        ],
        [
         "BR1618",
         "Puma Motors",
         1765
        ],
        [
         "BR2766",
         "DeSoto Motors",
         1766
        ],
        [
         "BR0127",
         "Aston Martin Motors",
         1767
        ],
        [
         "BR1447",
         "Opel Motors",
         1768
        ],
        [
         "BR1823",
         "Smart Motors",
         1769
        ],
        [
         "BR2259",
         "Das Motors",
         1770
        ],
        [
         "BR0199",
         "BMW Motors",
         1771
        ],
        [
         "BR0201",
         "Bond Motors",
         1772
        ],
        [
         "BR0237",
         "British Leyland Motors",
         1773
        ],
        [
         "BR0493",
         "Donkervoort Motors",
         1774
        ],
        [
         "BR1041",
         "Lamborghini Motors",
         1775
        ],
        [
         "BR1485",
         "Panoz Motors",
         1776
        ],
        [
         "BR1527",
         "Peugeot Motors",
         1777
        ],
        [
         "BR2417",
         "H Street Playhouse",
         1778
        ],
        [
         "BR7266",
         "Mazda Motors",
         1779
        ],
        [
         "BR0128",
         "Aston Martin Motors",
         1780
        ],
        [
         "BR0234",
         "British Leyland Motors",
         1781
        ],
        [
         "BR1029",
         "KTM Motors",
         1782
        ],
        [
         "BR1125",
         "LuAZ Motors",
         1783
        ],
        [
         "BR1219",
         "Mazda Motors",
         1784
        ],
        [
         "BR1421",
         "Oldsmobile Motors",
         1785
        ],
        [
         "BR1523",
         "Peugeot Motors",
         1786
        ],
        [
         "BR1764",
         "Seat Motors",
         1787
        ],
        [
         "BR2195",
         "Morris  Motors",
         1788
        ],
        [
         "BR2200",
         "Morris  Motors",
         1789
        ],
        [
         "BR2317",
         "2008 NRHP-listed",
         1790
        ],
        [
         "BR0028",
         "Aixam-Mega (including Arola) Motors",
         1791
        ],
        [
         "BR0038",
         "Alfa Romeo Motors",
         1792
        ],
        [
         "BR0872",
         "IFA (including Trabant, Wartburg, Barkas) Motors",
         1793
        ],
        [
         "BR0898",
         "Innocenti Motors",
         1794
        ],
        [
         "BR0912",
         "Isdera Motors",
         1795
        ],
        [
         "BR1005",
         "Kia Motors",
         1796
        ],
        [
         "BR1147",
         "Mahindra Motors",
         1797
        ],
        [
         "BR1999",
         "UAZ Motors",
         1798
        ],
        [
         "BR2023",
         "Volkswagen Motors",
         1799
        ],
        [
         "BR2108",
         "ZIL Motors",
         1800
        ],
        [
         "BR2341",
         "Buick Automobile Company Building",
         1801
        ],
        [
         "BR2344",
         "Buick Automobile Company Building",
         1802
        ],
        [
         "BR0008",
         "AC Cars Motors",
         1803
        ],
        [
         "BR0445",
         "Delahaye Motors",
         1804
        ],
        [
         "BR1493",
         "Panther Motors",
         1805
        ],
        [
         "BR1754",
         "Scion Motors",
         1806
        ],
        [
         "BR2059",
         "Volvo Motors",
         1807
        ],
        [
         "BR0024",
         "Aixam-Mega (including Arola) Motors",
         1808
        ],
        [
         "BR0524",
         "Eicher Polaris Motors",
         1809
        ],
        [
         "BR1218",
         "Mazda Motors",
         1810
        ],
        [
         "BR1482",
         "Panoz Motors",
         1811
        ],
        [
         "BR1687",
         "SAIC Motor Motors",
         1812
        ],
        [
         "BR1838",
         "Spyker Motors",
         1813
        ],
        [
         "BR1902",
         "Tata Motors",
         1814
        ],
        [
         "BR1977",
         "Turner Motors",
         1815
        ],
        [
         "BR2201",
         "Austin  Motors",
         1816
        ],
        [
         "BR2374",
         "Cass Motor Sales",
         1817
        ],
        [
         "BR1175",
         "Maruti Motors",
         1818
        ],
        [
         "BR1544",
         "Piaggio Motors",
         1819
        ],
        [
         "BR1641",
         "Renault Motors",
         1820
        ],
        [
         "BR0214",
         "Borgward (including Goliath and Lloyd) Motors",
         1821
        ],
        [
         "BR0588",
         "Fiat India Motors",
         1822
        ],
        [
         "BR1049",
         "Lamborghini Motors",
         1823
        ],
        [
         "BR1727",
         "Santa Matilde Motors",
         1824
        ],
        [
         "BR2105",
         "ZIL Motors",
         1825
        ],
        [
         "BR0369",
         "Citroën Motors",
         1826
        ],
        [
         "BR0555",
         "Ferrari Motors",
         1827
        ],
        [
         "BR0615",
         "Ford Australia Motors",
         1828
        ],
        [
         "BR0840",
         "Hudson Motors",
         1829
        ],
        [
         "BR1121",
         "LuAZ Motors",
         1830
        ],
        [
         "BR1314",
         "Mitsubishi Motors",
         1831
        ],
        [
         "BR1563",
         "Polestar Motors",
         1832
        ],
        [
         "BR2239",
         "Standard  Motors",
         1833
        ],
        [
         "BR2339",
         "Bohn Motor Company Automobile Dealership",
         1834
        ],
        [
         "BR2393",
         "Clemens Automobile Company Building",
         1835
        ]
       ],
       "datasetInfos": [],
       "dbfsResultPath": null,
       "isJsonSchema": true,
       "metadata": {
        "createTempViewForImplicitDf": true,
        "dataframeName": "_sqldf",
        "executionCount": 73
       },
       "overflow": false,
       "plotOptions": {
        "customPlotOptions": {},
        "displayType": "table",
        "pivotAggregation": null,
        "pivotColumns": null,
        "xColumns": null,
        "yColumns": null
       },
       "removedWidgets": [],
       "schema": [
        {
         "metadata": "{}",
         "name": "Branch_ID",
         "type": "\"string\""
        },
        {
         "metadata": "{}",
         "name": "BranchName",
         "type": "\"string\""
        },
        {
         "metadata": "{}",
         "name": "dim_branch_key",
         "type": "\"long\""
        }
       ],
       "type": "table"
      }
     },
     "output_type": "display_data"
    }
   ],
   "source": [
    "%sql\n",
    "select * from cars_catalog.gold.dim_branch"
   ]
  },
  {
   "cell_type": "markdown",
   "metadata": {
    "application/vnd.databricks.v1+cell": {
     "cellMetadata": {},
     "inputWidgets": {},
     "nuid": "d9b36222-bc1f-450a-aabd-f358bf18bcdc",
     "showTitle": false,
     "tableResultSettingsMap": {},
     "title": ""
    }
   },
   "source": []
  }
 ],
 "metadata": {
  "application/vnd.databricks.v1+notebook": {
   "computePreferences": null,
   "dashboards": [],
   "environmentMetadata": {
    "base_environment": "",
    "client": "1"
   },
   "language": "python",
   "notebookMetadata": {
    "mostRecentlyExecutedCommandWithImplicitDF": {
     "commandId": 4174973514510760,
     "dataframes": [
      "_sqldf"
     ]
    },
    "pythonIndentUnit": 4
   },
   "notebookName": "gold_dim_branch",
   "widgets": {
    "incremental_flag": {
     "currentValue": "0",
     "nuid": "3ba41261-2cb3-4c1e-bdab-dd4f5944bc3e",
     "typedWidgetInfo": {
      "autoCreated": false,
      "defaultValue": "0",
      "label": null,
      "name": "incremental_flag",
      "options": {
       "widgetDisplayType": "Text",
       "validationRegex": null
      },
      "parameterDataType": "String"
     },
     "widgetInfo": {
      "widgetType": "text",
      "defaultValue": "0",
      "label": null,
      "name": "incremental_flag",
      "options": {
       "widgetType": "text",
       "autoCreated": null,
       "validationRegex": null
      }
     }
    }
   }
  },
  "language_info": {
   "name": "python"
  }
 },
 "nbformat": 4,
 "nbformat_minor": 0
}