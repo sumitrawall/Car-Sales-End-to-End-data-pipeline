{
 "cells": [
  {
   "cell_type": "markdown",
   "metadata": {
    "application/vnd.databricks.v1+cell": {
     "cellMetadata": {},
     "inputWidgets": {},
     "nuid": "7e14f0b2-c51b-49f4-aa19-feae73b549a3",
     "showTitle": false,
     "tableResultSettingsMap": {},
     "title": ""
    }
   },
   "source": [
    "#importing libraries"
   ]
  },
  {
   "cell_type": "code",
   "execution_count": 0,
   "metadata": {
    "application/vnd.databricks.v1+cell": {
     "cellMetadata": {
      "byteLimit": 2048000,
      "rowLimit": 10000
     },
     "inputWidgets": {},
     "nuid": "83cfbb91-e1d3-422d-b7db-114107a9ca34",
     "showTitle": false,
     "tableResultSettingsMap": {},
     "title": ""
    }
   },
   "outputs": [],
   "source": [
    "from pyspark.sql.types import *\n",
    "from pyspark.sql.functions import *"
   ]
  },
  {
   "cell_type": "markdown",
   "metadata": {
    "application/vnd.databricks.v1+cell": {
     "cellMetadata": {},
     "inputWidgets": {},
     "nuid": "8ef76983-3acb-4e3c-811a-df3833c1151d",
     "showTitle": false,
     "tableResultSettingsMap": {},
     "title": ""
    }
   },
   "source": [
    "#Create Flag Parameter"
   ]
  },
  {
   "cell_type": "code",
   "execution_count": 0,
   "metadata": {
    "application/vnd.databricks.v1+cell": {
     "cellMetadata": {
      "byteLimit": 2048000,
      "rowLimit": 10000
     },
     "inputWidgets": {},
     "nuid": "7e86f96c-78f0-4cdc-9fc9-dbb2ff72a2fd",
     "showTitle": false,
     "tableResultSettingsMap": {},
     "title": ""
    }
   },
   "outputs": [],
   "source": [
    "dbutils.widgets.text('incremental_flag', '0')"
   ]
  },
  {
   "cell_type": "code",
   "execution_count": 0,
   "metadata": {
    "application/vnd.databricks.v1+cell": {
     "cellMetadata": {
      "byteLimit": 2048000,
      "rowLimit": 10000
     },
     "inputWidgets": {},
     "nuid": "8ca92c73-f592-4114-bb90-79fc4b6daeac",
     "showTitle": false,
     "tableResultSettingsMap": {},
     "title": ""
    }
   },
   "outputs": [
    {
     "output_type": "stream",
     "name": "stdout",
     "output_type": "stream",
     "text": [
      "0\n"
     ]
    }
   ],
   "source": [
    "incremental_flag = dbutils.widgets.get('incremental_flag')\n",
    "print(incremental_flag)"
   ]
  },
  {
   "cell_type": "markdown",
   "metadata": {
    "application/vnd.databricks.v1+cell": {
     "cellMetadata": {},
     "inputWidgets": {},
     "nuid": "d38e0b0b-d967-4d31-b7f7-6bce1455204d",
     "showTitle": false,
     "tableResultSettingsMap": {},
     "title": ""
    }
   },
   "source": [
    "# Creating Dimension Model"
   ]
  },
  {
   "cell_type": "markdown",
   "metadata": {
    "application/vnd.databricks.v1+cell": {
     "cellMetadata": {},
     "inputWidgets": {},
     "nuid": "9e2dfb23-f54c-457c-ad9f-2fedf34f5a43",
     "showTitle": false,
     "tableResultSettingsMap": {},
     "title": ""
    }
   },
   "source": [
    "###Fetch Relative columns"
   ]
  },
  {
   "cell_type": "code",
   "execution_count": 0,
   "metadata": {
    "application/vnd.databricks.v1+cell": {
     "cellMetadata": {
      "byteLimit": 2048000,
      "implicitDf": true,
      "rowLimit": 10000
     },
     "inputWidgets": {},
     "nuid": "c54a6490-580e-4685-af5a-7329e8f33a4c",
     "showTitle": false,
     "tableResultSettingsMap": {},
     "title": ""
    }
   },
   "outputs": [],
   "source": [
    "\n",
    "df_src = spark.sql('''select distinct(Model_ID) as Model_ID, `Model-Category` \n",
    "from parquet.`abfss://silver@carsbaggiodatalake.dfs.core.windows.net/carsales`\n",
    "''')"
   ]
  },
  {
   "cell_type": "markdown",
   "metadata": {
    "application/vnd.databricks.v1+cell": {
     "cellMetadata": {},
     "inputWidgets": {},
     "nuid": "c263ad3a-2d2e-4b33-a851-ae3546b859d9",
     "showTitle": false,
     "tableResultSettingsMap": {},
     "title": ""
    }
   },
   "source": [
    "###Dim_model Sink - Initial and Incremental"
   ]
  },
  {
   "cell_type": "code",
   "execution_count": 0,
   "metadata": {
    "application/vnd.databricks.v1+cell": {
     "cellMetadata": {
      "byteLimit": 2048000,
      "rowLimit": 10000
     },
     "inputWidgets": {},
     "nuid": "73752e74-dbaa-4eff-93c6-54ffbaf292e5",
     "showTitle": false,
     "tableResultSettingsMap": {},
     "title": ""
    }
   },
   "outputs": [],
   "source": [
    "if spark.catalog.tableExists('cars_catalog.gold.dim_model') :\n",
    "\n",
    "      df_sink = spark.sql('''SELECT dim_model_key, Model_ID, `Model-Category` \n",
    "      FROM cars_catalog.gold.dim_model\n",
    "     ''')\n",
    "\n",
    "else:\n",
    "       df_sink = spark.sql('''SELECT 1 as dim_model_key, Model_ID, `Model-Category` \n",
    "       FROM parquet.`abfss://silver@carsbaggiodatalake.dfs.core.windows.net/carsales`\n",
    "       where 1=0''')\n"
   ]
  },
  {
   "cell_type": "markdown",
   "metadata": {
    "application/vnd.databricks.v1+cell": {
     "cellMetadata": {},
     "inputWidgets": {},
     "nuid": "f52030f5-48e1-421b-a544-7df1747bab81",
     "showTitle": false,
     "tableResultSettingsMap": {},
     "title": ""
    }
   },
   "source": [
    "### Filtering new records and Old records"
   ]
  },
  {
   "cell_type": "code",
   "execution_count": 0,
   "metadata": {
    "application/vnd.databricks.v1+cell": {
     "cellMetadata": {
      "byteLimit": 2048000,
      "rowLimit": 10000
     },
     "inputWidgets": {},
     "nuid": "d0d9d6c7-86a7-488b-8aed-a79cfff47319",
     "showTitle": false,
     "tableResultSettingsMap": {},
     "title": ""
    }
   },
   "outputs": [],
   "source": [
    "df_filter = df_src.join(df_sink, df_src['Model_ID'] == df_sink['Model_ID'], 'left').select(df_src['Model_ID'], df_src['Model-Category'], df_sink['dim_model_key'])"
   ]
  },
  {
   "cell_type": "markdown",
   "metadata": {
    "application/vnd.databricks.v1+cell": {
     "cellMetadata": {},
     "inputWidgets": {},
     "nuid": "b5fc7641-d49b-48cc-8b9a-aefa92cbb9bd",
     "showTitle": false,
     "tableResultSettingsMap": {},
     "title": ""
    }
   },
   "source": [
    "###df_filer_old"
   ]
  },
  {
   "cell_type": "code",
   "execution_count": 0,
   "metadata": {
    "application/vnd.databricks.v1+cell": {
     "cellMetadata": {
      "byteLimit": 2048000,
      "rowLimit": 10000
     },
     "inputWidgets": {},
     "nuid": "1bf227d6-1e2e-45ec-87b4-18264987ed76",
     "showTitle": false,
     "tableResultSettingsMap": {},
     "title": ""
    }
   },
   "outputs": [],
   "source": [
    "df_filter_old = df_filter.filter(col('dim_model_key').isNotNull())"
   ]
  },
  {
   "cell_type": "markdown",
   "metadata": {
    "application/vnd.databricks.v1+cell": {
     "cellMetadata": {},
     "inputWidgets": {},
     "nuid": "33c5f559-4c0f-456a-887b-436883e2152a",
     "showTitle": false,
     "tableResultSettingsMap": {},
     "title": ""
    }
   },
   "source": [
    "###df_filer_new"
   ]
  },
  {
   "cell_type": "code",
   "execution_count": 0,
   "metadata": {
    "application/vnd.databricks.v1+cell": {
     "cellMetadata": {
      "byteLimit": 2048000,
      "rowLimit": 10000
     },
     "inputWidgets": {},
     "nuid": "70f5f02a-bf8b-4d90-be63-923d869f13d7",
     "showTitle": false,
     "tableResultSettingsMap": {},
     "title": ""
    }
   },
   "outputs": [],
   "source": [
    "df_filter_new = df_filter.filter(col('dim_model_key').isNull()).select(df_src['Model_ID'], df_src['Model-Category'])"
   ]
  },
  {
   "cell_type": "code",
   "execution_count": 0,
   "metadata": {
    "application/vnd.databricks.v1+cell": {
     "cellMetadata": {
      "byteLimit": 2048000,
      "rowLimit": 10000
     },
     "inputWidgets": {},
     "nuid": "eea595d7-371a-4308-840c-f6fc87dce2b7",
     "showTitle": false,
     "tableResultSettingsMap": {},
     "title": ""
    }
   },
   "outputs": [
    {
     "output_type": "display_data",
     "data": {
      "text/html": [
       "<style scoped>\n",
       "  .table-result-container {\n",
       "    max-height: 300px;\n",
       "    overflow: auto;\n",
       "  }\n",
       "  table, th, td {\n",
       "    border: 1px solid black;\n",
       "    border-collapse: collapse;\n",
       "  }\n",
       "  th, td {\n",
       "    padding: 5px;\n",
       "  }\n",
       "  th {\n",
       "    text-align: left;\n",
       "  }\n",
       "</style><div class='table-result-container'><table class='table-result'><thead style='background-color: white'><tr><th>Model_ID</th><th>Model-Category</th></tr></thead><tbody><tr><td>Mah-M167</td><td>Mah</td></tr><tr><td>Che-M47</td><td>Che</td></tr><tr><td>Toy-M205</td><td>Toy</td></tr><tr><td>BMW-M249</td><td>BMW</td></tr><tr><td>Mer-M122</td><td>Mer</td></tr><tr><td>Hon-M215</td><td>Hon</td></tr><tr><td>Nis-M82</td><td>Nis</td></tr><tr><td>Toy-M206</td><td>Toy</td></tr><tr><td>Mar-M139</td><td>Mar</td></tr><tr><td>Ren-M207</td><td>Ren</td></tr><tr><td>Mar-M146</td><td>Mar</td></tr><tr><td>Mar-M141</td><td>Mar</td></tr><tr><td>Lin-M28</td><td>Lin</td></tr><tr><td>Hon-M69</td><td>Hon</td></tr><tr><td>Toy-M202</td><td>Toy</td></tr><tr><td>Cad-M32</td><td>Cad</td></tr><tr><td>Tat-M185</td><td>Tat</td></tr><tr><td>Aud-M231</td><td>Aud</td></tr><tr><td>Tat-M192</td><td>Tat</td></tr><tr><td>Che-M41</td><td>Che</td></tr><tr><td>Ram-M14</td><td>Ram</td></tr><tr><td>Mar-M138</td><td>Mar</td></tr><tr><td>Aud-M236</td><td>Aud</td></tr><tr><td>Mar-M151</td><td>Mar</td></tr><tr><td>Acu-M59</td><td>Acu</td></tr><tr><td>Hon-M70</td><td>Hon</td></tr><tr><td>Mah-M174</td><td>Mah</td></tr><tr><td>Dod-M9</td><td>Dod</td></tr><tr><td>Tes-M96</td><td>Tes</td></tr><tr><td>Tat-M194</td><td>Tat</td></tr><tr><td>For-M23</td><td>For</td></tr><tr><td>BMW-M3</td><td>BMW</td></tr><tr><td>Vol-M108</td><td>Vol</td></tr><tr><td>Nis-M263</td><td>Nis</td></tr><tr><td>BMW-M250</td><td>BMW</td></tr><tr><td>Aud-M234</td><td>Aud</td></tr><tr><td>Toy-M103</td><td>Toy</td></tr><tr><td>For-M25</td><td>For</td></tr><tr><td>Ren-M129</td><td>Ren</td></tr><tr><td>Nis-M267</td><td>Nis</td></tr><tr><td>Hon-M68</td><td>Hon</td></tr><tr><td>Nis-M85</td><td>Nis</td></tr><tr><td>Hyu-M163</td><td>Hyu</td></tr><tr><td>Aud-M235</td><td>Aud</td></tr><tr><td>Lex-M99</td><td>Lex</td></tr><tr><td>Toy-M133</td><td>Toy</td></tr><tr><td>Kia-M76</td><td>Kia</td></tr><tr><td>Tat-M187</td><td>Tat</td></tr><tr><td>Jee-M10</td><td>Jee</td></tr><tr><td>Cit-M115</td><td>Cit</td></tr><tr><td>Sko-M274</td><td>Sko</td></tr><tr><td>Ren-M209</td><td>Ren</td></tr><tr><td>Hyu-M154</td><td>Hyu</td></tr><tr><td>Mer-M123</td><td>Mer</td></tr><tr><td>Mer-M7</td><td>Mer</td></tr><tr><td>Cad-M36</td><td>Cad</td></tr><tr><td>Ren-M208</td><td>Ren</td></tr><tr><td>For-M119</td><td>For</td></tr><tr><td>Hon-M67</td><td>Hon</td></tr><tr><td>Hyu-M162</td><td>Hyu</td></tr><tr><td>Toy-M203</td><td>Toy</td></tr><tr><td>Mar-M145</td><td>Mar</td></tr><tr><td>Che-M51</td><td>Che</td></tr><tr><td>Nis-M84</td><td>Nis</td></tr><tr><td>Mah-M177</td><td>Mah</td></tr><tr><td>Peu-M125</td><td>Peu</td></tr><tr><td>Toy-M198</td><td>Toy</td></tr><tr><td>Toy-M104</td><td>Toy</td></tr><tr><td>For-M16</td><td>For</td></tr><tr><td>BMW-M4</td><td>BMW</td></tr><tr><td>Nis-M88</td><td>Nis</td></tr><tr><td>Che-M114</td><td>Che</td></tr><tr><td>Aud-M233</td><td>Aud</td></tr><tr><td>Mar-M147</td><td>Mar</td></tr><tr><td>Nis-M269</td><td>Nis</td></tr><tr><td>Tes-M98</td><td>Tes</td></tr><tr><td>Acu-M60</td><td>Acu</td></tr><tr><td>Aud-M241</td><td>Aud</td></tr><tr><td>Mah-M175</td><td>Mah</td></tr><tr><td>Toy-M106</td><td>Toy</td></tr><tr><td>Hyu-M155</td><td>Hyu</td></tr><tr><td>Vol-M110</td><td>Vol</td></tr><tr><td>Mah-M171</td><td>Mah</td></tr><tr><td>Lin-M30</td><td>Lin</td></tr><tr><td>BMW-M242</td><td>BMW</td></tr><tr><td>For-M223</td><td>For</td></tr><tr><td>Ren-M127</td><td>Ren</td></tr><tr><td>Aud-M229</td><td>Aud</td></tr><tr><td>Mah-M168</td><td>Mah</td></tr><tr><td>For-M225</td><td>For</td></tr><tr><td>Aud-M232</td><td>Aud</td></tr><tr><td>Toy-M200</td><td>Toy</td></tr><tr><td>Kia-M77</td><td>Kia</td></tr><tr><td>BMW-M248</td><td>BMW</td></tr><tr><td>Hyu-M164</td><td>Hyu</td></tr><tr><td>Ren-M211</td><td>Ren</td></tr><tr><td>Mar-M149</td><td>Mar</td></tr><tr><td>GMC-M53</td><td>GMC</td></tr><tr><td>Mit-M275</td><td>Mit</td></tr><tr><td>Ren-M131</td><td>Ren</td></tr><tr><td>Tat-M186</td><td>Tat</td></tr><tr><td>Hon-M217</td><td>Hon</td></tr><tr><td>Mar-M152</td><td>Mar</td></tr><tr><td>Jee-M11</td><td>Jee</td></tr><tr><td>Vol-M135</td><td>Vol</td></tr><tr><td>Ren-M128</td><td>Ren</td></tr><tr><td>Cad-M38</td><td>Cad</td></tr><tr><td>Tat-M190</td><td>Tat</td></tr><tr><td>Hyu-M153</td><td>Hyu</td></tr><tr><td>Mer-M8</td><td>Mer</td></tr><tr><td>GMC-M55</td><td>GMC</td></tr><tr><td>Toy-M201</td><td>Toy</td></tr><tr><td>BMW-M244</td><td>BMW</td></tr><tr><td>Toy-M134</td><td>Toy</td></tr><tr><td>Agr-M111</td><td>Agr</td></tr><tr><td>Fia-M117</td><td>Fia</td></tr><tr><td>Mit-M276</td><td>Mit</td></tr><tr><td>Kia-M78</td><td>Kia</td></tr><tr><td>Aud-M230</td><td>Aud</td></tr><tr><td>Tat-M193</td><td>Tat</td></tr><tr><td>Ram-M15</td><td>Ram</td></tr><tr><td>For-M22</td><td>For</td></tr><tr><td>Acu-M62</td><td>Acu</td></tr><tr><td>Mah-M165</td><td>Mah</td></tr><tr><td>Fia-M118</td><td>Fia</td></tr><tr><td>Toy-M195</td><td>Toy</td></tr><tr><td>Che-M49</td><td>Che</td></tr><tr><td>Bui-M31</td><td>Bui</td></tr><tr><td>For-M26</td><td>For</td></tr><tr><td>Peu-M124</td><td>Peu</td></tr><tr><td>Nis-M83</td><td>Nis</td></tr><tr><td>Nis-M266</td><td>Nis</td></tr><tr><td>Mar-M142</td><td>Mar</td></tr><tr><td>For-M18</td><td>For</td></tr><tr><td>Jee-M253</td><td>Jee</td></tr><tr><td>Tat-M181</td><td>Tat</td></tr><tr><td>Hyu-M157</td><td>Hyu</td></tr><tr><td>Cad-M39</td><td>Cad</td></tr><tr><td>For-M221</td><td>For</td></tr><tr><td>Aud-M240</td><td>Aud</td></tr><tr><td>Ren-M210</td><td>Ren</td></tr><tr><td>Acu-M61</td><td>Acu</td></tr><tr><td>Toy-M102</td><td>Toy</td></tr><tr><td>Nis-M262</td><td>Nis</td></tr><tr><td>Hon-M216</td><td>Hon</td></tr><tr><td>MG-M252</td><td>MG</td></tr><tr><td>Mah-M178</td><td>Mah</td></tr><tr><td>Sub-M93</td><td>Sub</td></tr><tr><td>Kia-M213</td><td>Kia</td></tr><tr><td>Hyu-M75</td><td>Hyu</td></tr><tr><td>Mah-M170</td><td>Mah</td></tr><tr><td>Aud-M239</td><td>Aud</td></tr><tr><td>Tat-M180</td><td>Tat</td></tr><tr><td>Hyu-M74</td><td>Hyu</td></tr><tr><td>BMW-M1</td><td>BMW</td></tr><tr><td>Cad-M35</td><td>Cad</td></tr><tr><td>BMW-M246</td><td>BMW</td></tr><tr><td>Ren-M132</td><td>Ren</td></tr><tr><td>GMC-M58</td><td>GMC</td></tr><tr><td>Mar-M148</td><td>Mar</td></tr><tr><td>Hyu-M161</td><td>Hyu</td></tr><tr><td>Toy-M105</td><td>Toy</td></tr><tr><td>Aud-M228</td><td>Aud</td></tr><tr><td>Aud-M237</td><td>Aud</td></tr><tr><td>Nis-M89</td><td>Nis</td></tr><tr><td>Hyu-M72</td><td>Hyu</td></tr><tr><td>BMW-M243</td><td>BMW</td></tr><tr><td>Mar-M140</td><td>Mar</td></tr><tr><td>Toy-M196</td><td>Toy</td></tr><tr><td>Che-M42</td><td>Che</td></tr><tr><td>Tes-M97</td><td>Tes</td></tr><tr><td>Vol-M260</td><td>Vol</td></tr><tr><td>Mah-M176</td><td>Mah</td></tr><tr><td>Nis-M86</td><td>Nis</td></tr><tr><td>Hon-M64</td><td>Hon</td></tr><tr><td>MG-M251</td><td>MG</td></tr><tr><td>Mer-M121</td><td>Mer</td></tr><tr><td>Nis-M81</td><td>Nis</td></tr><tr><td>GMC-M54</td><td>GMC</td></tr><tr><td>Hon-M220</td><td>Hon</td></tr><tr><td>Che-M50</td><td>Che</td></tr><tr><td>Cad-M37</td><td>Cad</td></tr><tr><td>Hyu-M158</td><td>Hyu</td></tr><tr><td>Inf-M79</td><td>Inf</td></tr><tr><td>BMW-M2</td><td>BMW</td></tr><tr><td>GMC-M57</td><td>GMC</td></tr><tr><td>GMC-M52</td><td>GMC</td></tr><tr><td>Cit-M116</td><td>Cit</td></tr><tr><td>Mar-M144</td><td>Mar</td></tr><tr><td>For-M17</td><td>For</td></tr><tr><td>Tat-M184</td><td>Tat</td></tr><tr><td>Hyu-M159</td><td>Hyu</td></tr><tr><td>Tat-M183</td><td>Tat</td></tr><tr><td>Nis-M264</td><td>Nis</td></tr><tr><td>BMW-M5</td><td>BMW</td></tr><tr><td>Che-M43</td><td>Che</td></tr><tr><td>Mah-M169</td><td>Mah</td></tr><tr><td>Tat-M182</td><td>Tat</td></tr><tr><td>Tat-M188</td><td>Tat</td></tr><tr><td>Aud-M227</td><td>Aud</td></tr><tr><td>Mah-M166</td><td>Mah</td></tr><tr><td>Riv-M91</td><td>Riv</td></tr><tr><td>Hon-M71</td><td>Hon</td></tr><tr><td>Hyu-M73</td><td>Hyu</td></tr><tr><td>Hyu-M156</td><td>Hyu</td></tr><tr><td>Lin-M27</td><td>Lin</td></tr><tr><td>Cad-M34</td><td>Cad</td></tr><tr><td>Mar-M137</td><td>Mar</td></tr><tr><td>Mah-M173</td><td>Mah</td></tr><tr><td>Tat-M179</td><td>Tat</td></tr><tr><td>Sub-M94</td><td>Sub</td></tr><tr><td>Jee-M254</td><td>Jee</td></tr><tr><td>GMC-M56</td><td>GMC</td></tr><tr><td>Hyu-M160</td><td>Hyu</td></tr><tr><td>Vol-M109</td><td>Vol</td></tr><tr><td>Peu-M126</td><td>Peu</td></tr><tr><td>For-M222</td><td>For</td></tr><tr><td>Toy-M101</td><td>Toy</td></tr><tr><td>Kia-M214</td><td>Kia</td></tr><tr><td>Sub-M95</td><td>Sub</td></tr><tr><td>Mar-M143</td><td>Mar</td></tr><tr><td>Nis-M265</td><td>Nis</td></tr><tr><td>Hon-M65</td><td>Hon</td></tr><tr><td>Sko-M272</td><td>Sko</td></tr><tr><td>Che-M45</td><td>Che</td></tr><tr><td>Toy-M107</td><td>Toy</td></tr><tr><td>Jee-M12</td><td>Jee</td></tr><tr><td>Mit-M277</td><td>Mit</td></tr><tr><td>Hon-M66</td><td>Hon</td></tr><tr><td>Toy-M100</td><td>Toy</td></tr><tr><td>For-M19</td><td>For</td></tr><tr><td>Agr-M113</td><td>Agr</td></tr><tr><td>Toy-M204</td><td>Toy</td></tr><tr><td>Hon-M120</td><td>Hon</td></tr><tr><td>Sko-M271</td><td>Sko</td></tr><tr><td>Vol-M255</td><td>Vol</td></tr><tr><td>Toy-M199</td><td>Toy</td></tr><tr><td>Vol-M256</td><td>Vol</td></tr><tr><td>Sub-M92</td><td>Sub</td></tr><tr><td>Toy-M197</td><td>Toy</td></tr><tr><td>Mah-M172</td><td>Mah</td></tr><tr><td>Che-M48</td><td>Che</td></tr><tr><td>Nis-M87</td><td>Nis</td></tr><tr><td>Mar-M150</td><td>Mar</td></tr><tr><td>Acu-M63</td><td>Acu</td></tr><tr><td>BMW-M247</td><td>BMW</td></tr><tr><td>For-M226</td><td>For</td></tr><tr><td>Vol-M257</td><td>Vol</td></tr><tr><td>Vol-M259</td><td>Vol</td></tr><tr><td>Nis-M80</td><td>Nis</td></tr><tr><td>Kia-M212</td><td>Kia</td></tr><tr><td>Hon-M218</td><td>Hon</td></tr><tr><td>For-M24</td><td>For</td></tr><tr><td>Sko-M273</td><td>Sko</td></tr><tr><td>Lin-M29</td><td>Lin</td></tr><tr><td>Agr-M112</td><td>Agr</td></tr><tr><td>Tat-M189</td><td>Tat</td></tr><tr><td>Nis-M270</td><td>Nis</td></tr><tr><td>Riv-M90</td><td>Riv</td></tr><tr><td>Che-M44</td><td>Che</td></tr><tr><td>Aud-M238</td><td>Aud</td></tr><tr><td>Vol-M136</td><td>Vol</td></tr><tr><td>For-M21</td><td>For</td></tr><tr><td>For-M224</td><td>For</td></tr><tr><td>Che-M40</td><td>Che</td></tr><tr><td>Ren-M130</td><td>Ren</td></tr><tr><td>Hon-M219</td><td>Hon</td></tr><tr><td>Che-M46</td><td>Che</td></tr><tr><td>Mer-M6</td><td>Mer</td></tr><tr><td>Vol-M258</td><td>Vol</td></tr><tr><td>Jee-M13</td><td>Jee</td></tr><tr><td>Nis-M261</td><td>Nis</td></tr><tr><td>For-M20</td><td>For</td></tr><tr><td>Tat-M191</td><td>Tat</td></tr><tr><td>BMW-M245</td><td>BMW</td></tr><tr><td>Nis-M268</td><td>Nis</td></tr><tr><td>Cad-M33</td><td>Cad</td></tr></tbody></table></div>"
      ]
     },
     "metadata": {
      "application/vnd.databricks.v1+output": {
       "addedWidgets": {},
       "aggData": [],
       "aggError": "",
       "aggOverflow": false,
       "aggSchema": [],
       "aggSeriesLimitReached": false,
       "aggType": "",
       "arguments": {},
       "columnCustomDisplayInfos": {},
       "data": [
        [
         "Mah-M167",
         "Mah"
        ],
        [
         "Che-M47",
         "Che"
        ],
        [
         "Toy-M205",
         "Toy"
        ],
        [
         "BMW-M249",
         "BMW"
        ],
        [
         "Mer-M122",
         "Mer"
        ],
        [
         "Hon-M215",
         "Hon"
        ],
        [
         "Nis-M82",
         "Nis"
        ],
        [
         "Toy-M206",
         "Toy"
        ],
        [
         "Mar-M139",
         "Mar"
        ],
        [
         "Ren-M207",
         "Ren"
        ],
        [
         "Mar-M146",
         "Mar"
        ],
        [
         "Mar-M141",
         "Mar"
        ],
        [
         "Lin-M28",
         "Lin"
        ],
        [
         "Hon-M69",
         "Hon"
        ],
        [
         "Toy-M202",
         "Toy"
        ],
        [
         "Cad-M32",
         "Cad"
        ],
        [
         "Tat-M185",
         "Tat"
        ],
        [
         "Aud-M231",
         "Aud"
        ],
        [
         "Tat-M192",
         "Tat"
        ],
        [
         "Che-M41",
         "Che"
        ],
        [
         "Ram-M14",
         "Ram"
        ],
        [
         "Mar-M138",
         "Mar"
        ],
        [
         "Aud-M236",
         "Aud"
        ],
        [
         "Mar-M151",
         "Mar"
        ],
        [
         "Acu-M59",
         "Acu"
        ],
        [
         "Hon-M70",
         "Hon"
        ],
        [
         "Mah-M174",
         "Mah"
        ],
        [
         "Dod-M9",
         "Dod"
        ],
        [
         "Tes-M96",
         "Tes"
        ],
        [
         "Tat-M194",
         "Tat"
        ],
        [
         "For-M23",
         "For"
        ],
        [
         "BMW-M3",
         "BMW"
        ],
        [
         "Vol-M108",
         "Vol"
        ],
        [
         "Nis-M263",
         "Nis"
        ],
        [
         "BMW-M250",
         "BMW"
        ],
        [
         "Aud-M234",
         "Aud"
        ],
        [
         "Toy-M103",
         "Toy"
        ],
        [
         "For-M25",
         "For"
        ],
        [
         "Ren-M129",
         "Ren"
        ],
        [
         "Nis-M267",
         "Nis"
        ],
        [
         "Hon-M68",
         "Hon"
        ],
        [
         "Nis-M85",
         "Nis"
        ],
        [
         "Hyu-M163",
         "Hyu"
        ],
        [
         "Aud-M235",
         "Aud"
        ],
        [
         "Lex-M99",
         "Lex"
        ],
        [
         "Toy-M133",
         "Toy"
        ],
        [
         "Kia-M76",
         "Kia"
        ],
        [
         "Tat-M187",
         "Tat"
        ],
        [
         "Jee-M10",
         "Jee"
        ],
        [
         "Cit-M115",
         "Cit"
        ],
        [
         "Sko-M274",
         "Sko"
        ],
        [
         "Ren-M209",
         "Ren"
        ],
        [
         "Hyu-M154",
         "Hyu"
        ],
        [
         "Mer-M123",
         "Mer"
        ],
        [
         "Mer-M7",
         "Mer"
        ],
        [
         "Cad-M36",
         "Cad"
        ],
        [
         "Ren-M208",
         "Ren"
        ],
        [
         "For-M119",
         "For"
        ],
        [
         "Hon-M67",
         "Hon"
        ],
        [
         "Hyu-M162",
         "Hyu"
        ],
        [
         "Toy-M203",
         "Toy"
        ],
        [
         "Mar-M145",
         "Mar"
        ],
        [
         "Che-M51",
         "Che"
        ],
        [
         "Nis-M84",
         "Nis"
        ],
        [
         "Mah-M177",
         "Mah"
        ],
        [
         "Peu-M125",
         "Peu"
        ],
        [
         "Toy-M198",
         "Toy"
        ],
        [
         "Toy-M104",
         "Toy"
        ],
        [
         "For-M16",
         "For"
        ],
        [
         "BMW-M4",
         "BMW"
        ],
        [
         "Nis-M88",
         "Nis"
        ],
        [
         "Che-M114",
         "Che"
        ],
        [
         "Aud-M233",
         "Aud"
        ],
        [
         "Mar-M147",
         "Mar"
        ],
        [
         "Nis-M269",
         "Nis"
        ],
        [
         "Tes-M98",
         "Tes"
        ],
        [
         "Acu-M60",
         "Acu"
        ],
        [
         "Aud-M241",
         "Aud"
        ],
        [
         "Mah-M175",
         "Mah"
        ],
        [
         "Toy-M106",
         "Toy"
        ],
        [
         "Hyu-M155",
         "Hyu"
        ],
        [
         "Vol-M110",
         "Vol"
        ],
        [
         "Mah-M171",
         "Mah"
        ],
        [
         "Lin-M30",
         "Lin"
        ],
        [
         "BMW-M242",
         "BMW"
        ],
        [
         "For-M223",
         "For"
        ],
        [
         "Ren-M127",
         "Ren"
        ],
        [
         "Aud-M229",
         "Aud"
        ],
        [
         "Mah-M168",
         "Mah"
        ],
        [
         "For-M225",
         "For"
        ],
        [
         "Aud-M232",
         "Aud"
        ],
        [
         "Toy-M200",
         "Toy"
        ],
        [
         "Kia-M77",
         "Kia"
        ],
        [
         "BMW-M248",
         "BMW"
        ],
        [
         "Hyu-M164",
         "Hyu"
        ],
        [
         "Ren-M211",
         "Ren"
        ],
        [
         "Mar-M149",
         "Mar"
        ],
        [
         "GMC-M53",
         "GMC"
        ],
        [
         "Mit-M275",
         "Mit"
        ],
        [
         "Ren-M131",
         "Ren"
        ],
        [
         "Tat-M186",
         "Tat"
        ],
        [
         "Hon-M217",
         "Hon"
        ],
        [
         "Mar-M152",
         "Mar"
        ],
        [
         "Jee-M11",
         "Jee"
        ],
        [
         "Vol-M135",
         "Vol"
        ],
        [
         "Ren-M128",
         "Ren"
        ],
        [
         "Cad-M38",
         "Cad"
        ],
        [
         "Tat-M190",
         "Tat"
        ],
        [
         "Hyu-M153",
         "Hyu"
        ],
        [
         "Mer-M8",
         "Mer"
        ],
        [
         "GMC-M55",
         "GMC"
        ],
        [
         "Toy-M201",
         "Toy"
        ],
        [
         "BMW-M244",
         "BMW"
        ],
        [
         "Toy-M134",
         "Toy"
        ],
        [
         "Agr-M111",
         "Agr"
        ],
        [
         "Fia-M117",
         "Fia"
        ],
        [
         "Mit-M276",
         "Mit"
        ],
        [
         "Kia-M78",
         "Kia"
        ],
        [
         "Aud-M230",
         "Aud"
        ],
        [
         "Tat-M193",
         "Tat"
        ],
        [
         "Ram-M15",
         "Ram"
        ],
        [
         "For-M22",
         "For"
        ],
        [
         "Acu-M62",
         "Acu"
        ],
        [
         "Mah-M165",
         "Mah"
        ],
        [
         "Fia-M118",
         "Fia"
        ],
        [
         "Toy-M195",
         "Toy"
        ],
        [
         "Che-M49",
         "Che"
        ],
        [
         "Bui-M31",
         "Bui"
        ],
        [
         "For-M26",
         "For"
        ],
        [
         "Peu-M124",
         "Peu"
        ],
        [
         "Nis-M83",
         "Nis"
        ],
        [
         "Nis-M266",
         "Nis"
        ],
        [
         "Mar-M142",
         "Mar"
        ],
        [
         "For-M18",
         "For"
        ],
        [
         "Jee-M253",
         "Jee"
        ],
        [
         "Tat-M181",
         "Tat"
        ],
        [
         "Hyu-M157",
         "Hyu"
        ],
        [
         "Cad-M39",
         "Cad"
        ],
        [
         "For-M221",
         "For"
        ],
        [
         "Aud-M240",
         "Aud"
        ],
        [
         "Ren-M210",
         "Ren"
        ],
        [
         "Acu-M61",
         "Acu"
        ],
        [
         "Toy-M102",
         "Toy"
        ],
        [
         "Nis-M262",
         "Nis"
        ],
        [
         "Hon-M216",
         "Hon"
        ],
        [
         "MG-M252",
         "MG"
        ],
        [
         "Mah-M178",
         "Mah"
        ],
        [
         "Sub-M93",
         "Sub"
        ],
        [
         "Kia-M213",
         "Kia"
        ],
        [
         "Hyu-M75",
         "Hyu"
        ],
        [
         "Mah-M170",
         "Mah"
        ],
        [
         "Aud-M239",
         "Aud"
        ],
        [
         "Tat-M180",
         "Tat"
        ],
        [
         "Hyu-M74",
         "Hyu"
        ],
        [
         "BMW-M1",
         "BMW"
        ],
        [
         "Cad-M35",
         "Cad"
        ],
        [
         "BMW-M246",
         "BMW"
        ],
        [
         "Ren-M132",
         "Ren"
        ],
        [
         "GMC-M58",
         "GMC"
        ],
        [
         "Mar-M148",
         "Mar"
        ],
        [
         "Hyu-M161",
         "Hyu"
        ],
        [
         "Toy-M105",
         "Toy"
        ],
        [
         "Aud-M228",
         "Aud"
        ],
        [
         "Aud-M237",
         "Aud"
        ],
        [
         "Nis-M89",
         "Nis"
        ],
        [
         "Hyu-M72",
         "Hyu"
        ],
        [
         "BMW-M243",
         "BMW"
        ],
        [
         "Mar-M140",
         "Mar"
        ],
        [
         "Toy-M196",
         "Toy"
        ],
        [
         "Che-M42",
         "Che"
        ],
        [
         "Tes-M97",
         "Tes"
        ],
        [
         "Vol-M260",
         "Vol"
        ],
        [
         "Mah-M176",
         "Mah"
        ],
        [
         "Nis-M86",
         "Nis"
        ],
        [
         "Hon-M64",
         "Hon"
        ],
        [
         "MG-M251",
         "MG"
        ],
        [
         "Mer-M121",
         "Mer"
        ],
        [
         "Nis-M81",
         "Nis"
        ],
        [
         "GMC-M54",
         "GMC"
        ],
        [
         "Hon-M220",
         "Hon"
        ],
        [
         "Che-M50",
         "Che"
        ],
        [
         "Cad-M37",
         "Cad"
        ],
        [
         "Hyu-M158",
         "Hyu"
        ],
        [
         "Inf-M79",
         "Inf"
        ],
        [
         "BMW-M2",
         "BMW"
        ],
        [
         "GMC-M57",
         "GMC"
        ],
        [
         "GMC-M52",
         "GMC"
        ],
        [
         "Cit-M116",
         "Cit"
        ],
        [
         "Mar-M144",
         "Mar"
        ],
        [
         "For-M17",
         "For"
        ],
        [
         "Tat-M184",
         "Tat"
        ],
        [
         "Hyu-M159",
         "Hyu"
        ],
        [
         "Tat-M183",
         "Tat"
        ],
        [
         "Nis-M264",
         "Nis"
        ],
        [
         "BMW-M5",
         "BMW"
        ],
        [
         "Che-M43",
         "Che"
        ],
        [
         "Mah-M169",
         "Mah"
        ],
        [
         "Tat-M182",
         "Tat"
        ],
        [
         "Tat-M188",
         "Tat"
        ],
        [
         "Aud-M227",
         "Aud"
        ],
        [
         "Mah-M166",
         "Mah"
        ],
        [
         "Riv-M91",
         "Riv"
        ],
        [
         "Hon-M71",
         "Hon"
        ],
        [
         "Hyu-M73",
         "Hyu"
        ],
        [
         "Hyu-M156",
         "Hyu"
        ],
        [
         "Lin-M27",
         "Lin"
        ],
        [
         "Cad-M34",
         "Cad"
        ],
        [
         "Mar-M137",
         "Mar"
        ],
        [
         "Mah-M173",
         "Mah"
        ],
        [
         "Tat-M179",
         "Tat"
        ],
        [
         "Sub-M94",
         "Sub"
        ],
        [
         "Jee-M254",
         "Jee"
        ],
        [
         "GMC-M56",
         "GMC"
        ],
        [
         "Hyu-M160",
         "Hyu"
        ],
        [
         "Vol-M109",
         "Vol"
        ],
        [
         "Peu-M126",
         "Peu"
        ],
        [
         "For-M222",
         "For"
        ],
        [
         "Toy-M101",
         "Toy"
        ],
        [
         "Kia-M214",
         "Kia"
        ],
        [
         "Sub-M95",
         "Sub"
        ],
        [
         "Mar-M143",
         "Mar"
        ],
        [
         "Nis-M265",
         "Nis"
        ],
        [
         "Hon-M65",
         "Hon"
        ],
        [
         "Sko-M272",
         "Sko"
        ],
        [
         "Che-M45",
         "Che"
        ],
        [
         "Toy-M107",
         "Toy"
        ],
        [
         "Jee-M12",
         "Jee"
        ],
        [
         "Mit-M277",
         "Mit"
        ],
        [
         "Hon-M66",
         "Hon"
        ],
        [
         "Toy-M100",
         "Toy"
        ],
        [
         "For-M19",
         "For"
        ],
        [
         "Agr-M113",
         "Agr"
        ],
        [
         "Toy-M204",
         "Toy"
        ],
        [
         "Hon-M120",
         "Hon"
        ],
        [
         "Sko-M271",
         "Sko"
        ],
        [
         "Vol-M255",
         "Vol"
        ],
        [
         "Toy-M199",
         "Toy"
        ],
        [
         "Vol-M256",
         "Vol"
        ],
        [
         "Sub-M92",
         "Sub"
        ],
        [
         "Toy-M197",
         "Toy"
        ],
        [
         "Mah-M172",
         "Mah"
        ],
        [
         "Che-M48",
         "Che"
        ],
        [
         "Nis-M87",
         "Nis"
        ],
        [
         "Mar-M150",
         "Mar"
        ],
        [
         "Acu-M63",
         "Acu"
        ],
        [
         "BMW-M247",
         "BMW"
        ],
        [
         "For-M226",
         "For"
        ],
        [
         "Vol-M257",
         "Vol"
        ],
        [
         "Vol-M259",
         "Vol"
        ],
        [
         "Nis-M80",
         "Nis"
        ],
        [
         "Kia-M212",
         "Kia"
        ],
        [
         "Hon-M218",
         "Hon"
        ],
        [
         "For-M24",
         "For"
        ],
        [
         "Sko-M273",
         "Sko"
        ],
        [
         "Lin-M29",
         "Lin"
        ],
        [
         "Agr-M112",
         "Agr"
        ],
        [
         "Tat-M189",
         "Tat"
        ],
        [
         "Nis-M270",
         "Nis"
        ],
        [
         "Riv-M90",
         "Riv"
        ],
        [
         "Che-M44",
         "Che"
        ],
        [
         "Aud-M238",
         "Aud"
        ],
        [
         "Vol-M136",
         "Vol"
        ],
        [
         "For-M21",
         "For"
        ],
        [
         "For-M224",
         "For"
        ],
        [
         "Che-M40",
         "Che"
        ],
        [
         "Ren-M130",
         "Ren"
        ],
        [
         "Hon-M219",
         "Hon"
        ],
        [
         "Che-M46",
         "Che"
        ],
        [
         "Mer-M6",
         "Mer"
        ],
        [
         "Vol-M258",
         "Vol"
        ],
        [
         "Jee-M13",
         "Jee"
        ],
        [
         "Nis-M261",
         "Nis"
        ],
        [
         "For-M20",
         "For"
        ],
        [
         "Tat-M191",
         "Tat"
        ],
        [
         "BMW-M245",
         "BMW"
        ],
        [
         "Nis-M268",
         "Nis"
        ],
        [
         "Cad-M33",
         "Cad"
        ]
       ],
       "datasetInfos": [],
       "dbfsResultPath": null,
       "isJsonSchema": true,
       "metadata": {},
       "overflow": false,
       "plotOptions": {
        "customPlotOptions": {},
        "displayType": "table",
        "pivotAggregation": null,
        "pivotColumns": null,
        "xColumns": null,
        "yColumns": null
       },
       "removedWidgets": [],
       "schema": [
        {
         "metadata": "{}",
         "name": "Model_ID",
         "type": "\"string\""
        },
        {
         "metadata": "{}",
         "name": "Model-Category",
         "type": "\"string\""
        }
       ],
       "type": "table"
      }
     },
     "output_type": "display_data"
    }
   ],
   "source": [
    "df_filter_new.display()"
   ]
  },
  {
   "cell_type": "markdown",
   "metadata": {
    "application/vnd.databricks.v1+cell": {
     "cellMetadata": {},
     "inputWidgets": {},
     "nuid": "4ac7f264-95de-446f-8cb5-fea2822f4d36",
     "showTitle": false,
     "tableResultSettingsMap": {},
     "title": ""
    }
   },
   "source": [
    "###Create Surrogate Key"
   ]
  },
  {
   "cell_type": "markdown",
   "metadata": {
    "application/vnd.databricks.v1+cell": {
     "cellMetadata": {},
     "inputWidgets": {},
     "nuid": "accfacbf-128b-4317-a94f-5c0ec7473e31",
     "showTitle": false,
     "tableResultSettingsMap": {},
     "title": ""
    }
   },
   "source": [
    "###Fetch the max Surrogate Key from existing table"
   ]
  },
  {
   "cell_type": "code",
   "execution_count": 0,
   "metadata": {
    "application/vnd.databricks.v1+cell": {
     "cellMetadata": {
      "byteLimit": 2048000,
      "rowLimit": 10000
     },
     "inputWidgets": {},
     "nuid": "bc02f85a-df7f-4ebd-a654-015b6ccd2130",
     "showTitle": false,
     "tableResultSettingsMap": {},
     "title": ""
    }
   },
   "outputs": [],
   "source": [
    "if (incremental_flag =='0'):\n",
    "    max_value = 0\n",
    "else:\n",
    "    max_value_df = spark.sql(\"SELECT MAX(dim_model_key) FROM cars_catalog.gold.dim_model\")\n",
    "    max_value = max_value_df.collect()[0][0]"
   ]
  },
  {
   "cell_type": "markdown",
   "metadata": {
    "application/vnd.databricks.v1+cell": {
     "cellMetadata": {},
     "inputWidgets": {},
     "nuid": "c8da3615-3e74-48a6-8a86-5f79d6ec7b0b",
     "showTitle": false,
     "tableResultSettingsMap": {},
     "title": ""
    }
   },
   "source": [
    "###Create Surrogate Key column and ADD the max surrogate key"
   ]
  },
  {
   "cell_type": "code",
   "execution_count": 0,
   "metadata": {
    "application/vnd.databricks.v1+cell": {
     "cellMetadata": {
      "byteLimit": 2048000,
      "rowLimit": 10000
     },
     "inputWidgets": {},
     "nuid": "c80b8633-ef15-4c7d-b82a-b6a01fe432ec",
     "showTitle": false,
     "tableResultSettingsMap": {},
     "title": ""
    }
   },
   "outputs": [],
   "source": [
    "df_filter_new = df_filter_new.withColumn(\"dim_model_key\", max_value + monotonically_increasing_id())"
   ]
  },
  {
   "cell_type": "markdown",
   "metadata": {
    "application/vnd.databricks.v1+cell": {
     "cellMetadata": {
      "byteLimit": 2048000,
      "implicitDf": true,
      "rowLimit": 10000
     },
     "inputWidgets": {},
     "nuid": "502a21b4-019a-48e3-8cae-d7e6d7149268",
     "showTitle": false,
     "tableResultSettingsMap": {},
     "title": ""
    }
   },
   "source": [
    "###Create Final DF - df_filter_old + df-filter-new"
   ]
  },
  {
   "cell_type": "code",
   "execution_count": 0,
   "metadata": {
    "application/vnd.databricks.v1+cell": {
     "cellMetadata": {
      "byteLimit": 2048000,
      "rowLimit": 10000
     },
     "inputWidgets": {},
     "nuid": "12859b91-ed3f-4a79-93f8-39e082dc6e27",
     "showTitle": false,
     "tableResultSettingsMap": {},
     "title": ""
    }
   },
   "outputs": [],
   "source": [
    "df_final = df_filter_new.union(df_filter_old)"
   ]
  },
  {
   "cell_type": "markdown",
   "metadata": {
    "application/vnd.databricks.v1+cell": {
     "cellMetadata": {},
     "inputWidgets": {},
     "nuid": "85397567-35dc-40dd-9cbb-eed06af65dac",
     "showTitle": false,
     "tableResultSettingsMap": {},
     "title": ""
    }
   },
   "source": [
    "#SCD TYPE-1(UPSERT)"
   ]
  },
  {
   "cell_type": "code",
   "execution_count": 0,
   "metadata": {
    "application/vnd.databricks.v1+cell": {
     "cellMetadata": {
      "byteLimit": 2048000,
      "rowLimit": 10000
     },
     "inputWidgets": {},
     "nuid": "a1db0004-e0f0-4b75-9764-1dd01a97b395",
     "showTitle": false,
     "tableResultSettingsMap": {},
     "title": ""
    }
   },
   "outputs": [],
   "source": [
    "from delta.tables import DeltaTable"
   ]
  },
  {
   "cell_type": "code",
   "execution_count": 0,
   "metadata": {
    "application/vnd.databricks.v1+cell": {
     "cellMetadata": {
      "byteLimit": 2048000,
      "rowLimit": 10000
     },
     "inputWidgets": {},
     "nuid": "61712d3e-c318-4056-84dc-d74e3a7e4fb8",
     "showTitle": false,
     "tableResultSettingsMap": {},
     "title": ""
    }
   },
   "outputs": [],
   "source": [
    "#Incremental RUN\n",
    "if spark.catalog.tableExists('cars_catalog.gold.dim_model'):\n",
    "    delta_tbl = DeltaTable.forPath(spark, \"abfss://gold@carsbaggiodatalake.dfs.core.windows.net/dim_model\")\n",
    "    delta_tbl.alias(\"trg\").merge(df_final.alias(\"src\"), \"trg.dim_model_key = src.dim_model_key\")\\\n",
    "                          .whenMatchedUpdateAll()\\\n",
    "                          .whenNotMatchedInsertAll()\\\n",
    "                          .execute()\n",
    "                         \n",
    "                          \n",
    "    \n",
    "#Initial RUN\n",
    "else:\n",
    "    df_final.write.format(\"delta\")\\\n",
    "            .mode(\"overwrite\")\\\n",
    "            .option(\"path\", \"abfss://gold@carsbaggiodatalake.dfs.core.windows.net/dim_model\")\\\n",
    "            .saveAsTable(\"cars_catalog.gold.dim_model\")"
   ]
  },
  {
   "cell_type": "code",
   "execution_count": 0,
   "metadata": {
    "application/vnd.databricks.v1+cell": {
     "cellMetadata": {
      "byteLimit": 2048000,
      "implicitDf": true,
      "rowLimit": 10000
     },
     "inputWidgets": {},
     "nuid": "de47838b-224b-4a18-a7d1-ab422d9826ba",
     "showTitle": false,
     "tableResultSettingsMap": {},
     "title": ""
    }
   },
   "outputs": [
    {
     "output_type": "display_data",
     "data": {
      "text/html": [
       "<style scoped>\n",
       "  .table-result-container {\n",
       "    max-height: 300px;\n",
       "    overflow: auto;\n",
       "  }\n",
       "  table, th, td {\n",
       "    border: 1px solid black;\n",
       "    border-collapse: collapse;\n",
       "  }\n",
       "  th, td {\n",
       "    padding: 5px;\n",
       "  }\n",
       "  th {\n",
       "    text-align: left;\n",
       "  }\n",
       "</style><div class='table-result-container'><table class='table-result'><thead style='background-color: white'><tr><th>Model_ID</th><th>Model-Category</th><th>dim_model_key</th></tr></thead><tbody><tr><td>Mah-M167</td><td>Mah</td><td>0</td></tr><tr><td>Che-M47</td><td>Che</td><td>1</td></tr><tr><td>Toy-M205</td><td>Toy</td><td>2</td></tr><tr><td>BMW-M249</td><td>BMW</td><td>3</td></tr><tr><td>Mer-M122</td><td>Mer</td><td>4</td></tr><tr><td>Hon-M215</td><td>Hon</td><td>5</td></tr><tr><td>Nis-M82</td><td>Nis</td><td>6</td></tr><tr><td>Toy-M206</td><td>Toy</td><td>7</td></tr><tr><td>Mar-M139</td><td>Mar</td><td>8</td></tr><tr><td>Ren-M207</td><td>Ren</td><td>9</td></tr><tr><td>Mar-M146</td><td>Mar</td><td>10</td></tr><tr><td>Mar-M141</td><td>Mar</td><td>11</td></tr><tr><td>Lin-M28</td><td>Lin</td><td>12</td></tr><tr><td>Hon-M69</td><td>Hon</td><td>13</td></tr><tr><td>Toy-M202</td><td>Toy</td><td>14</td></tr><tr><td>Cad-M32</td><td>Cad</td><td>15</td></tr><tr><td>Tat-M185</td><td>Tat</td><td>16</td></tr><tr><td>Aud-M231</td><td>Aud</td><td>17</td></tr><tr><td>Tat-M192</td><td>Tat</td><td>18</td></tr><tr><td>Che-M41</td><td>Che</td><td>19</td></tr><tr><td>Ram-M14</td><td>Ram</td><td>20</td></tr><tr><td>Mar-M138</td><td>Mar</td><td>21</td></tr><tr><td>Aud-M236</td><td>Aud</td><td>22</td></tr><tr><td>Mar-M151</td><td>Mar</td><td>23</td></tr><tr><td>Acu-M59</td><td>Acu</td><td>24</td></tr><tr><td>Hon-M70</td><td>Hon</td><td>25</td></tr><tr><td>Mah-M174</td><td>Mah</td><td>26</td></tr><tr><td>Dod-M9</td><td>Dod</td><td>27</td></tr><tr><td>Tes-M96</td><td>Tes</td><td>28</td></tr><tr><td>Tat-M194</td><td>Tat</td><td>29</td></tr><tr><td>For-M23</td><td>For</td><td>30</td></tr><tr><td>BMW-M3</td><td>BMW</td><td>31</td></tr><tr><td>Vol-M108</td><td>Vol</td><td>32</td></tr><tr><td>Nis-M263</td><td>Nis</td><td>33</td></tr><tr><td>BMW-M250</td><td>BMW</td><td>34</td></tr><tr><td>Aud-M234</td><td>Aud</td><td>35</td></tr><tr><td>Toy-M103</td><td>Toy</td><td>36</td></tr><tr><td>For-M25</td><td>For</td><td>37</td></tr><tr><td>Ren-M129</td><td>Ren</td><td>38</td></tr><tr><td>Nis-M267</td><td>Nis</td><td>39</td></tr><tr><td>Hon-M68</td><td>Hon</td><td>40</td></tr><tr><td>Nis-M85</td><td>Nis</td><td>41</td></tr><tr><td>Hyu-M163</td><td>Hyu</td><td>42</td></tr><tr><td>Aud-M235</td><td>Aud</td><td>43</td></tr><tr><td>Lex-M99</td><td>Lex</td><td>44</td></tr><tr><td>Toy-M133</td><td>Toy</td><td>45</td></tr><tr><td>Kia-M76</td><td>Kia</td><td>46</td></tr><tr><td>Tat-M187</td><td>Tat</td><td>47</td></tr><tr><td>Jee-M10</td><td>Jee</td><td>48</td></tr><tr><td>Cit-M115</td><td>Cit</td><td>49</td></tr><tr><td>Sko-M274</td><td>Sko</td><td>50</td></tr><tr><td>Ren-M209</td><td>Ren</td><td>51</td></tr><tr><td>Hyu-M154</td><td>Hyu</td><td>52</td></tr><tr><td>Mer-M123</td><td>Mer</td><td>53</td></tr><tr><td>Mer-M7</td><td>Mer</td><td>54</td></tr><tr><td>Cad-M36</td><td>Cad</td><td>55</td></tr><tr><td>Ren-M208</td><td>Ren</td><td>56</td></tr><tr><td>For-M119</td><td>For</td><td>57</td></tr><tr><td>Hon-M67</td><td>Hon</td><td>58</td></tr><tr><td>Hyu-M162</td><td>Hyu</td><td>59</td></tr><tr><td>Toy-M203</td><td>Toy</td><td>60</td></tr><tr><td>Mar-M145</td><td>Mar</td><td>61</td></tr><tr><td>Che-M51</td><td>Che</td><td>62</td></tr><tr><td>Nis-M84</td><td>Nis</td><td>63</td></tr><tr><td>Mah-M177</td><td>Mah</td><td>64</td></tr><tr><td>Peu-M125</td><td>Peu</td><td>65</td></tr><tr><td>Toy-M198</td><td>Toy</td><td>66</td></tr><tr><td>Toy-M104</td><td>Toy</td><td>67</td></tr><tr><td>For-M16</td><td>For</td><td>68</td></tr><tr><td>BMW-M4</td><td>BMW</td><td>69</td></tr><tr><td>Nis-M88</td><td>Nis</td><td>70</td></tr><tr><td>Che-M114</td><td>Che</td><td>71</td></tr><tr><td>Aud-M233</td><td>Aud</td><td>72</td></tr><tr><td>Mar-M147</td><td>Mar</td><td>73</td></tr><tr><td>Nis-M269</td><td>Nis</td><td>74</td></tr><tr><td>Tes-M98</td><td>Tes</td><td>75</td></tr><tr><td>Acu-M60</td><td>Acu</td><td>76</td></tr><tr><td>Aud-M241</td><td>Aud</td><td>77</td></tr><tr><td>Mah-M175</td><td>Mah</td><td>78</td></tr><tr><td>Toy-M106</td><td>Toy</td><td>79</td></tr><tr><td>Hyu-M155</td><td>Hyu</td><td>80</td></tr><tr><td>Vol-M110</td><td>Vol</td><td>81</td></tr><tr><td>Mah-M171</td><td>Mah</td><td>82</td></tr><tr><td>Lin-M30</td><td>Lin</td><td>83</td></tr><tr><td>BMW-M242</td><td>BMW</td><td>84</td></tr><tr><td>For-M223</td><td>For</td><td>85</td></tr><tr><td>Ren-M127</td><td>Ren</td><td>86</td></tr><tr><td>Aud-M229</td><td>Aud</td><td>87</td></tr><tr><td>Mah-M168</td><td>Mah</td><td>88</td></tr><tr><td>For-M225</td><td>For</td><td>89</td></tr><tr><td>Aud-M232</td><td>Aud</td><td>90</td></tr><tr><td>Toy-M200</td><td>Toy</td><td>91</td></tr><tr><td>Kia-M77</td><td>Kia</td><td>92</td></tr><tr><td>BMW-M248</td><td>BMW</td><td>93</td></tr><tr><td>Hyu-M164</td><td>Hyu</td><td>94</td></tr><tr><td>Ren-M211</td><td>Ren</td><td>95</td></tr><tr><td>Mar-M149</td><td>Mar</td><td>96</td></tr><tr><td>GMC-M53</td><td>GMC</td><td>97</td></tr><tr><td>Mit-M275</td><td>Mit</td><td>98</td></tr><tr><td>Ren-M131</td><td>Ren</td><td>99</td></tr><tr><td>Tat-M186</td><td>Tat</td><td>100</td></tr><tr><td>Hon-M217</td><td>Hon</td><td>101</td></tr><tr><td>Mar-M152</td><td>Mar</td><td>102</td></tr><tr><td>Jee-M11</td><td>Jee</td><td>103</td></tr><tr><td>Vol-M135</td><td>Vol</td><td>104</td></tr><tr><td>Ren-M128</td><td>Ren</td><td>105</td></tr><tr><td>Cad-M38</td><td>Cad</td><td>106</td></tr><tr><td>Tat-M190</td><td>Tat</td><td>107</td></tr><tr><td>Hyu-M153</td><td>Hyu</td><td>108</td></tr><tr><td>Mer-M8</td><td>Mer</td><td>109</td></tr><tr><td>GMC-M55</td><td>GMC</td><td>110</td></tr><tr><td>Toy-M201</td><td>Toy</td><td>111</td></tr><tr><td>BMW-M244</td><td>BMW</td><td>112</td></tr><tr><td>Toy-M134</td><td>Toy</td><td>113</td></tr><tr><td>Agr-M111</td><td>Agr</td><td>114</td></tr><tr><td>Fia-M117</td><td>Fia</td><td>115</td></tr><tr><td>Mit-M276</td><td>Mit</td><td>116</td></tr><tr><td>Kia-M78</td><td>Kia</td><td>117</td></tr><tr><td>Aud-M230</td><td>Aud</td><td>118</td></tr><tr><td>Tat-M193</td><td>Tat</td><td>119</td></tr><tr><td>Ram-M15</td><td>Ram</td><td>120</td></tr><tr><td>For-M22</td><td>For</td><td>121</td></tr><tr><td>Acu-M62</td><td>Acu</td><td>122</td></tr><tr><td>Mah-M165</td><td>Mah</td><td>123</td></tr><tr><td>Fia-M118</td><td>Fia</td><td>124</td></tr><tr><td>Toy-M195</td><td>Toy</td><td>125</td></tr><tr><td>Che-M49</td><td>Che</td><td>126</td></tr><tr><td>Bui-M31</td><td>Bui</td><td>127</td></tr><tr><td>For-M26</td><td>For</td><td>128</td></tr><tr><td>Peu-M124</td><td>Peu</td><td>129</td></tr><tr><td>Nis-M83</td><td>Nis</td><td>130</td></tr><tr><td>Nis-M266</td><td>Nis</td><td>131</td></tr><tr><td>Mar-M142</td><td>Mar</td><td>132</td></tr><tr><td>For-M18</td><td>For</td><td>133</td></tr><tr><td>Jee-M253</td><td>Jee</td><td>134</td></tr><tr><td>Tat-M181</td><td>Tat</td><td>135</td></tr><tr><td>Hyu-M157</td><td>Hyu</td><td>136</td></tr><tr><td>Cad-M39</td><td>Cad</td><td>137</td></tr><tr><td>For-M221</td><td>For</td><td>138</td></tr><tr><td>Aud-M240</td><td>Aud</td><td>139</td></tr><tr><td>Ren-M210</td><td>Ren</td><td>140</td></tr><tr><td>Acu-M61</td><td>Acu</td><td>141</td></tr><tr><td>Toy-M102</td><td>Toy</td><td>142</td></tr><tr><td>Nis-M262</td><td>Nis</td><td>143</td></tr><tr><td>Hon-M216</td><td>Hon</td><td>144</td></tr><tr><td>MG-M252</td><td>MG</td><td>145</td></tr><tr><td>Mah-M178</td><td>Mah</td><td>146</td></tr><tr><td>Sub-M93</td><td>Sub</td><td>147</td></tr><tr><td>Kia-M213</td><td>Kia</td><td>148</td></tr><tr><td>Hyu-M75</td><td>Hyu</td><td>149</td></tr><tr><td>Mah-M170</td><td>Mah</td><td>150</td></tr><tr><td>Aud-M239</td><td>Aud</td><td>151</td></tr><tr><td>Tat-M180</td><td>Tat</td><td>152</td></tr><tr><td>Hyu-M74</td><td>Hyu</td><td>153</td></tr><tr><td>BMW-M1</td><td>BMW</td><td>154</td></tr><tr><td>Cad-M35</td><td>Cad</td><td>155</td></tr><tr><td>BMW-M246</td><td>BMW</td><td>156</td></tr><tr><td>Ren-M132</td><td>Ren</td><td>157</td></tr><tr><td>GMC-M58</td><td>GMC</td><td>158</td></tr><tr><td>Mar-M148</td><td>Mar</td><td>159</td></tr><tr><td>Hyu-M161</td><td>Hyu</td><td>160</td></tr><tr><td>Toy-M105</td><td>Toy</td><td>161</td></tr><tr><td>Aud-M228</td><td>Aud</td><td>162</td></tr><tr><td>Aud-M237</td><td>Aud</td><td>163</td></tr><tr><td>Nis-M89</td><td>Nis</td><td>164</td></tr><tr><td>Hyu-M72</td><td>Hyu</td><td>165</td></tr><tr><td>BMW-M243</td><td>BMW</td><td>166</td></tr><tr><td>Mar-M140</td><td>Mar</td><td>167</td></tr><tr><td>Toy-M196</td><td>Toy</td><td>168</td></tr><tr><td>Che-M42</td><td>Che</td><td>169</td></tr><tr><td>Tes-M97</td><td>Tes</td><td>170</td></tr><tr><td>Vol-M260</td><td>Vol</td><td>171</td></tr><tr><td>Mah-M176</td><td>Mah</td><td>172</td></tr><tr><td>Nis-M86</td><td>Nis</td><td>173</td></tr><tr><td>Hon-M64</td><td>Hon</td><td>174</td></tr><tr><td>MG-M251</td><td>MG</td><td>175</td></tr><tr><td>Mer-M121</td><td>Mer</td><td>176</td></tr><tr><td>Nis-M81</td><td>Nis</td><td>177</td></tr><tr><td>GMC-M54</td><td>GMC</td><td>178</td></tr><tr><td>Hon-M220</td><td>Hon</td><td>179</td></tr><tr><td>Che-M50</td><td>Che</td><td>180</td></tr><tr><td>Cad-M37</td><td>Cad</td><td>181</td></tr><tr><td>Hyu-M158</td><td>Hyu</td><td>182</td></tr><tr><td>Inf-M79</td><td>Inf</td><td>183</td></tr><tr><td>BMW-M2</td><td>BMW</td><td>184</td></tr><tr><td>GMC-M57</td><td>GMC</td><td>185</td></tr><tr><td>GMC-M52</td><td>GMC</td><td>186</td></tr><tr><td>Cit-M116</td><td>Cit</td><td>187</td></tr><tr><td>Mar-M144</td><td>Mar</td><td>188</td></tr><tr><td>For-M17</td><td>For</td><td>189</td></tr><tr><td>Tat-M184</td><td>Tat</td><td>190</td></tr><tr><td>Hyu-M159</td><td>Hyu</td><td>191</td></tr><tr><td>Tat-M183</td><td>Tat</td><td>192</td></tr><tr><td>Nis-M264</td><td>Nis</td><td>193</td></tr><tr><td>BMW-M5</td><td>BMW</td><td>194</td></tr><tr><td>Che-M43</td><td>Che</td><td>195</td></tr><tr><td>Mah-M169</td><td>Mah</td><td>196</td></tr><tr><td>Tat-M182</td><td>Tat</td><td>197</td></tr><tr><td>Tat-M188</td><td>Tat</td><td>198</td></tr><tr><td>Aud-M227</td><td>Aud</td><td>199</td></tr><tr><td>Mah-M166</td><td>Mah</td><td>200</td></tr><tr><td>Riv-M91</td><td>Riv</td><td>201</td></tr><tr><td>Hon-M71</td><td>Hon</td><td>202</td></tr><tr><td>Hyu-M73</td><td>Hyu</td><td>203</td></tr><tr><td>Hyu-M156</td><td>Hyu</td><td>204</td></tr><tr><td>Lin-M27</td><td>Lin</td><td>205</td></tr><tr><td>Cad-M34</td><td>Cad</td><td>206</td></tr><tr><td>Mar-M137</td><td>Mar</td><td>207</td></tr><tr><td>Mah-M173</td><td>Mah</td><td>208</td></tr><tr><td>Tat-M179</td><td>Tat</td><td>209</td></tr><tr><td>Sub-M94</td><td>Sub</td><td>210</td></tr><tr><td>Jee-M254</td><td>Jee</td><td>211</td></tr><tr><td>GMC-M56</td><td>GMC</td><td>212</td></tr><tr><td>Hyu-M160</td><td>Hyu</td><td>213</td></tr><tr><td>Vol-M109</td><td>Vol</td><td>214</td></tr><tr><td>Peu-M126</td><td>Peu</td><td>215</td></tr><tr><td>For-M222</td><td>For</td><td>216</td></tr><tr><td>Toy-M101</td><td>Toy</td><td>217</td></tr><tr><td>Kia-M214</td><td>Kia</td><td>218</td></tr><tr><td>Sub-M95</td><td>Sub</td><td>219</td></tr><tr><td>Mar-M143</td><td>Mar</td><td>220</td></tr><tr><td>Nis-M265</td><td>Nis</td><td>221</td></tr><tr><td>Hon-M65</td><td>Hon</td><td>222</td></tr><tr><td>Sko-M272</td><td>Sko</td><td>223</td></tr><tr><td>Che-M45</td><td>Che</td><td>224</td></tr><tr><td>Toy-M107</td><td>Toy</td><td>225</td></tr><tr><td>Jee-M12</td><td>Jee</td><td>226</td></tr><tr><td>Mit-M277</td><td>Mit</td><td>227</td></tr><tr><td>Hon-M66</td><td>Hon</td><td>228</td></tr><tr><td>Toy-M100</td><td>Toy</td><td>229</td></tr><tr><td>For-M19</td><td>For</td><td>230</td></tr><tr><td>Agr-M113</td><td>Agr</td><td>231</td></tr><tr><td>Toy-M204</td><td>Toy</td><td>232</td></tr><tr><td>Hon-M120</td><td>Hon</td><td>233</td></tr><tr><td>Sko-M271</td><td>Sko</td><td>234</td></tr><tr><td>Vol-M255</td><td>Vol</td><td>235</td></tr><tr><td>Toy-M199</td><td>Toy</td><td>236</td></tr><tr><td>Vol-M256</td><td>Vol</td><td>237</td></tr><tr><td>Sub-M92</td><td>Sub</td><td>238</td></tr><tr><td>Toy-M197</td><td>Toy</td><td>239</td></tr><tr><td>Mah-M172</td><td>Mah</td><td>240</td></tr><tr><td>Che-M48</td><td>Che</td><td>241</td></tr><tr><td>Nis-M87</td><td>Nis</td><td>242</td></tr><tr><td>Mar-M150</td><td>Mar</td><td>243</td></tr><tr><td>Acu-M63</td><td>Acu</td><td>244</td></tr><tr><td>BMW-M247</td><td>BMW</td><td>245</td></tr><tr><td>For-M226</td><td>For</td><td>246</td></tr><tr><td>Vol-M257</td><td>Vol</td><td>247</td></tr><tr><td>Vol-M259</td><td>Vol</td><td>248</td></tr><tr><td>Nis-M80</td><td>Nis</td><td>249</td></tr><tr><td>Kia-M212</td><td>Kia</td><td>250</td></tr><tr><td>Hon-M218</td><td>Hon</td><td>251</td></tr><tr><td>For-M24</td><td>For</td><td>252</td></tr><tr><td>Sko-M273</td><td>Sko</td><td>253</td></tr><tr><td>Lin-M29</td><td>Lin</td><td>254</td></tr><tr><td>Agr-M112</td><td>Agr</td><td>255</td></tr><tr><td>Tat-M189</td><td>Tat</td><td>256</td></tr><tr><td>Nis-M270</td><td>Nis</td><td>257</td></tr><tr><td>Riv-M90</td><td>Riv</td><td>258</td></tr><tr><td>Che-M44</td><td>Che</td><td>259</td></tr><tr><td>Aud-M238</td><td>Aud</td><td>260</td></tr><tr><td>Vol-M136</td><td>Vol</td><td>261</td></tr><tr><td>For-M21</td><td>For</td><td>262</td></tr><tr><td>For-M224</td><td>For</td><td>263</td></tr><tr><td>Che-M40</td><td>Che</td><td>264</td></tr><tr><td>Ren-M130</td><td>Ren</td><td>265</td></tr><tr><td>Hon-M219</td><td>Hon</td><td>266</td></tr><tr><td>Che-M46</td><td>Che</td><td>267</td></tr><tr><td>Mer-M6</td><td>Mer</td><td>268</td></tr><tr><td>Vol-M258</td><td>Vol</td><td>269</td></tr><tr><td>Jee-M13</td><td>Jee</td><td>270</td></tr><tr><td>Nis-M261</td><td>Nis</td><td>271</td></tr><tr><td>For-M20</td><td>For</td><td>272</td></tr><tr><td>Tat-M191</td><td>Tat</td><td>273</td></tr><tr><td>BMW-M245</td><td>BMW</td><td>274</td></tr><tr><td>Nis-M268</td><td>Nis</td><td>275</td></tr><tr><td>Cad-M33</td><td>Cad</td><td>276</td></tr></tbody></table></div>"
      ]
     },
     "metadata": {
      "application/vnd.databricks.v1+output": {
       "addedWidgets": {},
       "aggData": [],
       "aggError": "",
       "aggOverflow": false,
       "aggSchema": [],
       "aggSeriesLimitReached": false,
       "aggType": "",
       "arguments": {},
       "columnCustomDisplayInfos": {},
       "data": [
        [
         "Mah-M167",
         "Mah",
         0
        ],
        [
         "Che-M47",
         "Che",
         1
        ],
        [
         "Toy-M205",
         "Toy",
         2
        ],
        [
         "BMW-M249",
         "BMW",
         3
        ],
        [
         "Mer-M122",
         "Mer",
         4
        ],
        [
         "Hon-M215",
         "Hon",
         5
        ],
        [
         "Nis-M82",
         "Nis",
         6
        ],
        [
         "Toy-M206",
         "Toy",
         7
        ],
        [
         "Mar-M139",
         "Mar",
         8
        ],
        [
         "Ren-M207",
         "Ren",
         9
        ],
        [
         "Mar-M146",
         "Mar",
         10
        ],
        [
         "Mar-M141",
         "Mar",
         11
        ],
        [
         "Lin-M28",
         "Lin",
         12
        ],
        [
         "Hon-M69",
         "Hon",
         13
        ],
        [
         "Toy-M202",
         "Toy",
         14
        ],
        [
         "Cad-M32",
         "Cad",
         15
        ],
        [
         "Tat-M185",
         "Tat",
         16
        ],
        [
         "Aud-M231",
         "Aud",
         17
        ],
        [
         "Tat-M192",
         "Tat",
         18
        ],
        [
         "Che-M41",
         "Che",
         19
        ],
        [
         "Ram-M14",
         "Ram",
         20
        ],
        [
         "Mar-M138",
         "Mar",
         21
        ],
        [
         "Aud-M236",
         "Aud",
         22
        ],
        [
         "Mar-M151",
         "Mar",
         23
        ],
        [
         "Acu-M59",
         "Acu",
         24
        ],
        [
         "Hon-M70",
         "Hon",
         25
        ],
        [
         "Mah-M174",
         "Mah",
         26
        ],
        [
         "Dod-M9",
         "Dod",
         27
        ],
        [
         "Tes-M96",
         "Tes",
         28
        ],
        [
         "Tat-M194",
         "Tat",
         29
        ],
        [
         "For-M23",
         "For",
         30
        ],
        [
         "BMW-M3",
         "BMW",
         31
        ],
        [
         "Vol-M108",
         "Vol",
         32
        ],
        [
         "Nis-M263",
         "Nis",
         33
        ],
        [
         "BMW-M250",
         "BMW",
         34
        ],
        [
         "Aud-M234",
         "Aud",
         35
        ],
        [
         "Toy-M103",
         "Toy",
         36
        ],
        [
         "For-M25",
         "For",
         37
        ],
        [
         "Ren-M129",
         "Ren",
         38
        ],
        [
         "Nis-M267",
         "Nis",
         39
        ],
        [
         "Hon-M68",
         "Hon",
         40
        ],
        [
         "Nis-M85",
         "Nis",
         41
        ],
        [
         "Hyu-M163",
         "Hyu",
         42
        ],
        [
         "Aud-M235",
         "Aud",
         43
        ],
        [
         "Lex-M99",
         "Lex",
         44
        ],
        [
         "Toy-M133",
         "Toy",
         45
        ],
        [
         "Kia-M76",
         "Kia",
         46
        ],
        [
         "Tat-M187",
         "Tat",
         47
        ],
        [
         "Jee-M10",
         "Jee",
         48
        ],
        [
         "Cit-M115",
         "Cit",
         49
        ],
        [
         "Sko-M274",
         "Sko",
         50
        ],
        [
         "Ren-M209",
         "Ren",
         51
        ],
        [
         "Hyu-M154",
         "Hyu",
         52
        ],
        [
         "Mer-M123",
         "Mer",
         53
        ],
        [
         "Mer-M7",
         "Mer",
         54
        ],
        [
         "Cad-M36",
         "Cad",
         55
        ],
        [
         "Ren-M208",
         "Ren",
         56
        ],
        [
         "For-M119",
         "For",
         57
        ],
        [
         "Hon-M67",
         "Hon",
         58
        ],
        [
         "Hyu-M162",
         "Hyu",
         59
        ],
        [
         "Toy-M203",
         "Toy",
         60
        ],
        [
         "Mar-M145",
         "Mar",
         61
        ],
        [
         "Che-M51",
         "Che",
         62
        ],
        [
         "Nis-M84",
         "Nis",
         63
        ],
        [
         "Mah-M177",
         "Mah",
         64
        ],
        [
         "Peu-M125",
         "Peu",
         65
        ],
        [
         "Toy-M198",
         "Toy",
         66
        ],
        [
         "Toy-M104",
         "Toy",
         67
        ],
        [
         "For-M16",
         "For",
         68
        ],
        [
         "BMW-M4",
         "BMW",
         69
        ],
        [
         "Nis-M88",
         "Nis",
         70
        ],
        [
         "Che-M114",
         "Che",
         71
        ],
        [
         "Aud-M233",
         "Aud",
         72
        ],
        [
         "Mar-M147",
         "Mar",
         73
        ],
        [
         "Nis-M269",
         "Nis",
         74
        ],
        [
         "Tes-M98",
         "Tes",
         75
        ],
        [
         "Acu-M60",
         "Acu",
         76
        ],
        [
         "Aud-M241",
         "Aud",
         77
        ],
        [
         "Mah-M175",
         "Mah",
         78
        ],
        [
         "Toy-M106",
         "Toy",
         79
        ],
        [
         "Hyu-M155",
         "Hyu",
         80
        ],
        [
         "Vol-M110",
         "Vol",
         81
        ],
        [
         "Mah-M171",
         "Mah",
         82
        ],
        [
         "Lin-M30",
         "Lin",
         83
        ],
        [
         "BMW-M242",
         "BMW",
         84
        ],
        [
         "For-M223",
         "For",
         85
        ],
        [
         "Ren-M127",
         "Ren",
         86
        ],
        [
         "Aud-M229",
         "Aud",
         87
        ],
        [
         "Mah-M168",
         "Mah",
         88
        ],
        [
         "For-M225",
         "For",
         89
        ],
        [
         "Aud-M232",
         "Aud",
         90
        ],
        [
         "Toy-M200",
         "Toy",
         91
        ],
        [
         "Kia-M77",
         "Kia",
         92
        ],
        [
         "BMW-M248",
         "BMW",
         93
        ],
        [
         "Hyu-M164",
         "Hyu",
         94
        ],
        [
         "Ren-M211",
         "Ren",
         95
        ],
        [
         "Mar-M149",
         "Mar",
         96
        ],
        [
         "GMC-M53",
         "GMC",
         97
        ],
        [
         "Mit-M275",
         "Mit",
         98
        ],
        [
         "Ren-M131",
         "Ren",
         99
        ],
        [
         "Tat-M186",
         "Tat",
         100
        ],
        [
         "Hon-M217",
         "Hon",
         101
        ],
        [
         "Mar-M152",
         "Mar",
         102
        ],
        [
         "Jee-M11",
         "Jee",
         103
        ],
        [
         "Vol-M135",
         "Vol",
         104
        ],
        [
         "Ren-M128",
         "Ren",
         105
        ],
        [
         "Cad-M38",
         "Cad",
         106
        ],
        [
         "Tat-M190",
         "Tat",
         107
        ],
        [
         "Hyu-M153",
         "Hyu",
         108
        ],
        [
         "Mer-M8",
         "Mer",
         109
        ],
        [
         "GMC-M55",
         "GMC",
         110
        ],
        [
         "Toy-M201",
         "Toy",
         111
        ],
        [
         "BMW-M244",
         "BMW",
         112
        ],
        [
         "Toy-M134",
         "Toy",
         113
        ],
        [
         "Agr-M111",
         "Agr",
         114
        ],
        [
         "Fia-M117",
         "Fia",
         115
        ],
        [
         "Mit-M276",
         "Mit",
         116
        ],
        [
         "Kia-M78",
         "Kia",
         117
        ],
        [
         "Aud-M230",
         "Aud",
         118
        ],
        [
         "Tat-M193",
         "Tat",
         119
        ],
        [
         "Ram-M15",
         "Ram",
         120
        ],
        [
         "For-M22",
         "For",
         121
        ],
        [
         "Acu-M62",
         "Acu",
         122
        ],
        [
         "Mah-M165",
         "Mah",
         123
        ],
        [
         "Fia-M118",
         "Fia",
         124
        ],
        [
         "Toy-M195",
         "Toy",
         125
        ],
        [
         "Che-M49",
         "Che",
         126
        ],
        [
         "Bui-M31",
         "Bui",
         127
        ],
        [
         "For-M26",
         "For",
         128
        ],
        [
         "Peu-M124",
         "Peu",
         129
        ],
        [
         "Nis-M83",
         "Nis",
         130
        ],
        [
         "Nis-M266",
         "Nis",
         131
        ],
        [
         "Mar-M142",
         "Mar",
         132
        ],
        [
         "For-M18",
         "For",
         133
        ],
        [
         "Jee-M253",
         "Jee",
         134
        ],
        [
         "Tat-M181",
         "Tat",
         135
        ],
        [
         "Hyu-M157",
         "Hyu",
         136
        ],
        [
         "Cad-M39",
         "Cad",
         137
        ],
        [
         "For-M221",
         "For",
         138
        ],
        [
         "Aud-M240",
         "Aud",
         139
        ],
        [
         "Ren-M210",
         "Ren",
         140
        ],
        [
         "Acu-M61",
         "Acu",
         141
        ],
        [
         "Toy-M102",
         "Toy",
         142
        ],
        [
         "Nis-M262",
         "Nis",
         143
        ],
        [
         "Hon-M216",
         "Hon",
         144
        ],
        [
         "MG-M252",
         "MG",
         145
        ],
        [
         "Mah-M178",
         "Mah",
         146
        ],
        [
         "Sub-M93",
         "Sub",
         147
        ],
        [
         "Kia-M213",
         "Kia",
         148
        ],
        [
         "Hyu-M75",
         "Hyu",
         149
        ],
        [
         "Mah-M170",
         "Mah",
         150
        ],
        [
         "Aud-M239",
         "Aud",
         151
        ],
        [
         "Tat-M180",
         "Tat",
         152
        ],
        [
         "Hyu-M74",
         "Hyu",
         153
        ],
        [
         "BMW-M1",
         "BMW",
         154
        ],
        [
         "Cad-M35",
         "Cad",
         155
        ],
        [
         "BMW-M246",
         "BMW",
         156
        ],
        [
         "Ren-M132",
         "Ren",
         157
        ],
        [
         "GMC-M58",
         "GMC",
         158
        ],
        [
         "Mar-M148",
         "Mar",
         159
        ],
        [
         "Hyu-M161",
         "Hyu",
         160
        ],
        [
         "Toy-M105",
         "Toy",
         161
        ],
        [
         "Aud-M228",
         "Aud",
         162
        ],
        [
         "Aud-M237",
         "Aud",
         163
        ],
        [
         "Nis-M89",
         "Nis",
         164
        ],
        [
         "Hyu-M72",
         "Hyu",
         165
        ],
        [
         "BMW-M243",
         "BMW",
         166
        ],
        [
         "Mar-M140",
         "Mar",
         167
        ],
        [
         "Toy-M196",
         "Toy",
         168
        ],
        [
         "Che-M42",
         "Che",
         169
        ],
        [
         "Tes-M97",
         "Tes",
         170
        ],
        [
         "Vol-M260",
         "Vol",
         171
        ],
        [
         "Mah-M176",
         "Mah",
         172
        ],
        [
         "Nis-M86",
         "Nis",
         173
        ],
        [
         "Hon-M64",
         "Hon",
         174
        ],
        [
         "MG-M251",
         "MG",
         175
        ],
        [
         "Mer-M121",
         "Mer",
         176
        ],
        [
         "Nis-M81",
         "Nis",
         177
        ],
        [
         "GMC-M54",
         "GMC",
         178
        ],
        [
         "Hon-M220",
         "Hon",
         179
        ],
        [
         "Che-M50",
         "Che",
         180
        ],
        [
         "Cad-M37",
         "Cad",
         181
        ],
        [
         "Hyu-M158",
         "Hyu",
         182
        ],
        [
         "Inf-M79",
         "Inf",
         183
        ],
        [
         "BMW-M2",
         "BMW",
         184
        ],
        [
         "GMC-M57",
         "GMC",
         185
        ],
        [
         "GMC-M52",
         "GMC",
         186
        ],
        [
         "Cit-M116",
         "Cit",
         187
        ],
        [
         "Mar-M144",
         "Mar",
         188
        ],
        [
         "For-M17",
         "For",
         189
        ],
        [
         "Tat-M184",
         "Tat",
         190
        ],
        [
         "Hyu-M159",
         "Hyu",
         191
        ],
        [
         "Tat-M183",
         "Tat",
         192
        ],
        [
         "Nis-M264",
         "Nis",
         193
        ],
        [
         "BMW-M5",
         "BMW",
         194
        ],
        [
         "Che-M43",
         "Che",
         195
        ],
        [
         "Mah-M169",
         "Mah",
         196
        ],
        [
         "Tat-M182",
         "Tat",
         197
        ],
        [
         "Tat-M188",
         "Tat",
         198
        ],
        [
         "Aud-M227",
         "Aud",
         199
        ],
        [
         "Mah-M166",
         "Mah",
         200
        ],
        [
         "Riv-M91",
         "Riv",
         201
        ],
        [
         "Hon-M71",
         "Hon",
         202
        ],
        [
         "Hyu-M73",
         "Hyu",
         203
        ],
        [
         "Hyu-M156",
         "Hyu",
         204
        ],
        [
         "Lin-M27",
         "Lin",
         205
        ],
        [
         "Cad-M34",
         "Cad",
         206
        ],
        [
         "Mar-M137",
         "Mar",
         207
        ],
        [
         "Mah-M173",
         "Mah",
         208
        ],
        [
         "Tat-M179",
         "Tat",
         209
        ],
        [
         "Sub-M94",
         "Sub",
         210
        ],
        [
         "Jee-M254",
         "Jee",
         211
        ],
        [
         "GMC-M56",
         "GMC",
         212
        ],
        [
         "Hyu-M160",
         "Hyu",
         213
        ],
        [
         "Vol-M109",
         "Vol",
         214
        ],
        [
         "Peu-M126",
         "Peu",
         215
        ],
        [
         "For-M222",
         "For",
         216
        ],
        [
         "Toy-M101",
         "Toy",
         217
        ],
        [
         "Kia-M214",
         "Kia",
         218
        ],
        [
         "Sub-M95",
         "Sub",
         219
        ],
        [
         "Mar-M143",
         "Mar",
         220
        ],
        [
         "Nis-M265",
         "Nis",
         221
        ],
        [
         "Hon-M65",
         "Hon",
         222
        ],
        [
         "Sko-M272",
         "Sko",
         223
        ],
        [
         "Che-M45",
         "Che",
         224
        ],
        [
         "Toy-M107",
         "Toy",
         225
        ],
        [
         "Jee-M12",
         "Jee",
         226
        ],
        [
         "Mit-M277",
         "Mit",
         227
        ],
        [
         "Hon-M66",
         "Hon",
         228
        ],
        [
         "Toy-M100",
         "Toy",
         229
        ],
        [
         "For-M19",
         "For",
         230
        ],
        [
         "Agr-M113",
         "Agr",
         231
        ],
        [
         "Toy-M204",
         "Toy",
         232
        ],
        [
         "Hon-M120",
         "Hon",
         233
        ],
        [
         "Sko-M271",
         "Sko",
         234
        ],
        [
         "Vol-M255",
         "Vol",
         235
        ],
        [
         "Toy-M199",
         "Toy",
         236
        ],
        [
         "Vol-M256",
         "Vol",
         237
        ],
        [
         "Sub-M92",
         "Sub",
         238
        ],
        [
         "Toy-M197",
         "Toy",
         239
        ],
        [
         "Mah-M172",
         "Mah",
         240
        ],
        [
         "Che-M48",
         "Che",
         241
        ],
        [
         "Nis-M87",
         "Nis",
         242
        ],
        [
         "Mar-M150",
         "Mar",
         243
        ],
        [
         "Acu-M63",
         "Acu",
         244
        ],
        [
         "BMW-M247",
         "BMW",
         245
        ],
        [
         "For-M226",
         "For",
         246
        ],
        [
         "Vol-M257",
         "Vol",
         247
        ],
        [
         "Vol-M259",
         "Vol",
         248
        ],
        [
         "Nis-M80",
         "Nis",
         249
        ],
        [
         "Kia-M212",
         "Kia",
         250
        ],
        [
         "Hon-M218",
         "Hon",
         251
        ],
        [
         "For-M24",
         "For",
         252
        ],
        [
         "Sko-M273",
         "Sko",
         253
        ],
        [
         "Lin-M29",
         "Lin",
         254
        ],
        [
         "Agr-M112",
         "Agr",
         255
        ],
        [
         "Tat-M189",
         "Tat",
         256
        ],
        [
         "Nis-M270",
         "Nis",
         257
        ],
        [
         "Riv-M90",
         "Riv",
         258
        ],
        [
         "Che-M44",
         "Che",
         259
        ],
        [
         "Aud-M238",
         "Aud",
         260
        ],
        [
         "Vol-M136",
         "Vol",
         261
        ],
        [
         "For-M21",
         "For",
         262
        ],
        [
         "For-M224",
         "For",
         263
        ],
        [
         "Che-M40",
         "Che",
         264
        ],
        [
         "Ren-M130",
         "Ren",
         265
        ],
        [
         "Hon-M219",
         "Hon",
         266
        ],
        [
         "Che-M46",
         "Che",
         267
        ],
        [
         "Mer-M6",
         "Mer",
         268
        ],
        [
         "Vol-M258",
         "Vol",
         269
        ],
        [
         "Jee-M13",
         "Jee",
         270
        ],
        [
         "Nis-M261",
         "Nis",
         271
        ],
        [
         "For-M20",
         "For",
         272
        ],
        [
         "Tat-M191",
         "Tat",
         273
        ],
        [
         "BMW-M245",
         "BMW",
         274
        ],
        [
         "Nis-M268",
         "Nis",
         275
        ],
        [
         "Cad-M33",
         "Cad",
         276
        ]
       ],
       "datasetInfos": [],
       "dbfsResultPath": null,
       "isJsonSchema": true,
       "metadata": {
        "createTempViewForImplicitDf": true,
        "dataframeName": "_sqldf",
        "executionCount": 39
       },
       "overflow": false,
       "plotOptions": {
        "customPlotOptions": {},
        "displayType": "table",
        "pivotAggregation": null,
        "pivotColumns": null,
        "xColumns": null,
        "yColumns": null
       },
       "removedWidgets": [],
       "schema": [
        {
         "metadata": "{}",
         "name": "Model_ID",
         "type": "\"string\""
        },
        {
         "metadata": "{}",
         "name": "Model-Category",
         "type": "\"string\""
        },
        {
         "metadata": "{}",
         "name": "dim_model_key",
         "type": "\"long\""
        }
       ],
       "type": "table"
      }
     },
     "output_type": "display_data"
    }
   ],
   "source": [
    "%sql\n",
    "select * from cars_catalog.gold.dim_model"
   ]
  },
  {
   "cell_type": "markdown",
   "metadata": {
    "application/vnd.databricks.v1+cell": {
     "cellMetadata": {},
     "inputWidgets": {},
     "nuid": "d9b36222-bc1f-450a-aabd-f358bf18bcdc",
     "showTitle": false,
     "tableResultSettingsMap": {},
     "title": ""
    }
   },
   "source": []
  }
 ],
 "metadata": {
  "application/vnd.databricks.v1+notebook": {
   "computePreferences": null,
   "dashboards": [],
   "environmentMetadata": {
    "base_environment": "",
    "client": "1"
   },
   "language": "python",
   "notebookMetadata": {
    "mostRecentlyExecutedCommandWithImplicitDF": {
     "commandId": 4174973514510760,
     "dataframes": [
      "_sqldf"
     ]
    },
    "pythonIndentUnit": 4
   },
   "notebookName": "gold_dim_model",
   "widgets": {
    "incremental_flag": {
     "currentValue": "0",
     "nuid": "3ba41261-2cb3-4c1e-bdab-dd4f5944bc3e",
     "typedWidgetInfo": {
      "autoCreated": false,
      "defaultValue": "0",
      "label": null,
      "name": "incremental_flag",
      "options": {
       "widgetDisplayType": "Text",
       "validationRegex": null
      },
      "parameterDataType": "String"
     },
     "widgetInfo": {
      "widgetType": "text",
      "defaultValue": "0",
      "label": null,
      "name": "incremental_flag",
      "options": {
       "widgetType": "text",
       "autoCreated": null,
       "validationRegex": null
      }
     }
    }
   }
  },
  "language_info": {
   "name": "python"
  }
 },
 "nbformat": 4,
 "nbformat_minor": 0
}